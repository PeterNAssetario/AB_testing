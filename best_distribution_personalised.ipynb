{
 "cells": [
  {
   "cell_type": "markdown",
   "id": "33f6d801-f5ea-4783-abea-5b80f88ba116",
   "metadata": {},
   "source": [
    "## Evaluating distribution fit for 30 days of personalised spend data for each client:\n",
    "\n",
    "#### Set Up:"
   ]
  },
  {
   "cell_type": "code",
   "execution_count": 1,
   "id": "e04b9852-25d3-4798-96a5-89246a2b0219",
   "metadata": {},
   "outputs": [
    {
     "name": "stderr",
     "output_type": "stream",
     "text": [
      "/Users/PeterNovak/.local/lib/python3.8/site-packages/scipy/__init__.py:146: UserWarning: A NumPy version >=1.16.5 and <1.23.0 is required for this version of SciPy (detected version 1.23.4\n",
      "  warnings.warn(f\"A NumPy version >={np_minversion} and <{np_maxversion}\"\n"
     ]
    }
   ],
   "source": [
    "from typing import List, Dict, Union, Literal\n",
    "from pathlib import Path\n",
    "\n",
    "import pandas as pd\n",
    "import numpy as np\n",
    "from scipy import stats\n",
    "\n",
    "from ab_testing.data_acquisition.acquire_data import queries_dict\n",
    "\n",
    "from ml_lib.feature_store import configure_offline_feature_store\n",
    "from ml_lib.feature_store.offline.client import FeatureStoreOfflineClient\n",
    "\n",
    "configure_offline_feature_store(workgroup=\"primary\")"
   ]
  },
  {
   "cell_type": "code",
   "execution_count": 2,
   "id": "2c721d63-a18e-4c35-baf1-7e2a8485d025",
   "metadata": {},
   "outputs": [],
   "source": [
    "ScipyDists = Union[\n",
    "    stats._continuous_distns.expon_gen,\n",
    "    stats._continuous_distns.lognorm_gen,\n",
    "    stats._continuous_distns.norm_gen,\n",
    "    stats._continuous_distns.gamma_gen,\n",
    "    stats._continuous_distns.dweibull_gen,\n",
    "]\n",
    "DISTRIBUTIONS: Dict[str, ScipyDists] = {\n",
    "    \"expon\": stats.expon,\n",
    "    \"lognorm\": stats.lognorm,\n",
    "    \"norm\": stats.norm,\n",
    "    \"gamma\": stats.gamma,\n",
    "    \"dweibull\": stats.dweibull,\n",
    "}\n",
    "\n",
    "\n",
    "class FitDistribution:\n",
    "    def __init__(self, fname: str, data_dir_str: str = \"processed_data\"):\n",
    "        self.data_dir_path = Path(data_dir_str)\n",
    "        self.fname = fname\n",
    "\n",
    "        data_dir_path = Path(data_dir_str)\n",
    "        if not data_dir_path.exists():\n",
    "            data_dir_path.mkdir(parents=True, exist_ok=True)\n",
    "\n",
    "    def fit(self, data: pd.DataFrame, target: str) -> str:\n",
    "        df = pd.DataFrame(columns=[\"distribution\", \"AIC\", \"BIC\", \"n\", \"k\"])\n",
    "        dists: List[str] = []\n",
    "        aic: List[float] = []\n",
    "        bic: List[float] = []\n",
    "        n_list: List[int] = []\n",
    "        k_list: List[int] = []\n",
    "        for dist_name, dist in DISTRIBUTIONS.items():\n",
    "            params = dist.fit(data[target].values)\n",
    "            logLik = np.sum(dist.logpdf(data[target].values, *params))\n",
    "            k, n = len(params), len(data)\n",
    "            dists.append(dist_name)\n",
    "            aic.append(2 * k - 2 * logLik)\n",
    "            bic.append(k * np.log(n) - 2 * logLik)\n",
    "            n_list.append(n)\n",
    "            k_list.append(k)\n",
    "\n",
    "        df[\"distribution\"] = dists\n",
    "        df[\"AIC\"] = aic\n",
    "        df[\"BIC\"] = bic\n",
    "        df[\"n\"] = n_list\n",
    "        df[\"k\"] = k_list\n",
    "        df.sort_values(by=\"AIC\", inplace=True)\n",
    "        df.reset_index(drop=True, inplace=True)\n",
    "\n",
    "        df.to_parquet(self.data_dir_path / self.fname)\n",
    "\n",
    "        return df"
   ]
  },
  {
   "cell_type": "markdown",
   "id": "b3dc5599-c6d1-4691-9839-a838ba887d93",
   "metadata": {},
   "source": [
    "#### Distribution Fit:"
   ]
  },
  {
   "cell_type": "code",
   "execution_count": 4,
   "id": "95ed200d-f9de-45a6-9abf-a1b94ec92d32",
   "metadata": {},
   "outputs": [
    {
     "name": "stderr",
     "output_type": "stream",
     "text": [
      "DummyStatsClient._send unknown.athena_query_runs_total:1|c\n",
      "DummyStatsClient._send unknown.athena_query_queue_ms:133.000000|ms\n",
      "DummyStatsClient._send unknown.athena_query_execution_ms:3032.000000|ms\n",
      "DummyStatsClient._send unknown.athena_query_scanned_bytes:43799433|c\n"
     ]
    },
    {
     "name": "stdout",
     "output_type": "stream",
     "text": [
      "Distribution fit for: bingo_aloha\n",
      "  distribution            AIC            BIC      n  k\n",
      "0      lognorm  420578.340922  420605.395481  60973  3\n",
      "1        gamma  425984.766608  426011.821167  60973  3\n",
      "2     dweibull  434836.531039  434863.585598  60973  3\n",
      "3        expon  435776.016888  435794.053260  60973  2\n",
      "4         norm  544168.663806  544186.700179  60973  2\n"
     ]
    },
    {
     "name": "stderr",
     "output_type": "stream",
     "text": [
      "DummyStatsClient._send unknown.athena_query_runs_total:1|c\n",
      "DummyStatsClient._send unknown.athena_query_queue_ms:117.000000|ms\n",
      "DummyStatsClient._send unknown.athena_query_execution_ms:2551.000000|ms\n",
      "DummyStatsClient._send unknown.athena_query_scanned_bytes:12557744|c\n"
     ]
    },
    {
     "name": "stdout",
     "output_type": "stream",
     "text": [
      "Distribution fit for: homw\n",
      "  distribution            AIC            BIC      n  k\n",
      "0     dweibull   48877.607884   48900.296786  14228  3\n",
      "1      lognorm   94875.581809   94898.270710  14228  3\n",
      "2        gamma   99923.174973   99945.863875  14228  3\n",
      "3        expon  110234.223775  110249.349709  14228  2\n",
      "4         norm  145132.993895  145148.119829  14228  2\n"
     ]
    },
    {
     "name": "stderr",
     "output_type": "stream",
     "text": [
      "DummyStatsClient._send unknown.athena_query_runs_total:1|c\n",
      "DummyStatsClient._send unknown.athena_query_queue_ms:146.000000|ms\n",
      "DummyStatsClient._send unknown.athena_query_execution_ms:3617.000000|ms\n",
      "DummyStatsClient._send unknown.athena_query_scanned_bytes:38160962|c\n"
     ]
    },
    {
     "name": "stdout",
     "output_type": "stream",
     "text": [
      "Distribution fit for: idle_mafia\n",
      "  distribution           AIC           BIC      n  k\n",
      "0        gamma -27213.984213 -27192.227464  10428  3\n",
      "1      lognorm   1361.427840   1383.184589  10428  3\n",
      "2     dweibull  50104.430759  50126.187509  10428  3\n",
      "3        expon  69564.771213  69579.275713  10428  2\n",
      "4         norm  90874.638076  90889.142575  10428  2\n"
     ]
    },
    {
     "name": "stderr",
     "output_type": "stream",
     "text": [
      "DummyStatsClient._send unknown.athena_query_runs_total:1|c\n",
      "DummyStatsClient._send unknown.athena_query_queue_ms:121.000000|ms\n",
      "DummyStatsClient._send unknown.athena_query_execution_ms:2709.000000|ms\n",
      "DummyStatsClient._send unknown.athena_query_scanned_bytes:42779126|c\n"
     ]
    },
    {
     "name": "stdout",
     "output_type": "stream",
     "text": [
      "Distribution fit for: spongebob\n",
      "  distribution            AIC            BIC     n  k\n",
      "0     dweibull    6150.272167    6170.186149  5642  3\n",
      "1      lognorm   35256.993068   35276.907050  5642  3\n",
      "2        expon   40859.137009   40872.412997  5642  2\n",
      "3         norm   61482.262966   61495.538954  5642  2\n",
      "4        gamma  111139.436471  111159.350453  5642  3\n"
     ]
    },
    {
     "name": "stderr",
     "output_type": "stream",
     "text": [
      "DummyStatsClient._send unknown.athena_query_runs_total:1|c\n",
      "DummyStatsClient._send unknown.athena_query_queue_ms:114.000000|ms\n",
      "DummyStatsClient._send unknown.athena_query_execution_ms:4749.000000|ms\n",
      "DummyStatsClient._send unknown.athena_query_scanned_bytes:29973229|c\n"
     ]
    },
    {
     "name": "stdout",
     "output_type": "stream",
     "text": [
      "Distribution fit for: terra_genesis\n",
      "  distribution           AIC           BIC     n  k\n",
      "0      lognorm  17436.961942  17454.511083  2565  3\n",
      "1        gamma  17730.151049  17747.700190  2565  3\n",
      "2        expon  18008.961441  18020.660868  2565  2\n",
      "3     dweibull  18362.896544  18380.445685  2565  3\n",
      "4         norm  23380.120687  23391.820114  2565  2\n"
     ]
    },
    {
     "name": "stderr",
     "output_type": "stream",
     "text": [
      "DummyStatsClient._send unknown.athena_query_runs_total:1|c\n",
      "DummyStatsClient._send unknown.athena_query_queue_ms:140.000000|ms\n",
      "DummyStatsClient._send unknown.athena_query_execution_ms:2667.000000|ms\n",
      "DummyStatsClient._send unknown.athena_query_scanned_bytes:12557744|c\n"
     ]
    },
    {
     "name": "stdout",
     "output_type": "stream",
     "text": [
      "Distribution fit for: ultimex\n",
      "  distribution            AIC            BIC      n  k\n",
      "0     dweibull   48877.607884   48900.296786  14228  3\n",
      "1      lognorm   94875.581809   94898.270710  14228  3\n",
      "2        gamma   99923.174973   99945.863875  14228  3\n",
      "3        expon  110234.223775  110249.349709  14228  2\n",
      "4         norm  145132.993895  145148.119829  14228  2\n"
     ]
    }
   ],
   "source": [
    "client_map = [\n",
    "    \"bingo_aloha\",\n",
    "    \"homw\",\n",
    "    \"idle_mafia\",\n",
    "    \"spongebob\",\n",
    "    \"terra_genesis\",\n",
    "    \"ultimex\",\n",
    "]\n",
    "result = \"total_wins_spend\"\n",
    "\n",
    "for i in range(0, 6):\n",
    "    client_name = client_map[i]\n",
    "    spend_type = 0\n",
    "    client_name_small = client_name + \"_small\"\n",
    "    initial_data2 = FeatureStoreOfflineClient.run_athena_query_pandas(\n",
    "        queries_dict[client_name_small],\n",
    "        {\n",
    "            \"strt_date\": \"2022-11-05\",\n",
    "            \"end_date\": \"2022-12-05\",\n",
    "            \"strt_fl\": \"2020-01-01\",\n",
    "            \"end_fl\": \"2022-12-04\",\n",
    "            \"spend_type\": spend_type,\n",
    "        },\n",
    "    )\n",
    "    fit_dist = FitDistribution(fname=f\"{client_name}_distribution_fit.p\")\n",
    "    best_distribution = fit_dist.fit(\n",
    "        initial_data2.loc[initial_data2[result] > 0], result\n",
    "    )\n",
    "\n",
    "    print(\"Distribution fit for:\", client_name)\n",
    "    print(best_distribution)"
   ]
  },
  {
   "cell_type": "code",
   "execution_count": null,
   "id": "1e468e40-d14d-4d54-8b54-1c6e620c45e4",
   "metadata": {},
   "outputs": [],
   "source": []
  }
 ],
 "metadata": {
  "kernelspec": {
   "display_name": "Python 3 (ipykernel)",
   "language": "python",
   "name": "python3"
  },
  "language_info": {
   "codemirror_mode": {
    "name": "ipython",
    "version": 3
   },
   "file_extension": ".py",
   "mimetype": "text/x-python",
   "name": "python",
   "nbconvert_exporter": "python",
   "pygments_lexer": "ipython3",
   "version": "3.8.12"
  }
 },
 "nbformat": 4,
 "nbformat_minor": 5
}
