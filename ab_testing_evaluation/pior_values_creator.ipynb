{
 "cells": [
  {
   "attachments": {},
   "cell_type": "markdown",
   "metadata": {},
   "source": [
    "# Prior values creator"
   ]
  },
  {
   "attachments": {},
   "cell_type": "markdown",
   "metadata": {},
   "source": [
    "### Imports"
   ]
  },
  {
   "cell_type": "code",
   "execution_count": 1,
   "metadata": {},
   "outputs": [],
   "source": [
    "from datetime import datetime\n",
    "from ml_lib.feature_store import configure_offline_feature_store\n",
    "from ml_lib.feature_store.offline.client import FeatureStoreOfflineClient\n",
    "import numpy as np\n"
   ]
  },
  {
   "attachments": {},
   "cell_type": "markdown",
   "metadata": {},
   "source": [
    "### Function definitions"
   ]
  },
  {
   "cell_type": "code",
   "execution_count": 2,
   "metadata": {},
   "outputs": [],
   "source": [
    "def compute_IG_params_from_mean_and_variance(mean = 2, variance = 1):\n",
    "    a = 2+mean**2/variance\n",
    "    b = (a-1)*mean\n",
    "    return a,b"
   ]
  },
  {
   "cell_type": "code",
   "execution_count": 9,
   "metadata": {},
   "outputs": [],
   "source": [
    "def get_prior_information(personalized, winsorized, project_id, n_days_spend, datapoint_type, company_id, num_of_past_dates_to_use, start_date_of_test):\n",
    "    if personalized:\n",
    "        personalized_num: int = 0\n",
    "    else:\n",
    "        personalized_num = 9\n",
    "\n",
    "    if winsorized:\n",
    "        spend_column: str = \"wins_spend\"\n",
    "    else:\n",
    "        spend_column = \"spend\"\n",
    "\n",
    "    configure_offline_feature_store(workgroup=\"development\", catalog_name=\"production\")\n",
    "\n",
    "    if project_id in [\"spongebob_x7d9q\", \"terragenesis_m89uz\"]:\n",
    "        spending_line = f\", SUM({spend_column}) as total_spend\"\n",
    "    else:\n",
    "        spending_line = f\", COALESCE(SUM(CASE WHEN fl_personalized_offer_spend <> {personalized_num} THEN {spend_column} END), 0) total_spend\"\n",
    "\n",
    "    spend_offset = str(n_days_spend - 1)\n",
    "\n",
    "    if project_id == \"idle_mafia_ecbqb\":\n",
    "        table_name = 'user_level_performance_after_1_6_2022'\n",
    "    else: \n",
    "        table_name = 'user_level_performance'\n",
    "\n",
    "\n",
    "\n",
    "    if datapoint_type == \"one_datapoint_per_user_per_meta_date\":\n",
    "        print('one_datapoint_per_user_per_meta_date')\n",
    "        data_query = f\"\"\"\n",
    "                WITH\n",
    "                    base_table AS (\n",
    "                        SELECT user_id\n",
    "                            , meta_date\n",
    "                            , first_login                                                                          \n",
    "                            {spending_line}\n",
    "                        FROM analytics__{company_id}__{project_id}.{table_name}\n",
    "                        WHERE meta_date  BETWEEN  DATE {start_date_of_test} - INTERVAL '{str(num_of_past_dates_to_use)}' DAY AND  DATE {start_date_of_test} - INTERVAL '1' DAY\n",
    "                        GROUP BY user_id\n",
    "                            , meta_date\n",
    "                            , first_login\n",
    "                        )\n",
    "\n",
    "                SELECT COUNT(*)                                              AS totals\n",
    "                , SUM(CASE WHEN total_spend > 0 THEN 1 ELSE 0 END) AS positives\n",
    "                , SUM(total_spend) AS sum_values\n",
    "                , SUM(LN(CASE WHEN total_spend > 0 THEN total_spend END)) AS sum_logs\n",
    "                , AVG(CASE WHEN total_spend > 0 THEN 1 ELSE 0 END) AS conv_rate\n",
    "                , AVG(LN(CASE WHEN total_spend > 0 THEN total_spend END)) AS mean_of_logs_spend\n",
    "                , VARIANCE(LN(CASE WHEN total_spend > 0 THEN total_spend END)) AS var_of_logs_spend\n",
    "                FROM base_table;\"\"\"\n",
    "    else:\n",
    "        data_query = f\"\"\"\n",
    "                WITH daily_user_spend AS (\n",
    "                    SELECT user_id\n",
    "                        , meta_date\n",
    "                        , first_login\n",
    "                        {spending_line}\n",
    "                    FROM analytics__{company_id}__{project_id}.{table_name}\n",
    "                    WHERE first_login BETWEEN DATE {start_date_of_test} - INTERVAL '{str(num_of_past_dates_to_use)}' DAY - INTERVAL '{spend_offset}' DAY AND  DATE {start_date_of_test} - INTERVAL '1' DAY - INTERVAL '{spend_offset}' DAY\n",
    "                    GROUP BY user_id\n",
    "                        , meta_date\n",
    "                        , first_login)\n",
    "\n",
    "                , daily_user_spend_only_first_n_days AS (\n",
    "                    SELECT *\n",
    "                    FROM daily_user_spend\n",
    "                    WHERE meta_date >= first_login\n",
    "                    AND meta_date <= first_login + INTERVAL '{spend_offset}' DAY\n",
    "                    )\n",
    "\n",
    "                , base_table AS (\n",
    "                    SELECT user_id, first_login as meta_date, SUM(total_spend) AS total_spend\n",
    "                    FROM daily_user_spend_only_first_n_days\n",
    "                    GROUP BY user_id, first_login\n",
    "                    )\n",
    "                \n",
    "                \n",
    "                SELECT COUNT(*)                                        AS totals\n",
    "                , SUM(CASE WHEN total_spend > 0 THEN 1 ELSE 0 END) AS positives\n",
    "                , SUM(total_spend) AS sum_values\n",
    "                , AVG(CASE WHEN total_spend > 0 THEN 1 ELSE 0 END) AS conv_rate\n",
    "                , SUM(LN(CASE WHEN total_spend > 0 THEN total_spend END)) AS sum_logs\n",
    "                , AVG(LN(CASE WHEN total_spend > 0 THEN total_spend END)) AS mean_of_logs_spend\n",
    "                , VARIANCE(LN(CASE WHEN total_spend > 0 THEN total_spend END)) AS var_of_logs_spend\n",
    "                FROM base_table;\"\"\"\n",
    "        \n",
    "    data_df = FeatureStoreOfflineClient.run_athena_query_pandas(data_query)\n",
    "\n",
    "    IG_params = compute_IG_params_from_mean_and_variance(mean = data_df['var_of_logs_spend'][0], variance = 1)\n",
    "\n",
    "    print(\"Company id:\", company_id)\n",
    "    print(\"Project id:\", project_id)\n",
    "    print(\"Datapoint type:\", datapoint_type)\n",
    "    print(\"N days spend:\", n_days_spend)\n",
    "    print(\"Winsorized:\", winsorized)\n",
    "    print(\"Personalized:\", personalized)\n",
    "    print(\"Start of the test:\", start_date_of_test)\n",
    "    print(\"a_prior_beta:\", 1)\n",
    "    print(\"b_prior_beta:\", 1)\n",
    "    print(\"a_prior_ig:\", IG_params[0])\n",
    "    print(\"b_prior_ig:\", IG_params[1])\n",
    "    print(\"m_prior:\", data_df['mean_of_logs_spend'].values[0])\n",
    "    print(\"w_prior:\", 10)"
   ]
  },
  {
   "attachments": {},
   "cell_type": "markdown",
   "metadata": {},
   "source": [
    "### Compute priors"
   ]
  },
  {
   "cell_type": "code",
   "execution_count": null,
   "metadata": {},
   "outputs": [],
   "source": [
    "# [\"century_games_ncmgu\", \"idle_mafia_ecbqb\"]\n",
    "# [\"tilting_point_mjs4k\", \"terragenesis_m89uz\"]\n",
    "# [\"tinysoft_a9kwp\", \"heroes_magic_war_h2sln\"]\n",
    "# [\"phoenix_games_cd8wx\", \"knighthood_v2_ghbch\"]\n",
    "# [\"webelinx_ewo7l\", \"roomsexits_xk87l\"]"
   ]
  },
  {
   "cell_type": "code",
   "execution_count": 11,
   "metadata": {},
   "outputs": [],
   "source": [
    "company_id = \"phoenix_games_cd8wx\"\n",
    "project_id = \"knighthood_v2_ghbch\"\n",
    "personalized = True\n",
    "winsorized = True\n",
    "\n",
    "datapoint_type = \"one_datapoint_per_user_per_meta_date\"\n",
    "n_days_spend = 7\n",
    "\n",
    "start_date_of_test = datetime(2023,7,11)\n",
    "start_date_of_test = start_date_of_test.strftime(\"'%Y-%m-%d'\")\n",
    "num_of_past_dates_to_use = 90"
   ]
  },
  {
   "cell_type": "code",
   "execution_count": 12,
   "metadata": {},
   "outputs": [
    {
     "name": "stdout",
     "output_type": "stream",
     "text": [
      "one_datapoint_per_user_per_meta_date\n"
     ]
    },
    {
     "name": "stderr",
     "output_type": "stream",
     "text": [
      "DummyStatsClient._send unknown.athena_query_runs_total:1|c\n"
     ]
    },
    {
     "name": "stdout",
     "output_type": "stream",
     "text": [
      "Company id: phoenix_games_cd8wx\n",
      "Project id: knighthood_v2_ghbch\n",
      "Datapoint type: one_datapoint_per_user_per_meta_date\n",
      "N days spend: 7\n",
      "Winsorized: True\n",
      "Personalized: True\n",
      "Start of the test: '2023-07-11'\n",
      "a_prior_beta: 1\n",
      "b_prior_beta: 1\n",
      "a_prior_ig: 2.2379636893086023\n",
      "b_prior_ig: 0.6038975300166833\n",
      "m_prior: 1.5901426468880684\n",
      "w_prior: 10\n"
     ]
    },
    {
     "name": "stderr",
     "output_type": "stream",
     "text": [
      "DummyStatsClient._send unknown.athena_query_queue_ms:647.000000|ms\n",
      "DummyStatsClient._send unknown.athena_query_execution_ms:2696.000000|ms\n",
      "DummyStatsClient._send unknown.athena_query_scanned_bytes:1839833|c\n"
     ]
    }
   ],
   "source": [
    "get_prior_information(personalized, winsorized, project_id, n_days_spend, datapoint_type, company_id, num_of_past_dates_to_use, start_date_of_test)"
   ]
  },
  {
   "cell_type": "code",
   "execution_count": null,
   "metadata": {},
   "outputs": [],
   "source": []
  }
 ],
 "metadata": {
  "kernelspec": {
   "display_name": ".venv",
   "language": "python",
   "name": "python3"
  },
  "language_info": {
   "codemirror_mode": {
    "name": "ipython",
    "version": 3
   },
   "file_extension": ".py",
   "mimetype": "text/x-python",
   "name": "python",
   "nbconvert_exporter": "python",
   "pygments_lexer": "ipython3",
   "version": "3.8.16"
  },
  "orig_nbformat": 4
 },
 "nbformat": 4,
 "nbformat_minor": 2
}
