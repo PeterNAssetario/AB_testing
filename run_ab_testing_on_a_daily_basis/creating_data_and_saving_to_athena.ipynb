{
 "cells": [
  {
   "cell_type": "code",
   "execution_count": 1,
   "metadata": {},
   "outputs": [],
   "source": [
    "from main_testing_script_new import run_ab_testing\n",
    "from datetime import datetime, timedelta\n",
    "import pandas as pd\n",
    "from test_definitions import test_definitions"
   ]
  },
  {
   "cell_type": "code",
   "execution_count": 2,
   "metadata": {},
   "outputs": [],
   "source": [
    "def create_testing_data(start_date, end_date, company_id, project_id, personalized, winsorized, datapoint_type, min_first_login_date, max_first_login_date, n_days_spend, variant_name_1, \n",
    "            variant_name_2, a_prior_beta_1, a_prior_beta_2, b_prior_beta_1, b_prior_beta_2, m_prior_1, m_prior_2, a_prior_ig_1, a_prior_ig_2, b_prior_ig_1, b_prior_ig_2, \n",
    "            w_prior_1, w_prior_2):\n",
    "\n",
    "    df_results = pd.DataFrame(columns = [\"meta_date\", \"inputs\", \"a_post_beta_variant_1\", \"a_post_beta_variant_2\", \"b_post_beta_variant_1\", \"b_post_beta_variant_2\", \"m_post_variant_1\", \"m_post_variant_2\", \"a_post_ig_variant_1\", \"a_post_ig_variant_2\",\n",
    "            \"b_post_ig_variant_1\", \"b_post_ig_variant_2\", \"w_post_variant_1\", \"w_post_variant_2\", \"results\"])\n",
    "\n",
    "    list_of_days = [start_date + timedelta(i) for i in range((end_date - start_date).days)]\n",
    "    min_first_login_date = min_first_login_date.strftime(\"'%Y-%m-%d'\")\n",
    "    max_first_login_date = max_first_login_date.strftime(\"'%Y-%m-%d'\")\n",
    "\n",
    "    for day in list_of_days:\n",
    "        print(day)\n",
    "        meta_date = day.strftime(\"'%Y-%m-%d'\")\n",
    "\n",
    "        results = run_ab_testing(meta_date, meta_date, company_id, project_id, personalized, winsorized, datapoint_type,\n",
    "            min_first_login_date,\n",
    "            max_first_login_date,\n",
    "            n_days_spend,\n",
    "            variant_name_1,\n",
    "            variant_name_2,\n",
    "            a_prior_beta_1,\n",
    "            a_prior_beta_2,\n",
    "            b_prior_beta_1,\n",
    "            b_prior_beta_2,\n",
    "            m_prior_1,\n",
    "            m_prior_2,\n",
    "            a_prior_ig_1,\n",
    "            a_prior_ig_2,\n",
    "            b_prior_ig_1,\n",
    "            b_prior_ig_2,\n",
    "            w_prior_1,\n",
    "            w_prior_2)\n",
    "\n",
    "        a_prior_beta_1 = results[\"a_post_beta_variant_1\"]\n",
    "        a_prior_beta_2 = results[\"a_post_beta_variant_2\"]\n",
    "        b_prior_beta_1 = results[\"b_post_beta_variant_1\"]\n",
    "        b_prior_beta_2 = results[\"b_post_beta_variant_2\"]\n",
    "        m_prior_1 = results[\"m_post_variant_1\"]\n",
    "        m_prior_2 = results[\"m_post_variant_2\"]\n",
    "        a_prior_ig_1 = results[\"a_post_ig_variant_1\"]\n",
    "        a_prior_ig_2 = results[\"a_post_ig_variant_2\"]\n",
    "        b_prior_ig_1 = results[\"b_post_ig_variant_1\"]\n",
    "        b_prior_ig_2 = results[\"b_post_ig_variant_2\"]\n",
    "        w_prior_1 = results[\"w_post_variant_1\"]\n",
    "        w_prior_2 = results[\"w_post_variant_2\"]\n",
    "\n",
    "\n",
    "        current_result = {\"meta_date\": day, \"inputs\": results[\"inputs\"], \"a_post_beta_variant_1\": a_prior_beta_1, \"a_post_beta_variant_2\": a_prior_beta_2, \"b_post_beta_variant_1\": b_prior_beta_1, \"b_post_beta_variant_2\": b_prior_beta_2, \n",
    "                                    \"m_post_variant_1\": m_prior_1, \"m_post_variant_2\": m_prior_2, \"a_post_ig_variant_1\": a_prior_ig_1, \"a_post_ig_variant_2\": a_prior_ig_2, \"b_post_ig_variant_1\": b_prior_ig_1, \"b_post_ig_variant_2\": b_prior_ig_2, \n",
    "                                    \"w_post_variant_1\": w_prior_1, \"w_post_variant_2\": w_prior_2, \"results\": results['results']}\n",
    "\n",
    "        df_results = df_results.append(current_result, ignore_index=True)\n",
    "\n",
    "    return df_results"
   ]
  },
  {
   "cell_type": "code",
   "execution_count": 3,
   "metadata": {},
   "outputs": [
    {
     "name": "stdout",
     "output_type": "stream",
     "text": [
      "2022-11-17 00:00:00\n",
      "2023-02-06 16:36:34,004 - botocore.credentials - INFO - Found credentials in shared credentials file: ~/.aws/credentials\n"
     ]
    },
    {
     "name": "stderr",
     "output_type": "stream",
     "text": [
      "Missing STATSD_HOST and/or STATSD_PORT environment variables\n",
      "DummyStatsClient._send unknown.athena_query_runs_total:1|c\n"
     ]
    },
    {
     "name": "stdout",
     "output_type": "stream",
     "text": [
      "2022-11-18 00:00:00\n",
      "2023-02-06 16:36:43,160 - botocore.credentials - INFO - Found credentials in shared credentials file: ~/.aws/credentials\n"
     ]
    },
    {
     "name": "stderr",
     "output_type": "stream",
     "text": [
      "DummyStatsClient._send unknown.athena_query_queue_ms:459.000000|ms\n",
      "DummyStatsClient._send unknown.athena_query_execution_ms:3545.000000|ms\n",
      "DummyStatsClient._send unknown.athena_query_scanned_bytes:203858008|c\n",
      "C:\\Users\\karol\\AppData\\Local\\Temp\\ipykernel_14800\\2878659884.py:53: FutureWarning: The frame.append method is deprecated and will be removed from pandas in a future version. Use pandas.concat instead.\n",
      "  df_results = df_results.append(current_result, ignore_index=True)\n",
      "DummyStatsClient._send unknown.athena_query_runs_total:1|c\n"
     ]
    },
    {
     "name": "stdout",
     "output_type": "stream",
     "text": [
      "2022-11-19 00:00:00\n",
      "2023-02-06 16:36:52,063 - botocore.credentials - INFO - Found credentials in shared credentials file: ~/.aws/credentials\n"
     ]
    },
    {
     "name": "stderr",
     "output_type": "stream",
     "text": [
      "DummyStatsClient._send unknown.athena_query_queue_ms:465.000000|ms\n",
      "DummyStatsClient._send unknown.athena_query_execution_ms:3203.000000|ms\n",
      "DummyStatsClient._send unknown.athena_query_scanned_bytes:203858008|c\n",
      "C:\\Users\\karol\\AppData\\Local\\Temp\\ipykernel_14800\\2878659884.py:53: FutureWarning: The frame.append method is deprecated and will be removed from pandas in a future version. Use pandas.concat instead.\n",
      "  df_results = df_results.append(current_result, ignore_index=True)\n",
      "DummyStatsClient._send unknown.athena_query_runs_total:1|c\n"
     ]
    },
    {
     "name": "stdout",
     "output_type": "stream",
     "text": [
      "2022-11-20 00:00:00\n",
      "2023-02-06 16:37:04,710 - botocore.credentials - INFO - Found credentials in shared credentials file: ~/.aws/credentials\n"
     ]
    },
    {
     "name": "stderr",
     "output_type": "stream",
     "text": [
      "DummyStatsClient._send unknown.athena_query_queue_ms:612.000000|ms\n",
      "DummyStatsClient._send unknown.athena_query_execution_ms:5770.000000|ms\n",
      "DummyStatsClient._send unknown.athena_query_scanned_bytes:203858008|c\n",
      "C:\\Users\\karol\\AppData\\Local\\Temp\\ipykernel_14800\\2878659884.py:53: FutureWarning: The frame.append method is deprecated and will be removed from pandas in a future version. Use pandas.concat instead.\n",
      "  df_results = df_results.append(current_result, ignore_index=True)\n",
      "DummyStatsClient._send unknown.athena_query_runs_total:1|c\n"
     ]
    }
   ],
   "source": [
    "for test_definition in test_definitions:\n",
    "    df_results = create_testing_data(start_date = test_definition['testStartDate'],\n",
    "                    end_date = datetime(2023,2,5),\n",
    "                    company_id = test_definition['companyId'], \n",
    "                    project_id = test_definition['projectId'], \n",
    "                    personalized = test_definition['presonalizedSpend'], \n",
    "                    winsorized = test_definition['winsorizedSpend'], \n",
    "                    datapoint_type = test_definition['datapointType'], \n",
    "                    min_first_login_date = test_definition['min_first_login_date'], \n",
    "                    max_first_login_date = test_definition['max_first_login_date'], \n",
    "                    n_days_spend = test_definition['nDaysSpend'], \n",
    "                    variant_name_1 = test_definition['variantsDefinition']['variant1']['name'], \n",
    "                    variant_name_2 = test_definition['variantsDefinition']['variant2']['name'],\n",
    "                    a_prior_beta_1 = test_definition['variantsDefinition']['variant1']['parameters']['prior']['aBeta'], \n",
    "                    a_prior_beta_2 = test_definition['variantsDefinition']['variant2']['parameters']['prior']['aBeta'], \n",
    "                    b_prior_beta_1 = test_definition['variantsDefinition']['variant1']['parameters']['prior']['bBeta'], \n",
    "                    b_prior_beta_2 = test_definition['variantsDefinition']['variant2']['parameters']['prior']['bBeta'], \n",
    "                    m_prior_1 = test_definition['variantsDefinition']['variant1']['parameters']['prior']['mu'], \n",
    "                    m_prior_2 = test_definition['variantsDefinition']['variant2']['parameters']['prior']['mu'], \n",
    "                    a_prior_ig_1 = test_definition['variantsDefinition']['variant1']['parameters']['prior']['aIg'], \n",
    "                    a_prior_ig_2 = test_definition['variantsDefinition']['variant2']['parameters']['prior']['aIg'], \n",
    "                    b_prior_ig_1 = test_definition['variantsDefinition']['variant1']['parameters']['prior']['bIg'], \n",
    "                    b_prior_ig_2 = test_definition['variantsDefinition']['variant2']['parameters']['prior']['bIg'], \n",
    "                    w_prior_1 = test_definition['variantsDefinition']['variant1']['parameters']['prior']['w'],\n",
    "                    w_prior_2 = test_definition['variantsDefinition']['variant2']['parameters']['prior']['w'])\n",
    "\n",
    "    df_results['inputs'] = df_results['inputs'].astype(str)\n",
    "    df_results['a_post_beta_variant_1'] = df_results['a_post_beta_variant_1'].astype(float)\n",
    "    df_results['a_post_beta_variant_2'] = df_results['a_post_beta_variant_2'].astype(float)\n",
    "    df_results['b_post_beta_variant_1'] = df_results['b_post_beta_variant_1'].astype(float)\n",
    "    df_results['b_post_beta_variant_2'] = df_results['b_post_beta_variant_2'].astype(float)\n",
    "    df_results['w_post_variant_1'] = df_results['w_post_variant_1'].astype(float)\n",
    "    df_results['w_post_variant_2'] = df_results['w_post_variant_2'].astype(float)\n",
    "    df_results['results'] = df_results['results'].astype(str)\n",
    "    df_results.to_parquet('ab_testing_results/'+test_definition['companyId']+'_'+ test_definition['projectId']+'_'+test_definition['name'])\n",
    "\n",
    "    "
   ]
  },
  {
   "cell_type": "code",
   "execution_count": 21,
   "metadata": {},
   "outputs": [
    {
     "name": "stdout",
     "output_type": "stream",
     "text": [
      "2023-02-05 21:03:34,821 - botocore.credentials - INFO - Found credentials in shared credentials file: ~/.aws/credentials\n"
     ]
    },
    {
     "name": "stderr",
     "output_type": "stream",
     "text": [
      "DummyStatsClient._send unknown.athena_query_runs_total:1|c\n",
      "DummyStatsClient._send unknown.athena_query_queue_ms:460.000000|ms\n",
      "DummyStatsClient._send unknown.athena_query_execution_ms:3599.000000|ms\n",
      "DummyStatsClient._send unknown.athena_query_scanned_bytes:202689106|c\n"
     ]
    }
   ],
   "source": [
    "results = run_ab_testing('\\'2022-11-17\\'', '\\'2022-11-17\\'', 'tilting_point_mjs4k', 'spongebob_x7d9q', False, True, 'one_datapoint_per_user_per_meta_date', '\\'2022-11-17\\'', '\\'2028-01-01\\'',\n",
    "                            7, 'P', 'C', 1, 1, 1, 1, 1.870407, 1.870407, 2.313530563844, 2.313530563844, 0.7354956768576817, 0.7354956768576817, 10, 10)"
   ]
  },
  {
   "cell_type": "code",
   "execution_count": 16,
   "metadata": {},
   "outputs": [
    {
     "data": {
      "text/plain": [
       "{'inputs': {'totals_variant_1': 7688,\n",
       "  'totals_variant_2': 7483,\n",
       "  'positives_variant_1': 20,\n",
       "  'positives_variant_2': 15,\n",
       "  'sum_values_variant_1': 98.31999999999998,\n",
       "  'sum_values_variant_2': 82.35000000000001,\n",
       "  'sum_logs_variant_1': 28.406234463235084,\n",
       "  'sum_logs_variant_2': 21.70288551555028,\n",
       "  'sum_logs_squared_variant_1': 46.56536777183306,\n",
       "  'sum_logs_squared_variant_2': 36.680119956332426,\n",
       "  'a_prior_beta_variant_1': 1,\n",
       "  'a_prior_beta_variant_2': 1,\n",
       "  'b_prior_beta_variant_1': 1,\n",
       "  'b_prior_beta_variant_2': 1,\n",
       "  'm_prior_variant_1': 1.870407,\n",
       "  'm_prior_variant_2': 1.870407,\n",
       "  'a_prior_ig_variant_1': 2.313530563844,\n",
       "  'a_prior_ig_variant_2': 2.313530563844,\n",
       "  'b_prior_ig_variant_1': 0.7354956768576817,\n",
       "  'b_prior_ig_variant_2': 0.7354956768576817,\n",
       "  'w_prior_variant_1': 10,\n",
       "  'w_prior_variant_2': 10},\n",
       " 'a_post_beta_variant_1': 21,\n",
       " 'a_post_beta_variant_2': 16,\n",
       " 'b_post_beta_variant_1': 7669,\n",
       " 'b_post_beta_variant_2': 7469,\n",
       " 'm_post_variant_1': 1.5703434821078361,\n",
       " 'm_post_variant_2': 1.6162782206220112,\n",
       " 'a_post_ig_variant_1': 12.313530563844001,\n",
       " 'a_post_ig_variant_2': 9.813530563844001,\n",
       " 'b_post_ig_variant_1': 4.52061151404075,\n",
       " 'b_post_ig_variant_2': 3.9132263025557132,\n",
       " 'w_post_variant_1': 30,\n",
       " 'w_post_variant_2': 25,\n",
       " 'results': {'prob_being_best_version_1': 0.68195,\n",
       "  'prob_being_best_version_2': 0.31805,\n",
       "  'expected_loss_version_1': 0.0012356,\n",
       "  'expected_loss_version_2': 0.0037904,\n",
       "  'expected_total_gain_version_1': 0.0025549,\n",
       "  'expected_total_gain_version_2': -0.0025549}}"
      ]
     },
     "execution_count": 16,
     "metadata": {},
     "output_type": "execute_result"
    }
   ],
   "source": [
    "results"
   ]
  },
  {
   "cell_type": "code",
   "execution_count": 2,
   "metadata": {},
   "outputs": [],
   "source": [
    "# spravme range dni\n",
    "test_start_date = datetime(2023,1,1)\n",
    "num_days = 15\n",
    "\n",
    "list_of_days = [test_start_date + timedelta(i) for i in range(num_days)]"
   ]
  },
  {
   "cell_type": "code",
   "execution_count": null,
   "metadata": {},
   "outputs": [],
   "source": []
  },
  {
   "cell_type": "code",
   "execution_count": 4,
   "metadata": {},
   "outputs": [
    {
     "data": {
      "text/plain": [
       "\"'2023-01-01'\""
      ]
     },
     "execution_count": 4,
     "metadata": {},
     "output_type": "execute_result"
    }
   ],
   "source": [
    "meta_date = '\\'2023-01-01\\''\n",
    "meta_date"
   ]
  },
  {
   "cell_type": "code",
   "execution_count": 5,
   "metadata": {},
   "outputs": [
    {
     "data": {
      "text/plain": [
       "datetime.datetime(2023, 1, 1, 0, 0)"
      ]
     },
     "execution_count": 5,
     "metadata": {},
     "output_type": "execute_result"
    }
   ],
   "source": [
    "meta_date_datetime = datetime(2023,1,1)\n",
    "meta_date_datetime"
   ]
  },
  {
   "cell_type": "code",
   "execution_count": 14,
   "metadata": {},
   "outputs": [
    {
     "data": {
      "text/plain": [
       "\"'2023-01-01'\""
      ]
     },
     "execution_count": 14,
     "metadata": {},
     "output_type": "execute_result"
    }
   ],
   "source": [
    "meta_date_datetime.strftime(\"'%Y-%m-%d'\")"
   ]
  },
  {
   "cell_type": "code",
   "execution_count": 21,
   "metadata": {},
   "outputs": [
    {
     "name": "stdout",
     "output_type": "stream",
     "text": [
      "2022-11-17 00:00:00\n",
      "2023-02-02 17:34:43,857 - botocore.credentials - INFO - Found credentials in shared credentials file: ~/.aws/credentials\n"
     ]
    },
    {
     "name": "stderr",
     "output_type": "stream",
     "text": [
      "DummyStatsClient._send unknown.athena_query_runs_total:1|c\n"
     ]
    },
    {
     "name": "stdout",
     "output_type": "stream",
     "text": [
      "2022-11-18 00:00:00\n",
      "2023-02-02 17:34:51,079 - botocore.credentials - INFO - Found credentials in shared credentials file: ~/.aws/credentials\n"
     ]
    },
    {
     "name": "stderr",
     "output_type": "stream",
     "text": [
      "DummyStatsClient._send unknown.athena_query_queue_ms:495.000000|ms\n",
      "DummyStatsClient._send unknown.athena_query_execution_ms:2937.000000|ms\n",
      "DummyStatsClient._send unknown.athena_query_scanned_bytes:198612556|c\n",
      "C:\\Users\\karol\\AppData\\Local\\Temp\\ipykernel_57016\\2854884862.py:77: FutureWarning: The frame.append method is deprecated and will be removed from pandas in a future version. Use pandas.concat instead.\n",
      "  df_results = df_results.append(current_result, ignore_index=True)\n",
      "DummyStatsClient._send unknown.athena_query_runs_total:1|c\n"
     ]
    },
    {
     "name": "stdout",
     "output_type": "stream",
     "text": [
      "2022-11-19 00:00:00\n",
      "2023-02-02 17:34:59,896 - botocore.credentials - INFO - Found credentials in shared credentials file: ~/.aws/credentials\n"
     ]
    },
    {
     "name": "stderr",
     "output_type": "stream",
     "text": [
      "DummyStatsClient._send unknown.athena_query_queue_ms:509.000000|ms\n",
      "DummyStatsClient._send unknown.athena_query_execution_ms:3853.000000|ms\n",
      "DummyStatsClient._send unknown.athena_query_scanned_bytes:198612556|c\n",
      "C:\\Users\\karol\\AppData\\Local\\Temp\\ipykernel_57016\\2854884862.py:77: FutureWarning: The frame.append method is deprecated and will be removed from pandas in a future version. Use pandas.concat instead.\n",
      "  df_results = df_results.append(current_result, ignore_index=True)\n",
      "DummyStatsClient._send unknown.athena_query_runs_total:1|c\n"
     ]
    },
    {
     "name": "stdout",
     "output_type": "stream",
     "text": [
      "2022-11-20 00:00:00\n",
      "2023-02-02 17:35:09,671 - botocore.credentials - INFO - Found credentials in shared credentials file: ~/.aws/credentials\n"
     ]
    },
    {
     "name": "stderr",
     "output_type": "stream",
     "text": [
      "DummyStatsClient._send unknown.athena_query_queue_ms:486.000000|ms\n",
      "DummyStatsClient._send unknown.athena_query_execution_ms:5134.000000|ms\n",
      "DummyStatsClient._send unknown.athena_query_scanned_bytes:198612556|c\n",
      "C:\\Users\\karol\\AppData\\Local\\Temp\\ipykernel_57016\\2854884862.py:77: FutureWarning: The frame.append method is deprecated and will be removed from pandas in a future version. Use pandas.concat instead.\n",
      "  df_results = df_results.append(current_result, ignore_index=True)\n",
      "DummyStatsClient._send unknown.athena_query_runs_total:1|c\n"
     ]
    },
    {
     "name": "stdout",
     "output_type": "stream",
     "text": [
      "2022-11-21 00:00:00\n",
      "2023-02-02 17:35:17,462 - botocore.credentials - INFO - Found credentials in shared credentials file: ~/.aws/credentials\n"
     ]
    },
    {
     "name": "stderr",
     "output_type": "stream",
     "text": [
      "DummyStatsClient._send unknown.athena_query_queue_ms:478.000000|ms\n",
      "DummyStatsClient._send unknown.athena_query_execution_ms:3041.000000|ms\n",
      "DummyStatsClient._send unknown.athena_query_scanned_bytes:198612556|c\n",
      "C:\\Users\\karol\\AppData\\Local\\Temp\\ipykernel_57016\\2854884862.py:77: FutureWarning: The frame.append method is deprecated and will be removed from pandas in a future version. Use pandas.concat instead.\n",
      "  df_results = df_results.append(current_result, ignore_index=True)\n",
      "DummyStatsClient._send unknown.athena_query_runs_total:1|c\n"
     ]
    },
    {
     "name": "stdout",
     "output_type": "stream",
     "text": [
      "2022-11-22 00:00:00\n",
      "2023-02-02 17:35:27,885 - botocore.credentials - INFO - Found credentials in shared credentials file: ~/.aws/credentials\n"
     ]
    },
    {
     "name": "stderr",
     "output_type": "stream",
     "text": [
      "DummyStatsClient._send unknown.athena_query_queue_ms:450.000000|ms\n",
      "DummyStatsClient._send unknown.athena_query_execution_ms:5998.000000|ms\n",
      "DummyStatsClient._send unknown.athena_query_scanned_bytes:198612556|c\n",
      "C:\\Users\\karol\\AppData\\Local\\Temp\\ipykernel_57016\\2854884862.py:77: FutureWarning: The frame.append method is deprecated and will be removed from pandas in a future version. Use pandas.concat instead.\n",
      "  df_results = df_results.append(current_result, ignore_index=True)\n",
      "DummyStatsClient._send unknown.athena_query_runs_total:1|c\n"
     ]
    },
    {
     "name": "stdout",
     "output_type": "stream",
     "text": [
      "2022-11-23 00:00:00\n",
      "2023-02-02 17:35:35,972 - botocore.credentials - INFO - Found credentials in shared credentials file: ~/.aws/credentials\n"
     ]
    },
    {
     "name": "stderr",
     "output_type": "stream",
     "text": [
      "DummyStatsClient._send unknown.athena_query_queue_ms:442.000000|ms\n",
      "DummyStatsClient._send unknown.athena_query_execution_ms:3212.000000|ms\n",
      "DummyStatsClient._send unknown.athena_query_scanned_bytes:198612556|c\n",
      "C:\\Users\\karol\\AppData\\Local\\Temp\\ipykernel_57016\\2854884862.py:77: FutureWarning: The frame.append method is deprecated and will be removed from pandas in a future version. Use pandas.concat instead.\n",
      "  df_results = df_results.append(current_result, ignore_index=True)\n",
      "DummyStatsClient._send unknown.athena_query_runs_total:1|c\n"
     ]
    },
    {
     "name": "stdout",
     "output_type": "stream",
     "text": [
      "2022-11-24 00:00:00\n",
      "2023-02-02 17:35:43,874 - botocore.credentials - INFO - Found credentials in shared credentials file: ~/.aws/credentials\n"
     ]
    },
    {
     "name": "stderr",
     "output_type": "stream",
     "text": [
      "DummyStatsClient._send unknown.athena_query_queue_ms:448.000000|ms\n",
      "DummyStatsClient._send unknown.athena_query_execution_ms:3027.000000|ms\n",
      "DummyStatsClient._send unknown.athena_query_scanned_bytes:198612556|c\n",
      "C:\\Users\\karol\\AppData\\Local\\Temp\\ipykernel_57016\\2854884862.py:77: FutureWarning: The frame.append method is deprecated and will be removed from pandas in a future version. Use pandas.concat instead.\n",
      "  df_results = df_results.append(current_result, ignore_index=True)\n",
      "DummyStatsClient._send unknown.athena_query_runs_total:1|c\n"
     ]
    },
    {
     "name": "stdout",
     "output_type": "stream",
     "text": [
      "2022-11-25 00:00:00\n",
      "2023-02-02 17:35:52,717 - botocore.credentials - INFO - Found credentials in shared credentials file: ~/.aws/credentials\n"
     ]
    },
    {
     "name": "stderr",
     "output_type": "stream",
     "text": [
      "DummyStatsClient._send unknown.athena_query_queue_ms:484.000000|ms\n",
      "DummyStatsClient._send unknown.athena_query_execution_ms:3666.000000|ms\n",
      "DummyStatsClient._send unknown.athena_query_scanned_bytes:198612556|c\n",
      "C:\\Users\\karol\\AppData\\Local\\Temp\\ipykernel_57016\\2854884862.py:77: FutureWarning: The frame.append method is deprecated and will be removed from pandas in a future version. Use pandas.concat instead.\n",
      "  df_results = df_results.append(current_result, ignore_index=True)\n",
      "DummyStatsClient._send unknown.athena_query_runs_total:1|c\n"
     ]
    },
    {
     "name": "stdout",
     "output_type": "stream",
     "text": [
      "2022-11-26 00:00:00\n",
      "2023-02-02 17:36:01,011 - botocore.credentials - INFO - Found credentials in shared credentials file: ~/.aws/credentials\n"
     ]
    },
    {
     "name": "stderr",
     "output_type": "stream",
     "text": [
      "DummyStatsClient._send unknown.athena_query_queue_ms:479.000000|ms\n",
      "DummyStatsClient._send unknown.athena_query_execution_ms:3308.000000|ms\n",
      "DummyStatsClient._send unknown.athena_query_scanned_bytes:198612556|c\n",
      "C:\\Users\\karol\\AppData\\Local\\Temp\\ipykernel_57016\\2854884862.py:77: FutureWarning: The frame.append method is deprecated and will be removed from pandas in a future version. Use pandas.concat instead.\n",
      "  df_results = df_results.append(current_result, ignore_index=True)\n",
      "DummyStatsClient._send unknown.athena_query_runs_total:1|c\n"
     ]
    },
    {
     "name": "stdout",
     "output_type": "stream",
     "text": [
      "2022-11-27 00:00:00\n",
      "2023-02-02 17:36:09,370 - botocore.credentials - INFO - Found credentials in shared credentials file: ~/.aws/credentials\n"
     ]
    },
    {
     "name": "stderr",
     "output_type": "stream",
     "text": [
      "DummyStatsClient._send unknown.athena_query_queue_ms:455.000000|ms\n",
      "DummyStatsClient._send unknown.athena_query_execution_ms:3761.000000|ms\n",
      "DummyStatsClient._send unknown.athena_query_scanned_bytes:198612556|c\n",
      "C:\\Users\\karol\\AppData\\Local\\Temp\\ipykernel_57016\\2854884862.py:77: FutureWarning: The frame.append method is deprecated and will be removed from pandas in a future version. Use pandas.concat instead.\n",
      "  df_results = df_results.append(current_result, ignore_index=True)\n",
      "DummyStatsClient._send unknown.athena_query_runs_total:1|c\n"
     ]
    },
    {
     "name": "stdout",
     "output_type": "stream",
     "text": [
      "2022-11-28 00:00:00\n",
      "2023-02-02 17:36:17,461 - botocore.credentials - INFO - Found credentials in shared credentials file: ~/.aws/credentials\n"
     ]
    },
    {
     "name": "stderr",
     "output_type": "stream",
     "text": [
      "DummyStatsClient._send unknown.athena_query_queue_ms:468.000000|ms\n",
      "DummyStatsClient._send unknown.athena_query_execution_ms:3084.000000|ms\n",
      "DummyStatsClient._send unknown.athena_query_scanned_bytes:198612556|c\n",
      "C:\\Users\\karol\\AppData\\Local\\Temp\\ipykernel_57016\\2854884862.py:77: FutureWarning: The frame.append method is deprecated and will be removed from pandas in a future version. Use pandas.concat instead.\n",
      "  df_results = df_results.append(current_result, ignore_index=True)\n",
      "DummyStatsClient._send unknown.athena_query_runs_total:1|c\n"
     ]
    },
    {
     "name": "stdout",
     "output_type": "stream",
     "text": [
      "2022-11-29 00:00:00\n",
      "2023-02-02 17:36:26,302 - botocore.credentials - INFO - Found credentials in shared credentials file: ~/.aws/credentials\n"
     ]
    },
    {
     "name": "stderr",
     "output_type": "stream",
     "text": [
      "DummyStatsClient._send unknown.athena_query_queue_ms:505.000000|ms\n",
      "DummyStatsClient._send unknown.athena_query_execution_ms:4134.000000|ms\n",
      "DummyStatsClient._send unknown.athena_query_scanned_bytes:198612556|c\n",
      "C:\\Users\\karol\\AppData\\Local\\Temp\\ipykernel_57016\\2854884862.py:77: FutureWarning: The frame.append method is deprecated and will be removed from pandas in a future version. Use pandas.concat instead.\n",
      "  df_results = df_results.append(current_result, ignore_index=True)\n",
      "DummyStatsClient._send unknown.athena_query_runs_total:1|c\n"
     ]
    },
    {
     "name": "stdout",
     "output_type": "stream",
     "text": [
      "2022-11-30 00:00:00\n",
      "2023-02-02 17:36:34,274 - botocore.credentials - INFO - Found credentials in shared credentials file: ~/.aws/credentials\n"
     ]
    },
    {
     "name": "stderr",
     "output_type": "stream",
     "text": [
      "DummyStatsClient._send unknown.athena_query_queue_ms:443.000000|ms\n",
      "DummyStatsClient._send unknown.athena_query_execution_ms:3480.000000|ms\n",
      "DummyStatsClient._send unknown.athena_query_scanned_bytes:198612556|c\n",
      "C:\\Users\\karol\\AppData\\Local\\Temp\\ipykernel_57016\\2854884862.py:77: FutureWarning: The frame.append method is deprecated and will be removed from pandas in a future version. Use pandas.concat instead.\n",
      "  df_results = df_results.append(current_result, ignore_index=True)\n",
      "DummyStatsClient._send unknown.athena_query_runs_total:1|c\n"
     ]
    },
    {
     "name": "stdout",
     "output_type": "stream",
     "text": [
      "2022-12-01 00:00:00\n",
      "2023-02-02 17:36:42,370 - botocore.credentials - INFO - Found credentials in shared credentials file: ~/.aws/credentials\n"
     ]
    },
    {
     "name": "stderr",
     "output_type": "stream",
     "text": [
      "DummyStatsClient._send unknown.athena_query_queue_ms:497.000000|ms\n",
      "DummyStatsClient._send unknown.athena_query_execution_ms:3383.000000|ms\n",
      "DummyStatsClient._send unknown.athena_query_scanned_bytes:198612556|c\n",
      "C:\\Users\\karol\\AppData\\Local\\Temp\\ipykernel_57016\\2854884862.py:77: FutureWarning: The frame.append method is deprecated and will be removed from pandas in a future version. Use pandas.concat instead.\n",
      "  df_results = df_results.append(current_result, ignore_index=True)\n",
      "DummyStatsClient._send unknown.athena_query_runs_total:1|c\n"
     ]
    },
    {
     "name": "stdout",
     "output_type": "stream",
     "text": [
      "2022-12-02 00:00:00\n",
      "2023-02-02 17:36:49,582 - botocore.credentials - INFO - Found credentials in shared credentials file: ~/.aws/credentials\n"
     ]
    },
    {
     "name": "stderr",
     "output_type": "stream",
     "text": [
      "DummyStatsClient._send unknown.athena_query_queue_ms:424.000000|ms\n",
      "DummyStatsClient._send unknown.athena_query_execution_ms:2808.000000|ms\n",
      "DummyStatsClient._send unknown.athena_query_scanned_bytes:198612556|c\n",
      "C:\\Users\\karol\\AppData\\Local\\Temp\\ipykernel_57016\\2854884862.py:77: FutureWarning: The frame.append method is deprecated and will be removed from pandas in a future version. Use pandas.concat instead.\n",
      "  df_results = df_results.append(current_result, ignore_index=True)\n",
      "DummyStatsClient._send unknown.athena_query_runs_total:1|c\n"
     ]
    },
    {
     "name": "stdout",
     "output_type": "stream",
     "text": [
      "2022-12-03 00:00:00\n",
      "2023-02-02 17:36:58,325 - botocore.credentials - INFO - Found credentials in shared credentials file: ~/.aws/credentials\n"
     ]
    },
    {
     "name": "stderr",
     "output_type": "stream",
     "text": [
      "DummyStatsClient._send unknown.athena_query_queue_ms:556.000000|ms\n",
      "DummyStatsClient._send unknown.athena_query_execution_ms:4370.000000|ms\n",
      "DummyStatsClient._send unknown.athena_query_scanned_bytes:198612556|c\n",
      "C:\\Users\\karol\\AppData\\Local\\Temp\\ipykernel_57016\\2854884862.py:77: FutureWarning: The frame.append method is deprecated and will be removed from pandas in a future version. Use pandas.concat instead.\n",
      "  df_results = df_results.append(current_result, ignore_index=True)\n",
      "DummyStatsClient._send unknown.athena_query_runs_total:1|c\n"
     ]
    },
    {
     "name": "stdout",
     "output_type": "stream",
     "text": [
      "2022-12-04 00:00:00\n",
      "2023-02-02 17:37:08,051 - botocore.credentials - INFO - Found credentials in shared credentials file: ~/.aws/credentials\n"
     ]
    },
    {
     "name": "stderr",
     "output_type": "stream",
     "text": [
      "DummyStatsClient._send unknown.athena_query_queue_ms:533.000000|ms\n",
      "DummyStatsClient._send unknown.athena_query_execution_ms:4543.000000|ms\n",
      "DummyStatsClient._send unknown.athena_query_scanned_bytes:198612556|c\n",
      "C:\\Users\\karol\\AppData\\Local\\Temp\\ipykernel_57016\\2854884862.py:77: FutureWarning: The frame.append method is deprecated and will be removed from pandas in a future version. Use pandas.concat instead.\n",
      "  df_results = df_results.append(current_result, ignore_index=True)\n",
      "DummyStatsClient._send unknown.athena_query_runs_total:1|c\n"
     ]
    },
    {
     "name": "stdout",
     "output_type": "stream",
     "text": [
      "2022-12-05 00:00:00\n",
      "2023-02-02 17:37:16,040 - botocore.credentials - INFO - Found credentials in shared credentials file: ~/.aws/credentials\n"
     ]
    },
    {
     "name": "stderr",
     "output_type": "stream",
     "text": [
      "DummyStatsClient._send unknown.athena_query_queue_ms:591.000000|ms\n",
      "DummyStatsClient._send unknown.athena_query_execution_ms:3624.000000|ms\n",
      "DummyStatsClient._send unknown.athena_query_scanned_bytes:198612556|c\n",
      "C:\\Users\\karol\\AppData\\Local\\Temp\\ipykernel_57016\\2854884862.py:77: FutureWarning: The frame.append method is deprecated and will be removed from pandas in a future version. Use pandas.concat instead.\n",
      "  df_results = df_results.append(current_result, ignore_index=True)\n",
      "DummyStatsClient._send unknown.athena_query_runs_total:1|c\n"
     ]
    },
    {
     "name": "stdout",
     "output_type": "stream",
     "text": [
      "2022-12-06 00:00:00\n",
      "2023-02-02 17:37:23,222 - botocore.credentials - INFO - Found credentials in shared credentials file: ~/.aws/credentials\n"
     ]
    },
    {
     "name": "stderr",
     "output_type": "stream",
     "text": [
      "DummyStatsClient._send unknown.athena_query_queue_ms:443.000000|ms\n",
      "DummyStatsClient._send unknown.athena_query_execution_ms:2800.000000|ms\n",
      "DummyStatsClient._send unknown.athena_query_scanned_bytes:198612556|c\n",
      "C:\\Users\\karol\\AppData\\Local\\Temp\\ipykernel_57016\\2854884862.py:77: FutureWarning: The frame.append method is deprecated and will be removed from pandas in a future version. Use pandas.concat instead.\n",
      "  df_results = df_results.append(current_result, ignore_index=True)\n",
      "DummyStatsClient._send unknown.athena_query_runs_total:1|c\n"
     ]
    },
    {
     "name": "stdout",
     "output_type": "stream",
     "text": [
      "2022-12-07 00:00:00\n",
      "2023-02-02 17:37:31,533 - botocore.credentials - INFO - Found credentials in shared credentials file: ~/.aws/credentials\n"
     ]
    },
    {
     "name": "stderr",
     "output_type": "stream",
     "text": [
      "DummyStatsClient._send unknown.athena_query_queue_ms:699.000000|ms\n",
      "DummyStatsClient._send unknown.athena_query_execution_ms:3845.000000|ms\n",
      "DummyStatsClient._send unknown.athena_query_scanned_bytes:198612556|c\n",
      "C:\\Users\\karol\\AppData\\Local\\Temp\\ipykernel_57016\\2854884862.py:77: FutureWarning: The frame.append method is deprecated and will be removed from pandas in a future version. Use pandas.concat instead.\n",
      "  df_results = df_results.append(current_result, ignore_index=True)\n",
      "DummyStatsClient._send unknown.athena_query_runs_total:1|c\n"
     ]
    },
    {
     "name": "stdout",
     "output_type": "stream",
     "text": [
      "2022-12-08 00:00:00\n",
      "2023-02-02 17:37:41,006 - botocore.credentials - INFO - Found credentials in shared credentials file: ~/.aws/credentials\n"
     ]
    },
    {
     "name": "stderr",
     "output_type": "stream",
     "text": [
      "DummyStatsClient._send unknown.athena_query_queue_ms:378.000000|ms\n",
      "DummyStatsClient._send unknown.athena_query_execution_ms:4666.000000|ms\n",
      "DummyStatsClient._send unknown.athena_query_scanned_bytes:198612556|c\n",
      "C:\\Users\\karol\\AppData\\Local\\Temp\\ipykernel_57016\\2854884862.py:77: FutureWarning: The frame.append method is deprecated and will be removed from pandas in a future version. Use pandas.concat instead.\n",
      "  df_results = df_results.append(current_result, ignore_index=True)\n",
      "DummyStatsClient._send unknown.athena_query_runs_total:1|c\n"
     ]
    },
    {
     "name": "stdout",
     "output_type": "stream",
     "text": [
      "2022-12-09 00:00:00\n",
      "2023-02-02 17:37:49,089 - botocore.credentials - INFO - Found credentials in shared credentials file: ~/.aws/credentials\n"
     ]
    },
    {
     "name": "stderr",
     "output_type": "stream",
     "text": [
      "DummyStatsClient._send unknown.athena_query_queue_ms:469.000000|ms\n",
      "DummyStatsClient._send unknown.athena_query_execution_ms:3287.000000|ms\n",
      "DummyStatsClient._send unknown.athena_query_scanned_bytes:198612556|c\n",
      "C:\\Users\\karol\\AppData\\Local\\Temp\\ipykernel_57016\\2854884862.py:77: FutureWarning: The frame.append method is deprecated and will be removed from pandas in a future version. Use pandas.concat instead.\n",
      "  df_results = df_results.append(current_result, ignore_index=True)\n",
      "DummyStatsClient._send unknown.athena_query_runs_total:1|c\n"
     ]
    },
    {
     "name": "stdout",
     "output_type": "stream",
     "text": [
      "2022-12-10 00:00:00\n",
      "2023-02-02 17:37:57,991 - botocore.credentials - INFO - Found credentials in shared credentials file: ~/.aws/credentials\n"
     ]
    },
    {
     "name": "stderr",
     "output_type": "stream",
     "text": [
      "DummyStatsClient._send unknown.athena_query_queue_ms:639.000000|ms\n",
      "DummyStatsClient._send unknown.athena_query_execution_ms:4053.000000|ms\n",
      "DummyStatsClient._send unknown.athena_query_scanned_bytes:198612556|c\n",
      "C:\\Users\\karol\\AppData\\Local\\Temp\\ipykernel_57016\\2854884862.py:77: FutureWarning: The frame.append method is deprecated and will be removed from pandas in a future version. Use pandas.concat instead.\n",
      "  df_results = df_results.append(current_result, ignore_index=True)\n",
      "DummyStatsClient._send unknown.athena_query_runs_total:1|c\n"
     ]
    },
    {
     "name": "stdout",
     "output_type": "stream",
     "text": [
      "2022-12-11 00:00:00\n",
      "2023-02-02 17:38:05,895 - botocore.credentials - INFO - Found credentials in shared credentials file: ~/.aws/credentials\n"
     ]
    },
    {
     "name": "stderr",
     "output_type": "stream",
     "text": [
      "DummyStatsClient._send unknown.athena_query_queue_ms:492.000000|ms\n",
      "DummyStatsClient._send unknown.athena_query_execution_ms:2988.000000|ms\n",
      "DummyStatsClient._send unknown.athena_query_scanned_bytes:198612556|c\n",
      "C:\\Users\\karol\\AppData\\Local\\Temp\\ipykernel_57016\\2854884862.py:77: FutureWarning: The frame.append method is deprecated and will be removed from pandas in a future version. Use pandas.concat instead.\n",
      "  df_results = df_results.append(current_result, ignore_index=True)\n",
      "DummyStatsClient._send unknown.athena_query_runs_total:1|c\n"
     ]
    },
    {
     "name": "stdout",
     "output_type": "stream",
     "text": [
      "2022-12-12 00:00:00\n",
      "2023-02-02 17:38:13,943 - botocore.credentials - INFO - Found credentials in shared credentials file: ~/.aws/credentials\n"
     ]
    },
    {
     "name": "stderr",
     "output_type": "stream",
     "text": [
      "DummyStatsClient._send unknown.athena_query_queue_ms:424.000000|ms\n",
      "DummyStatsClient._send unknown.athena_query_execution_ms:3518.000000|ms\n",
      "DummyStatsClient._send unknown.athena_query_scanned_bytes:198612556|c\n",
      "C:\\Users\\karol\\AppData\\Local\\Temp\\ipykernel_57016\\2854884862.py:77: FutureWarning: The frame.append method is deprecated and will be removed from pandas in a future version. Use pandas.concat instead.\n",
      "  df_results = df_results.append(current_result, ignore_index=True)\n",
      "DummyStatsClient._send unknown.athena_query_runs_total:1|c\n"
     ]
    },
    {
     "name": "stdout",
     "output_type": "stream",
     "text": [
      "2022-12-13 00:00:00\n",
      "2023-02-02 17:38:22,843 - botocore.credentials - INFO - Found credentials in shared credentials file: ~/.aws/credentials\n"
     ]
    },
    {
     "name": "stderr",
     "output_type": "stream",
     "text": [
      "DummyStatsClient._send unknown.athena_query_queue_ms:561.000000|ms\n",
      "DummyStatsClient._send unknown.athena_query_execution_ms:4383.000000|ms\n",
      "DummyStatsClient._send unknown.athena_query_scanned_bytes:198612556|c\n",
      "C:\\Users\\karol\\AppData\\Local\\Temp\\ipykernel_57016\\2854884862.py:77: FutureWarning: The frame.append method is deprecated and will be removed from pandas in a future version. Use pandas.concat instead.\n",
      "  df_results = df_results.append(current_result, ignore_index=True)\n",
      "DummyStatsClient._send unknown.athena_query_runs_total:1|c\n"
     ]
    },
    {
     "name": "stdout",
     "output_type": "stream",
     "text": [
      "2022-12-14 00:00:00\n",
      "2023-02-02 17:38:31,567 - botocore.credentials - INFO - Found credentials in shared credentials file: ~/.aws/credentials\n"
     ]
    },
    {
     "name": "stderr",
     "output_type": "stream",
     "text": [
      "DummyStatsClient._send unknown.athena_query_queue_ms:455.000000|ms\n",
      "DummyStatsClient._send unknown.athena_query_execution_ms:4324.000000|ms\n",
      "DummyStatsClient._send unknown.athena_query_scanned_bytes:198612556|c\n",
      "C:\\Users\\karol\\AppData\\Local\\Temp\\ipykernel_57016\\2854884862.py:77: FutureWarning: The frame.append method is deprecated and will be removed from pandas in a future version. Use pandas.concat instead.\n",
      "  df_results = df_results.append(current_result, ignore_index=True)\n",
      "DummyStatsClient._send unknown.athena_query_runs_total:1|c\n"
     ]
    },
    {
     "name": "stdout",
     "output_type": "stream",
     "text": [
      "2022-12-15 00:00:00\n",
      "2023-02-02 17:38:38,983 - botocore.credentials - INFO - Found credentials in shared credentials file: ~/.aws/credentials\n"
     ]
    },
    {
     "name": "stderr",
     "output_type": "stream",
     "text": [
      "DummyStatsClient._send unknown.athena_query_queue_ms:441.000000|ms\n",
      "DummyStatsClient._send unknown.athena_query_execution_ms:2925.000000|ms\n",
      "DummyStatsClient._send unknown.athena_query_scanned_bytes:198612556|c\n",
      "C:\\Users\\karol\\AppData\\Local\\Temp\\ipykernel_57016\\2854884862.py:77: FutureWarning: The frame.append method is deprecated and will be removed from pandas in a future version. Use pandas.concat instead.\n",
      "  df_results = df_results.append(current_result, ignore_index=True)\n",
      "DummyStatsClient._send unknown.athena_query_runs_total:1|c\n"
     ]
    },
    {
     "name": "stdout",
     "output_type": "stream",
     "text": [
      "2022-12-16 00:00:00\n",
      "2023-02-02 17:38:47,401 - botocore.credentials - INFO - Found credentials in shared credentials file: ~/.aws/credentials\n"
     ]
    },
    {
     "name": "stderr",
     "output_type": "stream",
     "text": [
      "DummyStatsClient._send unknown.athena_query_queue_ms:439.000000|ms\n",
      "DummyStatsClient._send unknown.athena_query_execution_ms:3777.000000|ms\n",
      "DummyStatsClient._send unknown.athena_query_scanned_bytes:198612556|c\n",
      "C:\\Users\\karol\\AppData\\Local\\Temp\\ipykernel_57016\\2854884862.py:77: FutureWarning: The frame.append method is deprecated and will be removed from pandas in a future version. Use pandas.concat instead.\n",
      "  df_results = df_results.append(current_result, ignore_index=True)\n",
      "DummyStatsClient._send unknown.athena_query_runs_total:1|c\n"
     ]
    },
    {
     "name": "stdout",
     "output_type": "stream",
     "text": [
      "2022-12-17 00:00:00\n",
      "2023-02-02 17:38:54,585 - botocore.credentials - INFO - Found credentials in shared credentials file: ~/.aws/credentials\n"
     ]
    },
    {
     "name": "stderr",
     "output_type": "stream",
     "text": [
      "DummyStatsClient._send unknown.athena_query_queue_ms:480.000000|ms\n",
      "DummyStatsClient._send unknown.athena_query_execution_ms:2709.000000|ms\n",
      "DummyStatsClient._send unknown.athena_query_scanned_bytes:198612556|c\n",
      "C:\\Users\\karol\\AppData\\Local\\Temp\\ipykernel_57016\\2854884862.py:77: FutureWarning: The frame.append method is deprecated and will be removed from pandas in a future version. Use pandas.concat instead.\n",
      "  df_results = df_results.append(current_result, ignore_index=True)\n",
      "DummyStatsClient._send unknown.athena_query_runs_total:1|c\n"
     ]
    },
    {
     "name": "stdout",
     "output_type": "stream",
     "text": [
      "2022-12-18 00:00:00\n",
      "2023-02-02 17:39:02,616 - botocore.credentials - INFO - Found credentials in shared credentials file: ~/.aws/credentials\n"
     ]
    },
    {
     "name": "stderr",
     "output_type": "stream",
     "text": [
      "DummyStatsClient._send unknown.athena_query_queue_ms:453.000000|ms\n",
      "DummyStatsClient._send unknown.athena_query_execution_ms:3232.000000|ms\n",
      "DummyStatsClient._send unknown.athena_query_scanned_bytes:198612556|c\n",
      "C:\\Users\\karol\\AppData\\Local\\Temp\\ipykernel_57016\\2854884862.py:77: FutureWarning: The frame.append method is deprecated and will be removed from pandas in a future version. Use pandas.concat instead.\n",
      "  df_results = df_results.append(current_result, ignore_index=True)\n",
      "DummyStatsClient._send unknown.athena_query_runs_total:1|c\n"
     ]
    },
    {
     "name": "stdout",
     "output_type": "stream",
     "text": [
      "2022-12-19 00:00:00\n",
      "2023-02-02 17:39:10,673 - botocore.credentials - INFO - Found credentials in shared credentials file: ~/.aws/credentials\n"
     ]
    },
    {
     "name": "stderr",
     "output_type": "stream",
     "text": [
      "DummyStatsClient._send unknown.athena_query_queue_ms:446.000000|ms\n",
      "DummyStatsClient._send unknown.athena_query_execution_ms:3196.000000|ms\n",
      "DummyStatsClient._send unknown.athena_query_scanned_bytes:198612556|c\n",
      "C:\\Users\\karol\\AppData\\Local\\Temp\\ipykernel_57016\\2854884862.py:77: FutureWarning: The frame.append method is deprecated and will be removed from pandas in a future version. Use pandas.concat instead.\n",
      "  df_results = df_results.append(current_result, ignore_index=True)\n",
      "DummyStatsClient._send unknown.athena_query_runs_total:1|c\n"
     ]
    },
    {
     "name": "stdout",
     "output_type": "stream",
     "text": [
      "2022-12-20 00:00:00\n",
      "2023-02-02 17:39:18,610 - botocore.credentials - INFO - Found credentials in shared credentials file: ~/.aws/credentials\n"
     ]
    },
    {
     "name": "stderr",
     "output_type": "stream",
     "text": [
      "DummyStatsClient._send unknown.athena_query_queue_ms:492.000000|ms\n",
      "DummyStatsClient._send unknown.athena_query_execution_ms:3251.000000|ms\n",
      "DummyStatsClient._send unknown.athena_query_scanned_bytes:198612556|c\n",
      "C:\\Users\\karol\\AppData\\Local\\Temp\\ipykernel_57016\\2854884862.py:77: FutureWarning: The frame.append method is deprecated and will be removed from pandas in a future version. Use pandas.concat instead.\n",
      "  df_results = df_results.append(current_result, ignore_index=True)\n",
      "DummyStatsClient._send unknown.athena_query_runs_total:1|c\n"
     ]
    },
    {
     "name": "stdout",
     "output_type": "stream",
     "text": [
      "2022-12-21 00:00:00\n",
      "2023-02-02 17:39:26,666 - botocore.credentials - INFO - Found credentials in shared credentials file: ~/.aws/credentials\n"
     ]
    },
    {
     "name": "stderr",
     "output_type": "stream",
     "text": [
      "DummyStatsClient._send unknown.athena_query_queue_ms:413.000000|ms\n",
      "DummyStatsClient._send unknown.athena_query_execution_ms:3198.000000|ms\n",
      "DummyStatsClient._send unknown.athena_query_scanned_bytes:198612556|c\n",
      "C:\\Users\\karol\\AppData\\Local\\Temp\\ipykernel_57016\\2854884862.py:77: FutureWarning: The frame.append method is deprecated and will be removed from pandas in a future version. Use pandas.concat instead.\n",
      "  df_results = df_results.append(current_result, ignore_index=True)\n",
      "DummyStatsClient._send unknown.athena_query_runs_total:1|c\n"
     ]
    },
    {
     "name": "stdout",
     "output_type": "stream",
     "text": [
      "2022-12-22 00:00:00\n",
      "2023-02-02 17:39:34,644 - botocore.credentials - INFO - Found credentials in shared credentials file: ~/.aws/credentials\n"
     ]
    },
    {
     "name": "stderr",
     "output_type": "stream",
     "text": [
      "DummyStatsClient._send unknown.athena_query_queue_ms:443.000000|ms\n",
      "DummyStatsClient._send unknown.athena_query_execution_ms:3223.000000|ms\n",
      "DummyStatsClient._send unknown.athena_query_scanned_bytes:198612556|c\n",
      "C:\\Users\\karol\\AppData\\Local\\Temp\\ipykernel_57016\\2854884862.py:77: FutureWarning: The frame.append method is deprecated and will be removed from pandas in a future version. Use pandas.concat instead.\n",
      "  df_results = df_results.append(current_result, ignore_index=True)\n",
      "DummyStatsClient._send unknown.athena_query_runs_total:1|c\n"
     ]
    },
    {
     "name": "stdout",
     "output_type": "stream",
     "text": [
      "2022-12-23 00:00:00\n",
      "2023-02-02 17:39:42,653 - botocore.credentials - INFO - Found credentials in shared credentials file: ~/.aws/credentials\n"
     ]
    },
    {
     "name": "stderr",
     "output_type": "stream",
     "text": [
      "DummyStatsClient._send unknown.athena_query_queue_ms:463.000000|ms\n",
      "DummyStatsClient._send unknown.athena_query_execution_ms:3632.000000|ms\n",
      "DummyStatsClient._send unknown.athena_query_scanned_bytes:198612556|c\n",
      "C:\\Users\\karol\\AppData\\Local\\Temp\\ipykernel_57016\\2854884862.py:77: FutureWarning: The frame.append method is deprecated and will be removed from pandas in a future version. Use pandas.concat instead.\n",
      "  df_results = df_results.append(current_result, ignore_index=True)\n",
      "DummyStatsClient._send unknown.athena_query_runs_total:1|c\n"
     ]
    },
    {
     "name": "stdout",
     "output_type": "stream",
     "text": [
      "2022-12-24 00:00:00\n",
      "2023-02-02 17:39:50,049 - botocore.credentials - INFO - Found credentials in shared credentials file: ~/.aws/credentials\n"
     ]
    },
    {
     "name": "stderr",
     "output_type": "stream",
     "text": [
      "DummyStatsClient._send unknown.athena_query_queue_ms:416.000000|ms\n",
      "DummyStatsClient._send unknown.athena_query_execution_ms:2686.000000|ms\n",
      "DummyStatsClient._send unknown.athena_query_scanned_bytes:198612556|c\n",
      "C:\\Users\\karol\\AppData\\Local\\Temp\\ipykernel_57016\\2854884862.py:77: FutureWarning: The frame.append method is deprecated and will be removed from pandas in a future version. Use pandas.concat instead.\n",
      "  df_results = df_results.append(current_result, ignore_index=True)\n",
      "DummyStatsClient._send unknown.athena_query_runs_total:1|c\n"
     ]
    },
    {
     "name": "stdout",
     "output_type": "stream",
     "text": [
      "2022-12-25 00:00:00\n",
      "2023-02-02 17:40:01,567 - botocore.credentials - INFO - Found credentials in shared credentials file: ~/.aws/credentials\n"
     ]
    },
    {
     "name": "stderr",
     "output_type": "stream",
     "text": [
      "DummyStatsClient._send unknown.athena_query_queue_ms:442.000000|ms\n",
      "DummyStatsClient._send unknown.athena_query_execution_ms:6892.000000|ms\n",
      "DummyStatsClient._send unknown.athena_query_scanned_bytes:198612556|c\n",
      "C:\\Users\\karol\\AppData\\Local\\Temp\\ipykernel_57016\\2854884862.py:77: FutureWarning: The frame.append method is deprecated and will be removed from pandas in a future version. Use pandas.concat instead.\n",
      "  df_results = df_results.append(current_result, ignore_index=True)\n",
      "DummyStatsClient._send unknown.athena_query_runs_total:1|c\n"
     ]
    },
    {
     "name": "stdout",
     "output_type": "stream",
     "text": [
      "2022-12-26 00:00:00\n",
      "2023-02-02 17:40:11,263 - botocore.credentials - INFO - Found credentials in shared credentials file: ~/.aws/credentials\n"
     ]
    },
    {
     "name": "stderr",
     "output_type": "stream",
     "text": [
      "DummyStatsClient._send unknown.athena_query_queue_ms:436.000000|ms\n",
      "DummyStatsClient._send unknown.athena_query_execution_ms:4693.000000|ms\n",
      "DummyStatsClient._send unknown.athena_query_scanned_bytes:198612556|c\n",
      "C:\\Users\\karol\\AppData\\Local\\Temp\\ipykernel_57016\\2854884862.py:77: FutureWarning: The frame.append method is deprecated and will be removed from pandas in a future version. Use pandas.concat instead.\n",
      "  df_results = df_results.append(current_result, ignore_index=True)\n",
      "DummyStatsClient._send unknown.athena_query_runs_total:1|c\n"
     ]
    },
    {
     "name": "stdout",
     "output_type": "stream",
     "text": [
      "2022-12-27 00:00:00\n",
      "2023-02-02 17:40:19,392 - botocore.credentials - INFO - Found credentials in shared credentials file: ~/.aws/credentials\n"
     ]
    },
    {
     "name": "stderr",
     "output_type": "stream",
     "text": [
      "DummyStatsClient._send unknown.athena_query_queue_ms:477.000000|ms\n",
      "DummyStatsClient._send unknown.athena_query_execution_ms:3379.000000|ms\n",
      "DummyStatsClient._send unknown.athena_query_scanned_bytes:198612556|c\n",
      "C:\\Users\\karol\\AppData\\Local\\Temp\\ipykernel_57016\\2854884862.py:77: FutureWarning: The frame.append method is deprecated and will be removed from pandas in a future version. Use pandas.concat instead.\n",
      "  df_results = df_results.append(current_result, ignore_index=True)\n",
      "DummyStatsClient._send unknown.athena_query_runs_total:1|c\n"
     ]
    },
    {
     "name": "stdout",
     "output_type": "stream",
     "text": [
      "2022-12-28 00:00:00\n",
      "2023-02-02 17:40:27,450 - botocore.credentials - INFO - Found credentials in shared credentials file: ~/.aws/credentials\n"
     ]
    },
    {
     "name": "stderr",
     "output_type": "stream",
     "text": [
      "DummyStatsClient._send unknown.athena_query_queue_ms:437.000000|ms\n",
      "DummyStatsClient._send unknown.athena_query_execution_ms:3049.000000|ms\n",
      "DummyStatsClient._send unknown.athena_query_scanned_bytes:198612556|c\n",
      "C:\\Users\\karol\\AppData\\Local\\Temp\\ipykernel_57016\\2854884862.py:77: FutureWarning: The frame.append method is deprecated and will be removed from pandas in a future version. Use pandas.concat instead.\n",
      "  df_results = df_results.append(current_result, ignore_index=True)\n",
      "DummyStatsClient._send unknown.athena_query_runs_total:1|c\n"
     ]
    },
    {
     "name": "stdout",
     "output_type": "stream",
     "text": [
      "2022-12-29 00:00:00\n",
      "2023-02-02 17:40:35,620 - botocore.credentials - INFO - Found credentials in shared credentials file: ~/.aws/credentials\n"
     ]
    },
    {
     "name": "stderr",
     "output_type": "stream",
     "text": [
      "DummyStatsClient._send unknown.athena_query_queue_ms:475.000000|ms\n",
      "DummyStatsClient._send unknown.athena_query_execution_ms:3454.000000|ms\n",
      "DummyStatsClient._send unknown.athena_query_scanned_bytes:198612556|c\n",
      "C:\\Users\\karol\\AppData\\Local\\Temp\\ipykernel_57016\\2854884862.py:77: FutureWarning: The frame.append method is deprecated and will be removed from pandas in a future version. Use pandas.concat instead.\n",
      "  df_results = df_results.append(current_result, ignore_index=True)\n",
      "DummyStatsClient._send unknown.athena_query_runs_total:1|c\n"
     ]
    },
    {
     "name": "stdout",
     "output_type": "stream",
     "text": [
      "2022-12-30 00:00:00\n",
      "2023-02-02 17:40:42,969 - botocore.credentials - INFO - Found credentials in shared credentials file: ~/.aws/credentials\n"
     ]
    },
    {
     "name": "stderr",
     "output_type": "stream",
     "text": [
      "DummyStatsClient._send unknown.athena_query_queue_ms:453.000000|ms\n",
      "DummyStatsClient._send unknown.athena_query_execution_ms:2696.000000|ms\n",
      "DummyStatsClient._send unknown.athena_query_scanned_bytes:198612556|c\n",
      "C:\\Users\\karol\\AppData\\Local\\Temp\\ipykernel_57016\\2854884862.py:77: FutureWarning: The frame.append method is deprecated and will be removed from pandas in a future version. Use pandas.concat instead.\n",
      "  df_results = df_results.append(current_result, ignore_index=True)\n",
      "DummyStatsClient._send unknown.athena_query_runs_total:1|c\n"
     ]
    },
    {
     "name": "stdout",
     "output_type": "stream",
     "text": [
      "2022-12-31 00:00:00\n",
      "2023-02-02 17:40:50,121 - botocore.credentials - INFO - Found credentials in shared credentials file: ~/.aws/credentials\n"
     ]
    },
    {
     "name": "stderr",
     "output_type": "stream",
     "text": [
      "DummyStatsClient._send unknown.athena_query_queue_ms:402.000000|ms\n",
      "DummyStatsClient._send unknown.athena_query_execution_ms:2900.000000|ms\n",
      "DummyStatsClient._send unknown.athena_query_scanned_bytes:198612556|c\n",
      "C:\\Users\\karol\\AppData\\Local\\Temp\\ipykernel_57016\\2854884862.py:77: FutureWarning: The frame.append method is deprecated and will be removed from pandas in a future version. Use pandas.concat instead.\n",
      "  df_results = df_results.append(current_result, ignore_index=True)\n",
      "DummyStatsClient._send unknown.athena_query_runs_total:1|c\n"
     ]
    },
    {
     "name": "stdout",
     "output_type": "stream",
     "text": [
      "2023-01-01 00:00:00\n",
      "2023-02-02 17:41:00,720 - botocore.credentials - INFO - Found credentials in shared credentials file: ~/.aws/credentials\n"
     ]
    },
    {
     "name": "stderr",
     "output_type": "stream",
     "text": [
      "DummyStatsClient._send unknown.athena_query_queue_ms:446.000000|ms\n",
      "DummyStatsClient._send unknown.athena_query_execution_ms:5705.000000|ms\n",
      "DummyStatsClient._send unknown.athena_query_scanned_bytes:198612556|c\n",
      "C:\\Users\\karol\\AppData\\Local\\Temp\\ipykernel_57016\\2854884862.py:77: FutureWarning: The frame.append method is deprecated and will be removed from pandas in a future version. Use pandas.concat instead.\n",
      "  df_results = df_results.append(current_result, ignore_index=True)\n",
      "DummyStatsClient._send unknown.athena_query_runs_total:1|c\n"
     ]
    },
    {
     "name": "stdout",
     "output_type": "stream",
     "text": [
      "2023-01-02 00:00:00\n",
      "2023-02-02 17:41:07,944 - botocore.credentials - INFO - Found credentials in shared credentials file: ~/.aws/credentials\n"
     ]
    },
    {
     "name": "stderr",
     "output_type": "stream",
     "text": [
      "DummyStatsClient._send unknown.athena_query_queue_ms:468.000000|ms\n",
      "DummyStatsClient._send unknown.athena_query_execution_ms:2732.000000|ms\n",
      "DummyStatsClient._send unknown.athena_query_scanned_bytes:198612556|c\n",
      "C:\\Users\\karol\\AppData\\Local\\Temp\\ipykernel_57016\\2854884862.py:77: FutureWarning: The frame.append method is deprecated and will be removed from pandas in a future version. Use pandas.concat instead.\n",
      "  df_results = df_results.append(current_result, ignore_index=True)\n",
      "DummyStatsClient._send unknown.athena_query_runs_total:1|c\n"
     ]
    },
    {
     "name": "stdout",
     "output_type": "stream",
     "text": [
      "2023-01-03 00:00:00\n",
      "2023-02-02 17:41:15,105 - botocore.credentials - INFO - Found credentials in shared credentials file: ~/.aws/credentials\n"
     ]
    },
    {
     "name": "stderr",
     "output_type": "stream",
     "text": [
      "DummyStatsClient._send unknown.athena_query_queue_ms:420.000000|ms\n",
      "DummyStatsClient._send unknown.athena_query_execution_ms:2839.000000|ms\n",
      "DummyStatsClient._send unknown.athena_query_scanned_bytes:198612556|c\n",
      "C:\\Users\\karol\\AppData\\Local\\Temp\\ipykernel_57016\\2854884862.py:77: FutureWarning: The frame.append method is deprecated and will be removed from pandas in a future version. Use pandas.concat instead.\n",
      "  df_results = df_results.append(current_result, ignore_index=True)\n",
      "DummyStatsClient._send unknown.athena_query_runs_total:1|c\n"
     ]
    },
    {
     "name": "stdout",
     "output_type": "stream",
     "text": [
      "2023-01-04 00:00:00\n",
      "2023-02-02 17:41:23,895 - botocore.credentials - INFO - Found credentials in shared credentials file: ~/.aws/credentials\n"
     ]
    },
    {
     "name": "stderr",
     "output_type": "stream",
     "text": [
      "DummyStatsClient._send unknown.athena_query_queue_ms:441.000000|ms\n",
      "DummyStatsClient._send unknown.athena_query_execution_ms:4415.000000|ms\n",
      "DummyStatsClient._send unknown.athena_query_scanned_bytes:198612556|c\n",
      "C:\\Users\\karol\\AppData\\Local\\Temp\\ipykernel_57016\\2854884862.py:77: FutureWarning: The frame.append method is deprecated and will be removed from pandas in a future version. Use pandas.concat instead.\n",
      "  df_results = df_results.append(current_result, ignore_index=True)\n",
      "DummyStatsClient._send unknown.athena_query_runs_total:1|c\n"
     ]
    },
    {
     "name": "stdout",
     "output_type": "stream",
     "text": [
      "2023-01-05 00:00:00\n",
      "2023-02-02 17:41:32,085 - botocore.credentials - INFO - Found credentials in shared credentials file: ~/.aws/credentials\n"
     ]
    },
    {
     "name": "stderr",
     "output_type": "stream",
     "text": [
      "DummyStatsClient._send unknown.athena_query_queue_ms:566.000000|ms\n",
      "DummyStatsClient._send unknown.athena_query_execution_ms:3878.000000|ms\n",
      "DummyStatsClient._send unknown.athena_query_scanned_bytes:198612556|c\n",
      "C:\\Users\\karol\\AppData\\Local\\Temp\\ipykernel_57016\\2854884862.py:77: FutureWarning: The frame.append method is deprecated and will be removed from pandas in a future version. Use pandas.concat instead.\n",
      "  df_results = df_results.append(current_result, ignore_index=True)\n",
      "DummyStatsClient._send unknown.athena_query_runs_total:1|c\n"
     ]
    },
    {
     "name": "stdout",
     "output_type": "stream",
     "text": [
      "2023-01-06 00:00:00\n",
      "2023-02-02 17:41:40,148 - botocore.credentials - INFO - Found credentials in shared credentials file: ~/.aws/credentials\n"
     ]
    },
    {
     "name": "stderr",
     "output_type": "stream",
     "text": [
      "DummyStatsClient._send unknown.athena_query_queue_ms:474.000000|ms\n",
      "DummyStatsClient._send unknown.athena_query_execution_ms:3507.000000|ms\n",
      "DummyStatsClient._send unknown.athena_query_scanned_bytes:198612556|c\n",
      "C:\\Users\\karol\\AppData\\Local\\Temp\\ipykernel_57016\\2854884862.py:77: FutureWarning: The frame.append method is deprecated and will be removed from pandas in a future version. Use pandas.concat instead.\n",
      "  df_results = df_results.append(current_result, ignore_index=True)\n",
      "DummyStatsClient._send unknown.athena_query_runs_total:1|c\n"
     ]
    },
    {
     "name": "stdout",
     "output_type": "stream",
     "text": [
      "2023-01-07 00:00:00\n",
      "2023-02-02 17:41:48,148 - botocore.credentials - INFO - Found credentials in shared credentials file: ~/.aws/credentials\n"
     ]
    },
    {
     "name": "stderr",
     "output_type": "stream",
     "text": [
      "DummyStatsClient._send unknown.athena_query_queue_ms:485.000000|ms\n",
      "DummyStatsClient._send unknown.athena_query_execution_ms:3133.000000|ms\n",
      "DummyStatsClient._send unknown.athena_query_scanned_bytes:198612556|c\n",
      "C:\\Users\\karol\\AppData\\Local\\Temp\\ipykernel_57016\\2854884862.py:77: FutureWarning: The frame.append method is deprecated and will be removed from pandas in a future version. Use pandas.concat instead.\n",
      "  df_results = df_results.append(current_result, ignore_index=True)\n",
      "DummyStatsClient._send unknown.athena_query_runs_total:1|c\n"
     ]
    },
    {
     "name": "stdout",
     "output_type": "stream",
     "text": [
      "2023-01-08 00:00:00\n",
      "2023-02-02 17:41:56,377 - botocore.credentials - INFO - Found credentials in shared credentials file: ~/.aws/credentials\n"
     ]
    },
    {
     "name": "stderr",
     "output_type": "stream",
     "text": [
      "DummyStatsClient._send unknown.athena_query_queue_ms:528.000000|ms\n",
      "DummyStatsClient._send unknown.athena_query_execution_ms:3362.000000|ms\n",
      "DummyStatsClient._send unknown.athena_query_scanned_bytes:198612556|c\n",
      "C:\\Users\\karol\\AppData\\Local\\Temp\\ipykernel_57016\\2854884862.py:77: FutureWarning: The frame.append method is deprecated and will be removed from pandas in a future version. Use pandas.concat instead.\n",
      "  df_results = df_results.append(current_result, ignore_index=True)\n",
      "DummyStatsClient._send unknown.athena_query_runs_total:1|c\n"
     ]
    },
    {
     "name": "stdout",
     "output_type": "stream",
     "text": [
      "2023-01-09 00:00:00\n",
      "2023-02-02 17:42:05,304 - botocore.credentials - INFO - Found credentials in shared credentials file: ~/.aws/credentials\n"
     ]
    },
    {
     "name": "stderr",
     "output_type": "stream",
     "text": [
      "DummyStatsClient._send unknown.athena_query_queue_ms:495.000000|ms\n",
      "DummyStatsClient._send unknown.athena_query_execution_ms:4335.000000|ms\n",
      "DummyStatsClient._send unknown.athena_query_scanned_bytes:198612556|c\n",
      "C:\\Users\\karol\\AppData\\Local\\Temp\\ipykernel_57016\\2854884862.py:77: FutureWarning: The frame.append method is deprecated and will be removed from pandas in a future version. Use pandas.concat instead.\n",
      "  df_results = df_results.append(current_result, ignore_index=True)\n",
      "DummyStatsClient._send unknown.athena_query_runs_total:1|c\n"
     ]
    },
    {
     "name": "stdout",
     "output_type": "stream",
     "text": [
      "2023-01-10 00:00:00\n",
      "2023-02-02 17:42:13,268 - botocore.credentials - INFO - Found credentials in shared credentials file: ~/.aws/credentials\n"
     ]
    },
    {
     "name": "stderr",
     "output_type": "stream",
     "text": [
      "DummyStatsClient._send unknown.athena_query_queue_ms:484.000000|ms\n",
      "DummyStatsClient._send unknown.athena_query_execution_ms:3338.000000|ms\n",
      "DummyStatsClient._send unknown.athena_query_scanned_bytes:198612556|c\n",
      "C:\\Users\\karol\\AppData\\Local\\Temp\\ipykernel_57016\\2854884862.py:77: FutureWarning: The frame.append method is deprecated and will be removed from pandas in a future version. Use pandas.concat instead.\n",
      "  df_results = df_results.append(current_result, ignore_index=True)\n",
      "DummyStatsClient._send unknown.athena_query_runs_total:1|c\n"
     ]
    },
    {
     "name": "stdout",
     "output_type": "stream",
     "text": [
      "2023-01-11 00:00:00\n",
      "2023-02-02 17:42:21,432 - botocore.credentials - INFO - Found credentials in shared credentials file: ~/.aws/credentials\n"
     ]
    },
    {
     "name": "stderr",
     "output_type": "stream",
     "text": [
      "DummyStatsClient._send unknown.athena_query_queue_ms:456.000000|ms\n",
      "DummyStatsClient._send unknown.athena_query_execution_ms:3206.000000|ms\n",
      "DummyStatsClient._send unknown.athena_query_scanned_bytes:198612556|c\n",
      "C:\\Users\\karol\\AppData\\Local\\Temp\\ipykernel_57016\\2854884862.py:77: FutureWarning: The frame.append method is deprecated and will be removed from pandas in a future version. Use pandas.concat instead.\n",
      "  df_results = df_results.append(current_result, ignore_index=True)\n",
      "DummyStatsClient._send unknown.athena_query_runs_total:1|c\n"
     ]
    },
    {
     "name": "stdout",
     "output_type": "stream",
     "text": [
      "2023-01-12 00:00:00\n",
      "2023-02-02 17:42:30,149 - botocore.credentials - INFO - Found credentials in shared credentials file: ~/.aws/credentials\n"
     ]
    },
    {
     "name": "stderr",
     "output_type": "stream",
     "text": [
      "DummyStatsClient._send unknown.athena_query_queue_ms:473.000000|ms\n",
      "DummyStatsClient._send unknown.athena_query_execution_ms:4090.000000|ms\n",
      "DummyStatsClient._send unknown.athena_query_scanned_bytes:198612556|c\n",
      "C:\\Users\\karol\\AppData\\Local\\Temp\\ipykernel_57016\\2854884862.py:77: FutureWarning: The frame.append method is deprecated and will be removed from pandas in a future version. Use pandas.concat instead.\n",
      "  df_results = df_results.append(current_result, ignore_index=True)\n",
      "DummyStatsClient._send unknown.athena_query_runs_total:1|c\n"
     ]
    },
    {
     "name": "stdout",
     "output_type": "stream",
     "text": [
      "2023-01-13 00:00:00\n",
      "2023-02-02 17:42:38,047 - botocore.credentials - INFO - Found credentials in shared credentials file: ~/.aws/credentials\n"
     ]
    },
    {
     "name": "stderr",
     "output_type": "stream",
     "text": [
      "DummyStatsClient._send unknown.athena_query_queue_ms:426.000000|ms\n",
      "DummyStatsClient._send unknown.athena_query_execution_ms:3668.000000|ms\n",
      "DummyStatsClient._send unknown.athena_query_scanned_bytes:198612556|c\n",
      "C:\\Users\\karol\\AppData\\Local\\Temp\\ipykernel_57016\\2854884862.py:77: FutureWarning: The frame.append method is deprecated and will be removed from pandas in a future version. Use pandas.concat instead.\n",
      "  df_results = df_results.append(current_result, ignore_index=True)\n",
      "DummyStatsClient._send unknown.athena_query_runs_total:1|c\n"
     ]
    },
    {
     "name": "stdout",
     "output_type": "stream",
     "text": [
      "2023-01-14 00:00:00\n",
      "2023-02-02 17:42:47,672 - botocore.credentials - INFO - Found credentials in shared credentials file: ~/.aws/credentials\n"
     ]
    },
    {
     "name": "stderr",
     "output_type": "stream",
     "text": [
      "DummyStatsClient._send unknown.athena_query_queue_ms:624.000000|ms\n",
      "DummyStatsClient._send unknown.athena_query_execution_ms:4734.000000|ms\n",
      "DummyStatsClient._send unknown.athena_query_scanned_bytes:198612556|c\n",
      "C:\\Users\\karol\\AppData\\Local\\Temp\\ipykernel_57016\\2854884862.py:77: FutureWarning: The frame.append method is deprecated and will be removed from pandas in a future version. Use pandas.concat instead.\n",
      "  df_results = df_results.append(current_result, ignore_index=True)\n",
      "DummyStatsClient._send unknown.athena_query_runs_total:1|c\n"
     ]
    },
    {
     "name": "stdout",
     "output_type": "stream",
     "text": [
      "2023-01-15 00:00:00\n",
      "2023-02-02 17:42:56,472 - botocore.credentials - INFO - Found credentials in shared credentials file: ~/.aws/credentials\n"
     ]
    },
    {
     "name": "stderr",
     "output_type": "stream",
     "text": [
      "DummyStatsClient._send unknown.athena_query_queue_ms:530.000000|ms\n",
      "DummyStatsClient._send unknown.athena_query_execution_ms:4036.000000|ms\n",
      "DummyStatsClient._send unknown.athena_query_scanned_bytes:198612556|c\n",
      "C:\\Users\\karol\\AppData\\Local\\Temp\\ipykernel_57016\\2854884862.py:77: FutureWarning: The frame.append method is deprecated and will be removed from pandas in a future version. Use pandas.concat instead.\n",
      "  df_results = df_results.append(current_result, ignore_index=True)\n",
      "DummyStatsClient._send unknown.athena_query_runs_total:1|c\n"
     ]
    },
    {
     "name": "stdout",
     "output_type": "stream",
     "text": [
      "2023-01-16 00:00:00\n",
      "2023-02-02 17:43:05,197 - botocore.credentials - INFO - Found credentials in shared credentials file: ~/.aws/credentials\n"
     ]
    },
    {
     "name": "stderr",
     "output_type": "stream",
     "text": [
      "DummyStatsClient._send unknown.athena_query_queue_ms:445.000000|ms\n",
      "DummyStatsClient._send unknown.athena_query_execution_ms:4034.000000|ms\n",
      "DummyStatsClient._send unknown.athena_query_scanned_bytes:198612556|c\n",
      "C:\\Users\\karol\\AppData\\Local\\Temp\\ipykernel_57016\\2854884862.py:77: FutureWarning: The frame.append method is deprecated and will be removed from pandas in a future version. Use pandas.concat instead.\n",
      "  df_results = df_results.append(current_result, ignore_index=True)\n",
      "DummyStatsClient._send unknown.athena_query_runs_total:1|c\n"
     ]
    },
    {
     "name": "stdout",
     "output_type": "stream",
     "text": [
      "2023-01-17 00:00:00\n",
      "2023-02-02 17:43:14,253 - botocore.credentials - INFO - Found credentials in shared credentials file: ~/.aws/credentials\n"
     ]
    },
    {
     "name": "stderr",
     "output_type": "stream",
     "text": [
      "DummyStatsClient._send unknown.athena_query_queue_ms:495.000000|ms\n",
      "DummyStatsClient._send unknown.athena_query_execution_ms:4383.000000|ms\n",
      "DummyStatsClient._send unknown.athena_query_scanned_bytes:198612556|c\n",
      "C:\\Users\\karol\\AppData\\Local\\Temp\\ipykernel_57016\\2854884862.py:77: FutureWarning: The frame.append method is deprecated and will be removed from pandas in a future version. Use pandas.concat instead.\n",
      "  df_results = df_results.append(current_result, ignore_index=True)\n",
      "DummyStatsClient._send unknown.athena_query_runs_total:1|c\n"
     ]
    },
    {
     "name": "stdout",
     "output_type": "stream",
     "text": [
      "2023-01-18 00:00:00\n",
      "2023-02-02 17:43:23,004 - botocore.credentials - INFO - Found credentials in shared credentials file: ~/.aws/credentials\n"
     ]
    },
    {
     "name": "stderr",
     "output_type": "stream",
     "text": [
      "DummyStatsClient._send unknown.athena_query_queue_ms:431.000000|ms\n",
      "DummyStatsClient._send unknown.athena_query_execution_ms:3761.000000|ms\n",
      "DummyStatsClient._send unknown.athena_query_scanned_bytes:198612556|c\n",
      "C:\\Users\\karol\\AppData\\Local\\Temp\\ipykernel_57016\\2854884862.py:77: FutureWarning: The frame.append method is deprecated and will be removed from pandas in a future version. Use pandas.concat instead.\n",
      "  df_results = df_results.append(current_result, ignore_index=True)\n",
      "DummyStatsClient._send unknown.athena_query_runs_total:1|c\n"
     ]
    },
    {
     "name": "stdout",
     "output_type": "stream",
     "text": [
      "2023-01-19 00:00:00\n",
      "2023-02-02 17:43:31,840 - botocore.credentials - INFO - Found credentials in shared credentials file: ~/.aws/credentials\n"
     ]
    },
    {
     "name": "stderr",
     "output_type": "stream",
     "text": [
      "DummyStatsClient._send unknown.athena_query_queue_ms:633.000000|ms\n",
      "DummyStatsClient._send unknown.athena_query_execution_ms:3907.000000|ms\n",
      "DummyStatsClient._send unknown.athena_query_scanned_bytes:198612556|c\n",
      "C:\\Users\\karol\\AppData\\Local\\Temp\\ipykernel_57016\\2854884862.py:77: FutureWarning: The frame.append method is deprecated and will be removed from pandas in a future version. Use pandas.concat instead.\n",
      "  df_results = df_results.append(current_result, ignore_index=True)\n",
      "DummyStatsClient._send unknown.athena_query_runs_total:1|c\n"
     ]
    },
    {
     "name": "stdout",
     "output_type": "stream",
     "text": [
      "2023-01-20 00:00:00\n",
      "2023-02-02 17:43:39,790 - botocore.credentials - INFO - Found credentials in shared credentials file: ~/.aws/credentials\n"
     ]
    },
    {
     "name": "stderr",
     "output_type": "stream",
     "text": [
      "DummyStatsClient._send unknown.athena_query_queue_ms:445.000000|ms\n",
      "DummyStatsClient._send unknown.athena_query_execution_ms:3712.000000|ms\n",
      "DummyStatsClient._send unknown.athena_query_scanned_bytes:198612556|c\n",
      "C:\\Users\\karol\\AppData\\Local\\Temp\\ipykernel_57016\\2854884862.py:77: FutureWarning: The frame.append method is deprecated and will be removed from pandas in a future version. Use pandas.concat instead.\n",
      "  df_results = df_results.append(current_result, ignore_index=True)\n",
      "DummyStatsClient._send unknown.athena_query_runs_total:1|c\n"
     ]
    },
    {
     "name": "stdout",
     "output_type": "stream",
     "text": [
      "2023-01-21 00:00:00\n",
      "2023-02-02 17:43:47,820 - botocore.credentials - INFO - Found credentials in shared credentials file: ~/.aws/credentials\n"
     ]
    },
    {
     "name": "stderr",
     "output_type": "stream",
     "text": [
      "DummyStatsClient._send unknown.athena_query_queue_ms:443.000000|ms\n",
      "DummyStatsClient._send unknown.athena_query_execution_ms:3712.000000|ms\n",
      "DummyStatsClient._send unknown.athena_query_scanned_bytes:198612556|c\n",
      "C:\\Users\\karol\\AppData\\Local\\Temp\\ipykernel_57016\\2854884862.py:77: FutureWarning: The frame.append method is deprecated and will be removed from pandas in a future version. Use pandas.concat instead.\n",
      "  df_results = df_results.append(current_result, ignore_index=True)\n",
      "DummyStatsClient._send unknown.athena_query_runs_total:1|c\n"
     ]
    },
    {
     "name": "stdout",
     "output_type": "stream",
     "text": [
      "2023-01-22 00:00:00\n",
      "2023-02-02 17:43:58,368 - botocore.credentials - INFO - Found credentials in shared credentials file: ~/.aws/credentials\n"
     ]
    },
    {
     "name": "stderr",
     "output_type": "stream",
     "text": [
      "DummyStatsClient._send unknown.athena_query_queue_ms:629.000000|ms\n",
      "DummyStatsClient._send unknown.athena_query_execution_ms:5376.000000|ms\n",
      "DummyStatsClient._send unknown.athena_query_scanned_bytes:198612556|c\n",
      "C:\\Users\\karol\\AppData\\Local\\Temp\\ipykernel_57016\\2854884862.py:77: FutureWarning: The frame.append method is deprecated and will be removed from pandas in a future version. Use pandas.concat instead.\n",
      "  df_results = df_results.append(current_result, ignore_index=True)\n",
      "DummyStatsClient._send unknown.athena_query_runs_total:1|c\n"
     ]
    },
    {
     "name": "stdout",
     "output_type": "stream",
     "text": [
      "2023-01-23 00:00:00\n",
      "2023-02-02 17:44:07,113 - botocore.credentials - INFO - Found credentials in shared credentials file: ~/.aws/credentials\n"
     ]
    },
    {
     "name": "stderr",
     "output_type": "stream",
     "text": [
      "DummyStatsClient._send unknown.athena_query_queue_ms:467.000000|ms\n",
      "DummyStatsClient._send unknown.athena_query_execution_ms:4406.000000|ms\n",
      "DummyStatsClient._send unknown.athena_query_scanned_bytes:198612556|c\n",
      "C:\\Users\\karol\\AppData\\Local\\Temp\\ipykernel_57016\\2854884862.py:77: FutureWarning: The frame.append method is deprecated and will be removed from pandas in a future version. Use pandas.concat instead.\n",
      "  df_results = df_results.append(current_result, ignore_index=True)\n",
      "DummyStatsClient._send unknown.athena_query_runs_total:1|c\n"
     ]
    },
    {
     "name": "stdout",
     "output_type": "stream",
     "text": [
      "2023-01-24 00:00:00\n",
      "2023-02-02 17:44:15,117 - botocore.credentials - INFO - Found credentials in shared credentials file: ~/.aws/credentials\n"
     ]
    },
    {
     "name": "stderr",
     "output_type": "stream",
     "text": [
      "DummyStatsClient._send unknown.athena_query_queue_ms:450.000000|ms\n",
      "DummyStatsClient._send unknown.athena_query_execution_ms:3276.000000|ms\n",
      "DummyStatsClient._send unknown.athena_query_scanned_bytes:198612556|c\n",
      "C:\\Users\\karol\\AppData\\Local\\Temp\\ipykernel_57016\\2854884862.py:77: FutureWarning: The frame.append method is deprecated and will be removed from pandas in a future version. Use pandas.concat instead.\n",
      "  df_results = df_results.append(current_result, ignore_index=True)\n",
      "DummyStatsClient._send unknown.athena_query_runs_total:1|c\n"
     ]
    },
    {
     "name": "stdout",
     "output_type": "stream",
     "text": [
      "2023-01-25 00:00:00\n",
      "2023-02-02 17:44:22,596 - botocore.credentials - INFO - Found credentials in shared credentials file: ~/.aws/credentials\n"
     ]
    },
    {
     "name": "stderr",
     "output_type": "stream",
     "text": [
      "DummyStatsClient._send unknown.athena_query_queue_ms:447.000000|ms\n",
      "DummyStatsClient._send unknown.athena_query_execution_ms:3040.000000|ms\n",
      "DummyStatsClient._send unknown.athena_query_scanned_bytes:198612556|c\n",
      "C:\\Users\\karol\\AppData\\Local\\Temp\\ipykernel_57016\\2854884862.py:77: FutureWarning: The frame.append method is deprecated and will be removed from pandas in a future version. Use pandas.concat instead.\n",
      "  df_results = df_results.append(current_result, ignore_index=True)\n",
      "DummyStatsClient._send unknown.athena_query_runs_total:1|c\n"
     ]
    },
    {
     "name": "stdout",
     "output_type": "stream",
     "text": [
      "2023-01-26 00:00:00\n",
      "2023-02-02 17:44:30,597 - botocore.credentials - INFO - Found credentials in shared credentials file: ~/.aws/credentials\n"
     ]
    },
    {
     "name": "stderr",
     "output_type": "stream",
     "text": [
      "DummyStatsClient._send unknown.athena_query_queue_ms:449.000000|ms\n",
      "DummyStatsClient._send unknown.athena_query_execution_ms:3154.000000|ms\n",
      "DummyStatsClient._send unknown.athena_query_scanned_bytes:198612556|c\n",
      "C:\\Users\\karol\\AppData\\Local\\Temp\\ipykernel_57016\\2854884862.py:77: FutureWarning: The frame.append method is deprecated and will be removed from pandas in a future version. Use pandas.concat instead.\n",
      "  df_results = df_results.append(current_result, ignore_index=True)\n",
      "DummyStatsClient._send unknown.athena_query_runs_total:1|c\n"
     ]
    },
    {
     "name": "stdout",
     "output_type": "stream",
     "text": [
      "2023-01-27 00:00:00\n",
      "2023-02-02 17:44:37,738 - botocore.credentials - INFO - Found credentials in shared credentials file: ~/.aws/credentials\n"
     ]
    },
    {
     "name": "stderr",
     "output_type": "stream",
     "text": [
      "DummyStatsClient._send unknown.athena_query_queue_ms:401.000000|ms\n",
      "DummyStatsClient._send unknown.athena_query_execution_ms:2670.000000|ms\n",
      "DummyStatsClient._send unknown.athena_query_scanned_bytes:198612556|c\n",
      "C:\\Users\\karol\\AppData\\Local\\Temp\\ipykernel_57016\\2854884862.py:77: FutureWarning: The frame.append method is deprecated and will be removed from pandas in a future version. Use pandas.concat instead.\n",
      "  df_results = df_results.append(current_result, ignore_index=True)\n",
      "DummyStatsClient._send unknown.athena_query_runs_total:1|c\n"
     ]
    },
    {
     "name": "stdout",
     "output_type": "stream",
     "text": [
      "2023-01-28 00:00:00\n",
      "2023-02-02 17:44:45,004 - botocore.credentials - INFO - Found credentials in shared credentials file: ~/.aws/credentials\n"
     ]
    },
    {
     "name": "stderr",
     "output_type": "stream",
     "text": [
      "DummyStatsClient._send unknown.athena_query_queue_ms:412.000000|ms\n",
      "DummyStatsClient._send unknown.athena_query_execution_ms:2828.000000|ms\n",
      "DummyStatsClient._send unknown.athena_query_scanned_bytes:198612556|c\n",
      "C:\\Users\\karol\\AppData\\Local\\Temp\\ipykernel_57016\\2854884862.py:77: FutureWarning: The frame.append method is deprecated and will be removed from pandas in a future version. Use pandas.concat instead.\n",
      "  df_results = df_results.append(current_result, ignore_index=True)\n",
      "DummyStatsClient._send unknown.athena_query_runs_total:1|c\n"
     ]
    },
    {
     "name": "stdout",
     "output_type": "stream",
     "text": [
      "2023-01-29 00:00:00\n",
      "2023-02-02 17:44:53,027 - botocore.credentials - INFO - Found credentials in shared credentials file: ~/.aws/credentials\n"
     ]
    },
    {
     "name": "stderr",
     "output_type": "stream",
     "text": [
      "DummyStatsClient._send unknown.athena_query_queue_ms:427.000000|ms\n",
      "DummyStatsClient._send unknown.athena_query_execution_ms:3110.000000|ms\n",
      "DummyStatsClient._send unknown.athena_query_scanned_bytes:198612556|c\n",
      "C:\\Users\\karol\\AppData\\Local\\Temp\\ipykernel_57016\\2854884862.py:77: FutureWarning: The frame.append method is deprecated and will be removed from pandas in a future version. Use pandas.concat instead.\n",
      "  df_results = df_results.append(current_result, ignore_index=True)\n",
      "DummyStatsClient._send unknown.athena_query_runs_total:1|c\n"
     ]
    },
    {
     "name": "stdout",
     "output_type": "stream",
     "text": [
      "2023-01-30 00:00:00\n",
      "2023-02-02 17:45:01,730 - botocore.credentials - INFO - Found credentials in shared credentials file: ~/.aws/credentials\n"
     ]
    },
    {
     "name": "stderr",
     "output_type": "stream",
     "text": [
      "DummyStatsClient._send unknown.athena_query_queue_ms:568.000000|ms\n",
      "DummyStatsClient._send unknown.athena_query_execution_ms:4140.000000|ms\n",
      "DummyStatsClient._send unknown.athena_query_scanned_bytes:198612556|c\n",
      "C:\\Users\\karol\\AppData\\Local\\Temp\\ipykernel_57016\\2854884862.py:77: FutureWarning: The frame.append method is deprecated and will be removed from pandas in a future version. Use pandas.concat instead.\n",
      "  df_results = df_results.append(current_result, ignore_index=True)\n",
      "DummyStatsClient._send unknown.athena_query_runs_total:1|c\n",
      "DummyStatsClient._send unknown.athena_query_queue_ms:457.000000|ms\n",
      "DummyStatsClient._send unknown.athena_query_execution_ms:3768.000000|ms\n",
      "DummyStatsClient._send unknown.athena_query_scanned_bytes:198612556|c\n",
      "C:\\Users\\karol\\AppData\\Local\\Temp\\ipykernel_57016\\2854884862.py:77: FutureWarning: The frame.append method is deprecated and will be removed from pandas in a future version. Use pandas.concat instead.\n",
      "  df_results = df_results.append(current_result, ignore_index=True)\n"
     ]
    }
   ],
   "source": [
    "start_date = datetime(2022,11,17)\n",
    "end_date = datetime(2023,1,31)\n",
    "\n",
    "\n",
    "#meta_date = meta_date_datetime.strftime(\"'%Y-%m-%d'\")\n",
    "min_first_login_date = '\\'2022-11-17\\''\n",
    "max_first_login_date = '\\'2023-01-31\\''\n",
    "company_id = 'tilting_point_mjs4k'\n",
    "project_id = 'spongebob_x7d9q'\n",
    "personalized = True\n",
    "winsorized = True\n",
    "datapoint_type = \"one_datapoint_per_user_per_meta_date\"\n",
    "n_days_spend = 7\n",
    "variant_name_1 = 'P'\n",
    "variant_name_2 = 'C'\n",
    "a_prior_beta_1 = 1\n",
    "a_prior_beta_2 = 1\n",
    "b_prior_beta_1 = 1\n",
    "b_prior_beta_2 = 1\n",
    "m_prior_1 = 2\n",
    "m_prior_2 = 2\n",
    "a_prior_ig_1 = 0\n",
    "a_prior_ig_2 = 0\n",
    "b_prior_ig_1 = 0\n",
    "b_prior_ig_2 = 0\n",
    "w_prior_1 = 10\n",
    "w_prior_2 = 10\n",
    "df_results = pd.DataFrame(columns = [\"meta_date\", \"inputs\", \"a_post_beta_variant_1\", \"a_post_beta_variant_2\", \"b_post_beta_variant_1\", \"b_post_beta_variant_2\", \"m_post_variant_1\", \"m_post_variant_2\", \"a_post_ig_variant_1\", \"a_post_ig_variant_2\",\n",
    "        \"b_post_ig_variant_1\", \"b_post_ig_variant_2\", \"w_post_variant_1\", \"w_post_variant_2\", \"results\"])\n",
    "\n",
    "\n",
    "list_of_days = [start_date + timedelta(i) for i in range((end_date - start_date).days)]\n",
    "\n",
    "\n",
    "\n",
    "for day in list_of_days:\n",
    "    print(day)\n",
    "    meta_date = day.strftime(\"'%Y-%m-%d'\")\n",
    "    results = run_ab_testing(meta_date, company_id, project_id, personalized, winsorized, datapoint_type,\n",
    "        min_first_login_date,\n",
    "        max_first_login_date,\n",
    "        n_days_spend,\n",
    "        variant_name_1,\n",
    "        variant_name_2,\n",
    "        a_prior_beta_1,\n",
    "        a_prior_beta_2,\n",
    "        b_prior_beta_1,\n",
    "        b_prior_beta_2,\n",
    "        m_prior_1,\n",
    "        m_prior_2,\n",
    "        a_prior_ig_1,\n",
    "        a_prior_ig_2,\n",
    "        b_prior_ig_1,\n",
    "        b_prior_ig_2,\n",
    "        w_prior_1,\n",
    "        w_prior_2)\n",
    "    #pdb.set_trace()\n",
    "\n",
    "    a_prior_beta_1 = results[\"a_post_beta_variant_1\"]\n",
    "    a_prior_beta_2 = results[\"a_post_beta_variant_2\"]\n",
    "    b_prior_beta_1 = results[\"b_post_beta_variant_1\"]\n",
    "    b_prior_beta_2 = results[\"b_post_beta_variant_2\"]\n",
    "    m_prior_1 = results[\"m_post_variant_1\"]\n",
    "    m_prior_2 = results[\"m_post_variant_2\"]\n",
    "    a_prior_ig_1 = results[\"a_post_ig_variant_1\"]\n",
    "    a_prior_ig_2 = results[\"a_post_ig_variant_2\"]\n",
    "    b_prior_ig_1 = results[\"b_post_ig_variant_1\"]\n",
    "    b_prior_ig_2 = results[\"b_post_ig_variant_2\"]\n",
    "    w_prior_1 = results[\"w_post_variant_1\"]\n",
    "    w_prior_2 = results[\"w_post_variant_2\"]\n",
    "\n",
    "\n",
    "    current_result = {\"meta_date\": day, \"inputs\": results[\"inputs\"], \"a_post_beta_variant_1\": a_prior_beta_1, \"a_post_beta_variant_2\": a_prior_beta_2, \"b_post_beta_variant_1\": b_prior_beta_1, \"b_post_beta_variant_2\": b_prior_beta_2, \n",
    "                                \"m_post_variant_1\": m_prior_1, \"m_post_variant_2\": m_prior_2, \"a_post_ig_variant_1\": a_prior_ig_1, \"a_post_ig_variant_2\": a_prior_ig_2, \"b_post_ig_variant_1\": b_prior_ig_1, \"b_post_ig_variant_2\": b_prior_ig_2, \n",
    "                                \"w_post_variant_1\": w_prior_1, \"w_post_variant_2\": w_prior_2, \"results\": results['results']}\n",
    "\n",
    "    df_results = df_results.append(current_result, ignore_index=True)\n",
    "\n",
    "    #pdb.set_trace()\n"
   ]
  },
  {
   "cell_type": "code",
   "execution_count": 25,
   "metadata": {},
   "outputs": [
    {
     "name": "stdout",
     "output_type": "stream",
     "text": [
      "2022-09-22 00:00:00\n",
      "2023-02-02 18:03:06,620 - botocore.credentials - INFO - Found credentials in shared credentials file: ~/.aws/credentials\n"
     ]
    },
    {
     "name": "stderr",
     "output_type": "stream",
     "text": [
      "DummyStatsClient._send unknown.athena_query_runs_total:1|c\n"
     ]
    },
    {
     "name": "stdout",
     "output_type": "stream",
     "text": [
      "2022-09-23 00:00:00\n",
      "2023-02-02 18:03:16,996 - botocore.credentials - INFO - Found credentials in shared credentials file: ~/.aws/credentials\n"
     ]
    },
    {
     "name": "stderr",
     "output_type": "stream",
     "text": [
      "DummyStatsClient._send unknown.athena_query_queue_ms:889.000000|ms\n",
      "DummyStatsClient._send unknown.athena_query_execution_ms:6134.000000|ms\n",
      "DummyStatsClient._send unknown.athena_query_scanned_bytes:705824240|c\n",
      "C:\\Users\\karol\\AppData\\Local\\Temp\\ipykernel_57016\\2799556401.py:77: FutureWarning: The frame.append method is deprecated and will be removed from pandas in a future version. Use pandas.concat instead.\n",
      "  df_results = df_results.append(current_result, ignore_index=True)\n",
      "DummyStatsClient._send unknown.athena_query_runs_total:1|c\n"
     ]
    },
    {
     "name": "stdout",
     "output_type": "stream",
     "text": [
      "2022-09-24 00:00:00\n",
      "2023-02-02 18:03:27,379 - botocore.credentials - INFO - Found credentials in shared credentials file: ~/.aws/credentials\n"
     ]
    },
    {
     "name": "stderr",
     "output_type": "stream",
     "text": [
      "DummyStatsClient._send unknown.athena_query_queue_ms:632.000000|ms\n",
      "DummyStatsClient._send unknown.athena_query_execution_ms:5481.000000|ms\n",
      "DummyStatsClient._send unknown.athena_query_scanned_bytes:723799729|c\n",
      "C:\\Users\\karol\\AppData\\Local\\Temp\\ipykernel_57016\\2799556401.py:77: FutureWarning: The frame.append method is deprecated and will be removed from pandas in a future version. Use pandas.concat instead.\n",
      "  df_results = df_results.append(current_result, ignore_index=True)\n",
      "DummyStatsClient._send unknown.athena_query_runs_total:1|c\n"
     ]
    },
    {
     "name": "stdout",
     "output_type": "stream",
     "text": [
      "2022-09-25 00:00:00\n",
      "2023-02-02 18:03:37,659 - botocore.credentials - INFO - Found credentials in shared credentials file: ~/.aws/credentials\n"
     ]
    },
    {
     "name": "stderr",
     "output_type": "stream",
     "text": [
      "DummyStatsClient._send unknown.athena_query_queue_ms:473.000000|ms\n",
      "DummyStatsClient._send unknown.athena_query_execution_ms:4384.000000|ms\n",
      "DummyStatsClient._send unknown.athena_query_scanned_bytes:684009294|c\n",
      "C:\\Users\\karol\\AppData\\Local\\Temp\\ipykernel_57016\\2799556401.py:77: FutureWarning: The frame.append method is deprecated and will be removed from pandas in a future version. Use pandas.concat instead.\n",
      "  df_results = df_results.append(current_result, ignore_index=True)\n",
      "DummyStatsClient._send unknown.athena_query_runs_total:1|c\n"
     ]
    },
    {
     "name": "stdout",
     "output_type": "stream",
     "text": [
      "2022-09-26 00:00:00\n",
      "2023-02-02 18:03:46,500 - botocore.credentials - INFO - Found credentials in shared credentials file: ~/.aws/credentials\n"
     ]
    },
    {
     "name": "stderr",
     "output_type": "stream",
     "text": [
      "DummyStatsClient._send unknown.athena_query_queue_ms:445.000000|ms\n",
      "DummyStatsClient._send unknown.athena_query_execution_ms:4385.000000|ms\n",
      "DummyStatsClient._send unknown.athena_query_scanned_bytes:723799096|c\n",
      "C:\\Users\\karol\\AppData\\Local\\Temp\\ipykernel_57016\\2799556401.py:77: FutureWarning: The frame.append method is deprecated and will be removed from pandas in a future version. Use pandas.concat instead.\n",
      "  df_results = df_results.append(current_result, ignore_index=True)\n",
      "DummyStatsClient._send unknown.athena_query_runs_total:1|c\n"
     ]
    },
    {
     "name": "stdout",
     "output_type": "stream",
     "text": [
      "2022-09-27 00:00:00\n",
      "2023-02-02 18:03:57,020 - botocore.credentials - INFO - Found credentials in shared credentials file: ~/.aws/credentials\n"
     ]
    },
    {
     "name": "stderr",
     "output_type": "stream",
     "text": [
      "DummyStatsClient._send unknown.athena_query_queue_ms:567.000000|ms\n",
      "DummyStatsClient._send unknown.athena_query_execution_ms:5428.000000|ms\n",
      "DummyStatsClient._send unknown.athena_query_scanned_bytes:723706463|c\n",
      "C:\\Users\\karol\\AppData\\Local\\Temp\\ipykernel_57016\\2799556401.py:77: FutureWarning: The frame.append method is deprecated and will be removed from pandas in a future version. Use pandas.concat instead.\n",
      "  df_results = df_results.append(current_result, ignore_index=True)\n",
      "DummyStatsClient._send unknown.athena_query_runs_total:1|c\n"
     ]
    },
    {
     "name": "stdout",
     "output_type": "stream",
     "text": [
      "2022-09-28 00:00:00\n",
      "2023-02-02 18:04:05,782 - botocore.credentials - INFO - Found credentials in shared credentials file: ~/.aws/credentials\n"
     ]
    },
    {
     "name": "stderr",
     "output_type": "stream",
     "text": [
      "DummyStatsClient._send unknown.athena_query_queue_ms:451.000000|ms\n",
      "DummyStatsClient._send unknown.athena_query_execution_ms:3960.000000|ms\n",
      "DummyStatsClient._send unknown.athena_query_scanned_bytes:702229598|c\n",
      "C:\\Users\\karol\\AppData\\Local\\Temp\\ipykernel_57016\\2799556401.py:77: FutureWarning: The frame.append method is deprecated and will be removed from pandas in a future version. Use pandas.concat instead.\n",
      "  df_results = df_results.append(current_result, ignore_index=True)\n",
      "DummyStatsClient._send unknown.athena_query_runs_total:1|c\n"
     ]
    },
    {
     "name": "stdout",
     "output_type": "stream",
     "text": [
      "2022-09-29 00:00:00\n",
      "2023-02-02 18:04:15,459 - botocore.credentials - INFO - Found credentials in shared credentials file: ~/.aws/credentials\n"
     ]
    },
    {
     "name": "stderr",
     "output_type": "stream",
     "text": [
      "DummyStatsClient._send unknown.athena_query_queue_ms:465.000000|ms\n",
      "DummyStatsClient._send unknown.athena_query_execution_ms:4614.000000|ms\n",
      "DummyStatsClient._send unknown.athena_query_scanned_bytes:683463178|c\n",
      "C:\\Users\\karol\\AppData\\Local\\Temp\\ipykernel_57016\\2799556401.py:77: FutureWarning: The frame.append method is deprecated and will be removed from pandas in a future version. Use pandas.concat instead.\n",
      "  df_results = df_results.append(current_result, ignore_index=True)\n",
      "DummyStatsClient._send unknown.athena_query_runs_total:1|c\n"
     ]
    },
    {
     "name": "stdout",
     "output_type": "stream",
     "text": [
      "2022-09-30 00:00:00\n",
      "2023-02-02 18:04:24,340 - botocore.credentials - INFO - Found credentials in shared credentials file: ~/.aws/credentials\n"
     ]
    },
    {
     "name": "stderr",
     "output_type": "stream",
     "text": [
      "DummyStatsClient._send unknown.athena_query_queue_ms:440.000000|ms\n",
      "DummyStatsClient._send unknown.athena_query_execution_ms:4257.000000|ms\n",
      "DummyStatsClient._send unknown.athena_query_scanned_bytes:662338633|c\n",
      "C:\\Users\\karol\\AppData\\Local\\Temp\\ipykernel_57016\\2799556401.py:77: FutureWarning: The frame.append method is deprecated and will be removed from pandas in a future version. Use pandas.concat instead.\n",
      "  df_results = df_results.append(current_result, ignore_index=True)\n",
      "DummyStatsClient._send unknown.athena_query_runs_total:1|c\n"
     ]
    },
    {
     "name": "stdout",
     "output_type": "stream",
     "text": [
      "2022-10-01 00:00:00\n",
      "2023-02-02 18:04:33,091 - botocore.credentials - INFO - Found credentials in shared credentials file: ~/.aws/credentials\n"
     ]
    },
    {
     "name": "stderr",
     "output_type": "stream",
     "text": [
      "DummyStatsClient._send unknown.athena_query_queue_ms:510.000000|ms\n",
      "DummyStatsClient._send unknown.athena_query_execution_ms:4434.000000|ms\n",
      "DummyStatsClient._send unknown.athena_query_scanned_bytes:704524556|c\n",
      "C:\\Users\\karol\\AppData\\Local\\Temp\\ipykernel_57016\\2799556401.py:77: FutureWarning: The frame.append method is deprecated and will be removed from pandas in a future version. Use pandas.concat instead.\n",
      "  df_results = df_results.append(current_result, ignore_index=True)\n",
      "DummyStatsClient._send unknown.athena_query_runs_total:1|c\n"
     ]
    },
    {
     "name": "stdout",
     "output_type": "stream",
     "text": [
      "2022-10-02 00:00:00\n",
      "2023-02-02 18:04:42,054 - botocore.credentials - INFO - Found credentials in shared credentials file: ~/.aws/credentials\n"
     ]
    },
    {
     "name": "stderr",
     "output_type": "stream",
     "text": [
      "DummyStatsClient._send unknown.athena_query_queue_ms:428.000000|ms\n",
      "DummyStatsClient._send unknown.athena_query_execution_ms:4262.000000|ms\n",
      "DummyStatsClient._send unknown.athena_query_scanned_bytes:723888042|c\n",
      "C:\\Users\\karol\\AppData\\Local\\Temp\\ipykernel_57016\\2799556401.py:77: FutureWarning: The frame.append method is deprecated and will be removed from pandas in a future version. Use pandas.concat instead.\n",
      "  df_results = df_results.append(current_result, ignore_index=True)\n",
      "DummyStatsClient._send unknown.athena_query_runs_total:1|c\n"
     ]
    },
    {
     "name": "stdout",
     "output_type": "stream",
     "text": [
      "2022-10-03 00:00:00\n",
      "2023-02-02 18:04:50,924 - botocore.credentials - INFO - Found credentials in shared credentials file: ~/.aws/credentials\n"
     ]
    },
    {
     "name": "stderr",
     "output_type": "stream",
     "text": [
      "DummyStatsClient._send unknown.athena_query_queue_ms:485.000000|ms\n",
      "DummyStatsClient._send unknown.athena_query_execution_ms:4243.000000|ms\n",
      "DummyStatsClient._send unknown.athena_query_scanned_bytes:699628313|c\n",
      "C:\\Users\\karol\\AppData\\Local\\Temp\\ipykernel_57016\\2799556401.py:77: FutureWarning: The frame.append method is deprecated and will be removed from pandas in a future version. Use pandas.concat instead.\n",
      "  df_results = df_results.append(current_result, ignore_index=True)\n",
      "DummyStatsClient._send unknown.athena_query_runs_total:1|c\n"
     ]
    },
    {
     "name": "stdout",
     "output_type": "stream",
     "text": [
      "2022-10-04 00:00:00\n",
      "2023-02-02 18:05:03,214 - botocore.credentials - INFO - Found credentials in shared credentials file: ~/.aws/credentials\n"
     ]
    },
    {
     "name": "stderr",
     "output_type": "stream",
     "text": [
      "DummyStatsClient._send unknown.athena_query_queue_ms:477.000000|ms\n",
      "DummyStatsClient._send unknown.athena_query_execution_ms:7084.000000|ms\n",
      "DummyStatsClient._send unknown.athena_query_scanned_bytes:683330604|c\n",
      "C:\\Users\\karol\\AppData\\Local\\Temp\\ipykernel_57016\\2799556401.py:77: FutureWarning: The frame.append method is deprecated and will be removed from pandas in a future version. Use pandas.concat instead.\n",
      "  df_results = df_results.append(current_result, ignore_index=True)\n",
      "DummyStatsClient._send unknown.athena_query_runs_total:1|c\n"
     ]
    },
    {
     "name": "stdout",
     "output_type": "stream",
     "text": [
      "2022-10-05 00:00:00\n",
      "2023-02-02 18:05:11,913 - botocore.credentials - INFO - Found credentials in shared credentials file: ~/.aws/credentials\n"
     ]
    },
    {
     "name": "stderr",
     "output_type": "stream",
     "text": [
      "DummyStatsClient._send unknown.athena_query_queue_ms:470.000000|ms\n",
      "DummyStatsClient._send unknown.athena_query_execution_ms:4186.000000|ms\n",
      "DummyStatsClient._send unknown.athena_query_scanned_bytes:723806116|c\n",
      "C:\\Users\\karol\\AppData\\Local\\Temp\\ipykernel_57016\\2799556401.py:77: FutureWarning: The frame.append method is deprecated and will be removed from pandas in a future version. Use pandas.concat instead.\n",
      "  df_results = df_results.append(current_result, ignore_index=True)\n",
      "DummyStatsClient._send unknown.athena_query_runs_total:1|c\n"
     ]
    },
    {
     "name": "stdout",
     "output_type": "stream",
     "text": [
      "2022-10-06 00:00:00\n",
      "2023-02-02 18:05:20,695 - botocore.credentials - INFO - Found credentials in shared credentials file: ~/.aws/credentials\n"
     ]
    },
    {
     "name": "stderr",
     "output_type": "stream",
     "text": [
      "DummyStatsClient._send unknown.athena_query_queue_ms:453.000000|ms\n",
      "DummyStatsClient._send unknown.athena_query_execution_ms:3895.000000|ms\n",
      "DummyStatsClient._send unknown.athena_query_scanned_bytes:705902014|c\n",
      "C:\\Users\\karol\\AppData\\Local\\Temp\\ipykernel_57016\\2799556401.py:77: FutureWarning: The frame.append method is deprecated and will be removed from pandas in a future version. Use pandas.concat instead.\n",
      "  df_results = df_results.append(current_result, ignore_index=True)\n",
      "DummyStatsClient._send unknown.athena_query_runs_total:1|c\n"
     ]
    },
    {
     "name": "stdout",
     "output_type": "stream",
     "text": [
      "2022-10-07 00:00:00\n",
      "2023-02-02 18:05:29,586 - botocore.credentials - INFO - Found credentials in shared credentials file: ~/.aws/credentials\n"
     ]
    },
    {
     "name": "stderr",
     "output_type": "stream",
     "text": [
      "DummyStatsClient._send unknown.athena_query_queue_ms:441.000000|ms\n",
      "DummyStatsClient._send unknown.athena_query_execution_ms:4329.000000|ms\n",
      "DummyStatsClient._send unknown.athena_query_scanned_bytes:723811536|c\n",
      "C:\\Users\\karol\\AppData\\Local\\Temp\\ipykernel_57016\\2799556401.py:77: FutureWarning: The frame.append method is deprecated and will be removed from pandas in a future version. Use pandas.concat instead.\n",
      "  df_results = df_results.append(current_result, ignore_index=True)\n",
      "DummyStatsClient._send unknown.athena_query_runs_total:1|c\n"
     ]
    },
    {
     "name": "stdout",
     "output_type": "stream",
     "text": [
      "2022-10-08 00:00:00\n",
      "2023-02-02 18:05:39,180 - botocore.credentials - INFO - Found credentials in shared credentials file: ~/.aws/credentials\n"
     ]
    },
    {
     "name": "stderr",
     "output_type": "stream",
     "text": [
      "DummyStatsClient._send unknown.athena_query_queue_ms:550.000000|ms\n",
      "DummyStatsClient._send unknown.athena_query_execution_ms:4604.000000|ms\n",
      "DummyStatsClient._send unknown.athena_query_scanned_bytes:705766122|c\n",
      "C:\\Users\\karol\\AppData\\Local\\Temp\\ipykernel_57016\\2799556401.py:77: FutureWarning: The frame.append method is deprecated and will be removed from pandas in a future version. Use pandas.concat instead.\n",
      "  df_results = df_results.append(current_result, ignore_index=True)\n",
      "DummyStatsClient._send unknown.athena_query_runs_total:1|c\n"
     ]
    },
    {
     "name": "stdout",
     "output_type": "stream",
     "text": [
      "2022-10-09 00:00:00\n",
      "2023-02-02 18:05:51,872 - botocore.credentials - INFO - Found credentials in shared credentials file: ~/.aws/credentials\n"
     ]
    },
    {
     "name": "stderr",
     "output_type": "stream",
     "text": [
      "DummyStatsClient._send unknown.athena_query_queue_ms:618.000000|ms\n",
      "DummyStatsClient._send unknown.athena_query_execution_ms:6635.000000|ms\n",
      "DummyStatsClient._send unknown.athena_query_scanned_bytes:705923653|c\n",
      "C:\\Users\\karol\\AppData\\Local\\Temp\\ipykernel_57016\\2799556401.py:77: FutureWarning: The frame.append method is deprecated and will be removed from pandas in a future version. Use pandas.concat instead.\n",
      "  df_results = df_results.append(current_result, ignore_index=True)\n",
      "DummyStatsClient._send unknown.athena_query_runs_total:1|c\n"
     ]
    },
    {
     "name": "stdout",
     "output_type": "stream",
     "text": [
      "2022-10-10 00:00:00\n",
      "2023-02-02 18:06:00,796 - botocore.credentials - INFO - Found credentials in shared credentials file: ~/.aws/credentials\n"
     ]
    },
    {
     "name": "stderr",
     "output_type": "stream",
     "text": [
      "DummyStatsClient._send unknown.athena_query_queue_ms:506.000000|ms\n",
      "DummyStatsClient._send unknown.athena_query_execution_ms:4324.000000|ms\n",
      "DummyStatsClient._send unknown.athena_query_scanned_bytes:723808346|c\n",
      "C:\\Users\\karol\\AppData\\Local\\Temp\\ipykernel_57016\\2799556401.py:77: FutureWarning: The frame.append method is deprecated and will be removed from pandas in a future version. Use pandas.concat instead.\n",
      "  df_results = df_results.append(current_result, ignore_index=True)\n",
      "DummyStatsClient._send unknown.athena_query_runs_total:1|c\n"
     ]
    },
    {
     "name": "stdout",
     "output_type": "stream",
     "text": [
      "2022-10-11 00:00:00\n",
      "2023-02-02 18:06:09,714 - botocore.credentials - INFO - Found credentials in shared credentials file: ~/.aws/credentials\n"
     ]
    },
    {
     "name": "stderr",
     "output_type": "stream",
     "text": [
      "DummyStatsClient._send unknown.athena_query_queue_ms:519.000000|ms\n",
      "DummyStatsClient._send unknown.athena_query_execution_ms:4299.000000|ms\n",
      "DummyStatsClient._send unknown.athena_query_scanned_bytes:683202698|c\n",
      "C:\\Users\\karol\\AppData\\Local\\Temp\\ipykernel_57016\\2799556401.py:77: FutureWarning: The frame.append method is deprecated and will be removed from pandas in a future version. Use pandas.concat instead.\n",
      "  df_results = df_results.append(current_result, ignore_index=True)\n",
      "DummyStatsClient._send unknown.athena_query_runs_total:1|c\n"
     ]
    },
    {
     "name": "stdout",
     "output_type": "stream",
     "text": [
      "2022-10-12 00:00:00\n",
      "2023-02-02 18:06:20,224 - botocore.credentials - INFO - Found credentials in shared credentials file: ~/.aws/credentials\n"
     ]
    },
    {
     "name": "stderr",
     "output_type": "stream",
     "text": [
      "DummyStatsClient._send unknown.athena_query_queue_ms:432.000000|ms\n",
      "DummyStatsClient._send unknown.athena_query_execution_ms:5802.000000|ms\n",
      "DummyStatsClient._send unknown.athena_query_scanned_bytes:665490552|c\n",
      "C:\\Users\\karol\\AppData\\Local\\Temp\\ipykernel_57016\\2799556401.py:77: FutureWarning: The frame.append method is deprecated and will be removed from pandas in a future version. Use pandas.concat instead.\n",
      "  df_results = df_results.append(current_result, ignore_index=True)\n",
      "DummyStatsClient._send unknown.athena_query_runs_total:1|c\n"
     ]
    },
    {
     "name": "stdout",
     "output_type": "stream",
     "text": [
      "2022-10-13 00:00:00\n",
      "2023-02-02 18:06:29,132 - botocore.credentials - INFO - Found credentials in shared credentials file: ~/.aws/credentials\n"
     ]
    },
    {
     "name": "stderr",
     "output_type": "stream",
     "text": [
      "DummyStatsClient._send unknown.athena_query_queue_ms:479.000000|ms\n",
      "DummyStatsClient._send unknown.athena_query_execution_ms:4322.000000|ms\n",
      "DummyStatsClient._send unknown.athena_query_scanned_bytes:723726407|c\n",
      "C:\\Users\\karol\\AppData\\Local\\Temp\\ipykernel_57016\\2799556401.py:77: FutureWarning: The frame.append method is deprecated and will be removed from pandas in a future version. Use pandas.concat instead.\n",
      "  df_results = df_results.append(current_result, ignore_index=True)\n",
      "DummyStatsClient._send unknown.athena_query_runs_total:1|c\n"
     ]
    },
    {
     "name": "stdout",
     "output_type": "stream",
     "text": [
      "2022-10-14 00:00:00\n",
      "2023-02-02 18:06:38,044 - botocore.credentials - INFO - Found credentials in shared credentials file: ~/.aws/credentials\n"
     ]
    },
    {
     "name": "stderr",
     "output_type": "stream",
     "text": [
      "DummyStatsClient._send unknown.athena_query_queue_ms:419.000000|ms\n",
      "DummyStatsClient._send unknown.athena_query_execution_ms:3933.000000|ms\n",
      "DummyStatsClient._send unknown.athena_query_scanned_bytes:723888042|c\n",
      "C:\\Users\\karol\\AppData\\Local\\Temp\\ipykernel_57016\\2799556401.py:77: FutureWarning: The frame.append method is deprecated and will be removed from pandas in a future version. Use pandas.concat instead.\n",
      "  df_results = df_results.append(current_result, ignore_index=True)\n",
      "DummyStatsClient._send unknown.athena_query_runs_total:1|c\n"
     ]
    },
    {
     "name": "stdout",
     "output_type": "stream",
     "text": [
      "2022-10-15 00:00:00\n",
      "2023-02-02 18:06:47,643 - botocore.credentials - INFO - Found credentials in shared credentials file: ~/.aws/credentials\n"
     ]
    },
    {
     "name": "stderr",
     "output_type": "stream",
     "text": [
      "DummyStatsClient._send unknown.athena_query_queue_ms:429.000000|ms\n",
      "DummyStatsClient._send unknown.athena_query_execution_ms:4854.000000|ms\n",
      "DummyStatsClient._send unknown.athena_query_scanned_bytes:723888042|c\n",
      "C:\\Users\\karol\\AppData\\Local\\Temp\\ipykernel_57016\\2799556401.py:77: FutureWarning: The frame.append method is deprecated and will be removed from pandas in a future version. Use pandas.concat instead.\n",
      "  df_results = df_results.append(current_result, ignore_index=True)\n",
      "DummyStatsClient._send unknown.athena_query_runs_total:1|c\n"
     ]
    },
    {
     "name": "stdout",
     "output_type": "stream",
     "text": [
      "2022-10-16 00:00:00\n",
      "2023-02-02 18:06:55,896 - botocore.credentials - INFO - Found credentials in shared credentials file: ~/.aws/credentials\n"
     ]
    },
    {
     "name": "stderr",
     "output_type": "stream",
     "text": [
      "DummyStatsClient._send unknown.athena_query_queue_ms:471.000000|ms\n",
      "DummyStatsClient._send unknown.athena_query_execution_ms:3973.000000|ms\n",
      "DummyStatsClient._send unknown.athena_query_scanned_bytes:723888042|c\n",
      "C:\\Users\\karol\\AppData\\Local\\Temp\\ipykernel_57016\\2799556401.py:77: FutureWarning: The frame.append method is deprecated and will be removed from pandas in a future version. Use pandas.concat instead.\n",
      "  df_results = df_results.append(current_result, ignore_index=True)\n",
      "DummyStatsClient._send unknown.athena_query_runs_total:1|c\n"
     ]
    },
    {
     "name": "stdout",
     "output_type": "stream",
     "text": [
      "2022-10-17 00:00:00\n",
      "2023-02-02 18:07:06,438 - botocore.credentials - INFO - Found credentials in shared credentials file: ~/.aws/credentials\n"
     ]
    },
    {
     "name": "stderr",
     "output_type": "stream",
     "text": [
      "DummyStatsClient._send unknown.athena_query_queue_ms:472.000000|ms\n",
      "DummyStatsClient._send unknown.athena_query_execution_ms:5720.000000|ms\n",
      "DummyStatsClient._send unknown.athena_query_scanned_bytes:723888042|c\n",
      "C:\\Users\\karol\\AppData\\Local\\Temp\\ipykernel_57016\\2799556401.py:77: FutureWarning: The frame.append method is deprecated and will be removed from pandas in a future version. Use pandas.concat instead.\n",
      "  df_results = df_results.append(current_result, ignore_index=True)\n",
      "DummyStatsClient._send unknown.athena_query_runs_total:1|c\n"
     ]
    },
    {
     "name": "stdout",
     "output_type": "stream",
     "text": [
      "2022-10-18 00:00:00\n",
      "2023-02-02 18:07:14,353 - botocore.credentials - INFO - Found credentials in shared credentials file: ~/.aws/credentials\n"
     ]
    },
    {
     "name": "stderr",
     "output_type": "stream",
     "text": [
      "DummyStatsClient._send unknown.athena_query_queue_ms:458.000000|ms\n",
      "DummyStatsClient._send unknown.athena_query_execution_ms:3780.000000|ms\n",
      "DummyStatsClient._send unknown.athena_query_scanned_bytes:723888042|c\n",
      "C:\\Users\\karol\\AppData\\Local\\Temp\\ipykernel_57016\\2799556401.py:77: FutureWarning: The frame.append method is deprecated and will be removed from pandas in a future version. Use pandas.concat instead.\n",
      "  df_results = df_results.append(current_result, ignore_index=True)\n",
      "DummyStatsClient._send unknown.athena_query_runs_total:1|c\n"
     ]
    },
    {
     "name": "stdout",
     "output_type": "stream",
     "text": [
      "2022-10-19 00:00:00\n",
      "2023-02-02 18:07:23,128 - botocore.credentials - INFO - Found credentials in shared credentials file: ~/.aws/credentials\n"
     ]
    },
    {
     "name": "stderr",
     "output_type": "stream",
     "text": [
      "DummyStatsClient._send unknown.athena_query_queue_ms:452.000000|ms\n",
      "DummyStatsClient._send unknown.athena_query_execution_ms:3746.000000|ms\n",
      "DummyStatsClient._send unknown.athena_query_scanned_bytes:687801779|c\n",
      "C:\\Users\\karol\\AppData\\Local\\Temp\\ipykernel_57016\\2799556401.py:77: FutureWarning: The frame.append method is deprecated and will be removed from pandas in a future version. Use pandas.concat instead.\n",
      "  df_results = df_results.append(current_result, ignore_index=True)\n",
      "DummyStatsClient._send unknown.athena_query_runs_total:1|c\n"
     ]
    },
    {
     "name": "stdout",
     "output_type": "stream",
     "text": [
      "2022-10-20 00:00:00\n",
      "2023-02-02 18:07:32,125 - botocore.credentials - INFO - Found credentials in shared credentials file: ~/.aws/credentials\n"
     ]
    },
    {
     "name": "stderr",
     "output_type": "stream",
     "text": [
      "DummyStatsClient._send unknown.athena_query_queue_ms:455.000000|ms\n",
      "DummyStatsClient._send unknown.athena_query_execution_ms:4376.000000|ms\n",
      "DummyStatsClient._send unknown.athena_query_scanned_bytes:723888042|c\n",
      "C:\\Users\\karol\\AppData\\Local\\Temp\\ipykernel_57016\\2799556401.py:77: FutureWarning: The frame.append method is deprecated and will be removed from pandas in a future version. Use pandas.concat instead.\n",
      "  df_results = df_results.append(current_result, ignore_index=True)\n",
      "DummyStatsClient._send unknown.athena_query_runs_total:1|c\n"
     ]
    },
    {
     "name": "stdout",
     "output_type": "stream",
     "text": [
      "2022-10-21 00:00:00\n",
      "2023-02-02 18:07:42,647 - botocore.credentials - INFO - Found credentials in shared credentials file: ~/.aws/credentials\n"
     ]
    },
    {
     "name": "stderr",
     "output_type": "stream",
     "text": [
      "DummyStatsClient._send unknown.athena_query_queue_ms:655.000000|ms\n",
      "DummyStatsClient._send unknown.athena_query_execution_ms:5541.000000|ms\n",
      "DummyStatsClient._send unknown.athena_query_scanned_bytes:723888042|c\n",
      "C:\\Users\\karol\\AppData\\Local\\Temp\\ipykernel_57016\\2799556401.py:77: FutureWarning: The frame.append method is deprecated and will be removed from pandas in a future version. Use pandas.concat instead.\n",
      "  df_results = df_results.append(current_result, ignore_index=True)\n",
      "DummyStatsClient._send unknown.athena_query_runs_total:1|c\n"
     ]
    },
    {
     "name": "stdout",
     "output_type": "stream",
     "text": [
      "2022-10-22 00:00:00\n",
      "2023-02-02 18:07:55,469 - botocore.credentials - INFO - Found credentials in shared credentials file: ~/.aws/credentials\n"
     ]
    },
    {
     "name": "stderr",
     "output_type": "stream",
     "text": [
      "DummyStatsClient._send unknown.athena_query_queue_ms:455.000000|ms\n",
      "DummyStatsClient._send unknown.athena_query_execution_ms:8072.000000|ms\n",
      "DummyStatsClient._send unknown.athena_query_scanned_bytes:723794514|c\n",
      "C:\\Users\\karol\\AppData\\Local\\Temp\\ipykernel_57016\\2799556401.py:77: FutureWarning: The frame.append method is deprecated and will be removed from pandas in a future version. Use pandas.concat instead.\n",
      "  df_results = df_results.append(current_result, ignore_index=True)\n",
      "DummyStatsClient._send unknown.athena_query_runs_total:1|c\n"
     ]
    },
    {
     "name": "stdout",
     "output_type": "stream",
     "text": [
      "2022-10-23 00:00:00\n",
      "2023-02-02 18:08:04,700 - botocore.credentials - INFO - Found credentials in shared credentials file: ~/.aws/credentials\n"
     ]
    },
    {
     "name": "stderr",
     "output_type": "stream",
     "text": [
      "DummyStatsClient._send unknown.athena_query_queue_ms:646.000000|ms\n",
      "DummyStatsClient._send unknown.athena_query_execution_ms:4034.000000|ms\n",
      "DummyStatsClient._send unknown.athena_query_scanned_bytes:723726407|c\n",
      "C:\\Users\\karol\\AppData\\Local\\Temp\\ipykernel_57016\\2799556401.py:77: FutureWarning: The frame.append method is deprecated and will be removed from pandas in a future version. Use pandas.concat instead.\n",
      "  df_results = df_results.append(current_result, ignore_index=True)\n",
      "DummyStatsClient._send unknown.athena_query_runs_total:1|c\n"
     ]
    },
    {
     "name": "stdout",
     "output_type": "stream",
     "text": [
      "2022-10-24 00:00:00\n",
      "2023-02-02 18:08:13,455 - botocore.credentials - INFO - Found credentials in shared credentials file: ~/.aws/credentials\n"
     ]
    },
    {
     "name": "stderr",
     "output_type": "stream",
     "text": [
      "DummyStatsClient._send unknown.athena_query_queue_ms:497.000000|ms\n",
      "DummyStatsClient._send unknown.athena_query_execution_ms:4532.000000|ms\n",
      "DummyStatsClient._send unknown.athena_query_scanned_bytes:704926413|c\n",
      "C:\\Users\\karol\\AppData\\Local\\Temp\\ipykernel_57016\\2799556401.py:77: FutureWarning: The frame.append method is deprecated and will be removed from pandas in a future version. Use pandas.concat instead.\n",
      "  df_results = df_results.append(current_result, ignore_index=True)\n",
      "DummyStatsClient._send unknown.athena_query_runs_total:1|c\n"
     ]
    },
    {
     "name": "stdout",
     "output_type": "stream",
     "text": [
      "2022-10-25 00:00:00\n",
      "2023-02-02 18:08:23,009 - botocore.credentials - INFO - Found credentials in shared credentials file: ~/.aws/credentials\n"
     ]
    },
    {
     "name": "stderr",
     "output_type": "stream",
     "text": [
      "DummyStatsClient._send unknown.athena_query_queue_ms:465.000000|ms\n",
      "DummyStatsClient._send unknown.athena_query_execution_ms:4797.000000|ms\n",
      "DummyStatsClient._send unknown.athena_query_scanned_bytes:684863010|c\n",
      "C:\\Users\\karol\\AppData\\Local\\Temp\\ipykernel_57016\\2799556401.py:77: FutureWarning: The frame.append method is deprecated and will be removed from pandas in a future version. Use pandas.concat instead.\n",
      "  df_results = df_results.append(current_result, ignore_index=True)\n",
      "DummyStatsClient._send unknown.athena_query_runs_total:1|c\n"
     ]
    },
    {
     "name": "stdout",
     "output_type": "stream",
     "text": [
      "2022-10-26 00:00:00\n",
      "2023-02-02 18:08:31,854 - botocore.credentials - INFO - Found credentials in shared credentials file: ~/.aws/credentials\n"
     ]
    },
    {
     "name": "stderr",
     "output_type": "stream",
     "text": [
      "DummyStatsClient._send unknown.athena_query_queue_ms:437.000000|ms\n",
      "DummyStatsClient._send unknown.athena_query_execution_ms:3906.000000|ms\n",
      "DummyStatsClient._send unknown.athena_query_scanned_bytes:723888042|c\n",
      "C:\\Users\\karol\\AppData\\Local\\Temp\\ipykernel_57016\\2799556401.py:77: FutureWarning: The frame.append method is deprecated and will be removed from pandas in a future version. Use pandas.concat instead.\n",
      "  df_results = df_results.append(current_result, ignore_index=True)\n",
      "DummyStatsClient._send unknown.athena_query_runs_total:1|c\n"
     ]
    },
    {
     "name": "stdout",
     "output_type": "stream",
     "text": [
      "2022-10-27 00:00:00\n",
      "2023-02-02 18:08:40,668 - botocore.credentials - INFO - Found credentials in shared credentials file: ~/.aws/credentials\n"
     ]
    },
    {
     "name": "stderr",
     "output_type": "stream",
     "text": [
      "DummyStatsClient._send unknown.athena_query_queue_ms:434.000000|ms\n",
      "DummyStatsClient._send unknown.athena_query_execution_ms:4316.000000|ms\n",
      "DummyStatsClient._send unknown.athena_query_scanned_bytes:723888042|c\n",
      "C:\\Users\\karol\\AppData\\Local\\Temp\\ipykernel_57016\\2799556401.py:77: FutureWarning: The frame.append method is deprecated and will be removed from pandas in a future version. Use pandas.concat instead.\n",
      "  df_results = df_results.append(current_result, ignore_index=True)\n",
      "DummyStatsClient._send unknown.athena_query_runs_total:1|c\n"
     ]
    },
    {
     "name": "stdout",
     "output_type": "stream",
     "text": [
      "2022-10-28 00:00:00\n",
      "2023-02-02 18:08:49,516 - botocore.credentials - INFO - Found credentials in shared credentials file: ~/.aws/credentials\n"
     ]
    },
    {
     "name": "stderr",
     "output_type": "stream",
     "text": [
      "DummyStatsClient._send unknown.athena_query_queue_ms:495.000000|ms\n",
      "DummyStatsClient._send unknown.athena_query_execution_ms:4324.000000|ms\n",
      "DummyStatsClient._send unknown.athena_query_scanned_bytes:723888042|c\n",
      "C:\\Users\\karol\\AppData\\Local\\Temp\\ipykernel_57016\\2799556401.py:77: FutureWarning: The frame.append method is deprecated and will be removed from pandas in a future version. Use pandas.concat instead.\n",
      "  df_results = df_results.append(current_result, ignore_index=True)\n",
      "DummyStatsClient._send unknown.athena_query_runs_total:1|c\n"
     ]
    },
    {
     "name": "stdout",
     "output_type": "stream",
     "text": [
      "2022-10-29 00:00:00\n",
      "2023-02-02 18:08:59,166 - botocore.credentials - INFO - Found credentials in shared credentials file: ~/.aws/credentials\n"
     ]
    },
    {
     "name": "stderr",
     "output_type": "stream",
     "text": [
      "DummyStatsClient._send unknown.athena_query_queue_ms:537.000000|ms\n",
      "DummyStatsClient._send unknown.athena_query_execution_ms:4675.000000|ms\n",
      "DummyStatsClient._send unknown.athena_query_scanned_bytes:723888042|c\n",
      "C:\\Users\\karol\\AppData\\Local\\Temp\\ipykernel_57016\\2799556401.py:77: FutureWarning: The frame.append method is deprecated and will be removed from pandas in a future version. Use pandas.concat instead.\n",
      "  df_results = df_results.append(current_result, ignore_index=True)\n",
      "DummyStatsClient._send unknown.athena_query_runs_total:1|c\n"
     ]
    },
    {
     "name": "stdout",
     "output_type": "stream",
     "text": [
      "2022-10-30 00:00:00\n",
      "2023-02-02 18:09:09,270 - botocore.credentials - INFO - Found credentials in shared credentials file: ~/.aws/credentials\n"
     ]
    },
    {
     "name": "stderr",
     "output_type": "stream",
     "text": [
      "DummyStatsClient._send unknown.athena_query_queue_ms:424.000000|ms\n",
      "DummyStatsClient._send unknown.athena_query_execution_ms:4808.000000|ms\n",
      "DummyStatsClient._send unknown.athena_query_scanned_bytes:704809730|c\n",
      "C:\\Users\\karol\\AppData\\Local\\Temp\\ipykernel_57016\\2799556401.py:77: FutureWarning: The frame.append method is deprecated and will be removed from pandas in a future version. Use pandas.concat instead.\n",
      "  df_results = df_results.append(current_result, ignore_index=True)\n",
      "DummyStatsClient._send unknown.athena_query_runs_total:1|c\n"
     ]
    },
    {
     "name": "stdout",
     "output_type": "stream",
     "text": [
      "2022-10-31 00:00:00\n",
      "2023-02-02 18:09:18,790 - botocore.credentials - INFO - Found credentials in shared credentials file: ~/.aws/credentials\n"
     ]
    },
    {
     "name": "stderr",
     "output_type": "stream",
     "text": [
      "DummyStatsClient._send unknown.athena_query_queue_ms:664.000000|ms\n",
      "DummyStatsClient._send unknown.athena_query_execution_ms:4979.000000|ms\n",
      "DummyStatsClient._send unknown.athena_query_scanned_bytes:701465796|c\n",
      "C:\\Users\\karol\\AppData\\Local\\Temp\\ipykernel_57016\\2799556401.py:77: FutureWarning: The frame.append method is deprecated and will be removed from pandas in a future version. Use pandas.concat instead.\n",
      "  df_results = df_results.append(current_result, ignore_index=True)\n",
      "DummyStatsClient._send unknown.athena_query_runs_total:1|c\n"
     ]
    },
    {
     "name": "stdout",
     "output_type": "stream",
     "text": [
      "2022-11-01 00:00:00\n",
      "2023-02-02 18:09:29,183 - botocore.credentials - INFO - Found credentials in shared credentials file: ~/.aws/credentials\n"
     ]
    },
    {
     "name": "stderr",
     "output_type": "stream",
     "text": [
      "DummyStatsClient._send unknown.athena_query_queue_ms:650.000000|ms\n",
      "DummyStatsClient._send unknown.athena_query_execution_ms:5350.000000|ms\n",
      "DummyStatsClient._send unknown.athena_query_scanned_bytes:723888042|c\n",
      "C:\\Users\\karol\\AppData\\Local\\Temp\\ipykernel_57016\\2799556401.py:77: FutureWarning: The frame.append method is deprecated and will be removed from pandas in a future version. Use pandas.concat instead.\n",
      "  df_results = df_results.append(current_result, ignore_index=True)\n",
      "DummyStatsClient._send unknown.athena_query_runs_total:1|c\n"
     ]
    },
    {
     "name": "stdout",
     "output_type": "stream",
     "text": [
      "2022-11-02 00:00:00\n",
      "2023-02-02 18:09:38,225 - botocore.credentials - INFO - Found credentials in shared credentials file: ~/.aws/credentials\n"
     ]
    },
    {
     "name": "stderr",
     "output_type": "stream",
     "text": [
      "DummyStatsClient._send unknown.athena_query_queue_ms:410.000000|ms\n",
      "DummyStatsClient._send unknown.athena_query_execution_ms:4079.000000|ms\n",
      "DummyStatsClient._send unknown.athena_query_scanned_bytes:723888042|c\n",
      "C:\\Users\\karol\\AppData\\Local\\Temp\\ipykernel_57016\\2799556401.py:77: FutureWarning: The frame.append method is deprecated and will be removed from pandas in a future version. Use pandas.concat instead.\n",
      "  df_results = df_results.append(current_result, ignore_index=True)\n",
      "DummyStatsClient._send unknown.athena_query_runs_total:1|c\n"
     ]
    },
    {
     "name": "stdout",
     "output_type": "stream",
     "text": [
      "2022-11-03 00:00:00\n",
      "2023-02-02 18:09:48,707 - botocore.credentials - INFO - Found credentials in shared credentials file: ~/.aws/credentials\n"
     ]
    },
    {
     "name": "stderr",
     "output_type": "stream",
     "text": [
      "DummyStatsClient._send unknown.athena_query_queue_ms:701.000000|ms\n",
      "DummyStatsClient._send unknown.athena_query_execution_ms:5760.000000|ms\n",
      "DummyStatsClient._send unknown.athena_query_scanned_bytes:723888042|c\n",
      "C:\\Users\\karol\\AppData\\Local\\Temp\\ipykernel_57016\\2799556401.py:77: FutureWarning: The frame.append method is deprecated and will be removed from pandas in a future version. Use pandas.concat instead.\n",
      "  df_results = df_results.append(current_result, ignore_index=True)\n",
      "DummyStatsClient._send unknown.athena_query_runs_total:1|c\n"
     ]
    },
    {
     "name": "stdout",
     "output_type": "stream",
     "text": [
      "2022-11-04 00:00:00\n",
      "2023-02-02 18:09:57,409 - botocore.credentials - INFO - Found credentials in shared credentials file: ~/.aws/credentials\n"
     ]
    },
    {
     "name": "stderr",
     "output_type": "stream",
     "text": [
      "DummyStatsClient._send unknown.athena_query_queue_ms:470.000000|ms\n",
      "DummyStatsClient._send unknown.athena_query_execution_ms:4383.000000|ms\n",
      "DummyStatsClient._send unknown.athena_query_scanned_bytes:723888042|c\n",
      "C:\\Users\\karol\\AppData\\Local\\Temp\\ipykernel_57016\\2799556401.py:77: FutureWarning: The frame.append method is deprecated and will be removed from pandas in a future version. Use pandas.concat instead.\n",
      "  df_results = df_results.append(current_result, ignore_index=True)\n",
      "DummyStatsClient._send unknown.athena_query_runs_total:1|c\n"
     ]
    },
    {
     "name": "stdout",
     "output_type": "stream",
     "text": [
      "2022-11-05 00:00:00\n",
      "2023-02-02 18:10:07,982 - botocore.credentials - INFO - Found credentials in shared credentials file: ~/.aws/credentials\n"
     ]
    },
    {
     "name": "stderr",
     "output_type": "stream",
     "text": [
      "DummyStatsClient._send unknown.athena_query_queue_ms:433.000000|ms\n",
      "DummyStatsClient._send unknown.athena_query_execution_ms:5388.000000|ms\n",
      "DummyStatsClient._send unknown.athena_query_scanned_bytes:723888042|c\n",
      "C:\\Users\\karol\\AppData\\Local\\Temp\\ipykernel_57016\\2799556401.py:77: FutureWarning: The frame.append method is deprecated and will be removed from pandas in a future version. Use pandas.concat instead.\n",
      "  df_results = df_results.append(current_result, ignore_index=True)\n",
      "DummyStatsClient._send unknown.athena_query_runs_total:1|c\n"
     ]
    },
    {
     "name": "stdout",
     "output_type": "stream",
     "text": [
      "2022-11-06 00:00:00\n",
      "2023-02-02 18:10:17,512 - botocore.credentials - INFO - Found credentials in shared credentials file: ~/.aws/credentials\n"
     ]
    },
    {
     "name": "stderr",
     "output_type": "stream",
     "text": [
      "DummyStatsClient._send unknown.athena_query_queue_ms:440.000000|ms\n",
      "DummyStatsClient._send unknown.athena_query_execution_ms:4843.000000|ms\n",
      "DummyStatsClient._send unknown.athena_query_scanned_bytes:723803119|c\n",
      "C:\\Users\\karol\\AppData\\Local\\Temp\\ipykernel_57016\\2799556401.py:77: FutureWarning: The frame.append method is deprecated and will be removed from pandas in a future version. Use pandas.concat instead.\n",
      "  df_results = df_results.append(current_result, ignore_index=True)\n",
      "DummyStatsClient._send unknown.athena_query_runs_total:1|c\n"
     ]
    },
    {
     "name": "stdout",
     "output_type": "stream",
     "text": [
      "2022-11-07 00:00:00\n",
      "2023-02-02 18:10:26,200 - botocore.credentials - INFO - Found credentials in shared credentials file: ~/.aws/credentials\n"
     ]
    },
    {
     "name": "stderr",
     "output_type": "stream",
     "text": [
      "DummyStatsClient._send unknown.athena_query_queue_ms:453.000000|ms\n",
      "DummyStatsClient._send unknown.athena_query_execution_ms:4163.000000|ms\n",
      "DummyStatsClient._send unknown.athena_query_scanned_bytes:723888042|c\n",
      "C:\\Users\\karol\\AppData\\Local\\Temp\\ipykernel_57016\\2799556401.py:77: FutureWarning: The frame.append method is deprecated and will be removed from pandas in a future version. Use pandas.concat instead.\n",
      "  df_results = df_results.append(current_result, ignore_index=True)\n",
      "DummyStatsClient._send unknown.athena_query_runs_total:1|c\n"
     ]
    },
    {
     "name": "stdout",
     "output_type": "stream",
     "text": [
      "2022-11-08 00:00:00\n",
      "2023-02-02 18:10:37,924 - botocore.credentials - INFO - Found credentials in shared credentials file: ~/.aws/credentials\n"
     ]
    },
    {
     "name": "stderr",
     "output_type": "stream",
     "text": [
      "DummyStatsClient._send unknown.athena_query_queue_ms:527.000000|ms\n",
      "DummyStatsClient._send unknown.athena_query_execution_ms:5471.000000|ms\n",
      "DummyStatsClient._send unknown.athena_query_scanned_bytes:701544925|c\n",
      "C:\\Users\\karol\\AppData\\Local\\Temp\\ipykernel_57016\\2799556401.py:77: FutureWarning: The frame.append method is deprecated and will be removed from pandas in a future version. Use pandas.concat instead.\n",
      "  df_results = df_results.append(current_result, ignore_index=True)\n",
      "DummyStatsClient._send unknown.athena_query_runs_total:1|c\n"
     ]
    },
    {
     "name": "stdout",
     "output_type": "stream",
     "text": [
      "2022-11-09 00:00:00\n",
      "2023-02-02 18:10:46,733 - botocore.credentials - INFO - Found credentials in shared credentials file: ~/.aws/credentials\n"
     ]
    },
    {
     "name": "stderr",
     "output_type": "stream",
     "text": [
      "DummyStatsClient._send unknown.athena_query_queue_ms:438.000000|ms\n",
      "DummyStatsClient._send unknown.athena_query_execution_ms:3944.000000|ms\n",
      "DummyStatsClient._send unknown.athena_query_scanned_bytes:701619240|c\n",
      "C:\\Users\\karol\\AppData\\Local\\Temp\\ipykernel_57016\\2799556401.py:77: FutureWarning: The frame.append method is deprecated and will be removed from pandas in a future version. Use pandas.concat instead.\n",
      "  df_results = df_results.append(current_result, ignore_index=True)\n",
      "DummyStatsClient._send unknown.athena_query_runs_total:1|c\n"
     ]
    },
    {
     "name": "stdout",
     "output_type": "stream",
     "text": [
      "2022-11-10 00:00:00\n",
      "2023-02-02 18:10:56,297 - botocore.credentials - INFO - Found credentials in shared credentials file: ~/.aws/credentials\n"
     ]
    },
    {
     "name": "stderr",
     "output_type": "stream",
     "text": [
      "DummyStatsClient._send unknown.athena_query_queue_ms:451.000000|ms\n",
      "DummyStatsClient._send unknown.athena_query_execution_ms:4567.000000|ms\n",
      "DummyStatsClient._send unknown.athena_query_scanned_bytes:662338633|c\n",
      "C:\\Users\\karol\\AppData\\Local\\Temp\\ipykernel_57016\\2799556401.py:77: FutureWarning: The frame.append method is deprecated and will be removed from pandas in a future version. Use pandas.concat instead.\n",
      "  df_results = df_results.append(current_result, ignore_index=True)\n",
      "DummyStatsClient._send unknown.athena_query_runs_total:1|c\n"
     ]
    },
    {
     "name": "stdout",
     "output_type": "stream",
     "text": [
      "2022-11-11 00:00:00\n",
      "2023-02-02 18:11:05,198 - botocore.credentials - INFO - Found credentials in shared credentials file: ~/.aws/credentials\n"
     ]
    },
    {
     "name": "stderr",
     "output_type": "stream",
     "text": [
      "DummyStatsClient._send unknown.athena_query_queue_ms:431.000000|ms\n",
      "DummyStatsClient._send unknown.athena_query_execution_ms:3791.000000|ms\n",
      "DummyStatsClient._send unknown.athena_query_scanned_bytes:723888042|c\n",
      "C:\\Users\\karol\\AppData\\Local\\Temp\\ipykernel_57016\\2799556401.py:77: FutureWarning: The frame.append method is deprecated and will be removed from pandas in a future version. Use pandas.concat instead.\n",
      "  df_results = df_results.append(current_result, ignore_index=True)\n",
      "DummyStatsClient._send unknown.athena_query_runs_total:1|c\n"
     ]
    },
    {
     "name": "stdout",
     "output_type": "stream",
     "text": [
      "2022-11-12 00:00:00\n",
      "2023-02-02 18:11:14,177 - botocore.credentials - INFO - Found credentials in shared credentials file: ~/.aws/credentials\n"
     ]
    },
    {
     "name": "stderr",
     "output_type": "stream",
     "text": [
      "DummyStatsClient._send unknown.athena_query_queue_ms:639.000000|ms\n",
      "DummyStatsClient._send unknown.athena_query_execution_ms:4545.000000|ms\n",
      "DummyStatsClient._send unknown.athena_query_scanned_bytes:687305330|c\n",
      "C:\\Users\\karol\\AppData\\Local\\Temp\\ipykernel_57016\\2799556401.py:77: FutureWarning: The frame.append method is deprecated and will be removed from pandas in a future version. Use pandas.concat instead.\n",
      "  df_results = df_results.append(current_result, ignore_index=True)\n",
      "DummyStatsClient._send unknown.athena_query_runs_total:1|c\n"
     ]
    },
    {
     "name": "stdout",
     "output_type": "stream",
     "text": [
      "2022-11-13 00:00:00\n",
      "2023-02-02 18:11:23,722 - botocore.credentials - INFO - Found credentials in shared credentials file: ~/.aws/credentials\n"
     ]
    },
    {
     "name": "stderr",
     "output_type": "stream",
     "text": [
      "DummyStatsClient._send unknown.athena_query_queue_ms:485.000000|ms\n",
      "DummyStatsClient._send unknown.athena_query_execution_ms:4655.000000|ms\n",
      "DummyStatsClient._send unknown.athena_query_scanned_bytes:679106646|c\n",
      "C:\\Users\\karol\\AppData\\Local\\Temp\\ipykernel_57016\\2799556401.py:77: FutureWarning: The frame.append method is deprecated and will be removed from pandas in a future version. Use pandas.concat instead.\n",
      "  df_results = df_results.append(current_result, ignore_index=True)\n",
      "DummyStatsClient._send unknown.athena_query_runs_total:1|c\n"
     ]
    },
    {
     "name": "stdout",
     "output_type": "stream",
     "text": [
      "2022-11-14 00:00:00\n",
      "2023-02-02 18:11:33,388 - botocore.credentials - INFO - Found credentials in shared credentials file: ~/.aws/credentials\n"
     ]
    },
    {
     "name": "stderr",
     "output_type": "stream",
     "text": [
      "DummyStatsClient._send unknown.athena_query_queue_ms:632.000000|ms\n",
      "DummyStatsClient._send unknown.athena_query_execution_ms:4717.000000|ms\n",
      "DummyStatsClient._send unknown.athena_query_scanned_bytes:723888042|c\n",
      "C:\\Users\\karol\\AppData\\Local\\Temp\\ipykernel_57016\\2799556401.py:77: FutureWarning: The frame.append method is deprecated and will be removed from pandas in a future version. Use pandas.concat instead.\n",
      "  df_results = df_results.append(current_result, ignore_index=True)\n",
      "DummyStatsClient._send unknown.athena_query_runs_total:1|c\n"
     ]
    },
    {
     "name": "stdout",
     "output_type": "stream",
     "text": [
      "2022-11-15 00:00:00\n",
      "2023-02-02 18:11:42,338 - botocore.credentials - INFO - Found credentials in shared credentials file: ~/.aws/credentials\n"
     ]
    },
    {
     "name": "stderr",
     "output_type": "stream",
     "text": [
      "DummyStatsClient._send unknown.athena_query_queue_ms:427.000000|ms\n",
      "DummyStatsClient._send unknown.athena_query_execution_ms:3823.000000|ms\n",
      "DummyStatsClient._send unknown.athena_query_scanned_bytes:723612867|c\n",
      "C:\\Users\\karol\\AppData\\Local\\Temp\\ipykernel_57016\\2799556401.py:77: FutureWarning: The frame.append method is deprecated and will be removed from pandas in a future version. Use pandas.concat instead.\n",
      "  df_results = df_results.append(current_result, ignore_index=True)\n",
      "DummyStatsClient._send unknown.athena_query_runs_total:1|c\n"
     ]
    },
    {
     "name": "stdout",
     "output_type": "stream",
     "text": [
      "2022-11-16 00:00:00\n",
      "2023-02-02 18:11:51,701 - botocore.credentials - INFO - Found credentials in shared credentials file: ~/.aws/credentials\n"
     ]
    },
    {
     "name": "stderr",
     "output_type": "stream",
     "text": [
      "DummyStatsClient._send unknown.athena_query_queue_ms:541.000000|ms\n",
      "DummyStatsClient._send unknown.athena_query_execution_ms:4996.000000|ms\n",
      "DummyStatsClient._send unknown.athena_query_scanned_bytes:723888042|c\n",
      "C:\\Users\\karol\\AppData\\Local\\Temp\\ipykernel_57016\\2799556401.py:77: FutureWarning: The frame.append method is deprecated and will be removed from pandas in a future version. Use pandas.concat instead.\n",
      "  df_results = df_results.append(current_result, ignore_index=True)\n",
      "DummyStatsClient._send unknown.athena_query_runs_total:1|c\n"
     ]
    },
    {
     "name": "stdout",
     "output_type": "stream",
     "text": [
      "2022-11-17 00:00:00\n",
      "2023-02-02 18:12:00,456 - botocore.credentials - INFO - Found credentials in shared credentials file: ~/.aws/credentials\n"
     ]
    },
    {
     "name": "stderr",
     "output_type": "stream",
     "text": [
      "DummyStatsClient._send unknown.athena_query_queue_ms:629.000000|ms\n",
      "DummyStatsClient._send unknown.athena_query_execution_ms:4335.000000|ms\n",
      "DummyStatsClient._send unknown.athena_query_scanned_bytes:723808346|c\n",
      "C:\\Users\\karol\\AppData\\Local\\Temp\\ipykernel_57016\\2799556401.py:77: FutureWarning: The frame.append method is deprecated and will be removed from pandas in a future version. Use pandas.concat instead.\n",
      "  df_results = df_results.append(current_result, ignore_index=True)\n",
      "DummyStatsClient._send unknown.athena_query_runs_total:1|c\n"
     ]
    },
    {
     "name": "stdout",
     "output_type": "stream",
     "text": [
      "2022-11-18 00:00:00\n",
      "2023-02-02 18:12:09,321 - botocore.credentials - INFO - Found credentials in shared credentials file: ~/.aws/credentials\n"
     ]
    },
    {
     "name": "stderr",
     "output_type": "stream",
     "text": [
      "DummyStatsClient._send unknown.athena_query_queue_ms:472.000000|ms\n",
      "DummyStatsClient._send unknown.athena_query_execution_ms:4051.000000|ms\n",
      "DummyStatsClient._send unknown.athena_query_scanned_bytes:705766122|c\n",
      "C:\\Users\\karol\\AppData\\Local\\Temp\\ipykernel_57016\\2799556401.py:77: FutureWarning: The frame.append method is deprecated and will be removed from pandas in a future version. Use pandas.concat instead.\n",
      "  df_results = df_results.append(current_result, ignore_index=True)\n",
      "DummyStatsClient._send unknown.athena_query_runs_total:1|c\n"
     ]
    },
    {
     "name": "stdout",
     "output_type": "stream",
     "text": [
      "2022-11-19 00:00:00\n",
      "2023-02-02 18:12:18,140 - botocore.credentials - INFO - Found credentials in shared credentials file: ~/.aws/credentials\n"
     ]
    },
    {
     "name": "stderr",
     "output_type": "stream",
     "text": [
      "DummyStatsClient._send unknown.athena_query_queue_ms:521.000000|ms\n",
      "DummyStatsClient._send unknown.athena_query_execution_ms:4334.000000|ms\n",
      "DummyStatsClient._send unknown.athena_query_scanned_bytes:723888042|c\n",
      "C:\\Users\\karol\\AppData\\Local\\Temp\\ipykernel_57016\\2799556401.py:77: FutureWarning: The frame.append method is deprecated and will be removed from pandas in a future version. Use pandas.concat instead.\n",
      "  df_results = df_results.append(current_result, ignore_index=True)\n",
      "DummyStatsClient._send unknown.athena_query_runs_total:1|c\n"
     ]
    },
    {
     "name": "stdout",
     "output_type": "stream",
     "text": [
      "2022-11-20 00:00:00\n",
      "2023-02-02 18:12:28,211 - botocore.credentials - INFO - Found credentials in shared credentials file: ~/.aws/credentials\n"
     ]
    },
    {
     "name": "stderr",
     "output_type": "stream",
     "text": [
      "DummyStatsClient._send unknown.athena_query_queue_ms:653.000000|ms\n",
      "DummyStatsClient._send unknown.athena_query_execution_ms:4569.000000|ms\n",
      "DummyStatsClient._send unknown.athena_query_scanned_bytes:703599957|c\n",
      "C:\\Users\\karol\\AppData\\Local\\Temp\\ipykernel_57016\\2799556401.py:77: FutureWarning: The frame.append method is deprecated and will be removed from pandas in a future version. Use pandas.concat instead.\n",
      "  df_results = df_results.append(current_result, ignore_index=True)\n",
      "DummyStatsClient._send unknown.athena_query_runs_total:1|c\n"
     ]
    },
    {
     "name": "stdout",
     "output_type": "stream",
     "text": [
      "2022-11-21 00:00:00\n",
      "2023-02-02 18:12:37,094 - botocore.credentials - INFO - Found credentials in shared credentials file: ~/.aws/credentials\n"
     ]
    },
    {
     "name": "stderr",
     "output_type": "stream",
     "text": [
      "DummyStatsClient._send unknown.athena_query_queue_ms:503.000000|ms\n",
      "DummyStatsClient._send unknown.athena_query_execution_ms:4212.000000|ms\n",
      "DummyStatsClient._send unknown.athena_query_scanned_bytes:723888042|c\n",
      "C:\\Users\\karol\\AppData\\Local\\Temp\\ipykernel_57016\\2799556401.py:77: FutureWarning: The frame.append method is deprecated and will be removed from pandas in a future version. Use pandas.concat instead.\n",
      "  df_results = df_results.append(current_result, ignore_index=True)\n",
      "DummyStatsClient._send unknown.athena_query_runs_total:1|c\n"
     ]
    },
    {
     "name": "stdout",
     "output_type": "stream",
     "text": [
      "2022-11-22 00:00:00\n",
      "2023-02-02 18:12:45,162 - botocore.credentials - INFO - Found credentials in shared credentials file: ~/.aws/credentials\n"
     ]
    },
    {
     "name": "stderr",
     "output_type": "stream",
     "text": [
      "DummyStatsClient._send unknown.athena_query_queue_ms:405.000000|ms\n",
      "DummyStatsClient._send unknown.athena_query_execution_ms:3214.000000|ms\n",
      "DummyStatsClient._send unknown.athena_query_scanned_bytes:723888042|c\n",
      "C:\\Users\\karol\\AppData\\Local\\Temp\\ipykernel_57016\\2799556401.py:77: FutureWarning: The frame.append method is deprecated and will be removed from pandas in a future version. Use pandas.concat instead.\n",
      "  df_results = df_results.append(current_result, ignore_index=True)\n",
      "DummyStatsClient._send unknown.athena_query_runs_total:1|c\n"
     ]
    },
    {
     "name": "stdout",
     "output_type": "stream",
     "text": [
      "2022-11-23 00:00:00\n",
      "2023-02-02 18:12:53,761 - botocore.credentials - INFO - Found credentials in shared credentials file: ~/.aws/credentials\n"
     ]
    },
    {
     "name": "stderr",
     "output_type": "stream",
     "text": [
      "DummyStatsClient._send unknown.athena_query_queue_ms:459.000000|ms\n",
      "DummyStatsClient._send unknown.athena_query_execution_ms:3839.000000|ms\n",
      "DummyStatsClient._send unknown.athena_query_scanned_bytes:723888042|c\n",
      "C:\\Users\\karol\\AppData\\Local\\Temp\\ipykernel_57016\\2799556401.py:77: FutureWarning: The frame.append method is deprecated and will be removed from pandas in a future version. Use pandas.concat instead.\n",
      "  df_results = df_results.append(current_result, ignore_index=True)\n",
      "DummyStatsClient._send unknown.athena_query_runs_total:1|c\n"
     ]
    },
    {
     "name": "stdout",
     "output_type": "stream",
     "text": [
      "2022-11-24 00:00:00\n",
      "2023-02-02 18:13:02,810 - botocore.credentials - INFO - Found credentials in shared credentials file: ~/.aws/credentials\n"
     ]
    },
    {
     "name": "stderr",
     "output_type": "stream",
     "text": [
      "DummyStatsClient._send unknown.athena_query_queue_ms:635.000000|ms\n",
      "DummyStatsClient._send unknown.athena_query_execution_ms:4542.000000|ms\n",
      "DummyStatsClient._send unknown.athena_query_scanned_bytes:702323126|c\n",
      "C:\\Users\\karol\\AppData\\Local\\Temp\\ipykernel_57016\\2799556401.py:77: FutureWarning: The frame.append method is deprecated and will be removed from pandas in a future version. Use pandas.concat instead.\n",
      "  df_results = df_results.append(current_result, ignore_index=True)\n",
      "DummyStatsClient._send unknown.athena_query_runs_total:1|c\n"
     ]
    },
    {
     "name": "stdout",
     "output_type": "stream",
     "text": [
      "2022-11-25 00:00:00\n",
      "2023-02-02 18:13:11,672 - botocore.credentials - INFO - Found credentials in shared credentials file: ~/.aws/credentials\n"
     ]
    },
    {
     "name": "stderr",
     "output_type": "stream",
     "text": [
      "DummyStatsClient._send unknown.athena_query_queue_ms:424.000000|ms\n",
      "DummyStatsClient._send unknown.athena_query_execution_ms:4125.000000|ms\n",
      "DummyStatsClient._send unknown.athena_query_scanned_bytes:723888042|c\n",
      "C:\\Users\\karol\\AppData\\Local\\Temp\\ipykernel_57016\\2799556401.py:77: FutureWarning: The frame.append method is deprecated and will be removed from pandas in a future version. Use pandas.concat instead.\n",
      "  df_results = df_results.append(current_result, ignore_index=True)\n",
      "DummyStatsClient._send unknown.athena_query_runs_total:1|c\n"
     ]
    },
    {
     "name": "stdout",
     "output_type": "stream",
     "text": [
      "2022-11-26 00:00:00\n",
      "2023-02-02 18:13:20,481 - botocore.credentials - INFO - Found credentials in shared credentials file: ~/.aws/credentials\n"
     ]
    },
    {
     "name": "stderr",
     "output_type": "stream",
     "text": [
      "DummyStatsClient._send unknown.athena_query_queue_ms:483.000000|ms\n",
      "DummyStatsClient._send unknown.athena_query_execution_ms:4158.000000|ms\n",
      "DummyStatsClient._send unknown.athena_query_scanned_bytes:723813727|c\n",
      "C:\\Users\\karol\\AppData\\Local\\Temp\\ipykernel_57016\\2799556401.py:77: FutureWarning: The frame.append method is deprecated and will be removed from pandas in a future version. Use pandas.concat instead.\n",
      "  df_results = df_results.append(current_result, ignore_index=True)\n",
      "DummyStatsClient._send unknown.athena_query_runs_total:1|c\n"
     ]
    },
    {
     "name": "stdout",
     "output_type": "stream",
     "text": [
      "2022-11-27 00:00:00\n",
      "2023-02-02 18:13:32,542 - botocore.credentials - INFO - Found credentials in shared credentials file: ~/.aws/credentials\n"
     ]
    },
    {
     "name": "stderr",
     "output_type": "stream",
     "text": [
      "DummyStatsClient._send unknown.athena_query_queue_ms:529.000000|ms\n",
      "DummyStatsClient._send unknown.athena_query_execution_ms:7180.000000|ms\n",
      "DummyStatsClient._send unknown.athena_query_scanned_bytes:723794514|c\n",
      "C:\\Users\\karol\\AppData\\Local\\Temp\\ipykernel_57016\\2799556401.py:77: FutureWarning: The frame.append method is deprecated and will be removed from pandas in a future version. Use pandas.concat instead.\n",
      "  df_results = df_results.append(current_result, ignore_index=True)\n",
      "DummyStatsClient._send unknown.athena_query_runs_total:1|c\n"
     ]
    },
    {
     "name": "stdout",
     "output_type": "stream",
     "text": [
      "2022-11-28 00:00:00\n",
      "2023-02-02 18:13:41,300 - botocore.credentials - INFO - Found credentials in shared credentials file: ~/.aws/credentials\n"
     ]
    },
    {
     "name": "stderr",
     "output_type": "stream",
     "text": [
      "DummyStatsClient._send unknown.athena_query_queue_ms:485.000000|ms\n",
      "DummyStatsClient._send unknown.athena_query_execution_ms:3938.000000|ms\n",
      "DummyStatsClient._send unknown.athena_query_scanned_bytes:649315792|c\n",
      "C:\\Users\\karol\\AppData\\Local\\Temp\\ipykernel_57016\\2799556401.py:77: FutureWarning: The frame.append method is deprecated and will be removed from pandas in a future version. Use pandas.concat instead.\n",
      "  df_results = df_results.append(current_result, ignore_index=True)\n",
      "DummyStatsClient._send unknown.athena_query_runs_total:1|c\n"
     ]
    },
    {
     "name": "stdout",
     "output_type": "stream",
     "text": [
      "2022-11-29 00:00:00\n",
      "2023-02-02 18:13:50,854 - botocore.credentials - INFO - Found credentials in shared credentials file: ~/.aws/credentials\n"
     ]
    },
    {
     "name": "stderr",
     "output_type": "stream",
     "text": [
      "DummyStatsClient._send unknown.athena_query_queue_ms:469.000000|ms\n",
      "DummyStatsClient._send unknown.athena_query_execution_ms:4669.000000|ms\n",
      "DummyStatsClient._send unknown.athena_query_scanned_bytes:723888042|c\n",
      "C:\\Users\\karol\\AppData\\Local\\Temp\\ipykernel_57016\\2799556401.py:77: FutureWarning: The frame.append method is deprecated and will be removed from pandas in a future version. Use pandas.concat instead.\n",
      "  df_results = df_results.append(current_result, ignore_index=True)\n",
      "DummyStatsClient._send unknown.athena_query_runs_total:1|c\n"
     ]
    },
    {
     "name": "stdout",
     "output_type": "stream",
     "text": [
      "2022-11-30 00:00:00\n",
      "2023-02-02 18:13:59,768 - botocore.credentials - INFO - Found credentials in shared credentials file: ~/.aws/credentials\n"
     ]
    },
    {
     "name": "stderr",
     "output_type": "stream",
     "text": [
      "DummyStatsClient._send unknown.athena_query_queue_ms:555.000000|ms\n",
      "DummyStatsClient._send unknown.athena_query_execution_ms:4499.000000|ms\n",
      "DummyStatsClient._send unknown.athena_query_scanned_bytes:666123848|c\n",
      "C:\\Users\\karol\\AppData\\Local\\Temp\\ipykernel_57016\\2799556401.py:77: FutureWarning: The frame.append method is deprecated and will be removed from pandas in a future version. Use pandas.concat instead.\n",
      "  df_results = df_results.append(current_result, ignore_index=True)\n",
      "DummyStatsClient._send unknown.athena_query_runs_total:1|c\n"
     ]
    },
    {
     "name": "stdout",
     "output_type": "stream",
     "text": [
      "2022-12-01 00:00:00\n",
      "2023-02-02 18:14:08,650 - botocore.credentials - INFO - Found credentials in shared credentials file: ~/.aws/credentials\n"
     ]
    },
    {
     "name": "stderr",
     "output_type": "stream",
     "text": [
      "DummyStatsClient._send unknown.athena_query_queue_ms:695.000000|ms\n",
      "DummyStatsClient._send unknown.athena_query_execution_ms:4406.000000|ms\n",
      "DummyStatsClient._send unknown.athena_query_scanned_bytes:723888042|c\n",
      "C:\\Users\\karol\\AppData\\Local\\Temp\\ipykernel_57016\\2799556401.py:77: FutureWarning: The frame.append method is deprecated and will be removed from pandas in a future version. Use pandas.concat instead.\n",
      "  df_results = df_results.append(current_result, ignore_index=True)\n",
      "DummyStatsClient._send unknown.athena_query_runs_total:1|c\n"
     ]
    },
    {
     "name": "stdout",
     "output_type": "stream",
     "text": [
      "2022-12-02 00:00:00\n",
      "2023-02-02 18:14:17,326 - botocore.credentials - INFO - Found credentials in shared credentials file: ~/.aws/credentials\n"
     ]
    },
    {
     "name": "stderr",
     "output_type": "stream",
     "text": [
      "DummyStatsClient._send unknown.athena_query_queue_ms:534.000000|ms\n",
      "DummyStatsClient._send unknown.athena_query_execution_ms:4338.000000|ms\n",
      "DummyStatsClient._send unknown.athena_query_scanned_bytes:723799729|c\n",
      "C:\\Users\\karol\\AppData\\Local\\Temp\\ipykernel_57016\\2799556401.py:77: FutureWarning: The frame.append method is deprecated and will be removed from pandas in a future version. Use pandas.concat instead.\n",
      "  df_results = df_results.append(current_result, ignore_index=True)\n",
      "DummyStatsClient._send unknown.athena_query_runs_total:1|c\n"
     ]
    },
    {
     "name": "stdout",
     "output_type": "stream",
     "text": [
      "2022-12-03 00:00:00\n",
      "2023-02-02 18:14:25,661 - botocore.credentials - INFO - Found credentials in shared credentials file: ~/.aws/credentials\n"
     ]
    },
    {
     "name": "stderr",
     "output_type": "stream",
     "text": [
      "DummyStatsClient._send unknown.athena_query_queue_ms:621.000000|ms\n",
      "DummyStatsClient._send unknown.athena_query_execution_ms:3926.000000|ms\n",
      "DummyStatsClient._send unknown.athena_query_scanned_bytes:723888042|c\n",
      "C:\\Users\\karol\\AppData\\Local\\Temp\\ipykernel_57016\\2799556401.py:77: FutureWarning: The frame.append method is deprecated and will be removed from pandas in a future version. Use pandas.concat instead.\n",
      "  df_results = df_results.append(current_result, ignore_index=True)\n",
      "DummyStatsClient._send unknown.athena_query_runs_total:1|c\n"
     ]
    },
    {
     "name": "stdout",
     "output_type": "stream",
     "text": [
      "2022-12-04 00:00:00\n",
      "2023-02-02 18:14:36,236 - botocore.credentials - INFO - Found credentials in shared credentials file: ~/.aws/credentials\n"
     ]
    },
    {
     "name": "stderr",
     "output_type": "stream",
     "text": [
      "DummyStatsClient._send unknown.athena_query_queue_ms:617.000000|ms\n",
      "DummyStatsClient._send unknown.athena_query_execution_ms:5759.000000|ms\n",
      "DummyStatsClient._send unknown.athena_query_scanned_bytes:723888042|c\n",
      "C:\\Users\\karol\\AppData\\Local\\Temp\\ipykernel_57016\\2799556401.py:77: FutureWarning: The frame.append method is deprecated and will be removed from pandas in a future version. Use pandas.concat instead.\n",
      "  df_results = df_results.append(current_result, ignore_index=True)\n",
      "DummyStatsClient._send unknown.athena_query_runs_total:1|c\n"
     ]
    },
    {
     "name": "stdout",
     "output_type": "stream",
     "text": [
      "2022-12-05 00:00:00\n",
      "2023-02-02 18:14:44,959 - botocore.credentials - INFO - Found credentials in shared credentials file: ~/.aws/credentials\n"
     ]
    },
    {
     "name": "stderr",
     "output_type": "stream",
     "text": [
      "DummyStatsClient._send unknown.athena_query_queue_ms:479.000000|ms\n",
      "DummyStatsClient._send unknown.athena_query_execution_ms:4020.000000|ms\n",
      "DummyStatsClient._send unknown.athena_query_scanned_bytes:723888042|c\n",
      "C:\\Users\\karol\\AppData\\Local\\Temp\\ipykernel_57016\\2799556401.py:77: FutureWarning: The frame.append method is deprecated and will be removed from pandas in a future version. Use pandas.concat instead.\n",
      "  df_results = df_results.append(current_result, ignore_index=True)\n",
      "DummyStatsClient._send unknown.athena_query_runs_total:1|c\n"
     ]
    },
    {
     "name": "stdout",
     "output_type": "stream",
     "text": [
      "2022-12-06 00:00:00\n",
      "2023-02-02 18:14:53,703 - botocore.credentials - INFO - Found credentials in shared credentials file: ~/.aws/credentials\n"
     ]
    },
    {
     "name": "stderr",
     "output_type": "stream",
     "text": [
      "DummyStatsClient._send unknown.athena_query_queue_ms:447.000000|ms\n",
      "DummyStatsClient._send unknown.athena_query_execution_ms:4524.000000|ms\n",
      "DummyStatsClient._send unknown.athena_query_scanned_bytes:706017097|c\n",
      "C:\\Users\\karol\\AppData\\Local\\Temp\\ipykernel_57016\\2799556401.py:77: FutureWarning: The frame.append method is deprecated and will be removed from pandas in a future version. Use pandas.concat instead.\n",
      "  df_results = df_results.append(current_result, ignore_index=True)\n",
      "DummyStatsClient._send unknown.athena_query_runs_total:1|c\n"
     ]
    },
    {
     "name": "stdout",
     "output_type": "stream",
     "text": [
      "2022-12-07 00:00:00\n",
      "2023-02-02 18:15:02,750 - botocore.credentials - INFO - Found credentials in shared credentials file: ~/.aws/credentials\n"
     ]
    },
    {
     "name": "stderr",
     "output_type": "stream",
     "text": [
      "DummyStatsClient._send unknown.athena_query_queue_ms:453.000000|ms\n",
      "DummyStatsClient._send unknown.athena_query_execution_ms:4062.000000|ms\n",
      "DummyStatsClient._send unknown.athena_query_scanned_bytes:706017097|c\n",
      "C:\\Users\\karol\\AppData\\Local\\Temp\\ipykernel_57016\\2799556401.py:77: FutureWarning: The frame.append method is deprecated and will be removed from pandas in a future version. Use pandas.concat instead.\n",
      "  df_results = df_results.append(current_result, ignore_index=True)\n",
      "DummyStatsClient._send unknown.athena_query_runs_total:1|c\n"
     ]
    },
    {
     "name": "stdout",
     "output_type": "stream",
     "text": [
      "2022-12-08 00:00:00\n",
      "2023-02-02 18:15:11,550 - botocore.credentials - INFO - Found credentials in shared credentials file: ~/.aws/credentials\n"
     ]
    },
    {
     "name": "stderr",
     "output_type": "stream",
     "text": [
      "DummyStatsClient._send unknown.athena_query_queue_ms:488.000000|ms\n",
      "DummyStatsClient._send unknown.athena_query_execution_ms:4126.000000|ms\n",
      "DummyStatsClient._send unknown.athena_query_scanned_bytes:723888042|c\n",
      "C:\\Users\\karol\\AppData\\Local\\Temp\\ipykernel_57016\\2799556401.py:77: FutureWarning: The frame.append method is deprecated and will be removed from pandas in a future version. Use pandas.concat instead.\n",
      "  df_results = df_results.append(current_result, ignore_index=True)\n",
      "DummyStatsClient._send unknown.athena_query_runs_total:1|c\n"
     ]
    },
    {
     "name": "stdout",
     "output_type": "stream",
     "text": [
      "2022-12-09 00:00:00\n",
      "2023-02-02 18:15:21,571 - botocore.credentials - INFO - Found credentials in shared credentials file: ~/.aws/credentials\n"
     ]
    },
    {
     "name": "stderr",
     "output_type": "stream",
     "text": [
      "DummyStatsClient._send unknown.athena_query_queue_ms:542.000000|ms\n",
      "DummyStatsClient._send unknown.athena_query_execution_ms:4625.000000|ms\n",
      "DummyStatsClient._send unknown.athena_query_scanned_bytes:723793636|c\n",
      "C:\\Users\\karol\\AppData\\Local\\Temp\\ipykernel_57016\\2799556401.py:77: FutureWarning: The frame.append method is deprecated and will be removed from pandas in a future version. Use pandas.concat instead.\n",
      "  df_results = df_results.append(current_result, ignore_index=True)\n",
      "DummyStatsClient._send unknown.athena_query_runs_total:1|c\n"
     ]
    },
    {
     "name": "stdout",
     "output_type": "stream",
     "text": [
      "2022-12-10 00:00:00\n",
      "2023-02-02 18:15:30,595 - botocore.credentials - INFO - Found credentials in shared credentials file: ~/.aws/credentials\n"
     ]
    },
    {
     "name": "stderr",
     "output_type": "stream",
     "text": [
      "DummyStatsClient._send unknown.athena_query_queue_ms:435.000000|ms\n",
      "DummyStatsClient._send unknown.athena_query_execution_ms:3795.000000|ms\n",
      "DummyStatsClient._send unknown.athena_query_scanned_bytes:723888042|c\n",
      "C:\\Users\\karol\\AppData\\Local\\Temp\\ipykernel_57016\\2799556401.py:77: FutureWarning: The frame.append method is deprecated and will be removed from pandas in a future version. Use pandas.concat instead.\n",
      "  df_results = df_results.append(current_result, ignore_index=True)\n",
      "DummyStatsClient._send unknown.athena_query_runs_total:1|c\n"
     ]
    },
    {
     "name": "stdout",
     "output_type": "stream",
     "text": [
      "2022-12-11 00:00:00\n",
      "2023-02-02 18:15:39,403 - botocore.credentials - INFO - Found credentials in shared credentials file: ~/.aws/credentials\n"
     ]
    },
    {
     "name": "stderr",
     "output_type": "stream",
     "text": [
      "DummyStatsClient._send unknown.athena_query_queue_ms:494.000000|ms\n",
      "DummyStatsClient._send unknown.athena_query_execution_ms:4005.000000|ms\n",
      "DummyStatsClient._send unknown.athena_query_scanned_bytes:723888042|c\n",
      "C:\\Users\\karol\\AppData\\Local\\Temp\\ipykernel_57016\\2799556401.py:77: FutureWarning: The frame.append method is deprecated and will be removed from pandas in a future version. Use pandas.concat instead.\n",
      "  df_results = df_results.append(current_result, ignore_index=True)\n",
      "DummyStatsClient._send unknown.athena_query_runs_total:1|c\n"
     ]
    },
    {
     "name": "stdout",
     "output_type": "stream",
     "text": [
      "2022-12-12 00:00:00\n",
      "2023-02-02 18:15:48,219 - botocore.credentials - INFO - Found credentials in shared credentials file: ~/.aws/credentials\n"
     ]
    },
    {
     "name": "stderr",
     "output_type": "stream",
     "text": [
      "DummyStatsClient._send unknown.athena_query_queue_ms:509.000000|ms\n",
      "DummyStatsClient._send unknown.athena_query_execution_ms:4143.000000|ms\n",
      "DummyStatsClient._send unknown.athena_query_scanned_bytes:705766122|c\n",
      "C:\\Users\\karol\\AppData\\Local\\Temp\\ipykernel_57016\\2799556401.py:77: FutureWarning: The frame.append method is deprecated and will be removed from pandas in a future version. Use pandas.concat instead.\n",
      "  df_results = df_results.append(current_result, ignore_index=True)\n",
      "DummyStatsClient._send unknown.athena_query_runs_total:1|c\n"
     ]
    },
    {
     "name": "stdout",
     "output_type": "stream",
     "text": [
      "2022-12-13 00:00:00\n",
      "2023-02-02 18:15:57,917 - botocore.credentials - INFO - Found credentials in shared credentials file: ~/.aws/credentials\n"
     ]
    },
    {
     "name": "stderr",
     "output_type": "stream",
     "text": [
      "DummyStatsClient._send unknown.athena_query_queue_ms:461.000000|ms\n",
      "DummyStatsClient._send unknown.athena_query_execution_ms:4674.000000|ms\n",
      "DummyStatsClient._send unknown.athena_query_scanned_bytes:705255971|c\n",
      "C:\\Users\\karol\\AppData\\Local\\Temp\\ipykernel_57016\\2799556401.py:77: FutureWarning: The frame.append method is deprecated and will be removed from pandas in a future version. Use pandas.concat instead.\n",
      "  df_results = df_results.append(current_result, ignore_index=True)\n",
      "DummyStatsClient._send unknown.athena_query_runs_total:1|c\n"
     ]
    },
    {
     "name": "stdout",
     "output_type": "stream",
     "text": [
      "2022-12-14 00:00:00\n",
      "2023-02-02 18:16:06,549 - botocore.credentials - INFO - Found credentials in shared credentials file: ~/.aws/credentials\n"
     ]
    },
    {
     "name": "stderr",
     "output_type": "stream",
     "text": [
      "DummyStatsClient._send unknown.athena_query_queue_ms:609.000000|ms\n",
      "DummyStatsClient._send unknown.athena_query_execution_ms:4094.000000|ms\n",
      "DummyStatsClient._send unknown.athena_query_scanned_bytes:723793636|c\n",
      "C:\\Users\\karol\\AppData\\Local\\Temp\\ipykernel_57016\\2799556401.py:77: FutureWarning: The frame.append method is deprecated and will be removed from pandas in a future version. Use pandas.concat instead.\n",
      "  df_results = df_results.append(current_result, ignore_index=True)\n",
      "DummyStatsClient._send unknown.athena_query_runs_total:1|c\n"
     ]
    },
    {
     "name": "stdout",
     "output_type": "stream",
     "text": [
      "2022-12-15 00:00:00\n",
      "2023-02-02 18:16:14,447 - botocore.credentials - INFO - Found credentials in shared credentials file: ~/.aws/credentials\n"
     ]
    },
    {
     "name": "stderr",
     "output_type": "stream",
     "text": [
      "DummyStatsClient._send unknown.athena_query_queue_ms:385.000000|ms\n",
      "DummyStatsClient._send unknown.athena_query_execution_ms:3643.000000|ms\n",
      "DummyStatsClient._send unknown.athena_query_scanned_bytes:723888042|c\n",
      "C:\\Users\\karol\\AppData\\Local\\Temp\\ipykernel_57016\\2799556401.py:77: FutureWarning: The frame.append method is deprecated and will be removed from pandas in a future version. Use pandas.concat instead.\n",
      "  df_results = df_results.append(current_result, ignore_index=True)\n",
      "DummyStatsClient._send unknown.athena_query_runs_total:1|c\n"
     ]
    },
    {
     "name": "stdout",
     "output_type": "stream",
     "text": [
      "2022-12-16 00:00:00\n",
      "2023-02-02 18:16:23,336 - botocore.credentials - INFO - Found credentials in shared credentials file: ~/.aws/credentials\n"
     ]
    },
    {
     "name": "stderr",
     "output_type": "stream",
     "text": [
      "DummyStatsClient._send unknown.athena_query_queue_ms:465.000000|ms\n",
      "DummyStatsClient._send unknown.athena_query_execution_ms:3805.000000|ms\n",
      "DummyStatsClient._send unknown.athena_query_scanned_bytes:693005399|c\n",
      "C:\\Users\\karol\\AppData\\Local\\Temp\\ipykernel_57016\\2799556401.py:77: FutureWarning: The frame.append method is deprecated and will be removed from pandas in a future version. Use pandas.concat instead.\n",
      "  df_results = df_results.append(current_result, ignore_index=True)\n",
      "DummyStatsClient._send unknown.athena_query_runs_total:1|c\n"
     ]
    },
    {
     "name": "stdout",
     "output_type": "stream",
     "text": [
      "2022-12-17 00:00:00\n",
      "2023-02-02 18:16:31,953 - botocore.credentials - INFO - Found credentials in shared credentials file: ~/.aws/credentials\n"
     ]
    },
    {
     "name": "stderr",
     "output_type": "stream",
     "text": [
      "DummyStatsClient._send unknown.athena_query_queue_ms:452.000000|ms\n",
      "DummyStatsClient._send unknown.athena_query_execution_ms:4022.000000|ms\n",
      "DummyStatsClient._send unknown.athena_query_scanned_bytes:703855532|c\n",
      "C:\\Users\\karol\\AppData\\Local\\Temp\\ipykernel_57016\\2799556401.py:77: FutureWarning: The frame.append method is deprecated and will be removed from pandas in a future version. Use pandas.concat instead.\n",
      "  df_results = df_results.append(current_result, ignore_index=True)\n",
      "DummyStatsClient._send unknown.athena_query_runs_total:1|c\n"
     ]
    },
    {
     "name": "stdout",
     "output_type": "stream",
     "text": [
      "2022-12-18 00:00:00\n",
      "2023-02-02 18:16:40,838 - botocore.credentials - INFO - Found credentials in shared credentials file: ~/.aws/credentials\n"
     ]
    },
    {
     "name": "stderr",
     "output_type": "stream",
     "text": [
      "DummyStatsClient._send unknown.athena_query_queue_ms:436.000000|ms\n",
      "DummyStatsClient._send unknown.athena_query_execution_ms:3890.000000|ms\n",
      "DummyStatsClient._send unknown.athena_query_scanned_bytes:705255971|c\n",
      "C:\\Users\\karol\\AppData\\Local\\Temp\\ipykernel_57016\\2799556401.py:77: FutureWarning: The frame.append method is deprecated and will be removed from pandas in a future version. Use pandas.concat instead.\n",
      "  df_results = df_results.append(current_result, ignore_index=True)\n",
      "DummyStatsClient._send unknown.athena_query_runs_total:1|c\n"
     ]
    },
    {
     "name": "stdout",
     "output_type": "stream",
     "text": [
      "2022-12-19 00:00:00\n",
      "2023-02-02 18:16:49,703 - botocore.credentials - INFO - Found credentials in shared credentials file: ~/.aws/credentials\n"
     ]
    },
    {
     "name": "stderr",
     "output_type": "stream",
     "text": [
      "DummyStatsClient._send unknown.athena_query_queue_ms:436.000000|ms\n",
      "DummyStatsClient._send unknown.athena_query_execution_ms:4019.000000|ms\n",
      "DummyStatsClient._send unknown.athena_query_scanned_bytes:723888042|c\n",
      "C:\\Users\\karol\\AppData\\Local\\Temp\\ipykernel_57016\\2799556401.py:77: FutureWarning: The frame.append method is deprecated and will be removed from pandas in a future version. Use pandas.concat instead.\n",
      "  df_results = df_results.append(current_result, ignore_index=True)\n",
      "DummyStatsClient._send unknown.athena_query_runs_total:1|c\n"
     ]
    },
    {
     "name": "stdout",
     "output_type": "stream",
     "text": [
      "2022-12-20 00:00:00\n",
      "2023-02-02 18:16:58,585 - botocore.credentials - INFO - Found credentials in shared credentials file: ~/.aws/credentials\n"
     ]
    },
    {
     "name": "stderr",
     "output_type": "stream",
     "text": [
      "DummyStatsClient._send unknown.athena_query_queue_ms:459.000000|ms\n",
      "DummyStatsClient._send unknown.athena_query_execution_ms:3915.000000|ms\n",
      "DummyStatsClient._send unknown.athena_query_scanned_bytes:723888042|c\n",
      "C:\\Users\\karol\\AppData\\Local\\Temp\\ipykernel_57016\\2799556401.py:77: FutureWarning: The frame.append method is deprecated and will be removed from pandas in a future version. Use pandas.concat instead.\n",
      "  df_results = df_results.append(current_result, ignore_index=True)\n",
      "DummyStatsClient._send unknown.athena_query_runs_total:1|c\n"
     ]
    },
    {
     "name": "stdout",
     "output_type": "stream",
     "text": [
      "2022-12-21 00:00:00\n",
      "2023-02-02 18:17:07,278 - botocore.credentials - INFO - Found credentials in shared credentials file: ~/.aws/credentials\n"
     ]
    },
    {
     "name": "stderr",
     "output_type": "stream",
     "text": [
      "DummyStatsClient._send unknown.athena_query_queue_ms:424.000000|ms\n",
      "DummyStatsClient._send unknown.athena_query_execution_ms:4342.000000|ms\n",
      "DummyStatsClient._send unknown.athena_query_scanned_bytes:723888042|c\n",
      "C:\\Users\\karol\\AppData\\Local\\Temp\\ipykernel_57016\\2799556401.py:77: FutureWarning: The frame.append method is deprecated and will be removed from pandas in a future version. Use pandas.concat instead.\n",
      "  df_results = df_results.append(current_result, ignore_index=True)\n",
      "DummyStatsClient._send unknown.athena_query_runs_total:1|c\n"
     ]
    },
    {
     "name": "stdout",
     "output_type": "stream",
     "text": [
      "2022-12-22 00:00:00\n",
      "2023-02-02 18:17:16,002 - botocore.credentials - INFO - Found credentials in shared credentials file: ~/.aws/credentials\n"
     ]
    },
    {
     "name": "stderr",
     "output_type": "stream",
     "text": [
      "DummyStatsClient._send unknown.athena_query_queue_ms:468.000000|ms\n",
      "DummyStatsClient._send unknown.athena_query_execution_ms:4468.000000|ms\n",
      "DummyStatsClient._send unknown.athena_query_scanned_bytes:686538528|c\n",
      "C:\\Users\\karol\\AppData\\Local\\Temp\\ipykernel_57016\\2799556401.py:77: FutureWarning: The frame.append method is deprecated and will be removed from pandas in a future version. Use pandas.concat instead.\n",
      "  df_results = df_results.append(current_result, ignore_index=True)\n",
      "DummyStatsClient._send unknown.athena_query_runs_total:1|c\n"
     ]
    },
    {
     "name": "stdout",
     "output_type": "stream",
     "text": [
      "2022-12-23 00:00:00\n",
      "2023-02-02 18:17:25,757 - botocore.credentials - INFO - Found credentials in shared credentials file: ~/.aws/credentials\n"
     ]
    },
    {
     "name": "stderr",
     "output_type": "stream",
     "text": [
      "DummyStatsClient._send unknown.athena_query_queue_ms:466.000000|ms\n",
      "DummyStatsClient._send unknown.athena_query_execution_ms:5262.000000|ms\n",
      "DummyStatsClient._send unknown.athena_query_scanned_bytes:706017097|c\n",
      "C:\\Users\\karol\\AppData\\Local\\Temp\\ipykernel_57016\\2799556401.py:77: FutureWarning: The frame.append method is deprecated and will be removed from pandas in a future version. Use pandas.concat instead.\n",
      "  df_results = df_results.append(current_result, ignore_index=True)\n",
      "DummyStatsClient._send unknown.athena_query_runs_total:1|c\n"
     ]
    },
    {
     "name": "stdout",
     "output_type": "stream",
     "text": [
      "2022-12-24 00:00:00\n",
      "2023-02-02 18:17:34,459 - botocore.credentials - INFO - Found credentials in shared credentials file: ~/.aws/credentials\n"
     ]
    },
    {
     "name": "stderr",
     "output_type": "stream",
     "text": [
      "DummyStatsClient._send unknown.athena_query_queue_ms:658.000000|ms\n",
      "DummyStatsClient._send unknown.athena_query_execution_ms:4356.000000|ms\n",
      "DummyStatsClient._send unknown.athena_query_scanned_bytes:628935972|c\n",
      "C:\\Users\\karol\\AppData\\Local\\Temp\\ipykernel_57016\\2799556401.py:77: FutureWarning: The frame.append method is deprecated and will be removed from pandas in a future version. Use pandas.concat instead.\n",
      "  df_results = df_results.append(current_result, ignore_index=True)\n",
      "DummyStatsClient._send unknown.athena_query_runs_total:1|c\n"
     ]
    },
    {
     "name": "stdout",
     "output_type": "stream",
     "text": [
      "2022-12-25 00:00:00\n",
      "2023-02-02 18:17:44,031 - botocore.credentials - INFO - Found credentials in shared credentials file: ~/.aws/credentials\n"
     ]
    },
    {
     "name": "stderr",
     "output_type": "stream",
     "text": [
      "DummyStatsClient._send unknown.athena_query_queue_ms:440.000000|ms\n",
      "DummyStatsClient._send unknown.athena_query_execution_ms:4875.000000|ms\n",
      "DummyStatsClient._send unknown.athena_query_scanned_bytes:686835616|c\n",
      "C:\\Users\\karol\\AppData\\Local\\Temp\\ipykernel_57016\\2799556401.py:77: FutureWarning: The frame.append method is deprecated and will be removed from pandas in a future version. Use pandas.concat instead.\n",
      "  df_results = df_results.append(current_result, ignore_index=True)\n",
      "DummyStatsClient._send unknown.athena_query_runs_total:1|c\n"
     ]
    },
    {
     "name": "stdout",
     "output_type": "stream",
     "text": [
      "2022-12-26 00:00:00\n",
      "2023-02-02 18:17:53,177 - botocore.credentials - INFO - Found credentials in shared credentials file: ~/.aws/credentials\n"
     ]
    },
    {
     "name": "stderr",
     "output_type": "stream",
     "text": [
      "DummyStatsClient._send unknown.athena_query_queue_ms:453.000000|ms\n",
      "DummyStatsClient._send unknown.athena_query_execution_ms:4221.000000|ms\n",
      "DummyStatsClient._send unknown.athena_query_scanned_bytes:723814166|c\n",
      "C:\\Users\\karol\\AppData\\Local\\Temp\\ipykernel_57016\\2799556401.py:77: FutureWarning: The frame.append method is deprecated and will be removed from pandas in a future version. Use pandas.concat instead.\n",
      "  df_results = df_results.append(current_result, ignore_index=True)\n",
      "DummyStatsClient._send unknown.athena_query_runs_total:1|c\n"
     ]
    },
    {
     "name": "stdout",
     "output_type": "stream",
     "text": [
      "2022-12-27 00:00:00\n",
      "2023-02-02 18:18:02,757 - botocore.credentials - INFO - Found credentials in shared credentials file: ~/.aws/credentials\n"
     ]
    },
    {
     "name": "stderr",
     "output_type": "stream",
     "text": [
      "DummyStatsClient._send unknown.athena_query_queue_ms:514.000000|ms\n",
      "DummyStatsClient._send unknown.athena_query_execution_ms:4632.000000|ms\n",
      "DummyStatsClient._send unknown.athena_query_scanned_bytes:723888042|c\n",
      "C:\\Users\\karol\\AppData\\Local\\Temp\\ipykernel_57016\\2799556401.py:77: FutureWarning: The frame.append method is deprecated and will be removed from pandas in a future version. Use pandas.concat instead.\n",
      "  df_results = df_results.append(current_result, ignore_index=True)\n",
      "DummyStatsClient._send unknown.athena_query_runs_total:1|c\n"
     ]
    },
    {
     "name": "stdout",
     "output_type": "stream",
     "text": [
      "2022-12-28 00:00:00\n",
      "2023-02-02 18:18:11,485 - botocore.credentials - INFO - Found credentials in shared credentials file: ~/.aws/credentials\n"
     ]
    },
    {
     "name": "stderr",
     "output_type": "stream",
     "text": [
      "DummyStatsClient._send unknown.athena_query_queue_ms:482.000000|ms\n",
      "DummyStatsClient._send unknown.athena_query_execution_ms:4438.000000|ms\n",
      "DummyStatsClient._send unknown.athena_query_scanned_bytes:723888042|c\n",
      "C:\\Users\\karol\\AppData\\Local\\Temp\\ipykernel_57016\\2799556401.py:77: FutureWarning: The frame.append method is deprecated and will be removed from pandas in a future version. Use pandas.concat instead.\n",
      "  df_results = df_results.append(current_result, ignore_index=True)\n",
      "DummyStatsClient._send unknown.athena_query_runs_total:1|c\n"
     ]
    },
    {
     "name": "stdout",
     "output_type": "stream",
     "text": [
      "2022-12-29 00:00:00\n",
      "2023-02-02 18:18:20,964 - botocore.credentials - INFO - Found credentials in shared credentials file: ~/.aws/credentials\n"
     ]
    },
    {
     "name": "stderr",
     "output_type": "stream",
     "text": [
      "DummyStatsClient._send unknown.athena_query_queue_ms:613.000000|ms\n",
      "DummyStatsClient._send unknown.athena_query_execution_ms:5242.000000|ms\n",
      "DummyStatsClient._send unknown.athena_query_scanned_bytes:683669533|c\n",
      "C:\\Users\\karol\\AppData\\Local\\Temp\\ipykernel_57016\\2799556401.py:77: FutureWarning: The frame.append method is deprecated and will be removed from pandas in a future version. Use pandas.concat instead.\n",
      "  df_results = df_results.append(current_result, ignore_index=True)\n",
      "DummyStatsClient._send unknown.athena_query_runs_total:1|c\n"
     ]
    },
    {
     "name": "stdout",
     "output_type": "stream",
     "text": [
      "2022-12-30 00:00:00\n",
      "2023-02-02 18:18:29,883 - botocore.credentials - INFO - Found credentials in shared credentials file: ~/.aws/credentials\n"
     ]
    },
    {
     "name": "stderr",
     "output_type": "stream",
     "text": [
      "DummyStatsClient._send unknown.athena_query_queue_ms:448.000000|ms\n",
      "DummyStatsClient._send unknown.athena_query_execution_ms:4001.000000|ms\n",
      "DummyStatsClient._send unknown.athena_query_scanned_bytes:723888042|c\n",
      "C:\\Users\\karol\\AppData\\Local\\Temp\\ipykernel_57016\\2799556401.py:77: FutureWarning: The frame.append method is deprecated and will be removed from pandas in a future version. Use pandas.concat instead.\n",
      "  df_results = df_results.append(current_result, ignore_index=True)\n",
      "DummyStatsClient._send unknown.athena_query_runs_total:1|c\n"
     ]
    },
    {
     "name": "stdout",
     "output_type": "stream",
     "text": [
      "2022-12-31 00:00:00\n",
      "2023-02-02 18:18:38,785 - botocore.credentials - INFO - Found credentials in shared credentials file: ~/.aws/credentials\n"
     ]
    },
    {
     "name": "stderr",
     "output_type": "stream",
     "text": [
      "DummyStatsClient._send unknown.athena_query_queue_ms:686.000000|ms\n",
      "DummyStatsClient._send unknown.athena_query_execution_ms:4199.000000|ms\n",
      "DummyStatsClient._send unknown.athena_query_scanned_bytes:723811536|c\n",
      "C:\\Users\\karol\\AppData\\Local\\Temp\\ipykernel_57016\\2799556401.py:77: FutureWarning: The frame.append method is deprecated and will be removed from pandas in a future version. Use pandas.concat instead.\n",
      "  df_results = df_results.append(current_result, ignore_index=True)\n",
      "DummyStatsClient._send unknown.athena_query_runs_total:1|c\n"
     ]
    },
    {
     "name": "stdout",
     "output_type": "stream",
     "text": [
      "2023-01-01 00:00:00\n",
      "2023-02-02 18:18:48,325 - botocore.credentials - INFO - Found credentials in shared credentials file: ~/.aws/credentials\n"
     ]
    },
    {
     "name": "stderr",
     "output_type": "stream",
     "text": [
      "DummyStatsClient._send unknown.athena_query_queue_ms:474.000000|ms\n",
      "DummyStatsClient._send unknown.athena_query_execution_ms:4641.000000|ms\n",
      "DummyStatsClient._send unknown.athena_query_scanned_bytes:723888042|c\n",
      "C:\\Users\\karol\\AppData\\Local\\Temp\\ipykernel_57016\\2799556401.py:77: FutureWarning: The frame.append method is deprecated and will be removed from pandas in a future version. Use pandas.concat instead.\n",
      "  df_results = df_results.append(current_result, ignore_index=True)\n",
      "DummyStatsClient._send unknown.athena_query_runs_total:1|c\n"
     ]
    },
    {
     "name": "stdout",
     "output_type": "stream",
     "text": [
      "2023-01-02 00:00:00\n",
      "2023-02-02 18:18:57,223 - botocore.credentials - INFO - Found credentials in shared credentials file: ~/.aws/credentials\n"
     ]
    },
    {
     "name": "stderr",
     "output_type": "stream",
     "text": [
      "DummyStatsClient._send unknown.athena_query_queue_ms:475.000000|ms\n",
      "DummyStatsClient._send unknown.athena_query_execution_ms:4029.000000|ms\n",
      "DummyStatsClient._send unknown.athena_query_scanned_bytes:723888042|c\n",
      "C:\\Users\\karol\\AppData\\Local\\Temp\\ipykernel_57016\\2799556401.py:77: FutureWarning: The frame.append method is deprecated and will be removed from pandas in a future version. Use pandas.concat instead.\n",
      "  df_results = df_results.append(current_result, ignore_index=True)\n",
      "DummyStatsClient._send unknown.athena_query_runs_total:1|c\n"
     ]
    },
    {
     "name": "stdout",
     "output_type": "stream",
     "text": [
      "2023-01-03 00:00:00\n",
      "2023-02-02 18:19:07,431 - botocore.credentials - INFO - Found credentials in shared credentials file: ~/.aws/credentials\n"
     ]
    },
    {
     "name": "stderr",
     "output_type": "stream",
     "text": [
      "DummyStatsClient._send unknown.athena_query_queue_ms:882.000000|ms\n",
      "DummyStatsClient._send unknown.athena_query_execution_ms:5782.000000|ms\n",
      "DummyStatsClient._send unknown.athena_query_scanned_bytes:677026131|c\n",
      "C:\\Users\\karol\\AppData\\Local\\Temp\\ipykernel_57016\\2799556401.py:77: FutureWarning: The frame.append method is deprecated and will be removed from pandas in a future version. Use pandas.concat instead.\n",
      "  df_results = df_results.append(current_result, ignore_index=True)\n",
      "DummyStatsClient._send unknown.athena_query_runs_total:1|c\n"
     ]
    },
    {
     "name": "stdout",
     "output_type": "stream",
     "text": [
      "2023-01-04 00:00:00\n",
      "2023-02-02 18:19:16,131 - botocore.credentials - INFO - Found credentials in shared credentials file: ~/.aws/credentials\n"
     ]
    },
    {
     "name": "stderr",
     "output_type": "stream",
     "text": [
      "DummyStatsClient._send unknown.athena_query_queue_ms:444.000000|ms\n",
      "DummyStatsClient._send unknown.athena_query_execution_ms:4021.000000|ms\n",
      "DummyStatsClient._send unknown.athena_query_scanned_bytes:723888042|c\n",
      "C:\\Users\\karol\\AppData\\Local\\Temp\\ipykernel_57016\\2799556401.py:77: FutureWarning: The frame.append method is deprecated and will be removed from pandas in a future version. Use pandas.concat instead.\n",
      "  df_results = df_results.append(current_result, ignore_index=True)\n",
      "DummyStatsClient._send unknown.athena_query_runs_total:1|c\n"
     ]
    },
    {
     "name": "stdout",
     "output_type": "stream",
     "text": [
      "2023-01-05 00:00:00\n",
      "2023-02-02 18:19:25,063 - botocore.credentials - INFO - Found credentials in shared credentials file: ~/.aws/credentials\n"
     ]
    },
    {
     "name": "stderr",
     "output_type": "stream",
     "text": [
      "DummyStatsClient._send unknown.athena_query_queue_ms:424.000000|ms\n",
      "DummyStatsClient._send unknown.athena_query_execution_ms:3949.000000|ms\n",
      "DummyStatsClient._send unknown.athena_query_scanned_bytes:723714874|c\n",
      "C:\\Users\\karol\\AppData\\Local\\Temp\\ipykernel_57016\\2799556401.py:77: FutureWarning: The frame.append method is deprecated and will be removed from pandas in a future version. Use pandas.concat instead.\n",
      "  df_results = df_results.append(current_result, ignore_index=True)\n",
      "DummyStatsClient._send unknown.athena_query_runs_total:1|c\n"
     ]
    },
    {
     "name": "stdout",
     "output_type": "stream",
     "text": [
      "2023-01-06 00:00:00\n",
      "2023-02-02 18:19:33,743 - botocore.credentials - INFO - Found credentials in shared credentials file: ~/.aws/credentials\n"
     ]
    },
    {
     "name": "stderr",
     "output_type": "stream",
     "text": [
      "DummyStatsClient._send unknown.athena_query_queue_ms:444.000000|ms\n",
      "DummyStatsClient._send unknown.athena_query_execution_ms:3875.000000|ms\n",
      "DummyStatsClient._send unknown.athena_query_scanned_bytes:685729012|c\n",
      "C:\\Users\\karol\\AppData\\Local\\Temp\\ipykernel_57016\\2799556401.py:77: FutureWarning: The frame.append method is deprecated and will be removed from pandas in a future version. Use pandas.concat instead.\n",
      "  df_results = df_results.append(current_result, ignore_index=True)\n",
      "DummyStatsClient._send unknown.athena_query_runs_total:1|c\n"
     ]
    },
    {
     "name": "stdout",
     "output_type": "stream",
     "text": [
      "2023-01-07 00:00:00\n",
      "2023-02-02 18:19:43,312 - botocore.credentials - INFO - Found credentials in shared credentials file: ~/.aws/credentials\n"
     ]
    },
    {
     "name": "stderr",
     "output_type": "stream",
     "text": [
      "DummyStatsClient._send unknown.athena_query_queue_ms:487.000000|ms\n",
      "DummyStatsClient._send unknown.athena_query_execution_ms:5071.000000|ms\n",
      "DummyStatsClient._send unknown.athena_query_scanned_bytes:723888042|c\n",
      "C:\\Users\\karol\\AppData\\Local\\Temp\\ipykernel_57016\\2799556401.py:77: FutureWarning: The frame.append method is deprecated and will be removed from pandas in a future version. Use pandas.concat instead.\n",
      "  df_results = df_results.append(current_result, ignore_index=True)\n",
      "DummyStatsClient._send unknown.athena_query_runs_total:1|c\n"
     ]
    },
    {
     "name": "stdout",
     "output_type": "stream",
     "text": [
      "2023-01-08 00:00:00\n",
      "2023-02-02 18:19:52,271 - botocore.credentials - INFO - Found credentials in shared credentials file: ~/.aws/credentials\n"
     ]
    },
    {
     "name": "stderr",
     "output_type": "stream",
     "text": [
      "DummyStatsClient._send unknown.athena_query_queue_ms:426.000000|ms\n",
      "DummyStatsClient._send unknown.athena_query_execution_ms:3998.000000|ms\n",
      "DummyStatsClient._send unknown.athena_query_scanned_bytes:723888042|c\n",
      "C:\\Users\\karol\\AppData\\Local\\Temp\\ipykernel_57016\\2799556401.py:77: FutureWarning: The frame.append method is deprecated and will be removed from pandas in a future version. Use pandas.concat instead.\n",
      "  df_results = df_results.append(current_result, ignore_index=True)\n",
      "DummyStatsClient._send unknown.athena_query_runs_total:1|c\n"
     ]
    },
    {
     "name": "stdout",
     "output_type": "stream",
     "text": [
      "2023-01-09 00:00:00\n",
      "2023-02-02 18:20:01,935 - botocore.credentials - INFO - Found credentials in shared credentials file: ~/.aws/credentials\n"
     ]
    },
    {
     "name": "stderr",
     "output_type": "stream",
     "text": [
      "DummyStatsClient._send unknown.athena_query_queue_ms:453.000000|ms\n",
      "DummyStatsClient._send unknown.athena_query_execution_ms:4598.000000|ms\n",
      "DummyStatsClient._send unknown.athena_query_scanned_bytes:723888042|c\n",
      "C:\\Users\\karol\\AppData\\Local\\Temp\\ipykernel_57016\\2799556401.py:77: FutureWarning: The frame.append method is deprecated and will be removed from pandas in a future version. Use pandas.concat instead.\n",
      "  df_results = df_results.append(current_result, ignore_index=True)\n",
      "DummyStatsClient._send unknown.athena_query_runs_total:1|c\n"
     ]
    },
    {
     "name": "stdout",
     "output_type": "stream",
     "text": [
      "2023-01-10 00:00:00\n",
      "2023-02-02 18:20:10,791 - botocore.credentials - INFO - Found credentials in shared credentials file: ~/.aws/credentials\n"
     ]
    },
    {
     "name": "stderr",
     "output_type": "stream",
     "text": [
      "DummyStatsClient._send unknown.athena_query_queue_ms:483.000000|ms\n",
      "DummyStatsClient._send unknown.athena_query_execution_ms:4462.000000|ms\n",
      "DummyStatsClient._send unknown.athena_query_scanned_bytes:701619240|c\n",
      "C:\\Users\\karol\\AppData\\Local\\Temp\\ipykernel_57016\\2799556401.py:77: FutureWarning: The frame.append method is deprecated and will be removed from pandas in a future version. Use pandas.concat instead.\n",
      "  df_results = df_results.append(current_result, ignore_index=True)\n",
      "DummyStatsClient._send unknown.athena_query_runs_total:1|c\n"
     ]
    },
    {
     "name": "stdout",
     "output_type": "stream",
     "text": [
      "2023-01-11 00:00:00\n",
      "2023-02-02 18:20:19,608 - botocore.credentials - INFO - Found credentials in shared credentials file: ~/.aws/credentials\n"
     ]
    },
    {
     "name": "stderr",
     "output_type": "stream",
     "text": [
      "DummyStatsClient._send unknown.athena_query_queue_ms:444.000000|ms\n",
      "DummyStatsClient._send unknown.athena_query_execution_ms:4039.000000|ms\n",
      "DummyStatsClient._send unknown.athena_query_scanned_bytes:723888042|c\n",
      "C:\\Users\\karol\\AppData\\Local\\Temp\\ipykernel_57016\\2799556401.py:77: FutureWarning: The frame.append method is deprecated and will be removed from pandas in a future version. Use pandas.concat instead.\n",
      "  df_results = df_results.append(current_result, ignore_index=True)\n",
      "DummyStatsClient._send unknown.athena_query_runs_total:1|c\n"
     ]
    },
    {
     "name": "stdout",
     "output_type": "stream",
     "text": [
      "2023-01-12 00:00:00\n",
      "2023-02-02 18:20:27,861 - botocore.credentials - INFO - Found credentials in shared credentials file: ~/.aws/credentials\n"
     ]
    },
    {
     "name": "stderr",
     "output_type": "stream",
     "text": [
      "DummyStatsClient._send unknown.athena_query_queue_ms:437.000000|ms\n",
      "DummyStatsClient._send unknown.athena_query_execution_ms:3721.000000|ms\n",
      "DummyStatsClient._send unknown.athena_query_scanned_bytes:683864229|c\n",
      "C:\\Users\\karol\\AppData\\Local\\Temp\\ipykernel_57016\\2799556401.py:77: FutureWarning: The frame.append method is deprecated and will be removed from pandas in a future version. Use pandas.concat instead.\n",
      "  df_results = df_results.append(current_result, ignore_index=True)\n",
      "DummyStatsClient._send unknown.athena_query_runs_total:1|c\n"
     ]
    },
    {
     "name": "stdout",
     "output_type": "stream",
     "text": [
      "2023-01-13 00:00:00\n",
      "2023-02-02 18:20:38,240 - botocore.credentials - INFO - Found credentials in shared credentials file: ~/.aws/credentials\n"
     ]
    },
    {
     "name": "stderr",
     "output_type": "stream",
     "text": [
      "DummyStatsClient._send unknown.athena_query_queue_ms:610.000000|ms\n",
      "DummyStatsClient._send unknown.athena_query_execution_ms:5385.000000|ms\n",
      "DummyStatsClient._send unknown.athena_query_scanned_bytes:668141529|c\n",
      "C:\\Users\\karol\\AppData\\Local\\Temp\\ipykernel_57016\\2799556401.py:77: FutureWarning: The frame.append method is deprecated and will be removed from pandas in a future version. Use pandas.concat instead.\n",
      "  df_results = df_results.append(current_result, ignore_index=True)\n",
      "DummyStatsClient._send unknown.athena_query_runs_total:1|c\n"
     ]
    },
    {
     "name": "stdout",
     "output_type": "stream",
     "text": [
      "2023-01-14 00:00:00\n",
      "2023-02-02 18:20:46,843 - botocore.credentials - INFO - Found credentials in shared credentials file: ~/.aws/credentials\n"
     ]
    },
    {
     "name": "stderr",
     "output_type": "stream",
     "text": [
      "DummyStatsClient._send unknown.athena_query_queue_ms:415.000000|ms\n",
      "DummyStatsClient._send unknown.athena_query_execution_ms:4058.000000|ms\n",
      "DummyStatsClient._send unknown.athena_query_scanned_bytes:723888042|c\n",
      "C:\\Users\\karol\\AppData\\Local\\Temp\\ipykernel_57016\\2799556401.py:77: FutureWarning: The frame.append method is deprecated and will be removed from pandas in a future version. Use pandas.concat instead.\n",
      "  df_results = df_results.append(current_result, ignore_index=True)\n",
      "DummyStatsClient._send unknown.athena_query_runs_total:1|c\n"
     ]
    },
    {
     "name": "stdout",
     "output_type": "stream",
     "text": [
      "2023-01-15 00:00:00\n",
      "2023-02-02 18:20:55,766 - botocore.credentials - INFO - Found credentials in shared credentials file: ~/.aws/credentials\n"
     ]
    },
    {
     "name": "stderr",
     "output_type": "stream",
     "text": [
      "DummyStatsClient._send unknown.athena_query_queue_ms:588.000000|ms\n",
      "DummyStatsClient._send unknown.athena_query_execution_ms:4261.000000|ms\n",
      "DummyStatsClient._send unknown.athena_query_scanned_bytes:723888042|c\n",
      "C:\\Users\\karol\\AppData\\Local\\Temp\\ipykernel_57016\\2799556401.py:77: FutureWarning: The frame.append method is deprecated and will be removed from pandas in a future version. Use pandas.concat instead.\n",
      "  df_results = df_results.append(current_result, ignore_index=True)\n",
      "DummyStatsClient._send unknown.athena_query_runs_total:1|c\n"
     ]
    },
    {
     "name": "stdout",
     "output_type": "stream",
     "text": [
      "2023-01-16 00:00:00\n",
      "2023-02-02 18:21:05,286 - botocore.credentials - INFO - Found credentials in shared credentials file: ~/.aws/credentials\n"
     ]
    },
    {
     "name": "stderr",
     "output_type": "stream",
     "text": [
      "DummyStatsClient._send unknown.athena_query_queue_ms:631.000000|ms\n",
      "DummyStatsClient._send unknown.athena_query_execution_ms:4882.000000|ms\n",
      "DummyStatsClient._send unknown.athena_query_scanned_bytes:685729012|c\n",
      "C:\\Users\\karol\\AppData\\Local\\Temp\\ipykernel_57016\\2799556401.py:77: FutureWarning: The frame.append method is deprecated and will be removed from pandas in a future version. Use pandas.concat instead.\n",
      "  df_results = df_results.append(current_result, ignore_index=True)\n",
      "DummyStatsClient._send unknown.athena_query_runs_total:1|c\n"
     ]
    },
    {
     "name": "stdout",
     "output_type": "stream",
     "text": [
      "2023-01-17 00:00:00\n",
      "2023-02-02 18:21:14,766 - botocore.credentials - INFO - Found credentials in shared credentials file: ~/.aws/credentials\n"
     ]
    },
    {
     "name": "stderr",
     "output_type": "stream",
     "text": [
      "DummyStatsClient._send unknown.athena_query_queue_ms:543.000000|ms\n",
      "DummyStatsClient._send unknown.athena_query_execution_ms:5072.000000|ms\n",
      "DummyStatsClient._send unknown.athena_query_scanned_bytes:693005399|c\n",
      "C:\\Users\\karol\\AppData\\Local\\Temp\\ipykernel_57016\\2799556401.py:77: FutureWarning: The frame.append method is deprecated and will be removed from pandas in a future version. Use pandas.concat instead.\n",
      "  df_results = df_results.append(current_result, ignore_index=True)\n",
      "DummyStatsClient._send unknown.athena_query_runs_total:1|c\n"
     ]
    },
    {
     "name": "stdout",
     "output_type": "stream",
     "text": [
      "2023-01-18 00:00:00\n",
      "2023-02-02 18:21:24,577 - botocore.credentials - INFO - Found credentials in shared credentials file: ~/.aws/credentials\n"
     ]
    },
    {
     "name": "stderr",
     "output_type": "stream",
     "text": [
      "DummyStatsClient._send unknown.athena_query_queue_ms:522.000000|ms\n",
      "DummyStatsClient._send unknown.athena_query_execution_ms:4732.000000|ms\n",
      "DummyStatsClient._send unknown.athena_query_scanned_bytes:723888042|c\n",
      "C:\\Users\\karol\\AppData\\Local\\Temp\\ipykernel_57016\\2799556401.py:77: FutureWarning: The frame.append method is deprecated and will be removed from pandas in a future version. Use pandas.concat instead.\n",
      "  df_results = df_results.append(current_result, ignore_index=True)\n",
      "DummyStatsClient._send unknown.athena_query_runs_total:1|c\n"
     ]
    },
    {
     "name": "stdout",
     "output_type": "stream",
     "text": [
      "2023-01-19 00:00:00\n",
      "2023-02-02 18:21:34,004 - botocore.credentials - INFO - Found credentials in shared credentials file: ~/.aws/credentials\n"
     ]
    },
    {
     "name": "stderr",
     "output_type": "stream",
     "text": [
      "DummyStatsClient._send unknown.athena_query_queue_ms:459.000000|ms\n",
      "DummyStatsClient._send unknown.athena_query_execution_ms:4970.000000|ms\n",
      "DummyStatsClient._send unknown.athena_query_scanned_bytes:704895520|c\n",
      "C:\\Users\\karol\\AppData\\Local\\Temp\\ipykernel_57016\\2799556401.py:77: FutureWarning: The frame.append method is deprecated and will be removed from pandas in a future version. Use pandas.concat instead.\n",
      "  df_results = df_results.append(current_result, ignore_index=True)\n",
      "DummyStatsClient._send unknown.athena_query_runs_total:1|c\n"
     ]
    },
    {
     "name": "stdout",
     "output_type": "stream",
     "text": [
      "2023-01-20 00:00:00\n",
      "2023-02-02 18:21:43,521 - botocore.credentials - INFO - Found credentials in shared credentials file: ~/.aws/credentials\n"
     ]
    },
    {
     "name": "stderr",
     "output_type": "stream",
     "text": [
      "DummyStatsClient._send unknown.athena_query_queue_ms:438.000000|ms\n",
      "DummyStatsClient._send unknown.athena_query_execution_ms:4814.000000|ms\n",
      "DummyStatsClient._send unknown.athena_query_scanned_bytes:704926413|c\n",
      "C:\\Users\\karol\\AppData\\Local\\Temp\\ipykernel_57016\\2799556401.py:77: FutureWarning: The frame.append method is deprecated and will be removed from pandas in a future version. Use pandas.concat instead.\n",
      "  df_results = df_results.append(current_result, ignore_index=True)\n",
      "DummyStatsClient._send unknown.athena_query_runs_total:1|c\n"
     ]
    },
    {
     "name": "stdout",
     "output_type": "stream",
     "text": [
      "2023-01-21 00:00:00\n",
      "2023-02-02 18:21:53,347 - botocore.credentials - INFO - Found credentials in shared credentials file: ~/.aws/credentials\n"
     ]
    },
    {
     "name": "stderr",
     "output_type": "stream",
     "text": [
      "DummyStatsClient._send unknown.athena_query_queue_ms:408.000000|ms\n",
      "DummyStatsClient._send unknown.athena_query_execution_ms:4912.000000|ms\n",
      "DummyStatsClient._send unknown.athena_query_scanned_bytes:705902014|c\n",
      "C:\\Users\\karol\\AppData\\Local\\Temp\\ipykernel_57016\\2799556401.py:77: FutureWarning: The frame.append method is deprecated and will be removed from pandas in a future version. Use pandas.concat instead.\n",
      "  df_results = df_results.append(current_result, ignore_index=True)\n",
      "DummyStatsClient._send unknown.athena_query_runs_total:1|c\n"
     ]
    },
    {
     "name": "stdout",
     "output_type": "stream",
     "text": [
      "2023-01-22 00:00:00\n",
      "2023-02-02 18:22:02,151 - botocore.credentials - INFO - Found credentials in shared credentials file: ~/.aws/credentials\n"
     ]
    },
    {
     "name": "stderr",
     "output_type": "stream",
     "text": [
      "DummyStatsClient._send unknown.athena_query_queue_ms:428.000000|ms\n",
      "DummyStatsClient._send unknown.athena_query_execution_ms:4031.000000|ms\n",
      "DummyStatsClient._send unknown.athena_query_scanned_bytes:723809280|c\n",
      "C:\\Users\\karol\\AppData\\Local\\Temp\\ipykernel_57016\\2799556401.py:77: FutureWarning: The frame.append method is deprecated and will be removed from pandas in a future version. Use pandas.concat instead.\n",
      "  df_results = df_results.append(current_result, ignore_index=True)\n",
      "DummyStatsClient._send unknown.athena_query_runs_total:1|c\n"
     ]
    },
    {
     "name": "stdout",
     "output_type": "stream",
     "text": [
      "2023-01-23 00:00:00\n",
      "2023-02-02 18:22:11,016 - botocore.credentials - INFO - Found credentials in shared credentials file: ~/.aws/credentials\n"
     ]
    },
    {
     "name": "stderr",
     "output_type": "stream",
     "text": [
      "DummyStatsClient._send unknown.athena_query_queue_ms:421.000000|ms\n",
      "DummyStatsClient._send unknown.athena_query_execution_ms:3882.000000|ms\n",
      "DummyStatsClient._send unknown.athena_query_scanned_bytes:705172210|c\n",
      "C:\\Users\\karol\\AppData\\Local\\Temp\\ipykernel_57016\\2799556401.py:77: FutureWarning: The frame.append method is deprecated and will be removed from pandas in a future version. Use pandas.concat instead.\n",
      "  df_results = df_results.append(current_result, ignore_index=True)\n",
      "DummyStatsClient._send unknown.athena_query_runs_total:1|c\n"
     ]
    },
    {
     "name": "stdout",
     "output_type": "stream",
     "text": [
      "2023-01-24 00:00:00\n",
      "2023-02-02 18:22:20,654 - botocore.credentials - INFO - Found credentials in shared credentials file: ~/.aws/credentials\n"
     ]
    },
    {
     "name": "stderr",
     "output_type": "stream",
     "text": [
      "DummyStatsClient._send unknown.athena_query_queue_ms:619.000000|ms\n",
      "DummyStatsClient._send unknown.athena_query_execution_ms:5258.000000|ms\n",
      "DummyStatsClient._send unknown.athena_query_scanned_bytes:677321705|c\n",
      "C:\\Users\\karol\\AppData\\Local\\Temp\\ipykernel_57016\\2799556401.py:77: FutureWarning: The frame.append method is deprecated and will be removed from pandas in a future version. Use pandas.concat instead.\n",
      "  df_results = df_results.append(current_result, ignore_index=True)\n",
      "DummyStatsClient._send unknown.athena_query_runs_total:1|c\n"
     ]
    },
    {
     "name": "stdout",
     "output_type": "stream",
     "text": [
      "2023-01-25 00:00:00\n",
      "2023-02-02 18:22:29,507 - botocore.credentials - INFO - Found credentials in shared credentials file: ~/.aws/credentials\n"
     ]
    },
    {
     "name": "stderr",
     "output_type": "stream",
     "text": [
      "DummyStatsClient._send unknown.athena_query_queue_ms:402.000000|ms\n",
      "DummyStatsClient._send unknown.athena_query_execution_ms:3838.000000|ms\n",
      "DummyStatsClient._send unknown.athena_query_scanned_bytes:705255971|c\n",
      "C:\\Users\\karol\\AppData\\Local\\Temp\\ipykernel_57016\\2799556401.py:77: FutureWarning: The frame.append method is deprecated and will be removed from pandas in a future version. Use pandas.concat instead.\n",
      "  df_results = df_results.append(current_result, ignore_index=True)\n",
      "DummyStatsClient._send unknown.athena_query_runs_total:1|c\n"
     ]
    },
    {
     "name": "stdout",
     "output_type": "stream",
     "text": [
      "2023-01-26 00:00:00\n",
      "2023-02-02 18:22:38,372 - botocore.credentials - INFO - Found credentials in shared credentials file: ~/.aws/credentials\n"
     ]
    },
    {
     "name": "stderr",
     "output_type": "stream",
     "text": [
      "DummyStatsClient._send unknown.athena_query_queue_ms:444.000000|ms\n",
      "DummyStatsClient._send unknown.athena_query_execution_ms:4429.000000|ms\n",
      "DummyStatsClient._send unknown.athena_query_scanned_bytes:704439239|c\n",
      "C:\\Users\\karol\\AppData\\Local\\Temp\\ipykernel_57016\\2799556401.py:77: FutureWarning: The frame.append method is deprecated and will be removed from pandas in a future version. Use pandas.concat instead.\n",
      "  df_results = df_results.append(current_result, ignore_index=True)\n",
      "DummyStatsClient._send unknown.athena_query_runs_total:1|c\n"
     ]
    },
    {
     "name": "stdout",
     "output_type": "stream",
     "text": [
      "2023-01-27 00:00:00\n",
      "2023-02-02 18:22:47,090 - botocore.credentials - INFO - Found credentials in shared credentials file: ~/.aws/credentials\n"
     ]
    },
    {
     "name": "stderr",
     "output_type": "stream",
     "text": [
      "DummyStatsClient._send unknown.athena_query_queue_ms:471.000000|ms\n",
      "DummyStatsClient._send unknown.athena_query_execution_ms:4280.000000|ms\n",
      "DummyStatsClient._send unknown.athena_query_scanned_bytes:723888042|c\n",
      "C:\\Users\\karol\\AppData\\Local\\Temp\\ipykernel_57016\\2799556401.py:77: FutureWarning: The frame.append method is deprecated and will be removed from pandas in a future version. Use pandas.concat instead.\n",
      "  df_results = df_results.append(current_result, ignore_index=True)\n",
      "DummyStatsClient._send unknown.athena_query_runs_total:1|c\n"
     ]
    },
    {
     "name": "stdout",
     "output_type": "stream",
     "text": [
      "2023-01-28 00:00:00\n",
      "2023-02-02 18:22:56,820 - botocore.credentials - INFO - Found credentials in shared credentials file: ~/.aws/credentials\n"
     ]
    },
    {
     "name": "stderr",
     "output_type": "stream",
     "text": [
      "DummyStatsClient._send unknown.athena_query_queue_ms:628.000000|ms\n",
      "DummyStatsClient._send unknown.athena_query_execution_ms:4614.000000|ms\n",
      "DummyStatsClient._send unknown.athena_query_scanned_bytes:702641365|c\n",
      "C:\\Users\\karol\\AppData\\Local\\Temp\\ipykernel_57016\\2799556401.py:77: FutureWarning: The frame.append method is deprecated and will be removed from pandas in a future version. Use pandas.concat instead.\n",
      "  df_results = df_results.append(current_result, ignore_index=True)\n",
      "DummyStatsClient._send unknown.athena_query_runs_total:1|c\n"
     ]
    },
    {
     "name": "stdout",
     "output_type": "stream",
     "text": [
      "2023-01-29 00:00:00\n",
      "2023-02-02 18:23:06,725 - botocore.credentials - INFO - Found credentials in shared credentials file: ~/.aws/credentials\n"
     ]
    },
    {
     "name": "stderr",
     "output_type": "stream",
     "text": [
      "DummyStatsClient._send unknown.athena_query_queue_ms:585.000000|ms\n",
      "DummyStatsClient._send unknown.athena_query_execution_ms:5170.000000|ms\n",
      "DummyStatsClient._send unknown.athena_query_scanned_bytes:723888042|c\n",
      "C:\\Users\\karol\\AppData\\Local\\Temp\\ipykernel_57016\\2799556401.py:77: FutureWarning: The frame.append method is deprecated and will be removed from pandas in a future version. Use pandas.concat instead.\n",
      "  df_results = df_results.append(current_result, ignore_index=True)\n",
      "DummyStatsClient._send unknown.athena_query_runs_total:1|c\n"
     ]
    },
    {
     "name": "stdout",
     "output_type": "stream",
     "text": [
      "2023-01-30 00:00:00\n",
      "2023-02-02 18:23:15,546 - botocore.credentials - INFO - Found credentials in shared credentials file: ~/.aws/credentials\n"
     ]
    },
    {
     "name": "stderr",
     "output_type": "stream",
     "text": [
      "DummyStatsClient._send unknown.athena_query_queue_ms:414.000000|ms\n",
      "DummyStatsClient._send unknown.athena_query_execution_ms:3957.000000|ms\n",
      "DummyStatsClient._send unknown.athena_query_scanned_bytes:723888042|c\n",
      "C:\\Users\\karol\\AppData\\Local\\Temp\\ipykernel_57016\\2799556401.py:77: FutureWarning: The frame.append method is deprecated and will be removed from pandas in a future version. Use pandas.concat instead.\n",
      "  df_results = df_results.append(current_result, ignore_index=True)\n",
      "DummyStatsClient._send unknown.athena_query_runs_total:1|c\n",
      "DummyStatsClient._send unknown.athena_query_queue_ms:456.000000|ms\n",
      "DummyStatsClient._send unknown.athena_query_execution_ms:3988.000000|ms\n",
      "DummyStatsClient._send unknown.athena_query_scanned_bytes:702323126|c\n",
      "C:\\Users\\karol\\AppData\\Local\\Temp\\ipykernel_57016\\2799556401.py:77: FutureWarning: The frame.append method is deprecated and will be removed from pandas in a future version. Use pandas.concat instead.\n",
      "  df_results = df_results.append(current_result, ignore_index=True)\n"
     ]
    }
   ],
   "source": [
    "start_date = datetime(2022,9,22)\n",
    "end_date = datetime(2023,1,31)\n",
    "\n",
    "\n",
    "#meta_date = meta_date_datetime.strftime(\"'%Y-%m-%d'\")\n",
    "min_first_login_date = '\\'1990-11-17\\''\n",
    "max_first_login_date = '\\'2023-01-31\\''\n",
    "company_id = 'tinysoft_a9kwp'\n",
    "project_id = 'heroes_magic_war_h2sln'\n",
    "personalized = False\n",
    "winsorized = True\n",
    "datapoint_type = \"one_datapoint_per_user_per_meta_date\"\n",
    "n_days_spend = 7\n",
    "variant_name_1 = 'P'\n",
    "variant_name_2 = 'C'\n",
    "a_prior_beta_1 = 1\n",
    "a_prior_beta_2 = 1\n",
    "b_prior_beta_1 = 1\n",
    "b_prior_beta_2 = 1\n",
    "m_prior_1 = 2\n",
    "m_prior_2 = 2\n",
    "a_prior_ig_1 = 0\n",
    "a_prior_ig_2 = 0\n",
    "b_prior_ig_1 = 0\n",
    "b_prior_ig_2 = 0\n",
    "w_prior_1 = 10\n",
    "w_prior_2 = 10\n",
    "df_results = pd.DataFrame(columns = [\"meta_date\", \"inputs\", \"a_post_beta_variant_1\", \"a_post_beta_variant_2\", \"b_post_beta_variant_1\", \"b_post_beta_variant_2\", \"m_post_variant_1\", \"m_post_variant_2\", \"a_post_ig_variant_1\", \"a_post_ig_variant_2\",\n",
    "        \"b_post_ig_variant_1\", \"b_post_ig_variant_2\", \"w_post_variant_1\", \"w_post_variant_2\", \"results\"])\n",
    "\n",
    "\n",
    "list_of_days = [start_date + timedelta(i) for i in range((end_date - start_date).days)]\n",
    "\n",
    "\n",
    "\n",
    "for day in list_of_days:\n",
    "    print(day)\n",
    "    meta_date = day.strftime(\"'%Y-%m-%d'\")\n",
    "    results = run_ab_testing(meta_date, company_id, project_id, personalized, winsorized, datapoint_type,\n",
    "        min_first_login_date,\n",
    "        max_first_login_date,\n",
    "        n_days_spend,\n",
    "        variant_name_1,\n",
    "        variant_name_2,\n",
    "        a_prior_beta_1,\n",
    "        a_prior_beta_2,\n",
    "        b_prior_beta_1,\n",
    "        b_prior_beta_2,\n",
    "        m_prior_1,\n",
    "        m_prior_2,\n",
    "        a_prior_ig_1,\n",
    "        a_prior_ig_2,\n",
    "        b_prior_ig_1,\n",
    "        b_prior_ig_2,\n",
    "        w_prior_1,\n",
    "        w_prior_2)\n",
    "    #pdb.set_trace()\n",
    "\n",
    "    a_prior_beta_1 = results[\"a_post_beta_variant_1\"]\n",
    "    a_prior_beta_2 = results[\"a_post_beta_variant_2\"]\n",
    "    b_prior_beta_1 = results[\"b_post_beta_variant_1\"]\n",
    "    b_prior_beta_2 = results[\"b_post_beta_variant_2\"]\n",
    "    m_prior_1 = results[\"m_post_variant_1\"]\n",
    "    m_prior_2 = results[\"m_post_variant_2\"]\n",
    "    a_prior_ig_1 = results[\"a_post_ig_variant_1\"]\n",
    "    a_prior_ig_2 = results[\"a_post_ig_variant_2\"]\n",
    "    b_prior_ig_1 = results[\"b_post_ig_variant_1\"]\n",
    "    b_prior_ig_2 = results[\"b_post_ig_variant_2\"]\n",
    "    w_prior_1 = results[\"w_post_variant_1\"]\n",
    "    w_prior_2 = results[\"w_post_variant_2\"]\n",
    "\n",
    "\n",
    "    current_result = {\"meta_date\": day, \"inputs\": results[\"inputs\"], \"a_post_beta_variant_1\": a_prior_beta_1, \"a_post_beta_variant_2\": a_prior_beta_2, \"b_post_beta_variant_1\": b_prior_beta_1, \"b_post_beta_variant_2\": b_prior_beta_2, \n",
    "                                \"m_post_variant_1\": m_prior_1, \"m_post_variant_2\": m_prior_2, \"a_post_ig_variant_1\": a_prior_ig_1, \"a_post_ig_variant_2\": a_prior_ig_2, \"b_post_ig_variant_1\": b_prior_ig_1, \"b_post_ig_variant_2\": b_prior_ig_2, \n",
    "                                \"w_post_variant_1\": w_prior_1, \"w_post_variant_2\": w_prior_2, \"results\": results['results']}\n",
    "\n",
    "    df_results = df_results.append(current_result, ignore_index=True)\n",
    "\n",
    "    #pdb.set_trace()\n"
   ]
  },
  {
   "cell_type": "code",
   "execution_count": 51,
   "metadata": {},
   "outputs": [
    {
     "name": "stdout",
     "output_type": "stream",
     "text": [
      "2022-10-13 00:00:00\n",
      "2023-02-04 14:29:56,701 - botocore.credentials - INFO - Found credentials in shared credentials file: ~/.aws/credentials\n"
     ]
    },
    {
     "name": "stderr",
     "output_type": "stream",
     "text": [
      "DummyStatsClient._send unknown.athena_query_runs_total:1|c\n"
     ]
    },
    {
     "name": "stdout",
     "output_type": "stream",
     "text": [
      "2022-10-14 00:00:00\n",
      "2023-02-04 14:30:08,908 - botocore.credentials - INFO - Found credentials in shared credentials file: ~/.aws/credentials\n"
     ]
    },
    {
     "name": "stderr",
     "output_type": "stream",
     "text": [
      "DummyStatsClient._send unknown.athena_query_queue_ms:555.000000|ms\n",
      "DummyStatsClient._send unknown.athena_query_execution_ms:4329.000000|ms\n",
      "DummyStatsClient._send unknown.athena_query_scanned_bytes:74734839|c\n",
      "C:\\Users\\karol\\AppData\\Local\\Temp\\ipykernel_57016\\2909922400.py:77: FutureWarning: The frame.append method is deprecated and will be removed from pandas in a future version. Use pandas.concat instead.\n",
      "  df_results = df_results.append(current_result, ignore_index=True)\n",
      "DummyStatsClient._send unknown.athena_query_runs_total:1|c\n"
     ]
    },
    {
     "name": "stdout",
     "output_type": "stream",
     "text": [
      "2022-10-15 00:00:00\n",
      "2023-02-04 14:30:22,001 - botocore.credentials - INFO - Found credentials in shared credentials file: ~/.aws/credentials\n"
     ]
    },
    {
     "name": "stderr",
     "output_type": "stream",
     "text": [
      "DummyStatsClient._send unknown.athena_query_queue_ms:664.000000|ms\n",
      "DummyStatsClient._send unknown.athena_query_execution_ms:5219.000000|ms\n",
      "DummyStatsClient._send unknown.athena_query_scanned_bytes:74734839|c\n",
      "C:\\Users\\karol\\AppData\\Local\\Temp\\ipykernel_57016\\2909922400.py:77: FutureWarning: The frame.append method is deprecated and will be removed from pandas in a future version. Use pandas.concat instead.\n",
      "  df_results = df_results.append(current_result, ignore_index=True)\n",
      "DummyStatsClient._send unknown.athena_query_runs_total:1|c\n"
     ]
    },
    {
     "name": "stdout",
     "output_type": "stream",
     "text": [
      "2022-10-16 00:00:00\n",
      "2023-02-04 14:30:32,240 - botocore.credentials - INFO - Found credentials in shared credentials file: ~/.aws/credentials\n"
     ]
    },
    {
     "name": "stderr",
     "output_type": "stream",
     "text": [
      "DummyStatsClient._send unknown.athena_query_queue_ms:615.000000|ms\n",
      "DummyStatsClient._send unknown.athena_query_execution_ms:3693.000000|ms\n",
      "DummyStatsClient._send unknown.athena_query_scanned_bytes:74734839|c\n",
      "C:\\Users\\karol\\AppData\\Local\\Temp\\ipykernel_57016\\2909922400.py:77: FutureWarning: The frame.append method is deprecated and will be removed from pandas in a future version. Use pandas.concat instead.\n",
      "  df_results = df_results.append(current_result, ignore_index=True)\n",
      "DummyStatsClient._send unknown.athena_query_runs_total:1|c\n"
     ]
    },
    {
     "name": "stdout",
     "output_type": "stream",
     "text": [
      "2022-10-17 00:00:00\n",
      "2023-02-04 14:30:42,887 - botocore.credentials - INFO - Found credentials in shared credentials file: ~/.aws/credentials\n"
     ]
    },
    {
     "name": "stderr",
     "output_type": "stream",
     "text": [
      "DummyStatsClient._send unknown.athena_query_queue_ms:448.000000|ms\n",
      "DummyStatsClient._send unknown.athena_query_execution_ms:3042.000000|ms\n",
      "DummyStatsClient._send unknown.athena_query_scanned_bytes:74734839|c\n",
      "C:\\Users\\karol\\AppData\\Local\\Temp\\ipykernel_57016\\2909922400.py:77: FutureWarning: The frame.append method is deprecated and will be removed from pandas in a future version. Use pandas.concat instead.\n",
      "  df_results = df_results.append(current_result, ignore_index=True)\n",
      "DummyStatsClient._send unknown.athena_query_runs_total:1|c\n"
     ]
    },
    {
     "name": "stdout",
     "output_type": "stream",
     "text": [
      "2022-10-18 00:00:00\n",
      "2023-02-04 14:30:55,083 - botocore.credentials - INFO - Found credentials in shared credentials file: ~/.aws/credentials\n"
     ]
    },
    {
     "name": "stderr",
     "output_type": "stream",
     "text": [
      "DummyStatsClient._send unknown.athena_query_queue_ms:493.000000|ms\n",
      "DummyStatsClient._send unknown.athena_query_execution_ms:4329.000000|ms\n",
      "DummyStatsClient._send unknown.athena_query_scanned_bytes:74734839|c\n",
      "C:\\Users\\karol\\AppData\\Local\\Temp\\ipykernel_57016\\2909922400.py:77: FutureWarning: The frame.append method is deprecated and will be removed from pandas in a future version. Use pandas.concat instead.\n",
      "  df_results = df_results.append(current_result, ignore_index=True)\n",
      "DummyStatsClient._send unknown.athena_query_runs_total:1|c\n"
     ]
    },
    {
     "name": "stdout",
     "output_type": "stream",
     "text": [
      "2022-10-19 00:00:00\n",
      "2023-02-04 14:31:04,794 - botocore.credentials - INFO - Found credentials in shared credentials file: ~/.aws/credentials\n"
     ]
    },
    {
     "name": "stderr",
     "output_type": "stream",
     "text": [
      "DummyStatsClient._send unknown.athena_query_queue_ms:407.000000|ms\n",
      "DummyStatsClient._send unknown.athena_query_execution_ms:2909.000000|ms\n",
      "DummyStatsClient._send unknown.athena_query_scanned_bytes:74734839|c\n",
      "C:\\Users\\karol\\AppData\\Local\\Temp\\ipykernel_57016\\2909922400.py:77: FutureWarning: The frame.append method is deprecated and will be removed from pandas in a future version. Use pandas.concat instead.\n",
      "  df_results = df_results.append(current_result, ignore_index=True)\n",
      "DummyStatsClient._send unknown.athena_query_runs_total:1|c\n"
     ]
    },
    {
     "name": "stdout",
     "output_type": "stream",
     "text": [
      "2022-10-20 00:00:00\n",
      "2023-02-04 14:31:15,345 - botocore.credentials - INFO - Found credentials in shared credentials file: ~/.aws/credentials\n"
     ]
    },
    {
     "name": "stderr",
     "output_type": "stream",
     "text": [
      "DummyStatsClient._send unknown.athena_query_queue_ms:540.000000|ms\n",
      "DummyStatsClient._send unknown.athena_query_execution_ms:3553.000000|ms\n",
      "DummyStatsClient._send unknown.athena_query_scanned_bytes:74734839|c\n",
      "C:\\Users\\karol\\AppData\\Local\\Temp\\ipykernel_57016\\2909922400.py:77: FutureWarning: The frame.append method is deprecated and will be removed from pandas in a future version. Use pandas.concat instead.\n",
      "  df_results = df_results.append(current_result, ignore_index=True)\n",
      "DummyStatsClient._send unknown.athena_query_runs_total:1|c\n"
     ]
    },
    {
     "name": "stdout",
     "output_type": "stream",
     "text": [
      "2022-10-21 00:00:00\n",
      "2023-02-04 14:31:25,431 - botocore.credentials - INFO - Found credentials in shared credentials file: ~/.aws/credentials\n"
     ]
    },
    {
     "name": "stderr",
     "output_type": "stream",
     "text": [
      "DummyStatsClient._send unknown.athena_query_queue_ms:483.000000|ms\n",
      "DummyStatsClient._send unknown.athena_query_execution_ms:3168.000000|ms\n",
      "DummyStatsClient._send unknown.athena_query_scanned_bytes:74734839|c\n",
      "C:\\Users\\karol\\AppData\\Local\\Temp\\ipykernel_57016\\2909922400.py:77: FutureWarning: The frame.append method is deprecated and will be removed from pandas in a future version. Use pandas.concat instead.\n",
      "  df_results = df_results.append(current_result, ignore_index=True)\n",
      "DummyStatsClient._send unknown.athena_query_runs_total:1|c\n"
     ]
    },
    {
     "name": "stdout",
     "output_type": "stream",
     "text": [
      "2022-10-22 00:00:00\n",
      "2023-02-04 14:31:34,546 - botocore.credentials - INFO - Found credentials in shared credentials file: ~/.aws/credentials\n"
     ]
    },
    {
     "name": "stderr",
     "output_type": "stream",
     "text": [
      "DummyStatsClient._send unknown.athena_query_queue_ms:454.000000|ms\n",
      "DummyStatsClient._send unknown.athena_query_execution_ms:2699.000000|ms\n",
      "DummyStatsClient._send unknown.athena_query_scanned_bytes:74734839|c\n",
      "C:\\Users\\karol\\AppData\\Local\\Temp\\ipykernel_57016\\2909922400.py:77: FutureWarning: The frame.append method is deprecated and will be removed from pandas in a future version. Use pandas.concat instead.\n",
      "  df_results = df_results.append(current_result, ignore_index=True)\n",
      "DummyStatsClient._send unknown.athena_query_runs_total:1|c\n"
     ]
    },
    {
     "name": "stdout",
     "output_type": "stream",
     "text": [
      "2022-10-23 00:00:00\n",
      "2023-02-04 14:31:44,806 - botocore.credentials - INFO - Found credentials in shared credentials file: ~/.aws/credentials\n"
     ]
    },
    {
     "name": "stderr",
     "output_type": "stream",
     "text": [
      "DummyStatsClient._send unknown.athena_query_queue_ms:466.000000|ms\n",
      "DummyStatsClient._send unknown.athena_query_execution_ms:3246.000000|ms\n",
      "DummyStatsClient._send unknown.athena_query_scanned_bytes:74734839|c\n",
      "C:\\Users\\karol\\AppData\\Local\\Temp\\ipykernel_57016\\2909922400.py:77: FutureWarning: The frame.append method is deprecated and will be removed from pandas in a future version. Use pandas.concat instead.\n",
      "  df_results = df_results.append(current_result, ignore_index=True)\n",
      "DummyStatsClient._send unknown.athena_query_runs_total:1|c\n"
     ]
    },
    {
     "name": "stdout",
     "output_type": "stream",
     "text": [
      "2022-10-24 00:00:00\n",
      "2023-02-04 14:31:55,174 - botocore.credentials - INFO - Found credentials in shared credentials file: ~/.aws/credentials\n"
     ]
    },
    {
     "name": "stderr",
     "output_type": "stream",
     "text": [
      "DummyStatsClient._send unknown.athena_query_queue_ms:621.000000|ms\n",
      "DummyStatsClient._send unknown.athena_query_execution_ms:4379.000000|ms\n",
      "DummyStatsClient._send unknown.athena_query_scanned_bytes:74734839|c\n",
      "C:\\Users\\karol\\AppData\\Local\\Temp\\ipykernel_57016\\2909922400.py:77: FutureWarning: The frame.append method is deprecated and will be removed from pandas in a future version. Use pandas.concat instead.\n",
      "  df_results = df_results.append(current_result, ignore_index=True)\n",
      "DummyStatsClient._send unknown.athena_query_runs_total:1|c\n"
     ]
    },
    {
     "name": "stdout",
     "output_type": "stream",
     "text": [
      "2022-10-25 00:00:00\n",
      "2023-02-04 14:32:05,969 - botocore.credentials - INFO - Found credentials in shared credentials file: ~/.aws/credentials\n"
     ]
    },
    {
     "name": "stderr",
     "output_type": "stream",
     "text": [
      "DummyStatsClient._send unknown.athena_query_queue_ms:534.000000|ms\n",
      "DummyStatsClient._send unknown.athena_query_execution_ms:3254.000000|ms\n",
      "DummyStatsClient._send unknown.athena_query_scanned_bytes:74734839|c\n",
      "C:\\Users\\karol\\AppData\\Local\\Temp\\ipykernel_57016\\2909922400.py:77: FutureWarning: The frame.append method is deprecated and will be removed from pandas in a future version. Use pandas.concat instead.\n",
      "  df_results = df_results.append(current_result, ignore_index=True)\n",
      "DummyStatsClient._send unknown.athena_query_runs_total:1|c\n"
     ]
    },
    {
     "name": "stdout",
     "output_type": "stream",
     "text": [
      "2022-10-26 00:00:00\n",
      "2023-02-04 14:32:15,460 - botocore.credentials - INFO - Found credentials in shared credentials file: ~/.aws/credentials\n"
     ]
    },
    {
     "name": "stderr",
     "output_type": "stream",
     "text": [
      "DummyStatsClient._send unknown.athena_query_queue_ms:439.000000|ms\n",
      "DummyStatsClient._send unknown.athena_query_execution_ms:2608.000000|ms\n",
      "DummyStatsClient._send unknown.athena_query_scanned_bytes:74734839|c\n",
      "C:\\Users\\karol\\AppData\\Local\\Temp\\ipykernel_57016\\2909922400.py:77: FutureWarning: The frame.append method is deprecated and will be removed from pandas in a future version. Use pandas.concat instead.\n",
      "  df_results = df_results.append(current_result, ignore_index=True)\n",
      "DummyStatsClient._send unknown.athena_query_runs_total:1|c\n"
     ]
    },
    {
     "name": "stdout",
     "output_type": "stream",
     "text": [
      "2022-10-27 00:00:00\n",
      "2023-02-04 14:32:26,517 - botocore.credentials - INFO - Found credentials in shared credentials file: ~/.aws/credentials\n"
     ]
    },
    {
     "name": "stderr",
     "output_type": "stream",
     "text": [
      "DummyStatsClient._send unknown.athena_query_queue_ms:583.000000|ms\n",
      "DummyStatsClient._send unknown.athena_query_execution_ms:3703.000000|ms\n",
      "DummyStatsClient._send unknown.athena_query_scanned_bytes:74734839|c\n",
      "C:\\Users\\karol\\AppData\\Local\\Temp\\ipykernel_57016\\2909922400.py:77: FutureWarning: The frame.append method is deprecated and will be removed from pandas in a future version. Use pandas.concat instead.\n",
      "  df_results = df_results.append(current_result, ignore_index=True)\n",
      "DummyStatsClient._send unknown.athena_query_runs_total:1|c\n"
     ]
    },
    {
     "name": "stdout",
     "output_type": "stream",
     "text": [
      "2022-10-28 00:00:00\n",
      "2023-02-04 14:32:37,543 - botocore.credentials - INFO - Found credentials in shared credentials file: ~/.aws/credentials\n"
     ]
    },
    {
     "name": "stderr",
     "output_type": "stream",
     "text": [
      "DummyStatsClient._send unknown.athena_query_queue_ms:458.000000|ms\n",
      "DummyStatsClient._send unknown.athena_query_execution_ms:2899.000000|ms\n",
      "DummyStatsClient._send unknown.athena_query_scanned_bytes:74734839|c\n",
      "C:\\Users\\karol\\AppData\\Local\\Temp\\ipykernel_57016\\2909922400.py:77: FutureWarning: The frame.append method is deprecated and will be removed from pandas in a future version. Use pandas.concat instead.\n",
      "  df_results = df_results.append(current_result, ignore_index=True)\n",
      "DummyStatsClient._send unknown.athena_query_runs_total:1|c\n"
     ]
    },
    {
     "name": "stdout",
     "output_type": "stream",
     "text": [
      "2022-10-29 00:00:00\n",
      "2023-02-04 14:32:48,937 - botocore.credentials - INFO - Found credentials in shared credentials file: ~/.aws/credentials\n"
     ]
    },
    {
     "name": "stderr",
     "output_type": "stream",
     "text": [
      "DummyStatsClient._send unknown.athena_query_queue_ms:474.000000|ms\n",
      "DummyStatsClient._send unknown.athena_query_execution_ms:3314.000000|ms\n",
      "DummyStatsClient._send unknown.athena_query_scanned_bytes:74734839|c\n",
      "C:\\Users\\karol\\AppData\\Local\\Temp\\ipykernel_57016\\2909922400.py:77: FutureWarning: The frame.append method is deprecated and will be removed from pandas in a future version. Use pandas.concat instead.\n",
      "  df_results = df_results.append(current_result, ignore_index=True)\n",
      "DummyStatsClient._send unknown.athena_query_runs_total:1|c\n"
     ]
    },
    {
     "name": "stdout",
     "output_type": "stream",
     "text": [
      "2022-10-30 00:00:00\n",
      "2023-02-04 14:32:59,163 - botocore.credentials - INFO - Found credentials in shared credentials file: ~/.aws/credentials\n"
     ]
    },
    {
     "name": "stderr",
     "output_type": "stream",
     "text": [
      "DummyStatsClient._send unknown.athena_query_queue_ms:476.000000|ms\n",
      "DummyStatsClient._send unknown.athena_query_execution_ms:3127.000000|ms\n",
      "DummyStatsClient._send unknown.athena_query_scanned_bytes:74734839|c\n",
      "C:\\Users\\karol\\AppData\\Local\\Temp\\ipykernel_57016\\2909922400.py:77: FutureWarning: The frame.append method is deprecated and will be removed from pandas in a future version. Use pandas.concat instead.\n",
      "  df_results = df_results.append(current_result, ignore_index=True)\n",
      "DummyStatsClient._send unknown.athena_query_runs_total:1|c\n"
     ]
    },
    {
     "name": "stdout",
     "output_type": "stream",
     "text": [
      "2022-10-31 00:00:00\n",
      "2023-02-04 14:33:08,701 - botocore.credentials - INFO - Found credentials in shared credentials file: ~/.aws/credentials\n"
     ]
    },
    {
     "name": "stderr",
     "output_type": "stream",
     "text": [
      "DummyStatsClient._send unknown.athena_query_queue_ms:477.000000|ms\n",
      "DummyStatsClient._send unknown.athena_query_execution_ms:2682.000000|ms\n",
      "DummyStatsClient._send unknown.athena_query_scanned_bytes:74734839|c\n",
      "C:\\Users\\karol\\AppData\\Local\\Temp\\ipykernel_57016\\2909922400.py:77: FutureWarning: The frame.append method is deprecated and will be removed from pandas in a future version. Use pandas.concat instead.\n",
      "  df_results = df_results.append(current_result, ignore_index=True)\n",
      "DummyStatsClient._send unknown.athena_query_runs_total:1|c\n"
     ]
    },
    {
     "name": "stdout",
     "output_type": "stream",
     "text": [
      "2022-11-01 00:00:00\n",
      "2023-02-04 14:33:20,798 - botocore.credentials - INFO - Found credentials in shared credentials file: ~/.aws/credentials\n"
     ]
    },
    {
     "name": "stderr",
     "output_type": "stream",
     "text": [
      "DummyStatsClient._send unknown.athena_query_queue_ms:660.000000|ms\n",
      "DummyStatsClient._send unknown.athena_query_execution_ms:4325.000000|ms\n",
      "DummyStatsClient._send unknown.athena_query_scanned_bytes:74734839|c\n",
      "C:\\Users\\karol\\AppData\\Local\\Temp\\ipykernel_57016\\2909922400.py:77: FutureWarning: The frame.append method is deprecated and will be removed from pandas in a future version. Use pandas.concat instead.\n",
      "  df_results = df_results.append(current_result, ignore_index=True)\n",
      "DummyStatsClient._send unknown.athena_query_runs_total:1|c\n"
     ]
    },
    {
     "name": "stdout",
     "output_type": "stream",
     "text": [
      "2022-11-02 00:00:00\n",
      "2023-02-04 14:33:31,433 - botocore.credentials - INFO - Found credentials in shared credentials file: ~/.aws/credentials\n"
     ]
    },
    {
     "name": "stderr",
     "output_type": "stream",
     "text": [
      "DummyStatsClient._send unknown.athena_query_queue_ms:495.000000|ms\n",
      "DummyStatsClient._send unknown.athena_query_execution_ms:3180.000000|ms\n",
      "DummyStatsClient._send unknown.athena_query_scanned_bytes:74734839|c\n",
      "C:\\Users\\karol\\AppData\\Local\\Temp\\ipykernel_57016\\2909922400.py:77: FutureWarning: The frame.append method is deprecated and will be removed from pandas in a future version. Use pandas.concat instead.\n",
      "  df_results = df_results.append(current_result, ignore_index=True)\n",
      "DummyStatsClient._send unknown.athena_query_runs_total:1|c\n"
     ]
    },
    {
     "name": "stdout",
     "output_type": "stream",
     "text": [
      "2022-11-03 00:00:00\n",
      "2023-02-04 14:33:42,170 - botocore.credentials - INFO - Found credentials in shared credentials file: ~/.aws/credentials\n"
     ]
    },
    {
     "name": "stderr",
     "output_type": "stream",
     "text": [
      "DummyStatsClient._send unknown.athena_query_queue_ms:430.000000|ms\n",
      "DummyStatsClient._send unknown.athena_query_execution_ms:3044.000000|ms\n",
      "DummyStatsClient._send unknown.athena_query_scanned_bytes:74734839|c\n",
      "C:\\Users\\karol\\AppData\\Local\\Temp\\ipykernel_57016\\2909922400.py:77: FutureWarning: The frame.append method is deprecated and will be removed from pandas in a future version. Use pandas.concat instead.\n",
      "  df_results = df_results.append(current_result, ignore_index=True)\n",
      "DummyStatsClient._send unknown.athena_query_runs_total:1|c\n"
     ]
    },
    {
     "name": "stdout",
     "output_type": "stream",
     "text": [
      "2022-11-04 00:00:00\n",
      "2023-02-04 14:33:52,740 - botocore.credentials - INFO - Found credentials in shared credentials file: ~/.aws/credentials\n"
     ]
    },
    {
     "name": "stderr",
     "output_type": "stream",
     "text": [
      "DummyStatsClient._send unknown.athena_query_queue_ms:448.000000|ms\n",
      "DummyStatsClient._send unknown.athena_query_execution_ms:3222.000000|ms\n",
      "DummyStatsClient._send unknown.athena_query_scanned_bytes:74734839|c\n",
      "C:\\Users\\karol\\AppData\\Local\\Temp\\ipykernel_57016\\2909922400.py:77: FutureWarning: The frame.append method is deprecated and will be removed from pandas in a future version. Use pandas.concat instead.\n",
      "  df_results = df_results.append(current_result, ignore_index=True)\n",
      "DummyStatsClient._send unknown.athena_query_runs_total:1|c\n"
     ]
    },
    {
     "name": "stdout",
     "output_type": "stream",
     "text": [
      "2022-11-05 00:00:00\n",
      "2023-02-04 14:34:03,590 - botocore.credentials - INFO - Found credentials in shared credentials file: ~/.aws/credentials\n"
     ]
    },
    {
     "name": "stderr",
     "output_type": "stream",
     "text": [
      "DummyStatsClient._send unknown.athena_query_queue_ms:438.000000|ms\n",
      "DummyStatsClient._send unknown.athena_query_execution_ms:3136.000000|ms\n",
      "DummyStatsClient._send unknown.athena_query_scanned_bytes:74734839|c\n",
      "C:\\Users\\karol\\AppData\\Local\\Temp\\ipykernel_57016\\2909922400.py:77: FutureWarning: The frame.append method is deprecated and will be removed from pandas in a future version. Use pandas.concat instead.\n",
      "  df_results = df_results.append(current_result, ignore_index=True)\n",
      "DummyStatsClient._send unknown.athena_query_runs_total:1|c\n"
     ]
    },
    {
     "name": "stdout",
     "output_type": "stream",
     "text": [
      "2022-11-06 00:00:00\n",
      "2023-02-04 14:34:13,733 - botocore.credentials - INFO - Found credentials in shared credentials file: ~/.aws/credentials\n"
     ]
    },
    {
     "name": "stderr",
     "output_type": "stream",
     "text": [
      "DummyStatsClient._send unknown.athena_query_queue_ms:470.000000|ms\n",
      "DummyStatsClient._send unknown.athena_query_execution_ms:2857.000000|ms\n",
      "DummyStatsClient._send unknown.athena_query_scanned_bytes:74734839|c\n",
      "C:\\Users\\karol\\AppData\\Local\\Temp\\ipykernel_57016\\2909922400.py:77: FutureWarning: The frame.append method is deprecated and will be removed from pandas in a future version. Use pandas.concat instead.\n",
      "  df_results = df_results.append(current_result, ignore_index=True)\n",
      "DummyStatsClient._send unknown.athena_query_runs_total:1|c\n"
     ]
    },
    {
     "name": "stdout",
     "output_type": "stream",
     "text": [
      "2022-11-07 00:00:00\n",
      "2023-02-04 14:34:24,573 - botocore.credentials - INFO - Found credentials in shared credentials file: ~/.aws/credentials\n"
     ]
    },
    {
     "name": "stderr",
     "output_type": "stream",
     "text": [
      "DummyStatsClient._send unknown.athena_query_queue_ms:467.000000|ms\n",
      "DummyStatsClient._send unknown.athena_query_execution_ms:3178.000000|ms\n",
      "DummyStatsClient._send unknown.athena_query_scanned_bytes:74734839|c\n",
      "C:\\Users\\karol\\AppData\\Local\\Temp\\ipykernel_57016\\2909922400.py:77: FutureWarning: The frame.append method is deprecated and will be removed from pandas in a future version. Use pandas.concat instead.\n",
      "  df_results = df_results.append(current_result, ignore_index=True)\n",
      "DummyStatsClient._send unknown.athena_query_runs_total:1|c\n"
     ]
    },
    {
     "name": "stdout",
     "output_type": "stream",
     "text": [
      "2022-11-08 00:00:00\n",
      "2023-02-04 14:34:38,595 - botocore.credentials - INFO - Found credentials in shared credentials file: ~/.aws/credentials\n"
     ]
    },
    {
     "name": "stderr",
     "output_type": "stream",
     "text": [
      "DummyStatsClient._send unknown.athena_query_queue_ms:548.000000|ms\n",
      "DummyStatsClient._send unknown.athena_query_execution_ms:7013.000000|ms\n",
      "DummyStatsClient._send unknown.athena_query_scanned_bytes:74734839|c\n",
      "C:\\Users\\karol\\AppData\\Local\\Temp\\ipykernel_57016\\2909922400.py:77: FutureWarning: The frame.append method is deprecated and will be removed from pandas in a future version. Use pandas.concat instead.\n",
      "  df_results = df_results.append(current_result, ignore_index=True)\n",
      "DummyStatsClient._send unknown.athena_query_runs_total:1|c\n"
     ]
    },
    {
     "name": "stdout",
     "output_type": "stream",
     "text": [
      "2022-11-09 00:00:00\n",
      "2023-02-04 14:34:48,456 - botocore.credentials - INFO - Found credentials in shared credentials file: ~/.aws/credentials\n"
     ]
    },
    {
     "name": "stderr",
     "output_type": "stream",
     "text": [
      "DummyStatsClient._send unknown.athena_query_queue_ms:428.000000|ms\n",
      "DummyStatsClient._send unknown.athena_query_execution_ms:2874.000000|ms\n",
      "DummyStatsClient._send unknown.athena_query_scanned_bytes:74734839|c\n",
      "C:\\Users\\karol\\AppData\\Local\\Temp\\ipykernel_57016\\2909922400.py:77: FutureWarning: The frame.append method is deprecated and will be removed from pandas in a future version. Use pandas.concat instead.\n",
      "  df_results = df_results.append(current_result, ignore_index=True)\n",
      "DummyStatsClient._send unknown.athena_query_runs_total:1|c\n"
     ]
    },
    {
     "name": "stdout",
     "output_type": "stream",
     "text": [
      "2022-11-10 00:00:00\n",
      "2023-02-04 14:34:58,502 - botocore.credentials - INFO - Found credentials in shared credentials file: ~/.aws/credentials\n"
     ]
    },
    {
     "name": "stderr",
     "output_type": "stream",
     "text": [
      "DummyStatsClient._send unknown.athena_query_queue_ms:479.000000|ms\n",
      "DummyStatsClient._send unknown.athena_query_execution_ms:2802.000000|ms\n",
      "DummyStatsClient._send unknown.athena_query_scanned_bytes:74734839|c\n",
      "C:\\Users\\karol\\AppData\\Local\\Temp\\ipykernel_57016\\2909922400.py:77: FutureWarning: The frame.append method is deprecated and will be removed from pandas in a future version. Use pandas.concat instead.\n",
      "  df_results = df_results.append(current_result, ignore_index=True)\n",
      "DummyStatsClient._send unknown.athena_query_runs_total:1|c\n"
     ]
    },
    {
     "name": "stdout",
     "output_type": "stream",
     "text": [
      "2022-11-11 00:00:00\n",
      "2023-02-04 14:35:09,339 - botocore.credentials - INFO - Found credentials in shared credentials file: ~/.aws/credentials\n"
     ]
    },
    {
     "name": "stderr",
     "output_type": "stream",
     "text": [
      "DummyStatsClient._send unknown.athena_query_queue_ms:442.000000|ms\n",
      "DummyStatsClient._send unknown.athena_query_execution_ms:3100.000000|ms\n",
      "DummyStatsClient._send unknown.athena_query_scanned_bytes:74734839|c\n",
      "C:\\Users\\karol\\AppData\\Local\\Temp\\ipykernel_57016\\2909922400.py:77: FutureWarning: The frame.append method is deprecated and will be removed from pandas in a future version. Use pandas.concat instead.\n",
      "  df_results = df_results.append(current_result, ignore_index=True)\n",
      "DummyStatsClient._send unknown.athena_query_runs_total:1|c\n"
     ]
    },
    {
     "name": "stdout",
     "output_type": "stream",
     "text": [
      "2022-11-12 00:00:00\n",
      "2023-02-04 14:35:19,615 - botocore.credentials - INFO - Found credentials in shared credentials file: ~/.aws/credentials\n"
     ]
    },
    {
     "name": "stderr",
     "output_type": "stream",
     "text": [
      "DummyStatsClient._send unknown.athena_query_queue_ms:468.000000|ms\n",
      "DummyStatsClient._send unknown.athena_query_execution_ms:3045.000000|ms\n",
      "DummyStatsClient._send unknown.athena_query_scanned_bytes:74734839|c\n",
      "C:\\Users\\karol\\AppData\\Local\\Temp\\ipykernel_57016\\2909922400.py:77: FutureWarning: The frame.append method is deprecated and will be removed from pandas in a future version. Use pandas.concat instead.\n",
      "  df_results = df_results.append(current_result, ignore_index=True)\n",
      "DummyStatsClient._send unknown.athena_query_runs_total:1|c\n"
     ]
    },
    {
     "name": "stdout",
     "output_type": "stream",
     "text": [
      "2022-11-13 00:00:00\n",
      "2023-02-04 14:35:30,734 - botocore.credentials - INFO - Found credentials in shared credentials file: ~/.aws/credentials\n"
     ]
    },
    {
     "name": "stderr",
     "output_type": "stream",
     "text": [
      "DummyStatsClient._send unknown.athena_query_queue_ms:433.000000|ms\n",
      "DummyStatsClient._send unknown.athena_query_execution_ms:3093.000000|ms\n",
      "DummyStatsClient._send unknown.athena_query_scanned_bytes:74734839|c\n",
      "C:\\Users\\karol\\AppData\\Local\\Temp\\ipykernel_57016\\2909922400.py:77: FutureWarning: The frame.append method is deprecated and will be removed from pandas in a future version. Use pandas.concat instead.\n",
      "  df_results = df_results.append(current_result, ignore_index=True)\n",
      "DummyStatsClient._send unknown.athena_query_runs_total:1|c\n"
     ]
    },
    {
     "name": "stdout",
     "output_type": "stream",
     "text": [
      "2022-11-14 00:00:00\n",
      "2023-02-04 14:35:41,070 - botocore.credentials - INFO - Found credentials in shared credentials file: ~/.aws/credentials\n"
     ]
    },
    {
     "name": "stderr",
     "output_type": "stream",
     "text": [
      "DummyStatsClient._send unknown.athena_query_queue_ms:529.000000|ms\n",
      "DummyStatsClient._send unknown.athena_query_execution_ms:3075.000000|ms\n",
      "DummyStatsClient._send unknown.athena_query_scanned_bytes:74734839|c\n",
      "C:\\Users\\karol\\AppData\\Local\\Temp\\ipykernel_57016\\2909922400.py:77: FutureWarning: The frame.append method is deprecated and will be removed from pandas in a future version. Use pandas.concat instead.\n",
      "  df_results = df_results.append(current_result, ignore_index=True)\n",
      "DummyStatsClient._send unknown.athena_query_runs_total:1|c\n"
     ]
    },
    {
     "name": "stdout",
     "output_type": "stream",
     "text": [
      "2022-11-15 00:00:00\n",
      "2023-02-04 14:35:52,272 - botocore.credentials - INFO - Found credentials in shared credentials file: ~/.aws/credentials\n"
     ]
    },
    {
     "name": "stderr",
     "output_type": "stream",
     "text": [
      "DummyStatsClient._send unknown.athena_query_queue_ms:479.000000|ms\n",
      "DummyStatsClient._send unknown.athena_query_execution_ms:3250.000000|ms\n",
      "DummyStatsClient._send unknown.athena_query_scanned_bytes:74734839|c\n",
      "C:\\Users\\karol\\AppData\\Local\\Temp\\ipykernel_57016\\2909922400.py:77: FutureWarning: The frame.append method is deprecated and will be removed from pandas in a future version. Use pandas.concat instead.\n",
      "  df_results = df_results.append(current_result, ignore_index=True)\n",
      "DummyStatsClient._send unknown.athena_query_runs_total:1|c\n"
     ]
    },
    {
     "name": "stdout",
     "output_type": "stream",
     "text": [
      "2022-11-16 00:00:00\n",
      "2023-02-04 14:36:07,289 - botocore.credentials - INFO - Found credentials in shared credentials file: ~/.aws/credentials\n"
     ]
    },
    {
     "name": "stderr",
     "output_type": "stream",
     "text": [
      "DummyStatsClient._send unknown.athena_query_queue_ms:501.000000|ms\n",
      "DummyStatsClient._send unknown.athena_query_execution_ms:7982.000000|ms\n",
      "DummyStatsClient._send unknown.athena_query_scanned_bytes:74734839|c\n",
      "C:\\Users\\karol\\AppData\\Local\\Temp\\ipykernel_57016\\2909922400.py:77: FutureWarning: The frame.append method is deprecated and will be removed from pandas in a future version. Use pandas.concat instead.\n",
      "  df_results = df_results.append(current_result, ignore_index=True)\n",
      "DummyStatsClient._send unknown.athena_query_runs_total:1|c\n"
     ]
    },
    {
     "name": "stdout",
     "output_type": "stream",
     "text": [
      "2022-11-17 00:00:00\n",
      "2023-02-04 14:36:20,701 - botocore.credentials - INFO - Found credentials in shared credentials file: ~/.aws/credentials\n"
     ]
    },
    {
     "name": "stderr",
     "output_type": "stream",
     "text": [
      "DummyStatsClient._send unknown.athena_query_queue_ms:533.000000|ms\n",
      "DummyStatsClient._send unknown.athena_query_execution_ms:5699.000000|ms\n",
      "DummyStatsClient._send unknown.athena_query_scanned_bytes:74734839|c\n",
      "C:\\Users\\karol\\AppData\\Local\\Temp\\ipykernel_57016\\2909922400.py:77: FutureWarning: The frame.append method is deprecated and will be removed from pandas in a future version. Use pandas.concat instead.\n",
      "  df_results = df_results.append(current_result, ignore_index=True)\n",
      "DummyStatsClient._send unknown.athena_query_runs_total:1|c\n"
     ]
    },
    {
     "name": "stdout",
     "output_type": "stream",
     "text": [
      "2022-11-18 00:00:00\n",
      "2023-02-04 14:36:30,782 - botocore.credentials - INFO - Found credentials in shared credentials file: ~/.aws/credentials\n"
     ]
    },
    {
     "name": "stderr",
     "output_type": "stream",
     "text": [
      "DummyStatsClient._send unknown.athena_query_queue_ms:465.000000|ms\n",
      "DummyStatsClient._send unknown.athena_query_execution_ms:2494.000000|ms\n",
      "DummyStatsClient._send unknown.athena_query_scanned_bytes:74734839|c\n",
      "C:\\Users\\karol\\AppData\\Local\\Temp\\ipykernel_57016\\2909922400.py:77: FutureWarning: The frame.append method is deprecated and will be removed from pandas in a future version. Use pandas.concat instead.\n",
      "  df_results = df_results.append(current_result, ignore_index=True)\n",
      "DummyStatsClient._send unknown.athena_query_runs_total:1|c\n"
     ]
    },
    {
     "name": "stdout",
     "output_type": "stream",
     "text": [
      "2022-11-19 00:00:00\n",
      "2023-02-04 14:36:41,451 - botocore.credentials - INFO - Found credentials in shared credentials file: ~/.aws/credentials\n"
     ]
    },
    {
     "name": "stderr",
     "output_type": "stream",
     "text": [
      "DummyStatsClient._send unknown.athena_query_queue_ms:588.000000|ms\n",
      "DummyStatsClient._send unknown.athena_query_execution_ms:3296.000000|ms\n",
      "DummyStatsClient._send unknown.athena_query_scanned_bytes:74734839|c\n",
      "C:\\Users\\karol\\AppData\\Local\\Temp\\ipykernel_57016\\2909922400.py:77: FutureWarning: The frame.append method is deprecated and will be removed from pandas in a future version. Use pandas.concat instead.\n",
      "  df_results = df_results.append(current_result, ignore_index=True)\n",
      "DummyStatsClient._send unknown.athena_query_runs_total:1|c\n"
     ]
    },
    {
     "name": "stdout",
     "output_type": "stream",
     "text": [
      "2022-11-20 00:00:00\n",
      "2023-02-04 14:36:52,453 - botocore.credentials - INFO - Found credentials in shared credentials file: ~/.aws/credentials\n"
     ]
    },
    {
     "name": "stderr",
     "output_type": "stream",
     "text": [
      "DummyStatsClient._send unknown.athena_query_queue_ms:484.000000|ms\n",
      "DummyStatsClient._send unknown.athena_query_execution_ms:3176.000000|ms\n",
      "DummyStatsClient._send unknown.athena_query_scanned_bytes:74734839|c\n",
      "C:\\Users\\karol\\AppData\\Local\\Temp\\ipykernel_57016\\2909922400.py:77: FutureWarning: The frame.append method is deprecated and will be removed from pandas in a future version. Use pandas.concat instead.\n",
      "  df_results = df_results.append(current_result, ignore_index=True)\n",
      "DummyStatsClient._send unknown.athena_query_runs_total:1|c\n"
     ]
    },
    {
     "name": "stdout",
     "output_type": "stream",
     "text": [
      "2022-11-21 00:00:00\n",
      "2023-02-04 14:37:03,117 - botocore.credentials - INFO - Found credentials in shared credentials file: ~/.aws/credentials\n"
     ]
    },
    {
     "name": "stderr",
     "output_type": "stream",
     "text": [
      "DummyStatsClient._send unknown.athena_query_queue_ms:669.000000|ms\n",
      "DummyStatsClient._send unknown.athena_query_execution_ms:3623.000000|ms\n",
      "DummyStatsClient._send unknown.athena_query_scanned_bytes:74734839|c\n",
      "C:\\Users\\karol\\AppData\\Local\\Temp\\ipykernel_57016\\2909922400.py:77: FutureWarning: The frame.append method is deprecated and will be removed from pandas in a future version. Use pandas.concat instead.\n",
      "  df_results = df_results.append(current_result, ignore_index=True)\n",
      "DummyStatsClient._send unknown.athena_query_runs_total:1|c\n"
     ]
    },
    {
     "name": "stdout",
     "output_type": "stream",
     "text": [
      "2022-11-22 00:00:00\n",
      "2023-02-04 14:37:13,778 - botocore.credentials - INFO - Found credentials in shared credentials file: ~/.aws/credentials\n"
     ]
    },
    {
     "name": "stderr",
     "output_type": "stream",
     "text": [
      "DummyStatsClient._send unknown.athena_query_queue_ms:683.000000|ms\n",
      "DummyStatsClient._send unknown.athena_query_execution_ms:4056.000000|ms\n",
      "DummyStatsClient._send unknown.athena_query_scanned_bytes:74734839|c\n",
      "C:\\Users\\karol\\AppData\\Local\\Temp\\ipykernel_57016\\2909922400.py:77: FutureWarning: The frame.append method is deprecated and will be removed from pandas in a future version. Use pandas.concat instead.\n",
      "  df_results = df_results.append(current_result, ignore_index=True)\n",
      "DummyStatsClient._send unknown.athena_query_runs_total:1|c\n"
     ]
    },
    {
     "name": "stdout",
     "output_type": "stream",
     "text": [
      "2022-11-23 00:00:00\n",
      "2023-02-04 14:37:23,485 - botocore.credentials - INFO - Found credentials in shared credentials file: ~/.aws/credentials\n"
     ]
    },
    {
     "name": "stderr",
     "output_type": "stream",
     "text": [
      "DummyStatsClient._send unknown.athena_query_queue_ms:423.000000|ms\n",
      "DummyStatsClient._send unknown.athena_query_execution_ms:2649.000000|ms\n",
      "DummyStatsClient._send unknown.athena_query_scanned_bytes:74734839|c\n",
      "C:\\Users\\karol\\AppData\\Local\\Temp\\ipykernel_57016\\2909922400.py:77: FutureWarning: The frame.append method is deprecated and will be removed from pandas in a future version. Use pandas.concat instead.\n",
      "  df_results = df_results.append(current_result, ignore_index=True)\n",
      "DummyStatsClient._send unknown.athena_query_runs_total:1|c\n"
     ]
    },
    {
     "name": "stdout",
     "output_type": "stream",
     "text": [
      "2022-11-24 00:00:00\n",
      "2023-02-04 14:37:34,112 - botocore.credentials - INFO - Found credentials in shared credentials file: ~/.aws/credentials\n"
     ]
    },
    {
     "name": "stderr",
     "output_type": "stream",
     "text": [
      "DummyStatsClient._send unknown.athena_query_queue_ms:442.000000|ms\n",
      "DummyStatsClient._send unknown.athena_query_execution_ms:3348.000000|ms\n",
      "DummyStatsClient._send unknown.athena_query_scanned_bytes:74734839|c\n",
      "C:\\Users\\karol\\AppData\\Local\\Temp\\ipykernel_57016\\2909922400.py:77: FutureWarning: The frame.append method is deprecated and will be removed from pandas in a future version. Use pandas.concat instead.\n",
      "  df_results = df_results.append(current_result, ignore_index=True)\n",
      "DummyStatsClient._send unknown.athena_query_runs_total:1|c\n"
     ]
    },
    {
     "name": "stdout",
     "output_type": "stream",
     "text": [
      "2022-11-25 00:00:00\n",
      "2023-02-04 14:37:44,674 - botocore.credentials - INFO - Found credentials in shared credentials file: ~/.aws/credentials\n"
     ]
    },
    {
     "name": "stderr",
     "output_type": "stream",
     "text": [
      "DummyStatsClient._send unknown.athena_query_queue_ms:634.000000|ms\n",
      "DummyStatsClient._send unknown.athena_query_execution_ms:3214.000000|ms\n",
      "DummyStatsClient._send unknown.athena_query_scanned_bytes:74734839|c\n",
      "C:\\Users\\karol\\AppData\\Local\\Temp\\ipykernel_57016\\2909922400.py:77: FutureWarning: The frame.append method is deprecated and will be removed from pandas in a future version. Use pandas.concat instead.\n",
      "  df_results = df_results.append(current_result, ignore_index=True)\n",
      "DummyStatsClient._send unknown.athena_query_runs_total:1|c\n"
     ]
    },
    {
     "name": "stdout",
     "output_type": "stream",
     "text": [
      "2022-11-26 00:00:00\n",
      "2023-02-04 14:37:54,913 - botocore.credentials - INFO - Found credentials in shared credentials file: ~/.aws/credentials\n"
     ]
    },
    {
     "name": "stderr",
     "output_type": "stream",
     "text": [
      "DummyStatsClient._send unknown.athena_query_queue_ms:460.000000|ms\n",
      "DummyStatsClient._send unknown.athena_query_execution_ms:3006.000000|ms\n",
      "DummyStatsClient._send unknown.athena_query_scanned_bytes:74734839|c\n",
      "C:\\Users\\karol\\AppData\\Local\\Temp\\ipykernel_57016\\2909922400.py:77: FutureWarning: The frame.append method is deprecated and will be removed from pandas in a future version. Use pandas.concat instead.\n",
      "  df_results = df_results.append(current_result, ignore_index=True)\n",
      "DummyStatsClient._send unknown.athena_query_runs_total:1|c\n"
     ]
    },
    {
     "name": "stdout",
     "output_type": "stream",
     "text": [
      "2022-11-27 00:00:00\n",
      "2023-02-04 14:38:04,844 - botocore.credentials - INFO - Found credentials in shared credentials file: ~/.aws/credentials\n"
     ]
    },
    {
     "name": "stderr",
     "output_type": "stream",
     "text": [
      "DummyStatsClient._send unknown.athena_query_queue_ms:487.000000|ms\n",
      "DummyStatsClient._send unknown.athena_query_execution_ms:3046.000000|ms\n",
      "DummyStatsClient._send unknown.athena_query_scanned_bytes:74734839|c\n",
      "C:\\Users\\karol\\AppData\\Local\\Temp\\ipykernel_57016\\2909922400.py:77: FutureWarning: The frame.append method is deprecated and will be removed from pandas in a future version. Use pandas.concat instead.\n",
      "  df_results = df_results.append(current_result, ignore_index=True)\n",
      "DummyStatsClient._send unknown.athena_query_runs_total:1|c\n"
     ]
    },
    {
     "name": "stdout",
     "output_type": "stream",
     "text": [
      "2022-11-28 00:00:00\n",
      "2023-02-04 14:38:14,893 - botocore.credentials - INFO - Found credentials in shared credentials file: ~/.aws/credentials\n"
     ]
    },
    {
     "name": "stderr",
     "output_type": "stream",
     "text": [
      "DummyStatsClient._send unknown.athena_query_queue_ms:455.000000|ms\n",
      "DummyStatsClient._send unknown.athena_query_execution_ms:2647.000000|ms\n",
      "DummyStatsClient._send unknown.athena_query_scanned_bytes:74734839|c\n",
      "C:\\Users\\karol\\AppData\\Local\\Temp\\ipykernel_57016\\2909922400.py:77: FutureWarning: The frame.append method is deprecated and will be removed from pandas in a future version. Use pandas.concat instead.\n",
      "  df_results = df_results.append(current_result, ignore_index=True)\n",
      "DummyStatsClient._send unknown.athena_query_runs_total:1|c\n"
     ]
    },
    {
     "name": "stdout",
     "output_type": "stream",
     "text": [
      "2022-11-29 00:00:00\n",
      "2023-02-04 14:38:24,489 - botocore.credentials - INFO - Found credentials in shared credentials file: ~/.aws/credentials\n"
     ]
    },
    {
     "name": "stderr",
     "output_type": "stream",
     "text": [
      "DummyStatsClient._send unknown.athena_query_queue_ms:474.000000|ms\n",
      "DummyStatsClient._send unknown.athena_query_execution_ms:2889.000000|ms\n",
      "DummyStatsClient._send unknown.athena_query_scanned_bytes:74734839|c\n",
      "C:\\Users\\karol\\AppData\\Local\\Temp\\ipykernel_57016\\2909922400.py:77: FutureWarning: The frame.append method is deprecated and will be removed from pandas in a future version. Use pandas.concat instead.\n",
      "  df_results = df_results.append(current_result, ignore_index=True)\n",
      "DummyStatsClient._send unknown.athena_query_runs_total:1|c\n"
     ]
    },
    {
     "name": "stdout",
     "output_type": "stream",
     "text": [
      "2022-11-30 00:00:00\n",
      "2023-02-04 14:38:36,085 - botocore.credentials - INFO - Found credentials in shared credentials file: ~/.aws/credentials\n"
     ]
    },
    {
     "name": "stderr",
     "output_type": "stream",
     "text": [
      "DummyStatsClient._send unknown.athena_query_queue_ms:436.000000|ms\n",
      "DummyStatsClient._send unknown.athena_query_execution_ms:4500.000000|ms\n",
      "DummyStatsClient._send unknown.athena_query_scanned_bytes:74734839|c\n",
      "C:\\Users\\karol\\AppData\\Local\\Temp\\ipykernel_57016\\2909922400.py:77: FutureWarning: The frame.append method is deprecated and will be removed from pandas in a future version. Use pandas.concat instead.\n",
      "  df_results = df_results.append(current_result, ignore_index=True)\n",
      "DummyStatsClient._send unknown.athena_query_runs_total:1|c\n"
     ]
    },
    {
     "name": "stdout",
     "output_type": "stream",
     "text": [
      "2022-12-01 00:00:00\n",
      "2023-02-04 14:38:45,572 - botocore.credentials - INFO - Found credentials in shared credentials file: ~/.aws/credentials\n"
     ]
    },
    {
     "name": "stderr",
     "output_type": "stream",
     "text": [
      "DummyStatsClient._send unknown.athena_query_queue_ms:467.000000|ms\n",
      "DummyStatsClient._send unknown.athena_query_execution_ms:2715.000000|ms\n",
      "DummyStatsClient._send unknown.athena_query_scanned_bytes:74734839|c\n",
      "C:\\Users\\karol\\AppData\\Local\\Temp\\ipykernel_57016\\2909922400.py:77: FutureWarning: The frame.append method is deprecated and will be removed from pandas in a future version. Use pandas.concat instead.\n",
      "  df_results = df_results.append(current_result, ignore_index=True)\n",
      "DummyStatsClient._send unknown.athena_query_runs_total:1|c\n"
     ]
    },
    {
     "name": "stdout",
     "output_type": "stream",
     "text": [
      "2022-12-02 00:00:00\n",
      "2023-02-04 14:38:56,198 - botocore.credentials - INFO - Found credentials in shared credentials file: ~/.aws/credentials\n"
     ]
    },
    {
     "name": "stderr",
     "output_type": "stream",
     "text": [
      "DummyStatsClient._send unknown.athena_query_queue_ms:456.000000|ms\n",
      "DummyStatsClient._send unknown.athena_query_execution_ms:3131.000000|ms\n",
      "DummyStatsClient._send unknown.athena_query_scanned_bytes:74734839|c\n",
      "C:\\Users\\karol\\AppData\\Local\\Temp\\ipykernel_57016\\2909922400.py:77: FutureWarning: The frame.append method is deprecated and will be removed from pandas in a future version. Use pandas.concat instead.\n",
      "  df_results = df_results.append(current_result, ignore_index=True)\n",
      "DummyStatsClient._send unknown.athena_query_runs_total:1|c\n"
     ]
    },
    {
     "name": "stdout",
     "output_type": "stream",
     "text": [
      "2022-12-03 00:00:00\n",
      "2023-02-04 14:39:05,966 - botocore.credentials - INFO - Found credentials in shared credentials file: ~/.aws/credentials\n"
     ]
    },
    {
     "name": "stderr",
     "output_type": "stream",
     "text": [
      "DummyStatsClient._send unknown.athena_query_queue_ms:432.000000|ms\n",
      "DummyStatsClient._send unknown.athena_query_execution_ms:3051.000000|ms\n",
      "DummyStatsClient._send unknown.athena_query_scanned_bytes:74734839|c\n",
      "C:\\Users\\karol\\AppData\\Local\\Temp\\ipykernel_57016\\2909922400.py:77: FutureWarning: The frame.append method is deprecated and will be removed from pandas in a future version. Use pandas.concat instead.\n",
      "  df_results = df_results.append(current_result, ignore_index=True)\n",
      "DummyStatsClient._send unknown.athena_query_runs_total:1|c\n"
     ]
    },
    {
     "name": "stdout",
     "output_type": "stream",
     "text": [
      "2022-12-04 00:00:00\n",
      "2023-02-04 14:39:16,257 - botocore.credentials - INFO - Found credentials in shared credentials file: ~/.aws/credentials\n"
     ]
    },
    {
     "name": "stderr",
     "output_type": "stream",
     "text": [
      "DummyStatsClient._send unknown.athena_query_queue_ms:496.000000|ms\n",
      "DummyStatsClient._send unknown.athena_query_execution_ms:2722.000000|ms\n",
      "DummyStatsClient._send unknown.athena_query_scanned_bytes:74734839|c\n",
      "C:\\Users\\karol\\AppData\\Local\\Temp\\ipykernel_57016\\2909922400.py:77: FutureWarning: The frame.append method is deprecated and will be removed from pandas in a future version. Use pandas.concat instead.\n",
      "  df_results = df_results.append(current_result, ignore_index=True)\n",
      "DummyStatsClient._send unknown.athena_query_runs_total:1|c\n"
     ]
    },
    {
     "name": "stdout",
     "output_type": "stream",
     "text": [
      "2022-12-05 00:00:00\n",
      "2023-02-04 14:39:26,122 - botocore.credentials - INFO - Found credentials in shared credentials file: ~/.aws/credentials\n"
     ]
    },
    {
     "name": "stderr",
     "output_type": "stream",
     "text": [
      "DummyStatsClient._send unknown.athena_query_queue_ms:410.000000|ms\n",
      "DummyStatsClient._send unknown.athena_query_execution_ms:2913.000000|ms\n",
      "DummyStatsClient._send unknown.athena_query_scanned_bytes:74734839|c\n",
      "C:\\Users\\karol\\AppData\\Local\\Temp\\ipykernel_57016\\2909922400.py:77: FutureWarning: The frame.append method is deprecated and will be removed from pandas in a future version. Use pandas.concat instead.\n",
      "  df_results = df_results.append(current_result, ignore_index=True)\n",
      "DummyStatsClient._send unknown.athena_query_runs_total:1|c\n"
     ]
    },
    {
     "name": "stdout",
     "output_type": "stream",
     "text": [
      "2022-12-06 00:00:00\n",
      "2023-02-04 14:39:35,666 - botocore.credentials - INFO - Found credentials in shared credentials file: ~/.aws/credentials\n"
     ]
    },
    {
     "name": "stderr",
     "output_type": "stream",
     "text": [
      "DummyStatsClient._send unknown.athena_query_queue_ms:491.000000|ms\n",
      "DummyStatsClient._send unknown.athena_query_execution_ms:2691.000000|ms\n",
      "DummyStatsClient._send unknown.athena_query_scanned_bytes:74734839|c\n",
      "C:\\Users\\karol\\AppData\\Local\\Temp\\ipykernel_57016\\2909922400.py:77: FutureWarning: The frame.append method is deprecated and will be removed from pandas in a future version. Use pandas.concat instead.\n",
      "  df_results = df_results.append(current_result, ignore_index=True)\n",
      "DummyStatsClient._send unknown.athena_query_runs_total:1|c\n"
     ]
    },
    {
     "name": "stdout",
     "output_type": "stream",
     "text": [
      "2022-12-07 00:00:00\n",
      "2023-02-04 14:39:46,219 - botocore.credentials - INFO - Found credentials in shared credentials file: ~/.aws/credentials\n"
     ]
    },
    {
     "name": "stderr",
     "output_type": "stream",
     "text": [
      "DummyStatsClient._send unknown.athena_query_queue_ms:459.000000|ms\n",
      "DummyStatsClient._send unknown.athena_query_execution_ms:3236.000000|ms\n",
      "DummyStatsClient._send unknown.athena_query_scanned_bytes:74734839|c\n",
      "C:\\Users\\karol\\AppData\\Local\\Temp\\ipykernel_57016\\2909922400.py:77: FutureWarning: The frame.append method is deprecated and will be removed from pandas in a future version. Use pandas.concat instead.\n",
      "  df_results = df_results.append(current_result, ignore_index=True)\n",
      "DummyStatsClient._send unknown.athena_query_runs_total:1|c\n"
     ]
    },
    {
     "name": "stdout",
     "output_type": "stream",
     "text": [
      "2022-12-08 00:00:00\n",
      "2023-02-04 14:39:56,037 - botocore.credentials - INFO - Found credentials in shared credentials file: ~/.aws/credentials\n"
     ]
    },
    {
     "name": "stderr",
     "output_type": "stream",
     "text": [
      "DummyStatsClient._send unknown.athena_query_queue_ms:467.000000|ms\n",
      "DummyStatsClient._send unknown.athena_query_execution_ms:2676.000000|ms\n",
      "DummyStatsClient._send unknown.athena_query_scanned_bytes:74734839|c\n",
      "C:\\Users\\karol\\AppData\\Local\\Temp\\ipykernel_57016\\2909922400.py:77: FutureWarning: The frame.append method is deprecated and will be removed from pandas in a future version. Use pandas.concat instead.\n",
      "  df_results = df_results.append(current_result, ignore_index=True)\n",
      "DummyStatsClient._send unknown.athena_query_runs_total:1|c\n"
     ]
    },
    {
     "name": "stdout",
     "output_type": "stream",
     "text": [
      "2022-12-09 00:00:00\n",
      "2023-02-04 14:40:16,711 - botocore.credentials - INFO - Found credentials in shared credentials file: ~/.aws/credentials\n"
     ]
    },
    {
     "name": "stderr",
     "output_type": "stream",
     "text": [
      "DummyStatsClient._send unknown.athena_query_queue_ms:526.000000|ms\n",
      "DummyStatsClient._send unknown.athena_query_execution_ms:13278.000000|ms\n",
      "DummyStatsClient._send unknown.athena_query_scanned_bytes:74734839|c\n",
      "C:\\Users\\karol\\AppData\\Local\\Temp\\ipykernel_57016\\2909922400.py:77: FutureWarning: The frame.append method is deprecated and will be removed from pandas in a future version. Use pandas.concat instead.\n",
      "  df_results = df_results.append(current_result, ignore_index=True)\n",
      "DummyStatsClient._send unknown.athena_query_runs_total:1|c\n"
     ]
    },
    {
     "name": "stdout",
     "output_type": "stream",
     "text": [
      "2022-12-10 00:00:00\n",
      "2023-02-04 14:40:26,330 - botocore.credentials - INFO - Found credentials in shared credentials file: ~/.aws/credentials\n"
     ]
    },
    {
     "name": "stderr",
     "output_type": "stream",
     "text": [
      "DummyStatsClient._send unknown.athena_query_queue_ms:407.000000|ms\n",
      "DummyStatsClient._send unknown.athena_query_execution_ms:2496.000000|ms\n",
      "DummyStatsClient._send unknown.athena_query_scanned_bytes:74734839|c\n",
      "C:\\Users\\karol\\AppData\\Local\\Temp\\ipykernel_57016\\2909922400.py:77: FutureWarning: The frame.append method is deprecated and will be removed from pandas in a future version. Use pandas.concat instead.\n",
      "  df_results = df_results.append(current_result, ignore_index=True)\n",
      "DummyStatsClient._send unknown.athena_query_runs_total:1|c\n"
     ]
    },
    {
     "name": "stdout",
     "output_type": "stream",
     "text": [
      "2022-12-11 00:00:00\n",
      "2023-02-04 14:40:37,106 - botocore.credentials - INFO - Found credentials in shared credentials file: ~/.aws/credentials\n"
     ]
    },
    {
     "name": "stderr",
     "output_type": "stream",
     "text": [
      "DummyStatsClient._send unknown.athena_query_queue_ms:449.000000|ms\n",
      "DummyStatsClient._send unknown.athena_query_execution_ms:3213.000000|ms\n",
      "DummyStatsClient._send unknown.athena_query_scanned_bytes:74734839|c\n",
      "C:\\Users\\karol\\AppData\\Local\\Temp\\ipykernel_57016\\2909922400.py:77: FutureWarning: The frame.append method is deprecated and will be removed from pandas in a future version. Use pandas.concat instead.\n",
      "  df_results = df_results.append(current_result, ignore_index=True)\n",
      "DummyStatsClient._send unknown.athena_query_runs_total:1|c\n"
     ]
    },
    {
     "name": "stdout",
     "output_type": "stream",
     "text": [
      "2022-12-12 00:00:00\n",
      "2023-02-04 14:40:47,344 - botocore.credentials - INFO - Found credentials in shared credentials file: ~/.aws/credentials\n"
     ]
    },
    {
     "name": "stderr",
     "output_type": "stream",
     "text": [
      "DummyStatsClient._send unknown.athena_query_queue_ms:447.000000|ms\n",
      "DummyStatsClient._send unknown.athena_query_execution_ms:2751.000000|ms\n",
      "DummyStatsClient._send unknown.athena_query_scanned_bytes:74734839|c\n",
      "C:\\Users\\karol\\AppData\\Local\\Temp\\ipykernel_57016\\2909922400.py:77: FutureWarning: The frame.append method is deprecated and will be removed from pandas in a future version. Use pandas.concat instead.\n",
      "  df_results = df_results.append(current_result, ignore_index=True)\n",
      "DummyStatsClient._send unknown.athena_query_runs_total:1|c\n"
     ]
    },
    {
     "name": "stdout",
     "output_type": "stream",
     "text": [
      "2022-12-13 00:00:00\n",
      "2023-02-04 14:40:59,319 - botocore.credentials - INFO - Found credentials in shared credentials file: ~/.aws/credentials\n"
     ]
    },
    {
     "name": "stderr",
     "output_type": "stream",
     "text": [
      "DummyStatsClient._send unknown.athena_query_queue_ms:436.000000|ms\n",
      "DummyStatsClient._send unknown.athena_query_execution_ms:4489.000000|ms\n",
      "DummyStatsClient._send unknown.athena_query_scanned_bytes:74734839|c\n",
      "C:\\Users\\karol\\AppData\\Local\\Temp\\ipykernel_57016\\2909922400.py:77: FutureWarning: The frame.append method is deprecated and will be removed from pandas in a future version. Use pandas.concat instead.\n",
      "  df_results = df_results.append(current_result, ignore_index=True)\n",
      "DummyStatsClient._send unknown.athena_query_runs_total:1|c\n"
     ]
    },
    {
     "name": "stdout",
     "output_type": "stream",
     "text": [
      "2022-12-14 00:00:00\n",
      "2023-02-04 14:41:10,607 - botocore.credentials - INFO - Found credentials in shared credentials file: ~/.aws/credentials\n"
     ]
    },
    {
     "name": "stderr",
     "output_type": "stream",
     "text": [
      "DummyStatsClient._send unknown.athena_query_queue_ms:463.000000|ms\n",
      "DummyStatsClient._send unknown.athena_query_execution_ms:3177.000000|ms\n",
      "DummyStatsClient._send unknown.athena_query_scanned_bytes:74734839|c\n",
      "C:\\Users\\karol\\AppData\\Local\\Temp\\ipykernel_57016\\2909922400.py:77: FutureWarning: The frame.append method is deprecated and will be removed from pandas in a future version. Use pandas.concat instead.\n",
      "  df_results = df_results.append(current_result, ignore_index=True)\n",
      "DummyStatsClient._send unknown.athena_query_runs_total:1|c\n"
     ]
    },
    {
     "name": "stdout",
     "output_type": "stream",
     "text": [
      "2022-12-15 00:00:00\n",
      "2023-02-04 14:41:26,163 - botocore.credentials - INFO - Found credentials in shared credentials file: ~/.aws/credentials\n"
     ]
    },
    {
     "name": "stderr",
     "output_type": "stream",
     "text": [
      "DummyStatsClient._send unknown.athena_query_queue_ms:452.000000|ms\n",
      "DummyStatsClient._send unknown.athena_query_execution_ms:8579.000000|ms\n",
      "DummyStatsClient._send unknown.athena_query_scanned_bytes:74734839|c\n",
      "C:\\Users\\karol\\AppData\\Local\\Temp\\ipykernel_57016\\2909922400.py:77: FutureWarning: The frame.append method is deprecated and will be removed from pandas in a future version. Use pandas.concat instead.\n",
      "  df_results = df_results.append(current_result, ignore_index=True)\n",
      "DummyStatsClient._send unknown.athena_query_runs_total:1|c\n"
     ]
    },
    {
     "name": "stdout",
     "output_type": "stream",
     "text": [
      "2022-12-16 00:00:00\n",
      "2023-02-04 14:41:36,085 - botocore.credentials - INFO - Found credentials in shared credentials file: ~/.aws/credentials\n"
     ]
    },
    {
     "name": "stderr",
     "output_type": "stream",
     "text": [
      "DummyStatsClient._send unknown.athena_query_queue_ms:439.000000|ms\n",
      "DummyStatsClient._send unknown.athena_query_execution_ms:2698.000000|ms\n",
      "DummyStatsClient._send unknown.athena_query_scanned_bytes:74734839|c\n",
      "C:\\Users\\karol\\AppData\\Local\\Temp\\ipykernel_57016\\2909922400.py:77: FutureWarning: The frame.append method is deprecated and will be removed from pandas in a future version. Use pandas.concat instead.\n",
      "  df_results = df_results.append(current_result, ignore_index=True)\n",
      "DummyStatsClient._send unknown.athena_query_runs_total:1|c\n"
     ]
    },
    {
     "name": "stdout",
     "output_type": "stream",
     "text": [
      "2022-12-17 00:00:00\n",
      "2023-02-04 14:41:45,925 - botocore.credentials - INFO - Found credentials in shared credentials file: ~/.aws/credentials\n"
     ]
    },
    {
     "name": "stderr",
     "output_type": "stream",
     "text": [
      "DummyStatsClient._send unknown.athena_query_queue_ms:462.000000|ms\n",
      "DummyStatsClient._send unknown.athena_query_execution_ms:2665.000000|ms\n",
      "DummyStatsClient._send unknown.athena_query_scanned_bytes:74734839|c\n",
      "C:\\Users\\karol\\AppData\\Local\\Temp\\ipykernel_57016\\2909922400.py:77: FutureWarning: The frame.append method is deprecated and will be removed from pandas in a future version. Use pandas.concat instead.\n",
      "  df_results = df_results.append(current_result, ignore_index=True)\n",
      "DummyStatsClient._send unknown.athena_query_runs_total:1|c\n"
     ]
    },
    {
     "name": "stdout",
     "output_type": "stream",
     "text": [
      "2022-12-18 00:00:00\n",
      "2023-02-04 14:41:56,865 - botocore.credentials - INFO - Found credentials in shared credentials file: ~/.aws/credentials\n"
     ]
    },
    {
     "name": "stderr",
     "output_type": "stream",
     "text": [
      "DummyStatsClient._send unknown.athena_query_queue_ms:443.000000|ms\n",
      "DummyStatsClient._send unknown.athena_query_execution_ms:2974.000000|ms\n",
      "DummyStatsClient._send unknown.athena_query_scanned_bytes:74734839|c\n",
      "C:\\Users\\karol\\AppData\\Local\\Temp\\ipykernel_57016\\2909922400.py:77: FutureWarning: The frame.append method is deprecated and will be removed from pandas in a future version. Use pandas.concat instead.\n",
      "  df_results = df_results.append(current_result, ignore_index=True)\n",
      "DummyStatsClient._send unknown.athena_query_runs_total:1|c\n"
     ]
    },
    {
     "name": "stdout",
     "output_type": "stream",
     "text": [
      "2022-12-19 00:00:00\n",
      "2023-02-04 14:42:07,218 - botocore.credentials - INFO - Found credentials in shared credentials file: ~/.aws/credentials\n"
     ]
    },
    {
     "name": "stderr",
     "output_type": "stream",
     "text": [
      "DummyStatsClient._send unknown.athena_query_queue_ms:565.000000|ms\n",
      "DummyStatsClient._send unknown.athena_query_execution_ms:3400.000000|ms\n",
      "DummyStatsClient._send unknown.athena_query_scanned_bytes:74734839|c\n",
      "C:\\Users\\karol\\AppData\\Local\\Temp\\ipykernel_57016\\2909922400.py:77: FutureWarning: The frame.append method is deprecated and will be removed from pandas in a future version. Use pandas.concat instead.\n",
      "  df_results = df_results.append(current_result, ignore_index=True)\n",
      "DummyStatsClient._send unknown.athena_query_runs_total:1|c\n"
     ]
    },
    {
     "name": "stdout",
     "output_type": "stream",
     "text": [
      "2022-12-20 00:00:00\n",
      "2023-02-04 14:42:17,461 - botocore.credentials - INFO - Found credentials in shared credentials file: ~/.aws/credentials\n"
     ]
    },
    {
     "name": "stderr",
     "output_type": "stream",
     "text": [
      "DummyStatsClient._send unknown.athena_query_queue_ms:448.000000|ms\n",
      "DummyStatsClient._send unknown.athena_query_execution_ms:2789.000000|ms\n",
      "DummyStatsClient._send unknown.athena_query_scanned_bytes:74734839|c\n",
      "C:\\Users\\karol\\AppData\\Local\\Temp\\ipykernel_57016\\2909922400.py:77: FutureWarning: The frame.append method is deprecated and will be removed from pandas in a future version. Use pandas.concat instead.\n",
      "  df_results = df_results.append(current_result, ignore_index=True)\n",
      "DummyStatsClient._send unknown.athena_query_runs_total:1|c\n"
     ]
    },
    {
     "name": "stdout",
     "output_type": "stream",
     "text": [
      "2022-12-21 00:00:00\n",
      "2023-02-04 14:42:28,501 - botocore.credentials - INFO - Found credentials in shared credentials file: ~/.aws/credentials\n"
     ]
    },
    {
     "name": "stderr",
     "output_type": "stream",
     "text": [
      "DummyStatsClient._send unknown.athena_query_queue_ms:721.000000|ms\n",
      "DummyStatsClient._send unknown.athena_query_execution_ms:3389.000000|ms\n",
      "DummyStatsClient._send unknown.athena_query_scanned_bytes:74734839|c\n",
      "C:\\Users\\karol\\AppData\\Local\\Temp\\ipykernel_57016\\2909922400.py:77: FutureWarning: The frame.append method is deprecated and will be removed from pandas in a future version. Use pandas.concat instead.\n",
      "  df_results = df_results.append(current_result, ignore_index=True)\n",
      "DummyStatsClient._send unknown.athena_query_runs_total:1|c\n"
     ]
    },
    {
     "name": "stdout",
     "output_type": "stream",
     "text": [
      "2022-12-22 00:00:00\n",
      "2023-02-04 14:42:38,866 - botocore.credentials - INFO - Found credentials in shared credentials file: ~/.aws/credentials\n"
     ]
    },
    {
     "name": "stderr",
     "output_type": "stream",
     "text": [
      "DummyStatsClient._send unknown.athena_query_queue_ms:698.000000|ms\n",
      "DummyStatsClient._send unknown.athena_query_execution_ms:3759.000000|ms\n",
      "DummyStatsClient._send unknown.athena_query_scanned_bytes:74734839|c\n",
      "C:\\Users\\karol\\AppData\\Local\\Temp\\ipykernel_57016\\2909922400.py:77: FutureWarning: The frame.append method is deprecated and will be removed from pandas in a future version. Use pandas.concat instead.\n",
      "  df_results = df_results.append(current_result, ignore_index=True)\n",
      "DummyStatsClient._send unknown.athena_query_runs_total:1|c\n"
     ]
    },
    {
     "name": "stdout",
     "output_type": "stream",
     "text": [
      "2022-12-23 00:00:00\n",
      "2023-02-04 14:42:48,491 - botocore.credentials - INFO - Found credentials in shared credentials file: ~/.aws/credentials\n"
     ]
    },
    {
     "name": "stderr",
     "output_type": "stream",
     "text": [
      "DummyStatsClient._send unknown.athena_query_queue_ms:446.000000|ms\n",
      "DummyStatsClient._send unknown.athena_query_execution_ms:2923.000000|ms\n",
      "DummyStatsClient._send unknown.athena_query_scanned_bytes:74734839|c\n",
      "C:\\Users\\karol\\AppData\\Local\\Temp\\ipykernel_57016\\2909922400.py:77: FutureWarning: The frame.append method is deprecated and will be removed from pandas in a future version. Use pandas.concat instead.\n",
      "  df_results = df_results.append(current_result, ignore_index=True)\n",
      "DummyStatsClient._send unknown.athena_query_runs_total:1|c\n"
     ]
    },
    {
     "name": "stdout",
     "output_type": "stream",
     "text": [
      "2022-12-24 00:00:00\n",
      "2023-02-04 14:42:59,550 - botocore.credentials - INFO - Found credentials in shared credentials file: ~/.aws/credentials\n"
     ]
    },
    {
     "name": "stderr",
     "output_type": "stream",
     "text": [
      "DummyStatsClient._send unknown.athena_query_queue_ms:475.000000|ms\n",
      "DummyStatsClient._send unknown.athena_query_execution_ms:3015.000000|ms\n",
      "DummyStatsClient._send unknown.athena_query_scanned_bytes:74734839|c\n",
      "C:\\Users\\karol\\AppData\\Local\\Temp\\ipykernel_57016\\2909922400.py:77: FutureWarning: The frame.append method is deprecated and will be removed from pandas in a future version. Use pandas.concat instead.\n",
      "  df_results = df_results.append(current_result, ignore_index=True)\n",
      "DummyStatsClient._send unknown.athena_query_runs_total:1|c\n"
     ]
    },
    {
     "name": "stdout",
     "output_type": "stream",
     "text": [
      "2022-12-25 00:00:00\n",
      "2023-02-04 14:43:09,172 - botocore.credentials - INFO - Found credentials in shared credentials file: ~/.aws/credentials\n"
     ]
    },
    {
     "name": "stderr",
     "output_type": "stream",
     "text": [
      "DummyStatsClient._send unknown.athena_query_queue_ms:447.000000|ms\n",
      "DummyStatsClient._send unknown.athena_query_execution_ms:2511.000000|ms\n",
      "DummyStatsClient._send unknown.athena_query_scanned_bytes:74734839|c\n",
      "C:\\Users\\karol\\AppData\\Local\\Temp\\ipykernel_57016\\2909922400.py:77: FutureWarning: The frame.append method is deprecated and will be removed from pandas in a future version. Use pandas.concat instead.\n",
      "  df_results = df_results.append(current_result, ignore_index=True)\n",
      "DummyStatsClient._send unknown.athena_query_runs_total:1|c\n"
     ]
    },
    {
     "name": "stdout",
     "output_type": "stream",
     "text": [
      "2022-12-26 00:00:00\n",
      "2023-02-04 14:43:19,461 - botocore.credentials - INFO - Found credentials in shared credentials file: ~/.aws/credentials\n"
     ]
    },
    {
     "name": "stderr",
     "output_type": "stream",
     "text": [
      "DummyStatsClient._send unknown.athena_query_queue_ms:576.000000|ms\n",
      "DummyStatsClient._send unknown.athena_query_execution_ms:2960.000000|ms\n",
      "DummyStatsClient._send unknown.athena_query_scanned_bytes:74734839|c\n",
      "C:\\Users\\karol\\AppData\\Local\\Temp\\ipykernel_57016\\2909922400.py:77: FutureWarning: The frame.append method is deprecated and will be removed from pandas in a future version. Use pandas.concat instead.\n",
      "  df_results = df_results.append(current_result, ignore_index=True)\n",
      "DummyStatsClient._send unknown.athena_query_runs_total:1|c\n"
     ]
    },
    {
     "name": "stdout",
     "output_type": "stream",
     "text": [
      "2022-12-27 00:00:00\n",
      "2023-02-04 14:43:29,762 - botocore.credentials - INFO - Found credentials in shared credentials file: ~/.aws/credentials\n"
     ]
    },
    {
     "name": "stderr",
     "output_type": "stream",
     "text": [
      "DummyStatsClient._send unknown.athena_query_queue_ms:435.000000|ms\n",
      "DummyStatsClient._send unknown.athena_query_execution_ms:2760.000000|ms\n",
      "DummyStatsClient._send unknown.athena_query_scanned_bytes:74734839|c\n",
      "C:\\Users\\karol\\AppData\\Local\\Temp\\ipykernel_57016\\2909922400.py:77: FutureWarning: The frame.append method is deprecated and will be removed from pandas in a future version. Use pandas.concat instead.\n",
      "  df_results = df_results.append(current_result, ignore_index=True)\n",
      "DummyStatsClient._send unknown.athena_query_runs_total:1|c\n"
     ]
    },
    {
     "name": "stdout",
     "output_type": "stream",
     "text": [
      "2022-12-28 00:00:00\n",
      "2023-02-04 14:43:41,218 - botocore.credentials - INFO - Found credentials in shared credentials file: ~/.aws/credentials\n"
     ]
    },
    {
     "name": "stderr",
     "output_type": "stream",
     "text": [
      "DummyStatsClient._send unknown.athena_query_queue_ms:456.000000|ms\n",
      "DummyStatsClient._send unknown.athena_query_execution_ms:3336.000000|ms\n",
      "DummyStatsClient._send unknown.athena_query_scanned_bytes:74734839|c\n",
      "C:\\Users\\karol\\AppData\\Local\\Temp\\ipykernel_57016\\2909922400.py:77: FutureWarning: The frame.append method is deprecated and will be removed from pandas in a future version. Use pandas.concat instead.\n",
      "  df_results = df_results.append(current_result, ignore_index=True)\n",
      "DummyStatsClient._send unknown.athena_query_runs_total:1|c\n"
     ]
    },
    {
     "name": "stdout",
     "output_type": "stream",
     "text": [
      "2022-12-29 00:00:00\n",
      "2023-02-04 14:43:51,670 - botocore.credentials - INFO - Found credentials in shared credentials file: ~/.aws/credentials\n"
     ]
    },
    {
     "name": "stderr",
     "output_type": "stream",
     "text": [
      "DummyStatsClient._send unknown.athena_query_queue_ms:564.000000|ms\n",
      "DummyStatsClient._send unknown.athena_query_execution_ms:3720.000000|ms\n",
      "DummyStatsClient._send unknown.athena_query_scanned_bytes:74734839|c\n",
      "C:\\Users\\karol\\AppData\\Local\\Temp\\ipykernel_57016\\2909922400.py:77: FutureWarning: The frame.append method is deprecated and will be removed from pandas in a future version. Use pandas.concat instead.\n",
      "  df_results = df_results.append(current_result, ignore_index=True)\n",
      "DummyStatsClient._send unknown.athena_query_runs_total:1|c\n"
     ]
    },
    {
     "name": "stdout",
     "output_type": "stream",
     "text": [
      "2022-12-30 00:00:00\n",
      "2023-02-04 14:44:02,427 - botocore.credentials - INFO - Found credentials in shared credentials file: ~/.aws/credentials\n"
     ]
    },
    {
     "name": "stderr",
     "output_type": "stream",
     "text": [
      "DummyStatsClient._send unknown.athena_query_queue_ms:434.000000|ms\n",
      "DummyStatsClient._send unknown.athena_query_execution_ms:3136.000000|ms\n",
      "DummyStatsClient._send unknown.athena_query_scanned_bytes:74734839|c\n",
      "C:\\Users\\karol\\AppData\\Local\\Temp\\ipykernel_57016\\2909922400.py:77: FutureWarning: The frame.append method is deprecated and will be removed from pandas in a future version. Use pandas.concat instead.\n",
      "  df_results = df_results.append(current_result, ignore_index=True)\n",
      "DummyStatsClient._send unknown.athena_query_runs_total:1|c\n"
     ]
    },
    {
     "name": "stdout",
     "output_type": "stream",
     "text": [
      "2022-12-31 00:00:00\n",
      "2023-02-04 14:44:13,175 - botocore.credentials - INFO - Found credentials in shared credentials file: ~/.aws/credentials\n"
     ]
    },
    {
     "name": "stderr",
     "output_type": "stream",
     "text": [
      "DummyStatsClient._send unknown.athena_query_queue_ms:551.000000|ms\n",
      "DummyStatsClient._send unknown.athena_query_execution_ms:3449.000000|ms\n",
      "DummyStatsClient._send unknown.athena_query_scanned_bytes:74734839|c\n",
      "C:\\Users\\karol\\AppData\\Local\\Temp\\ipykernel_57016\\2909922400.py:77: FutureWarning: The frame.append method is deprecated and will be removed from pandas in a future version. Use pandas.concat instead.\n",
      "  df_results = df_results.append(current_result, ignore_index=True)\n",
      "DummyStatsClient._send unknown.athena_query_runs_total:1|c\n"
     ]
    },
    {
     "name": "stdout",
     "output_type": "stream",
     "text": [
      "2023-01-01 00:00:00\n",
      "2023-02-04 14:44:23,766 - botocore.credentials - INFO - Found credentials in shared credentials file: ~/.aws/credentials\n"
     ]
    },
    {
     "name": "stderr",
     "output_type": "stream",
     "text": [
      "DummyStatsClient._send unknown.athena_query_queue_ms:422.000000|ms\n",
      "DummyStatsClient._send unknown.athena_query_execution_ms:2800.000000|ms\n",
      "DummyStatsClient._send unknown.athena_query_scanned_bytes:74734839|c\n",
      "C:\\Users\\karol\\AppData\\Local\\Temp\\ipykernel_57016\\2909922400.py:77: FutureWarning: The frame.append method is deprecated and will be removed from pandas in a future version. Use pandas.concat instead.\n",
      "  df_results = df_results.append(current_result, ignore_index=True)\n",
      "DummyStatsClient._send unknown.athena_query_runs_total:1|c\n"
     ]
    },
    {
     "name": "stdout",
     "output_type": "stream",
     "text": [
      "2023-01-02 00:00:00\n",
      "2023-02-04 14:44:34,786 - botocore.credentials - INFO - Found credentials in shared credentials file: ~/.aws/credentials\n"
     ]
    },
    {
     "name": "stderr",
     "output_type": "stream",
     "text": [
      "DummyStatsClient._send unknown.athena_query_queue_ms:460.000000|ms\n",
      "DummyStatsClient._send unknown.athena_query_execution_ms:3113.000000|ms\n",
      "DummyStatsClient._send unknown.athena_query_scanned_bytes:74734839|c\n",
      "C:\\Users\\karol\\AppData\\Local\\Temp\\ipykernel_57016\\2909922400.py:77: FutureWarning: The frame.append method is deprecated and will be removed from pandas in a future version. Use pandas.concat instead.\n",
      "  df_results = df_results.append(current_result, ignore_index=True)\n",
      "DummyStatsClient._send unknown.athena_query_runs_total:1|c\n"
     ]
    },
    {
     "name": "stdout",
     "output_type": "stream",
     "text": [
      "2023-01-03 00:00:00\n",
      "2023-02-04 14:44:45,324 - botocore.credentials - INFO - Found credentials in shared credentials file: ~/.aws/credentials\n"
     ]
    },
    {
     "name": "stderr",
     "output_type": "stream",
     "text": [
      "DummyStatsClient._send unknown.athena_query_queue_ms:615.000000|ms\n",
      "DummyStatsClient._send unknown.athena_query_execution_ms:3899.000000|ms\n",
      "DummyStatsClient._send unknown.athena_query_scanned_bytes:74734839|c\n",
      "C:\\Users\\karol\\AppData\\Local\\Temp\\ipykernel_57016\\2909922400.py:77: FutureWarning: The frame.append method is deprecated and will be removed from pandas in a future version. Use pandas.concat instead.\n",
      "  df_results = df_results.append(current_result, ignore_index=True)\n",
      "DummyStatsClient._send unknown.athena_query_runs_total:1|c\n"
     ]
    },
    {
     "name": "stdout",
     "output_type": "stream",
     "text": [
      "2023-01-04 00:00:00\n",
      "2023-02-04 14:44:54,774 - botocore.credentials - INFO - Found credentials in shared credentials file: ~/.aws/credentials\n"
     ]
    },
    {
     "name": "stderr",
     "output_type": "stream",
     "text": [
      "DummyStatsClient._send unknown.athena_query_queue_ms:451.000000|ms\n",
      "DummyStatsClient._send unknown.athena_query_execution_ms:2474.000000|ms\n",
      "DummyStatsClient._send unknown.athena_query_scanned_bytes:74734839|c\n",
      "C:\\Users\\karol\\AppData\\Local\\Temp\\ipykernel_57016\\2909922400.py:77: FutureWarning: The frame.append method is deprecated and will be removed from pandas in a future version. Use pandas.concat instead.\n",
      "  df_results = df_results.append(current_result, ignore_index=True)\n",
      "DummyStatsClient._send unknown.athena_query_runs_total:1|c\n"
     ]
    },
    {
     "name": "stdout",
     "output_type": "stream",
     "text": [
      "2023-01-05 00:00:00\n",
      "2023-02-04 14:45:05,048 - botocore.credentials - INFO - Found credentials in shared credentials file: ~/.aws/credentials\n"
     ]
    },
    {
     "name": "stderr",
     "output_type": "stream",
     "text": [
      "DummyStatsClient._send unknown.athena_query_queue_ms:480.000000|ms\n",
      "DummyStatsClient._send unknown.athena_query_execution_ms:3217.000000|ms\n",
      "DummyStatsClient._send unknown.athena_query_scanned_bytes:74734839|c\n",
      "C:\\Users\\karol\\AppData\\Local\\Temp\\ipykernel_57016\\2909922400.py:77: FutureWarning: The frame.append method is deprecated and will be removed from pandas in a future version. Use pandas.concat instead.\n",
      "  df_results = df_results.append(current_result, ignore_index=True)\n",
      "DummyStatsClient._send unknown.athena_query_runs_total:1|c\n"
     ]
    },
    {
     "name": "stdout",
     "output_type": "stream",
     "text": [
      "2023-01-06 00:00:00\n",
      "2023-02-04 14:45:14,611 - botocore.credentials - INFO - Found credentials in shared credentials file: ~/.aws/credentials\n"
     ]
    },
    {
     "name": "stderr",
     "output_type": "stream",
     "text": [
      "DummyStatsClient._send unknown.athena_query_queue_ms:497.000000|ms\n",
      "DummyStatsClient._send unknown.athena_query_execution_ms:3386.000000|ms\n",
      "DummyStatsClient._send unknown.athena_query_scanned_bytes:74734839|c\n",
      "C:\\Users\\karol\\AppData\\Local\\Temp\\ipykernel_57016\\2909922400.py:77: FutureWarning: The frame.append method is deprecated and will be removed from pandas in a future version. Use pandas.concat instead.\n",
      "  df_results = df_results.append(current_result, ignore_index=True)\n",
      "DummyStatsClient._send unknown.athena_query_runs_total:1|c\n"
     ]
    },
    {
     "name": "stdout",
     "output_type": "stream",
     "text": [
      "2023-01-07 00:00:00\n",
      "2023-02-04 14:45:26,094 - botocore.credentials - INFO - Found credentials in shared credentials file: ~/.aws/credentials\n"
     ]
    },
    {
     "name": "stderr",
     "output_type": "stream",
     "text": [
      "DummyStatsClient._send unknown.athena_query_queue_ms:655.000000|ms\n",
      "DummyStatsClient._send unknown.athena_query_execution_ms:3277.000000|ms\n",
      "DummyStatsClient._send unknown.athena_query_scanned_bytes:74734839|c\n",
      "C:\\Users\\karol\\AppData\\Local\\Temp\\ipykernel_57016\\2909922400.py:77: FutureWarning: The frame.append method is deprecated and will be removed from pandas in a future version. Use pandas.concat instead.\n",
      "  df_results = df_results.append(current_result, ignore_index=True)\n",
      "DummyStatsClient._send unknown.athena_query_runs_total:1|c\n"
     ]
    },
    {
     "name": "stdout",
     "output_type": "stream",
     "text": [
      "2023-01-08 00:00:00\n",
      "2023-02-04 14:45:36,111 - botocore.credentials - INFO - Found credentials in shared credentials file: ~/.aws/credentials\n"
     ]
    },
    {
     "name": "stderr",
     "output_type": "stream",
     "text": [
      "DummyStatsClient._send unknown.athena_query_queue_ms:511.000000|ms\n",
      "DummyStatsClient._send unknown.athena_query_execution_ms:3187.000000|ms\n",
      "DummyStatsClient._send unknown.athena_query_scanned_bytes:74734839|c\n",
      "C:\\Users\\karol\\AppData\\Local\\Temp\\ipykernel_57016\\2909922400.py:77: FutureWarning: The frame.append method is deprecated and will be removed from pandas in a future version. Use pandas.concat instead.\n",
      "  df_results = df_results.append(current_result, ignore_index=True)\n",
      "DummyStatsClient._send unknown.athena_query_runs_total:1|c\n"
     ]
    },
    {
     "name": "stdout",
     "output_type": "stream",
     "text": [
      "2023-01-09 00:00:00\n",
      "2023-02-04 14:45:46,359 - botocore.credentials - INFO - Found credentials in shared credentials file: ~/.aws/credentials\n"
     ]
    },
    {
     "name": "stderr",
     "output_type": "stream",
     "text": [
      "DummyStatsClient._send unknown.athena_query_queue_ms:478.000000|ms\n",
      "DummyStatsClient._send unknown.athena_query_execution_ms:3190.000000|ms\n",
      "DummyStatsClient._send unknown.athena_query_scanned_bytes:74734839|c\n",
      "C:\\Users\\karol\\AppData\\Local\\Temp\\ipykernel_57016\\2909922400.py:77: FutureWarning: The frame.append method is deprecated and will be removed from pandas in a future version. Use pandas.concat instead.\n",
      "  df_results = df_results.append(current_result, ignore_index=True)\n",
      "DummyStatsClient._send unknown.athena_query_runs_total:1|c\n"
     ]
    },
    {
     "name": "stdout",
     "output_type": "stream",
     "text": [
      "2023-01-10 00:00:00\n",
      "2023-02-04 14:46:02,970 - botocore.credentials - INFO - Found credentials in shared credentials file: ~/.aws/credentials\n"
     ]
    },
    {
     "name": "stderr",
     "output_type": "stream",
     "text": [
      "DummyStatsClient._send unknown.athena_query_queue_ms:567.000000|ms\n",
      "DummyStatsClient._send unknown.athena_query_execution_ms:8727.000000|ms\n",
      "DummyStatsClient._send unknown.athena_query_scanned_bytes:74734839|c\n",
      "C:\\Users\\karol\\AppData\\Local\\Temp\\ipykernel_57016\\2909922400.py:77: FutureWarning: The frame.append method is deprecated and will be removed from pandas in a future version. Use pandas.concat instead.\n",
      "  df_results = df_results.append(current_result, ignore_index=True)\n",
      "DummyStatsClient._send unknown.athena_query_runs_total:1|c\n"
     ]
    },
    {
     "name": "stdout",
     "output_type": "stream",
     "text": [
      "2023-01-11 00:00:00\n",
      "2023-02-04 14:46:13,410 - botocore.credentials - INFO - Found credentials in shared credentials file: ~/.aws/credentials\n"
     ]
    },
    {
     "name": "stderr",
     "output_type": "stream",
     "text": [
      "DummyStatsClient._send unknown.athena_query_queue_ms:482.000000|ms\n",
      "DummyStatsClient._send unknown.athena_query_execution_ms:3319.000000|ms\n",
      "DummyStatsClient._send unknown.athena_query_scanned_bytes:74734839|c\n",
      "C:\\Users\\karol\\AppData\\Local\\Temp\\ipykernel_57016\\2909922400.py:77: FutureWarning: The frame.append method is deprecated and will be removed from pandas in a future version. Use pandas.concat instead.\n",
      "  df_results = df_results.append(current_result, ignore_index=True)\n",
      "DummyStatsClient._send unknown.athena_query_runs_total:1|c\n"
     ]
    },
    {
     "name": "stdout",
     "output_type": "stream",
     "text": [
      "2023-01-12 00:00:00\n",
      "2023-02-04 14:46:23,895 - botocore.credentials - INFO - Found credentials in shared credentials file: ~/.aws/credentials\n"
     ]
    },
    {
     "name": "stderr",
     "output_type": "stream",
     "text": [
      "DummyStatsClient._send unknown.athena_query_queue_ms:446.000000|ms\n",
      "DummyStatsClient._send unknown.athena_query_execution_ms:2982.000000|ms\n",
      "DummyStatsClient._send unknown.athena_query_scanned_bytes:74734839|c\n",
      "C:\\Users\\karol\\AppData\\Local\\Temp\\ipykernel_57016\\2909922400.py:77: FutureWarning: The frame.append method is deprecated and will be removed from pandas in a future version. Use pandas.concat instead.\n",
      "  df_results = df_results.append(current_result, ignore_index=True)\n",
      "DummyStatsClient._send unknown.athena_query_runs_total:1|c\n"
     ]
    },
    {
     "name": "stdout",
     "output_type": "stream",
     "text": [
      "2023-01-13 00:00:00\n",
      "2023-02-04 14:46:34,733 - botocore.credentials - INFO - Found credentials in shared credentials file: ~/.aws/credentials\n"
     ]
    },
    {
     "name": "stderr",
     "output_type": "stream",
     "text": [
      "DummyStatsClient._send unknown.athena_query_queue_ms:490.000000|ms\n",
      "DummyStatsClient._send unknown.athena_query_execution_ms:3356.000000|ms\n",
      "DummyStatsClient._send unknown.athena_query_scanned_bytes:74734839|c\n",
      "C:\\Users\\karol\\AppData\\Local\\Temp\\ipykernel_57016\\2909922400.py:77: FutureWarning: The frame.append method is deprecated and will be removed from pandas in a future version. Use pandas.concat instead.\n",
      "  df_results = df_results.append(current_result, ignore_index=True)\n",
      "DummyStatsClient._send unknown.athena_query_runs_total:1|c\n"
     ]
    },
    {
     "name": "stdout",
     "output_type": "stream",
     "text": [
      "2023-01-14 00:00:00\n",
      "2023-02-04 14:46:44,870 - botocore.credentials - INFO - Found credentials in shared credentials file: ~/.aws/credentials\n"
     ]
    },
    {
     "name": "stderr",
     "output_type": "stream",
     "text": [
      "DummyStatsClient._send unknown.athena_query_queue_ms:441.000000|ms\n",
      "DummyStatsClient._send unknown.athena_query_execution_ms:3048.000000|ms\n",
      "DummyStatsClient._send unknown.athena_query_scanned_bytes:74734839|c\n",
      "C:\\Users\\karol\\AppData\\Local\\Temp\\ipykernel_57016\\2909922400.py:77: FutureWarning: The frame.append method is deprecated and will be removed from pandas in a future version. Use pandas.concat instead.\n",
      "  df_results = df_results.append(current_result, ignore_index=True)\n",
      "DummyStatsClient._send unknown.athena_query_runs_total:1|c\n"
     ]
    },
    {
     "name": "stdout",
     "output_type": "stream",
     "text": [
      "2023-01-15 00:00:00\n",
      "2023-02-04 14:46:55,771 - botocore.credentials - INFO - Found credentials in shared credentials file: ~/.aws/credentials\n"
     ]
    },
    {
     "name": "stderr",
     "output_type": "stream",
     "text": [
      "DummyStatsClient._send unknown.athena_query_queue_ms:496.000000|ms\n",
      "DummyStatsClient._send unknown.athena_query_execution_ms:3093.000000|ms\n",
      "DummyStatsClient._send unknown.athena_query_scanned_bytes:74734839|c\n",
      "C:\\Users\\karol\\AppData\\Local\\Temp\\ipykernel_57016\\2909922400.py:77: FutureWarning: The frame.append method is deprecated and will be removed from pandas in a future version. Use pandas.concat instead.\n",
      "  df_results = df_results.append(current_result, ignore_index=True)\n",
      "DummyStatsClient._send unknown.athena_query_runs_total:1|c\n"
     ]
    },
    {
     "name": "stdout",
     "output_type": "stream",
     "text": [
      "2023-01-16 00:00:00\n",
      "2023-02-04 14:47:07,382 - botocore.credentials - INFO - Found credentials in shared credentials file: ~/.aws/credentials\n"
     ]
    },
    {
     "name": "stderr",
     "output_type": "stream",
     "text": [
      "DummyStatsClient._send unknown.athena_query_queue_ms:477.000000|ms\n",
      "DummyStatsClient._send unknown.athena_query_execution_ms:3094.000000|ms\n",
      "DummyStatsClient._send unknown.athena_query_scanned_bytes:74734839|c\n",
      "C:\\Users\\karol\\AppData\\Local\\Temp\\ipykernel_57016\\2909922400.py:77: FutureWarning: The frame.append method is deprecated and will be removed from pandas in a future version. Use pandas.concat instead.\n",
      "  df_results = df_results.append(current_result, ignore_index=True)\n",
      "DummyStatsClient._send unknown.athena_query_runs_total:1|c\n"
     ]
    },
    {
     "name": "stdout",
     "output_type": "stream",
     "text": [
      "2023-01-17 00:00:00\n",
      "2023-02-04 14:47:19,744 - botocore.credentials - INFO - Found credentials in shared credentials file: ~/.aws/credentials\n"
     ]
    },
    {
     "name": "stderr",
     "output_type": "stream",
     "text": [
      "DummyStatsClient._send unknown.athena_query_queue_ms:458.000000|ms\n",
      "DummyStatsClient._send unknown.athena_query_execution_ms:4312.000000|ms\n",
      "DummyStatsClient._send unknown.athena_query_scanned_bytes:74734839|c\n",
      "C:\\Users\\karol\\AppData\\Local\\Temp\\ipykernel_57016\\2909922400.py:77: FutureWarning: The frame.append method is deprecated and will be removed from pandas in a future version. Use pandas.concat instead.\n",
      "  df_results = df_results.append(current_result, ignore_index=True)\n",
      "DummyStatsClient._send unknown.athena_query_runs_total:1|c\n"
     ]
    },
    {
     "name": "stdout",
     "output_type": "stream",
     "text": [
      "2023-01-18 00:00:00\n",
      "2023-02-04 14:47:30,522 - botocore.credentials - INFO - Found credentials in shared credentials file: ~/.aws/credentials\n"
     ]
    },
    {
     "name": "stderr",
     "output_type": "stream",
     "text": [
      "DummyStatsClient._send unknown.athena_query_queue_ms:469.000000|ms\n",
      "DummyStatsClient._send unknown.athena_query_execution_ms:3490.000000|ms\n",
      "DummyStatsClient._send unknown.athena_query_scanned_bytes:74734839|c\n",
      "C:\\Users\\karol\\AppData\\Local\\Temp\\ipykernel_57016\\2909922400.py:77: FutureWarning: The frame.append method is deprecated and will be removed from pandas in a future version. Use pandas.concat instead.\n",
      "  df_results = df_results.append(current_result, ignore_index=True)\n",
      "DummyStatsClient._send unknown.athena_query_runs_total:1|c\n"
     ]
    },
    {
     "name": "stdout",
     "output_type": "stream",
     "text": [
      "2023-01-19 00:00:00\n",
      "2023-02-04 14:47:40,344 - botocore.credentials - INFO - Found credentials in shared credentials file: ~/.aws/credentials\n"
     ]
    },
    {
     "name": "stderr",
     "output_type": "stream",
     "text": [
      "DummyStatsClient._send unknown.athena_query_queue_ms:502.000000|ms\n",
      "DummyStatsClient._send unknown.athena_query_execution_ms:2734.000000|ms\n",
      "DummyStatsClient._send unknown.athena_query_scanned_bytes:74734839|c\n",
      "C:\\Users\\karol\\AppData\\Local\\Temp\\ipykernel_57016\\2909922400.py:77: FutureWarning: The frame.append method is deprecated and will be removed from pandas in a future version. Use pandas.concat instead.\n",
      "  df_results = df_results.append(current_result, ignore_index=True)\n",
      "DummyStatsClient._send unknown.athena_query_runs_total:1|c\n"
     ]
    },
    {
     "name": "stdout",
     "output_type": "stream",
     "text": [
      "2023-01-20 00:00:00\n",
      "2023-02-04 14:47:50,454 - botocore.credentials - INFO - Found credentials in shared credentials file: ~/.aws/credentials\n"
     ]
    },
    {
     "name": "stderr",
     "output_type": "stream",
     "text": [
      "DummyStatsClient._send unknown.athena_query_queue_ms:420.000000|ms\n",
      "DummyStatsClient._send unknown.athena_query_execution_ms:3100.000000|ms\n",
      "DummyStatsClient._send unknown.athena_query_scanned_bytes:74734839|c\n",
      "C:\\Users\\karol\\AppData\\Local\\Temp\\ipykernel_57016\\2909922400.py:77: FutureWarning: The frame.append method is deprecated and will be removed from pandas in a future version. Use pandas.concat instead.\n",
      "  df_results = df_results.append(current_result, ignore_index=True)\n",
      "DummyStatsClient._send unknown.athena_query_runs_total:1|c\n"
     ]
    },
    {
     "name": "stdout",
     "output_type": "stream",
     "text": [
      "2023-01-21 00:00:00\n",
      "2023-02-04 14:48:01,030 - botocore.credentials - INFO - Found credentials in shared credentials file: ~/.aws/credentials\n"
     ]
    },
    {
     "name": "stderr",
     "output_type": "stream",
     "text": [
      "DummyStatsClient._send unknown.athena_query_queue_ms:472.000000|ms\n",
      "DummyStatsClient._send unknown.athena_query_execution_ms:3029.000000|ms\n",
      "DummyStatsClient._send unknown.athena_query_scanned_bytes:74734839|c\n",
      "C:\\Users\\karol\\AppData\\Local\\Temp\\ipykernel_57016\\2909922400.py:77: FutureWarning: The frame.append method is deprecated and will be removed from pandas in a future version. Use pandas.concat instead.\n",
      "  df_results = df_results.append(current_result, ignore_index=True)\n",
      "DummyStatsClient._send unknown.athena_query_runs_total:1|c\n"
     ]
    },
    {
     "name": "stdout",
     "output_type": "stream",
     "text": [
      "2023-01-22 00:00:00\n",
      "2023-02-04 14:48:10,343 - botocore.credentials - INFO - Found credentials in shared credentials file: ~/.aws/credentials\n"
     ]
    },
    {
     "name": "stderr",
     "output_type": "stream",
     "text": [
      "DummyStatsClient._send unknown.athena_query_queue_ms:497.000000|ms\n",
      "DummyStatsClient._send unknown.athena_query_execution_ms:2714.000000|ms\n",
      "DummyStatsClient._send unknown.athena_query_scanned_bytes:74734839|c\n",
      "C:\\Users\\karol\\AppData\\Local\\Temp\\ipykernel_57016\\2909922400.py:77: FutureWarning: The frame.append method is deprecated and will be removed from pandas in a future version. Use pandas.concat instead.\n",
      "  df_results = df_results.append(current_result, ignore_index=True)\n",
      "DummyStatsClient._send unknown.athena_query_runs_total:1|c\n"
     ]
    },
    {
     "name": "stdout",
     "output_type": "stream",
     "text": [
      "2023-01-23 00:00:00\n",
      "2023-02-04 14:48:19,245 - botocore.credentials - INFO - Found credentials in shared credentials file: ~/.aws/credentials\n"
     ]
    },
    {
     "name": "stderr",
     "output_type": "stream",
     "text": [
      "DummyStatsClient._send unknown.athena_query_queue_ms:434.000000|ms\n",
      "DummyStatsClient._send unknown.athena_query_execution_ms:2459.000000|ms\n",
      "DummyStatsClient._send unknown.athena_query_scanned_bytes:74734839|c\n",
      "C:\\Users\\karol\\AppData\\Local\\Temp\\ipykernel_57016\\2909922400.py:77: FutureWarning: The frame.append method is deprecated and will be removed from pandas in a future version. Use pandas.concat instead.\n",
      "  df_results = df_results.append(current_result, ignore_index=True)\n",
      "DummyStatsClient._send unknown.athena_query_runs_total:1|c\n"
     ]
    },
    {
     "name": "stdout",
     "output_type": "stream",
     "text": [
      "2023-01-24 00:00:00\n",
      "2023-02-04 14:48:30,099 - botocore.credentials - INFO - Found credentials in shared credentials file: ~/.aws/credentials\n"
     ]
    },
    {
     "name": "stderr",
     "output_type": "stream",
     "text": [
      "DummyStatsClient._send unknown.athena_query_queue_ms:470.000000|ms\n",
      "DummyStatsClient._send unknown.athena_query_execution_ms:3072.000000|ms\n",
      "DummyStatsClient._send unknown.athena_query_scanned_bytes:74734839|c\n",
      "C:\\Users\\karol\\AppData\\Local\\Temp\\ipykernel_57016\\2909922400.py:77: FutureWarning: The frame.append method is deprecated and will be removed from pandas in a future version. Use pandas.concat instead.\n",
      "  df_results = df_results.append(current_result, ignore_index=True)\n",
      "DummyStatsClient._send unknown.athena_query_runs_total:1|c\n"
     ]
    },
    {
     "name": "stdout",
     "output_type": "stream",
     "text": [
      "2023-01-25 00:00:00\n",
      "2023-02-04 14:48:40,031 - botocore.credentials - INFO - Found credentials in shared credentials file: ~/.aws/credentials\n"
     ]
    },
    {
     "name": "stderr",
     "output_type": "stream",
     "text": [
      "DummyStatsClient._send unknown.athena_query_queue_ms:525.000000|ms\n",
      "DummyStatsClient._send unknown.athena_query_execution_ms:3035.000000|ms\n",
      "DummyStatsClient._send unknown.athena_query_scanned_bytes:74734839|c\n",
      "C:\\Users\\karol\\AppData\\Local\\Temp\\ipykernel_57016\\2909922400.py:77: FutureWarning: The frame.append method is deprecated and will be removed from pandas in a future version. Use pandas.concat instead.\n",
      "  df_results = df_results.append(current_result, ignore_index=True)\n",
      "DummyStatsClient._send unknown.athena_query_runs_total:1|c\n"
     ]
    },
    {
     "name": "stdout",
     "output_type": "stream",
     "text": [
      "2023-01-26 00:00:00\n",
      "2023-02-04 14:48:51,408 - botocore.credentials - INFO - Found credentials in shared credentials file: ~/.aws/credentials\n"
     ]
    },
    {
     "name": "stderr",
     "output_type": "stream",
     "text": [
      "DummyStatsClient._send unknown.athena_query_queue_ms:454.000000|ms\n",
      "DummyStatsClient._send unknown.athena_query_execution_ms:3092.000000|ms\n",
      "DummyStatsClient._send unknown.athena_query_scanned_bytes:74734839|c\n",
      "C:\\Users\\karol\\AppData\\Local\\Temp\\ipykernel_57016\\2909922400.py:77: FutureWarning: The frame.append method is deprecated and will be removed from pandas in a future version. Use pandas.concat instead.\n",
      "  df_results = df_results.append(current_result, ignore_index=True)\n",
      "DummyStatsClient._send unknown.athena_query_runs_total:1|c\n"
     ]
    },
    {
     "name": "stdout",
     "output_type": "stream",
     "text": [
      "2023-01-27 00:00:00\n",
      "2023-02-04 14:49:02,379 - botocore.credentials - INFO - Found credentials in shared credentials file: ~/.aws/credentials\n"
     ]
    },
    {
     "name": "stderr",
     "output_type": "stream",
     "text": [
      "DummyStatsClient._send unknown.athena_query_queue_ms:470.000000|ms\n",
      "DummyStatsClient._send unknown.athena_query_execution_ms:3257.000000|ms\n",
      "DummyStatsClient._send unknown.athena_query_scanned_bytes:74734839|c\n",
      "C:\\Users\\karol\\AppData\\Local\\Temp\\ipykernel_57016\\2909922400.py:77: FutureWarning: The frame.append method is deprecated and will be removed from pandas in a future version. Use pandas.concat instead.\n",
      "  df_results = df_results.append(current_result, ignore_index=True)\n",
      "DummyStatsClient._send unknown.athena_query_runs_total:1|c\n"
     ]
    },
    {
     "name": "stdout",
     "output_type": "stream",
     "text": [
      "2023-01-28 00:00:00\n",
      "2023-02-04 14:49:12,071 - botocore.credentials - INFO - Found credentials in shared credentials file: ~/.aws/credentials\n"
     ]
    },
    {
     "name": "stderr",
     "output_type": "stream",
     "text": [
      "DummyStatsClient._send unknown.athena_query_queue_ms:441.000000|ms\n",
      "DummyStatsClient._send unknown.athena_query_execution_ms:2612.000000|ms\n",
      "DummyStatsClient._send unknown.athena_query_scanned_bytes:74734839|c\n",
      "C:\\Users\\karol\\AppData\\Local\\Temp\\ipykernel_57016\\2909922400.py:77: FutureWarning: The frame.append method is deprecated and will be removed from pandas in a future version. Use pandas.concat instead.\n",
      "  df_results = df_results.append(current_result, ignore_index=True)\n",
      "DummyStatsClient._send unknown.athena_query_runs_total:1|c\n"
     ]
    },
    {
     "name": "stdout",
     "output_type": "stream",
     "text": [
      "2023-01-29 00:00:00\n",
      "2023-02-04 14:49:23,460 - botocore.credentials - INFO - Found credentials in shared credentials file: ~/.aws/credentials\n"
     ]
    },
    {
     "name": "stderr",
     "output_type": "stream",
     "text": [
      "DummyStatsClient._send unknown.athena_query_queue_ms:494.000000|ms\n",
      "DummyStatsClient._send unknown.athena_query_execution_ms:3672.000000|ms\n",
      "DummyStatsClient._send unknown.athena_query_scanned_bytes:74734839|c\n",
      "C:\\Users\\karol\\AppData\\Local\\Temp\\ipykernel_57016\\2909922400.py:77: FutureWarning: The frame.append method is deprecated and will be removed from pandas in a future version. Use pandas.concat instead.\n",
      "  df_results = df_results.append(current_result, ignore_index=True)\n",
      "DummyStatsClient._send unknown.athena_query_runs_total:1|c\n"
     ]
    },
    {
     "name": "stdout",
     "output_type": "stream",
     "text": [
      "2023-01-30 00:00:00\n",
      "2023-02-04 14:49:33,073 - botocore.credentials - INFO - Found credentials in shared credentials file: ~/.aws/credentials\n"
     ]
    },
    {
     "name": "stderr",
     "output_type": "stream",
     "text": [
      "DummyStatsClient._send unknown.athena_query_queue_ms:437.000000|ms\n",
      "DummyStatsClient._send unknown.athena_query_execution_ms:2771.000000|ms\n",
      "DummyStatsClient._send unknown.athena_query_scanned_bytes:74734839|c\n",
      "C:\\Users\\karol\\AppData\\Local\\Temp\\ipykernel_57016\\2909922400.py:77: FutureWarning: The frame.append method is deprecated and will be removed from pandas in a future version. Use pandas.concat instead.\n",
      "  df_results = df_results.append(current_result, ignore_index=True)\n",
      "DummyStatsClient._send unknown.athena_query_runs_total:1|c\n",
      "DummyStatsClient._send unknown.athena_query_queue_ms:446.000000|ms\n",
      "DummyStatsClient._send unknown.athena_query_execution_ms:2903.000000|ms\n",
      "DummyStatsClient._send unknown.athena_query_scanned_bytes:74734839|c\n",
      "C:\\Users\\karol\\AppData\\Local\\Temp\\ipykernel_57016\\2909922400.py:77: FutureWarning: The frame.append method is deprecated and will be removed from pandas in a future version. Use pandas.concat instead.\n",
      "  df_results = df_results.append(current_result, ignore_index=True)\n"
     ]
    }
   ],
   "source": [
    "start_date = datetime(2022,10,13)\n",
    "end_date = datetime(2023,1,31)\n",
    "\n",
    "\n",
    "#meta_date = meta_date_datetime.strftime(\"'%Y-%m-%d'\")\n",
    "min_first_login_date = '\\'1990-11-17\\''\n",
    "max_first_login_date = '\\'2023-01-31\\''\n",
    "company_id = 'sparkgaming_vjv6s'\n",
    "project_id = 'ultimate_x_poker_rib6t'\n",
    "personalized = False\n",
    "winsorized = True\n",
    "datapoint_type = \"one_datapoint_per_user_per_meta_date\"\n",
    "n_days_spend = 7\n",
    "variant_name_1 = 'P'\n",
    "variant_name_2 = 'C'\n",
    "a_prior_beta_1 = 1\n",
    "a_prior_beta_2 = 1\n",
    "b_prior_beta_1 = 1\n",
    "b_prior_beta_2 = 1\n",
    "m_prior_1 = 2\n",
    "m_prior_2 = 2\n",
    "a_prior_ig_1 = 0\n",
    "a_prior_ig_2 = 0\n",
    "b_prior_ig_1 = 0\n",
    "b_prior_ig_2 = 0\n",
    "w_prior_1 = 10\n",
    "w_prior_2 = 10\n",
    "df_results = pd.DataFrame(columns = [\"meta_date\", \"inputs\", \"a_post_beta_variant_1\", \"a_post_beta_variant_2\", \"b_post_beta_variant_1\", \"b_post_beta_variant_2\", \"m_post_variant_1\", \"m_post_variant_2\", \"a_post_ig_variant_1\", \"a_post_ig_variant_2\",\n",
    "        \"b_post_ig_variant_1\", \"b_post_ig_variant_2\", \"w_post_variant_1\", \"w_post_variant_2\", \"results\"])\n",
    "\n",
    "\n",
    "list_of_days = [start_date + timedelta(i) for i in range((end_date - start_date).days)]\n",
    "\n",
    "\n",
    "\n",
    "for day in list_of_days:\n",
    "    print(day)\n",
    "    meta_date = day.strftime(\"'%Y-%m-%d'\")\n",
    "    results = run_ab_testing(meta_date, company_id, project_id, personalized, winsorized, datapoint_type,\n",
    "        min_first_login_date,\n",
    "        max_first_login_date,\n",
    "        n_days_spend,\n",
    "        variant_name_1,\n",
    "        variant_name_2,\n",
    "        a_prior_beta_1,\n",
    "        a_prior_beta_2,\n",
    "        b_prior_beta_1,\n",
    "        b_prior_beta_2,\n",
    "        m_prior_1,\n",
    "        m_prior_2,\n",
    "        a_prior_ig_1,\n",
    "        a_prior_ig_2,\n",
    "        b_prior_ig_1,\n",
    "        b_prior_ig_2,\n",
    "        w_prior_1,\n",
    "        w_prior_2)\n",
    "    #pdb.set_trace()\n",
    "\n",
    "    a_prior_beta_1 = results[\"a_post_beta_variant_1\"]\n",
    "    a_prior_beta_2 = results[\"a_post_beta_variant_2\"]\n",
    "    b_prior_beta_1 = results[\"b_post_beta_variant_1\"]\n",
    "    b_prior_beta_2 = results[\"b_post_beta_variant_2\"]\n",
    "    m_prior_1 = results[\"m_post_variant_1\"]\n",
    "    m_prior_2 = results[\"m_post_variant_2\"]\n",
    "    a_prior_ig_1 = results[\"a_post_ig_variant_1\"]\n",
    "    a_prior_ig_2 = results[\"a_post_ig_variant_2\"]\n",
    "    b_prior_ig_1 = results[\"b_post_ig_variant_1\"]\n",
    "    b_prior_ig_2 = results[\"b_post_ig_variant_2\"]\n",
    "    w_prior_1 = results[\"w_post_variant_1\"]\n",
    "    w_prior_2 = results[\"w_post_variant_2\"]\n",
    "\n",
    "\n",
    "    current_result = {\"meta_date\": day, \"inputs\": results[\"inputs\"], \"a_post_beta_variant_1\": a_prior_beta_1, \"a_post_beta_variant_2\": a_prior_beta_2, \"b_post_beta_variant_1\": b_prior_beta_1, \"b_post_beta_variant_2\": b_prior_beta_2, \n",
    "                                \"m_post_variant_1\": m_prior_1, \"m_post_variant_2\": m_prior_2, \"a_post_ig_variant_1\": a_prior_ig_1, \"a_post_ig_variant_2\": a_prior_ig_2, \"b_post_ig_variant_1\": b_prior_ig_1, \"b_post_ig_variant_2\": b_prior_ig_2, \n",
    "                                \"w_post_variant_1\": w_prior_1, \"w_post_variant_2\": w_prior_2, \"results\": results['results']}\n",
    "\n",
    "    df_results = df_results.append(current_result, ignore_index=True)\n",
    "\n",
    "    #pdb.set_trace()\n"
   ]
  },
  {
   "cell_type": "code",
   "execution_count": 28,
   "metadata": {},
   "outputs": [
    {
     "data": {
      "text/html": [
       "<div>\n",
       "<style scoped>\n",
       "    .dataframe tbody tr th:only-of-type {\n",
       "        vertical-align: middle;\n",
       "    }\n",
       "\n",
       "    .dataframe tbody tr th {\n",
       "        vertical-align: top;\n",
       "    }\n",
       "\n",
       "    .dataframe thead th {\n",
       "        text-align: right;\n",
       "    }\n",
       "</style>\n",
       "<table border=\"1\" class=\"dataframe\">\n",
       "  <thead>\n",
       "    <tr style=\"text-align: right;\">\n",
       "      <th></th>\n",
       "      <th>meta_date</th>\n",
       "      <th>inputs</th>\n",
       "      <th>a_post_beta_variant_1</th>\n",
       "      <th>a_post_beta_variant_2</th>\n",
       "      <th>b_post_beta_variant_1</th>\n",
       "      <th>b_post_beta_variant_2</th>\n",
       "      <th>m_post_variant_1</th>\n",
       "      <th>m_post_variant_2</th>\n",
       "      <th>a_post_ig_variant_1</th>\n",
       "      <th>a_post_ig_variant_2</th>\n",
       "      <th>b_post_ig_variant_1</th>\n",
       "      <th>b_post_ig_variant_2</th>\n",
       "      <th>w_post_variant_1</th>\n",
       "      <th>w_post_variant_2</th>\n",
       "      <th>results</th>\n",
       "    </tr>\n",
       "  </thead>\n",
       "  <tbody>\n",
       "    <tr>\n",
       "      <th>0</th>\n",
       "      <td>2022-10-13</td>\n",
       "      <td>{'totals_variant_1': 11959, 'totals_variant_2'...</td>\n",
       "      <td>100</td>\n",
       "      <td>159</td>\n",
       "      <td>11861</td>\n",
       "      <td>27727</td>\n",
       "      <td>2.080671</td>\n",
       "      <td>2.124826</td>\n",
       "      <td>49.5</td>\n",
       "      <td>79.0</td>\n",
       "      <td>61.062651</td>\n",
       "      <td>116.506226</td>\n",
       "      <td>109</td>\n",
       "      <td>168</td>\n",
       "      <td>{'prob_being_best_version_1': 0.83225, 'prob_b...</td>\n",
       "    </tr>\n",
       "    <tr>\n",
       "      <th>1</th>\n",
       "      <td>2022-10-14</td>\n",
       "      <td>{'totals_variant_1': 12082, 'totals_variant_2'...</td>\n",
       "      <td>201</td>\n",
       "      <td>350</td>\n",
       "      <td>23842</td>\n",
       "      <td>55237</td>\n",
       "      <td>2.112602</td>\n",
       "      <td>2.228827</td>\n",
       "      <td>100.0</td>\n",
       "      <td>174.5</td>\n",
       "      <td>127.217994</td>\n",
       "      <td>269.201971</td>\n",
       "      <td>210</td>\n",
       "      <td>359</td>\n",
       "      <td>{'prob_being_best_version_1': 0.57665, 'prob_b...</td>\n",
       "    </tr>\n",
       "    <tr>\n",
       "      <th>2</th>\n",
       "      <td>2022-10-15</td>\n",
       "      <td>{'totals_variant_1': 11854, 'totals_variant_2'...</td>\n",
       "      <td>308</td>\n",
       "      <td>545</td>\n",
       "      <td>35589</td>\n",
       "      <td>82804</td>\n",
       "      <td>2.098019</td>\n",
       "      <td>2.183018</td>\n",
       "      <td>153.5</td>\n",
       "      <td>272.0</td>\n",
       "      <td>201.874097</td>\n",
       "      <td>443.485078</td>\n",
       "      <td>317</td>\n",
       "      <td>554</td>\n",
       "      <td>{'prob_being_best_version_1': 0.58665, 'prob_b...</td>\n",
       "    </tr>\n",
       "    <tr>\n",
       "      <th>3</th>\n",
       "      <td>2022-10-16</td>\n",
       "      <td>{'totals_variant_1': 12359, 'totals_variant_2'...</td>\n",
       "      <td>399</td>\n",
       "      <td>768</td>\n",
       "      <td>47857</td>\n",
       "      <td>111284</td>\n",
       "      <td>2.095246</td>\n",
       "      <td>2.139397</td>\n",
       "      <td>199.0</td>\n",
       "      <td>383.5</td>\n",
       "      <td>257.929258</td>\n",
       "      <td>637.251432</td>\n",
       "      <td>408</td>\n",
       "      <td>777</td>\n",
       "      <td>{'prob_being_best_version_1': 0.36185, 'prob_b...</td>\n",
       "    </tr>\n",
       "    <tr>\n",
       "      <th>4</th>\n",
       "      <td>2022-10-17</td>\n",
       "      <td>{'totals_variant_1': 12841, 'totals_variant_2'...</td>\n",
       "      <td>486</td>\n",
       "      <td>939</td>\n",
       "      <td>60611</td>\n",
       "      <td>141002</td>\n",
       "      <td>2.094141</td>\n",
       "      <td>2.138592</td>\n",
       "      <td>242.5</td>\n",
       "      <td>469.0</td>\n",
       "      <td>314.460638</td>\n",
       "      <td>781.093606</td>\n",
       "      <td>495</td>\n",
       "      <td>948</td>\n",
       "      <td>{'prob_being_best_version_1': 0.328, 'prob_bei...</td>\n",
       "    </tr>\n",
       "    <tr>\n",
       "      <th>...</th>\n",
       "      <td>...</td>\n",
       "      <td>...</td>\n",
       "      <td>...</td>\n",
       "      <td>...</td>\n",
       "      <td>...</td>\n",
       "      <td>...</td>\n",
       "      <td>...</td>\n",
       "      <td>...</td>\n",
       "      <td>...</td>\n",
       "      <td>...</td>\n",
       "      <td>...</td>\n",
       "      <td>...</td>\n",
       "      <td>...</td>\n",
       "      <td>...</td>\n",
       "      <td>...</td>\n",
       "    </tr>\n",
       "    <tr>\n",
       "      <th>105</th>\n",
       "      <td>2023-01-26</td>\n",
       "      <td>{'totals_variant_1': 16634, 'totals_variant_2'...</td>\n",
       "      <td>13369</td>\n",
       "      <td>26558</td>\n",
       "      <td>1568045</td>\n",
       "      <td>3660042</td>\n",
       "      <td>2.169858</td>\n",
       "      <td>2.215051</td>\n",
       "      <td>6684.0</td>\n",
       "      <td>13278.5</td>\n",
       "      <td>8853.806831</td>\n",
       "      <td>21598.507912</td>\n",
       "      <td>13378</td>\n",
       "      <td>26567</td>\n",
       "      <td>{'prob_being_best_version_1': 0.03295, 'prob_b...</td>\n",
       "    </tr>\n",
       "    <tr>\n",
       "      <th>106</th>\n",
       "      <td>2023-01-27</td>\n",
       "      <td>{'totals_variant_1': 16392, 'totals_variant_2'...</td>\n",
       "      <td>13475</td>\n",
       "      <td>26812</td>\n",
       "      <td>1584331</td>\n",
       "      <td>3697811</td>\n",
       "      <td>2.170153</td>\n",
       "      <td>2.217453</td>\n",
       "      <td>6737.0</td>\n",
       "      <td>13405.5</td>\n",
       "      <td>8905.986583</td>\n",
       "      <td>21792.566677</td>\n",
       "      <td>13484</td>\n",
       "      <td>26821</td>\n",
       "      <td>{'prob_being_best_version_1': 0.01775, 'prob_b...</td>\n",
       "    </tr>\n",
       "    <tr>\n",
       "      <th>107</th>\n",
       "      <td>2023-01-28</td>\n",
       "      <td>{'totals_variant_1': 16325, 'totals_variant_2'...</td>\n",
       "      <td>13641</td>\n",
       "      <td>27091</td>\n",
       "      <td>1600490</td>\n",
       "      <td>3735453</td>\n",
       "      <td>2.169757</td>\n",
       "      <td>2.220439</td>\n",
       "      <td>6820.0</td>\n",
       "      <td>13545.0</td>\n",
       "      <td>9019.101382</td>\n",
       "      <td>22033.514181</td>\n",
       "      <td>13650</td>\n",
       "      <td>27100</td>\n",
       "      <td>{'prob_being_best_version_1': 0.0141, 'prob_be...</td>\n",
       "    </tr>\n",
       "    <tr>\n",
       "      <th>108</th>\n",
       "      <td>2023-01-29</td>\n",
       "      <td>{'totals_variant_1': 16762, 'totals_variant_2'...</td>\n",
       "      <td>13783</td>\n",
       "      <td>27369</td>\n",
       "      <td>1617110</td>\n",
       "      <td>3774126</td>\n",
       "      <td>2.170281</td>\n",
       "      <td>2.220663</td>\n",
       "      <td>6891.0</td>\n",
       "      <td>13684.0</td>\n",
       "      <td>9102.178108</td>\n",
       "      <td>22259.098817</td>\n",
       "      <td>13792</td>\n",
       "      <td>27378</td>\n",
       "      <td>{'prob_being_best_version_1': 0.01265, 'prob_b...</td>\n",
       "    </tr>\n",
       "    <tr>\n",
       "      <th>109</th>\n",
       "      <td>2023-01-30</td>\n",
       "      <td>{'totals_variant_1': 17043, 'totals_variant_2'...</td>\n",
       "      <td>13895</td>\n",
       "      <td>27610</td>\n",
       "      <td>1634041</td>\n",
       "      <td>3813225</td>\n",
       "      <td>2.173093</td>\n",
       "      <td>2.221682</td>\n",
       "      <td>6947.0</td>\n",
       "      <td>13804.5</td>\n",
       "      <td>9178.137408</td>\n",
       "      <td>22428.442861</td>\n",
       "      <td>13904</td>\n",
       "      <td>27619</td>\n",
       "      <td>{'prob_being_best_version_1': 0.0161, 'prob_be...</td>\n",
       "    </tr>\n",
       "  </tbody>\n",
       "</table>\n",
       "<p>110 rows × 15 columns</p>\n",
       "</div>"
      ],
      "text/plain": [
       "     meta_date                                             inputs  \\\n",
       "0   2022-10-13  {'totals_variant_1': 11959, 'totals_variant_2'...   \n",
       "1   2022-10-14  {'totals_variant_1': 12082, 'totals_variant_2'...   \n",
       "2   2022-10-15  {'totals_variant_1': 11854, 'totals_variant_2'...   \n",
       "3   2022-10-16  {'totals_variant_1': 12359, 'totals_variant_2'...   \n",
       "4   2022-10-17  {'totals_variant_1': 12841, 'totals_variant_2'...   \n",
       "..         ...                                                ...   \n",
       "105 2023-01-26  {'totals_variant_1': 16634, 'totals_variant_2'...   \n",
       "106 2023-01-27  {'totals_variant_1': 16392, 'totals_variant_2'...   \n",
       "107 2023-01-28  {'totals_variant_1': 16325, 'totals_variant_2'...   \n",
       "108 2023-01-29  {'totals_variant_1': 16762, 'totals_variant_2'...   \n",
       "109 2023-01-30  {'totals_variant_1': 17043, 'totals_variant_2'...   \n",
       "\n",
       "    a_post_beta_variant_1 a_post_beta_variant_2 b_post_beta_variant_1  \\\n",
       "0                     100                   159                 11861   \n",
       "1                     201                   350                 23842   \n",
       "2                     308                   545                 35589   \n",
       "3                     399                   768                 47857   \n",
       "4                     486                   939                 60611   \n",
       "..                    ...                   ...                   ...   \n",
       "105                 13369                 26558               1568045   \n",
       "106                 13475                 26812               1584331   \n",
       "107                 13641                 27091               1600490   \n",
       "108                 13783                 27369               1617110   \n",
       "109                 13895                 27610               1634041   \n",
       "\n",
       "    b_post_beta_variant_2  m_post_variant_1  m_post_variant_2  \\\n",
       "0                   27727          2.080671          2.124826   \n",
       "1                   55237          2.112602          2.228827   \n",
       "2                   82804          2.098019          2.183018   \n",
       "3                  111284          2.095246          2.139397   \n",
       "4                  141002          2.094141          2.138592   \n",
       "..                    ...               ...               ...   \n",
       "105               3660042          2.169858          2.215051   \n",
       "106               3697811          2.170153          2.217453   \n",
       "107               3735453          2.169757          2.220439   \n",
       "108               3774126          2.170281          2.220663   \n",
       "109               3813225          2.173093          2.221682   \n",
       "\n",
       "     a_post_ig_variant_1  a_post_ig_variant_2  b_post_ig_variant_1  \\\n",
       "0                   49.5                 79.0            61.062651   \n",
       "1                  100.0                174.5           127.217994   \n",
       "2                  153.5                272.0           201.874097   \n",
       "3                  199.0                383.5           257.929258   \n",
       "4                  242.5                469.0           314.460638   \n",
       "..                   ...                  ...                  ...   \n",
       "105               6684.0              13278.5          8853.806831   \n",
       "106               6737.0              13405.5          8905.986583   \n",
       "107               6820.0              13545.0          9019.101382   \n",
       "108               6891.0              13684.0          9102.178108   \n",
       "109               6947.0              13804.5          9178.137408   \n",
       "\n",
       "     b_post_ig_variant_2 w_post_variant_1 w_post_variant_2  \\\n",
       "0             116.506226              109              168   \n",
       "1             269.201971              210              359   \n",
       "2             443.485078              317              554   \n",
       "3             637.251432              408              777   \n",
       "4             781.093606              495              948   \n",
       "..                   ...              ...              ...   \n",
       "105         21598.507912            13378            26567   \n",
       "106         21792.566677            13484            26821   \n",
       "107         22033.514181            13650            27100   \n",
       "108         22259.098817            13792            27378   \n",
       "109         22428.442861            13904            27619   \n",
       "\n",
       "                                               results  \n",
       "0    {'prob_being_best_version_1': 0.83225, 'prob_b...  \n",
       "1    {'prob_being_best_version_1': 0.57665, 'prob_b...  \n",
       "2    {'prob_being_best_version_1': 0.58665, 'prob_b...  \n",
       "3    {'prob_being_best_version_1': 0.36185, 'prob_b...  \n",
       "4    {'prob_being_best_version_1': 0.328, 'prob_bei...  \n",
       "..                                                 ...  \n",
       "105  {'prob_being_best_version_1': 0.03295, 'prob_b...  \n",
       "106  {'prob_being_best_version_1': 0.01775, 'prob_b...  \n",
       "107  {'prob_being_best_version_1': 0.0141, 'prob_be...  \n",
       "108  {'prob_being_best_version_1': 0.01265, 'prob_b...  \n",
       "109  {'prob_being_best_version_1': 0.0161, 'prob_be...  \n",
       "\n",
       "[110 rows x 15 columns]"
      ]
     },
     "execution_count": 28,
     "metadata": {},
     "output_type": "execute_result"
    }
   ],
   "source": [
    "df_results"
   ]
  },
  {
   "cell_type": "code",
   "execution_count": 29,
   "metadata": {},
   "outputs": [],
   "source": [
    "df_results.to_parquet('sparkgaming')"
   ]
  },
  {
   "cell_type": "code",
   "execution_count": 33,
   "metadata": {},
   "outputs": [
    {
     "data": {
      "text/plain": [
       "meta_date                datetime64[ns]\n",
       "inputs                           object\n",
       "a_post_beta_variant_1            object\n",
       "a_post_beta_variant_2            object\n",
       "b_post_beta_variant_1            object\n",
       "b_post_beta_variant_2            object\n",
       "m_post_variant_1                float64\n",
       "m_post_variant_2                float64\n",
       "a_post_ig_variant_1             float64\n",
       "a_post_ig_variant_2             float64\n",
       "b_post_ig_variant_1             float64\n",
       "b_post_ig_variant_2             float64\n",
       "w_post_variant_1                 object\n",
       "w_post_variant_2                 object\n",
       "results                          object\n",
       "dtype: object"
      ]
     },
     "execution_count": 33,
     "metadata": {},
     "output_type": "execute_result"
    }
   ],
   "source": [
    "df_results.dtypes"
   ]
  },
  {
   "cell_type": "code",
   "execution_count": 44,
   "metadata": {},
   "outputs": [],
   "source": [
    "df_results = pd.read_parquet('tinysoft')"
   ]
  },
  {
   "cell_type": "code",
   "execution_count": 52,
   "metadata": {},
   "outputs": [],
   "source": [
    "df_results['inputs'] = df_results['inputs'].astype(str)\n",
    "df_results['a_post_beta_variant_1'] = df_results['a_post_beta_variant_1'].astype(float)\n",
    "df_results['a_post_beta_variant_2'] = df_results['a_post_beta_variant_2'].astype(float)\n",
    "df_results['b_post_beta_variant_1'] = df_results['b_post_beta_variant_1'].astype(float)\n",
    "df_results['b_post_beta_variant_2'] = df_results['b_post_beta_variant_2'].astype(float)\n",
    "df_results['w_post_variant_1'] = df_results['w_post_variant_1'].astype(float)\n",
    "df_results['w_post_variant_2'] = df_results['w_post_variant_2'].astype(float)\n",
    "df_results['results'] = df_results['results'].astype(str)"
   ]
  },
  {
   "cell_type": "code",
   "execution_count": null,
   "metadata": {},
   "outputs": [],
   "source": [
    "df_results = pd.read_parquet('tinysoft')"
   ]
  },
  {
   "cell_type": "code",
   "execution_count": 53,
   "metadata": {},
   "outputs": [],
   "source": [
    "df_results.to_parquet('sparkgaming')"
   ]
  },
  {
   "cell_type": "code",
   "execution_count": 48,
   "metadata": {},
   "outputs": [],
   "source": [
    "df_results[['a_post_beta_variant_1',\t'a_post_beta_variant_2']].to_parquet('tinysoft_2')"
   ]
  },
  {
   "cell_type": "code",
   "execution_count": 50,
   "metadata": {},
   "outputs": [
    {
     "data": {
      "text/plain": [
       "a_post_beta_variant_1    float64\n",
       "a_post_beta_variant_2    float64\n",
       "dtype: object"
      ]
     },
     "execution_count": 50,
     "metadata": {},
     "output_type": "execute_result"
    }
   ],
   "source": [
    "df_results[['a_post_beta_variant_1',\t'a_post_beta_variant_2']].dtypes"
   ]
  },
  {
   "cell_type": "code",
   "execution_count": 6,
   "metadata": {},
   "outputs": [
    {
     "data": {
      "text/plain": [
       "meta_date                datetime64[ns]\n",
       "inputs                           object\n",
       "a_post_beta_variant_1            object\n",
       "a_post_beta_variant_2            object\n",
       "b_post_beta_variant_1            object\n",
       "b_post_beta_variant_2            object\n",
       "m_post_variant_1                float64\n",
       "m_post_variant_2                float64\n",
       "a_post_ig_variant_1             float64\n",
       "a_post_ig_variant_2             float64\n",
       "b_post_ig_variant_1             float64\n",
       "b_post_ig_variant_2             float64\n",
       "w_post_variant_1                 object\n",
       "w_post_variant_2                 object\n",
       "results                          object\n",
       "dtype: object"
      ]
     },
     "execution_count": 6,
     "metadata": {},
     "output_type": "execute_result"
    }
   ],
   "source": [
    "df_results.dtypes"
   ]
  },
  {
   "cell_type": "code",
   "execution_count": 31,
   "metadata": {},
   "outputs": [],
   "source": [
    "# df_results = pd.read_parquet('ab_testing_results/tilting_point_mjs4k_spongebob_x7d9q_spongebob_test_2')\n",
    "# df_results['inputs'] = df_results['inputs'].astype(str)\n",
    "# df_results['a_post_beta_variant_1'] = df_results['a_post_beta_variant_1'].astype(float)\n",
    "# df_results['a_post_beta_variant_2'] = df_results['a_post_beta_variant_2'].astype(float)\n",
    "# df_results['b_post_beta_variant_1'] = df_results['b_post_beta_variant_1'].astype(float)\n",
    "# df_results['b_post_beta_variant_2'] = df_results['b_post_beta_variant_2'].astype(float)\n",
    "# df_results['w_post_variant_1'] = df_results['w_post_variant_1'].astype(float)\n",
    "# df_results['w_post_variant_2'] = df_results['w_post_variant_2'].astype(float)\n",
    "# df_results['results'] = df_results['results'].astype(str)"
   ]
  },
  {
   "cell_type": "code",
   "execution_count": 32,
   "metadata": {},
   "outputs": [],
   "source": [
    "# df_results.to_parquet('ab_testing_results/tilting_point_mjs4k_spongebob_x7d9q_spongebob_test_2')"
   ]
  },
  {
   "cell_type": "code",
   "execution_count": 34,
   "metadata": {},
   "outputs": [],
   "source": [
    "df_results = pd.read_parquet('ab_testing_results/century_games_ncmgu_bingo_aloha_r3g9v_bingo_aloha_test_3')"
   ]
  },
  {
   "cell_type": "code",
   "execution_count": 35,
   "metadata": {},
   "outputs": [
    {
     "data": {
      "text/html": [
       "<div>\n",
       "<style scoped>\n",
       "    .dataframe tbody tr th:only-of-type {\n",
       "        vertical-align: middle;\n",
       "    }\n",
       "\n",
       "    .dataframe tbody tr th {\n",
       "        vertical-align: top;\n",
       "    }\n",
       "\n",
       "    .dataframe thead th {\n",
       "        text-align: right;\n",
       "    }\n",
       "</style>\n",
       "<table border=\"1\" class=\"dataframe\">\n",
       "  <thead>\n",
       "    <tr style=\"text-align: right;\">\n",
       "      <th></th>\n",
       "      <th>meta_date</th>\n",
       "      <th>inputs</th>\n",
       "      <th>a_post_beta_variant_1</th>\n",
       "      <th>a_post_beta_variant_2</th>\n",
       "      <th>b_post_beta_variant_1</th>\n",
       "      <th>b_post_beta_variant_2</th>\n",
       "      <th>m_post_variant_1</th>\n",
       "      <th>m_post_variant_2</th>\n",
       "      <th>a_post_ig_variant_1</th>\n",
       "      <th>a_post_ig_variant_2</th>\n",
       "      <th>b_post_ig_variant_1</th>\n",
       "      <th>b_post_ig_variant_2</th>\n",
       "      <th>w_post_variant_1</th>\n",
       "      <th>w_post_variant_2</th>\n",
       "      <th>results</th>\n",
       "    </tr>\n",
       "  </thead>\n",
       "  <tbody>\n",
       "    <tr>\n",
       "      <th>0</th>\n",
       "      <td>2023-02-01</td>\n",
       "      <td>{'a_prior_beta_variant_1': 1, 'a_prior_beta_va...</td>\n",
       "      <td>67.0</td>\n",
       "      <td>133.0</td>\n",
       "      <td>1453.0</td>\n",
       "      <td>3465.0</td>\n",
       "      <td>2.699192</td>\n",
       "      <td>2.663101</td>\n",
       "      <td>42.356911</td>\n",
       "      <td>75.356911</td>\n",
       "      <td>94.973842</td>\n",
       "      <td>174.600760</td>\n",
       "      <td>76.0</td>\n",
       "      <td>142.0</td>\n",
       "      <td>{'expected_loss_version_1': 0.1178764, 'expect...</td>\n",
       "    </tr>\n",
       "    <tr>\n",
       "      <th>1</th>\n",
       "      <td>2023-02-02</td>\n",
       "      <td>{'a_prior_beta_variant_1': 67, 'a_prior_beta_v...</td>\n",
       "      <td>130.0</td>\n",
       "      <td>257.0</td>\n",
       "      <td>2662.0</td>\n",
       "      <td>6298.0</td>\n",
       "      <td>2.710048</td>\n",
       "      <td>2.675600</td>\n",
       "      <td>73.856911</td>\n",
       "      <td>137.356911</td>\n",
       "      <td>204.098498</td>\n",
       "      <td>345.479275</td>\n",
       "      <td>139.0</td>\n",
       "      <td>266.0</td>\n",
       "      <td>{'expected_loss_version_1': 0.0328402, 'expect...</td>\n",
       "    </tr>\n",
       "    <tr>\n",
       "      <th>2</th>\n",
       "      <td>2023-02-03</td>\n",
       "      <td>{'a_prior_beta_variant_1': 130, 'a_prior_beta_...</td>\n",
       "      <td>187.0</td>\n",
       "      <td>381.0</td>\n",
       "      <td>3836.0</td>\n",
       "      <td>8946.0</td>\n",
       "      <td>2.596190</td>\n",
       "      <td>2.647144</td>\n",
       "      <td>102.356911</td>\n",
       "      <td>199.356911</td>\n",
       "      <td>285.291091</td>\n",
       "      <td>497.291824</td>\n",
       "      <td>196.0</td>\n",
       "      <td>390.0</td>\n",
       "      <td>{'expected_loss_version_1': 0.0423391, 'expect...</td>\n",
       "    </tr>\n",
       "    <tr>\n",
       "      <th>3</th>\n",
       "      <td>2023-02-04</td>\n",
       "      <td>{'a_prior_beta_variant_1': 187, 'a_prior_beta_...</td>\n",
       "      <td>248.0</td>\n",
       "      <td>484.0</td>\n",
       "      <td>5008.0</td>\n",
       "      <td>11659.0</td>\n",
       "      <td>2.622357</td>\n",
       "      <td>2.625816</td>\n",
       "      <td>132.856911</td>\n",
       "      <td>250.856911</td>\n",
       "      <td>381.172477</td>\n",
       "      <td>617.853660</td>\n",
       "      <td>257.0</td>\n",
       "      <td>493.0</td>\n",
       "      <td>{'expected_loss_version_1': 0.0056201, 'expect...</td>\n",
       "    </tr>\n",
       "  </tbody>\n",
       "</table>\n",
       "</div>"
      ],
      "text/plain": [
       "   meta_date                                             inputs  \\\n",
       "0 2023-02-01  {'a_prior_beta_variant_1': 1, 'a_prior_beta_va...   \n",
       "1 2023-02-02  {'a_prior_beta_variant_1': 67, 'a_prior_beta_v...   \n",
       "2 2023-02-03  {'a_prior_beta_variant_1': 130, 'a_prior_beta_...   \n",
       "3 2023-02-04  {'a_prior_beta_variant_1': 187, 'a_prior_beta_...   \n",
       "\n",
       "   a_post_beta_variant_1  a_post_beta_variant_2  b_post_beta_variant_1  \\\n",
       "0                   67.0                  133.0                 1453.0   \n",
       "1                  130.0                  257.0                 2662.0   \n",
       "2                  187.0                  381.0                 3836.0   \n",
       "3                  248.0                  484.0                 5008.0   \n",
       "\n",
       "   b_post_beta_variant_2  m_post_variant_1  m_post_variant_2  \\\n",
       "0                 3465.0          2.699192          2.663101   \n",
       "1                 6298.0          2.710048          2.675600   \n",
       "2                 8946.0          2.596190          2.647144   \n",
       "3                11659.0          2.622357          2.625816   \n",
       "\n",
       "   a_post_ig_variant_1  a_post_ig_variant_2  b_post_ig_variant_1  \\\n",
       "0            42.356911            75.356911            94.973842   \n",
       "1            73.856911           137.356911           204.098498   \n",
       "2           102.356911           199.356911           285.291091   \n",
       "3           132.856911           250.856911           381.172477   \n",
       "\n",
       "   b_post_ig_variant_2  w_post_variant_1  w_post_variant_2  \\\n",
       "0           174.600760              76.0             142.0   \n",
       "1           345.479275             139.0             266.0   \n",
       "2           497.291824             196.0             390.0   \n",
       "3           617.853660             257.0             493.0   \n",
       "\n",
       "                                             results  \n",
       "0  {'expected_loss_version_1': 0.1178764, 'expect...  \n",
       "1  {'expected_loss_version_1': 0.0328402, 'expect...  \n",
       "2  {'expected_loss_version_1': 0.0423391, 'expect...  \n",
       "3  {'expected_loss_version_1': 0.0056201, 'expect...  "
      ]
     },
     "execution_count": 35,
     "metadata": {},
     "output_type": "execute_result"
    }
   ],
   "source": [
    "df_results"
   ]
  },
  {
   "cell_type": "code",
   "execution_count": null,
   "metadata": {},
   "outputs": [],
   "source": []
  }
 ],
 "metadata": {
  "kernelspec": {
   "display_name": "assetario_ab_testing_3_8_new",
   "language": "python",
   "name": "python3"
  },
  "language_info": {
   "codemirror_mode": {
    "name": "ipython",
    "version": 3
   },
   "file_extension": ".py",
   "mimetype": "text/x-python",
   "name": "python",
   "nbconvert_exporter": "python",
   "pygments_lexer": "ipython3",
   "version": "3.8.15"
  },
  "orig_nbformat": 4,
  "vscode": {
   "interpreter": {
    "hash": "8c48714df691e14133612fd9b2a1371a6e34c9b2afa0a3380b3c3844e005cca8"
   }
  }
 },
 "nbformat": 4,
 "nbformat_minor": 2
}
