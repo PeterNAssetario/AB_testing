{
 "cells": [
  {
   "cell_type": "code",
   "execution_count": 1,
   "metadata": {},
   "outputs": [],
   "source": [
    "#from main_testing_script import run_ab_testing\n",
    "from main_testing_script_new import run_ab_testing\n",
    "from datetime import datetime, timedelta\n",
    "import pandas as pd"
   ]
  },
  {
   "cell_type": "code",
   "execution_count": 2,
   "metadata": {},
   "outputs": [],
   "source": [
    "meta_date = datetime(2023,1,1)\n",
    "variant_name_1 = 'P'\n",
    "variant_name_2 = 'C'\n",
    "a_prior_beta_1 = 1\n",
    "a_prior_beta_2 = 1\n",
    "b_prior_beta_1 = 1\n",
    "b_prior_beta_2 = 1\n",
    "m_prior_1 = 2\n",
    "m_prior_2 = 2\n",
    "a_prior_ig_1 = 0\n",
    "a_prior_ig_2 = 0\n",
    "b_prior_ig_1 = 0\n",
    "b_prior_ig_2 = 0\n",
    "w_prior_1 = 10\n",
    "w_prior_2 = 10"
   ]
  },
  {
   "cell_type": "code",
   "execution_count": 3,
   "metadata": {},
   "outputs": [],
   "source": [
    "# analytics__tinysoft_a9kwp__heroes_magic_war_h2sln.user_level_performance\n",
    "\n",
    "data_query = \"\"\"\n",
    "WITH\n",
    "    base_table AS (\n",
    "        SELECT user_id\n",
    "             , meta_date\n",
    "             , first_login\n",
    "             , CASE\n",
    "                   WHEN group_tag = 'control'      THEN 'C'\n",
    "                   WHEN group_tag = 'personalized' THEN 'P'\n",
    "               END                                                                              test_group\n",
    "             , COALESCE(SUM(CASE WHEN fl_personalized_offer_spend <> 9 THEN spend END), 0)      total_spend\n",
    "             , COALESCE(SUM(CASE WHEN fl_personalized_offer_spend <> 9 THEN wins_spend END), 0) total_wins_spend\n",
    "        FROM analytics__century_games_ncmgu__bingo_aloha_r3g9v.user_level_performance\n",
    "        WHERE meta_date BETWEEN DATE '2023-01-01' AND DATE '2023-01-22'\n",
    "        GROUP BY user_id\n",
    "               , meta_date\n",
    "               , first_login\n",
    "               , group_tag\n",
    "        )\n",
    "\n",
    "SELECT meta_date\n",
    "     , test_group\n",
    "     , COUNT(*)                                              AS totals\n",
    "     , SUM(CASE WHEN total_wins_spend > 0 THEN 1 ELSE 0 END) AS positives\n",
    "     , SUM(total_wins_spend) AS sum_values\n",
    "     , SUM(LN(CASE WHEN total_wins_spend > 0 THEN total_wins_spend END)) AS sum_logs\n",
    "     , SUM(power(LN(CASE WHEN total_wins_spend > 0 THEN total_wins_spend END), 2.0)) AS sum_logs_squared\n",
    "FROM base_table\n",
    "GROUP BY meta_date\n",
    "       , test_group;\"\"\""
   ]
  },
  {
   "cell_type": "code",
   "execution_count": 4,
   "metadata": {},
   "outputs": [
    {
     "ename": "TypeError",
     "evalue": "run_ab_testing() missing 7 required positional arguments: 'm_prior_2', 'a_prior_ig_1', 'a_prior_ig_2', 'b_prior_ig_1', 'b_prior_ig_2', 'w_prior_1', and 'w_prior_2'",
     "output_type": "error",
     "traceback": [
      "\u001b[1;31m---------------------------------------------------------------------------\u001b[0m",
      "\u001b[1;31mTypeError\u001b[0m                                 Traceback (most recent call last)",
      "Cell \u001b[1;32mIn[4], line 1\u001b[0m\n\u001b[1;32m----> 1\u001b[0m run_ab_testing(\n\u001b[0;32m      2\u001b[0m     meta_date,\n\u001b[0;32m      3\u001b[0m     data_query,\n\u001b[0;32m      4\u001b[0m     variant_name_1,\n\u001b[0;32m      5\u001b[0m     variant_name_2,\n\u001b[0;32m      6\u001b[0m     a_prior_beta_1,\n\u001b[0;32m      7\u001b[0m     a_prior_beta_2,\n\u001b[0;32m      8\u001b[0m     b_prior_beta_1,\n\u001b[0;32m      9\u001b[0m     b_prior_beta_2,\n\u001b[0;32m     10\u001b[0m     m_prior_1,\n\u001b[0;32m     11\u001b[0m     m_prior_2,\n\u001b[0;32m     12\u001b[0m     a_prior_ig_1,\n\u001b[0;32m     13\u001b[0m     a_prior_ig_2,\n\u001b[0;32m     14\u001b[0m     b_prior_ig_1,\n\u001b[0;32m     15\u001b[0m     b_prior_ig_2,\n\u001b[0;32m     16\u001b[0m     w_prior_1,\n\u001b[0;32m     17\u001b[0m     w_prior_2,\n\u001b[0;32m     18\u001b[0m )\n",
      "\u001b[1;31mTypeError\u001b[0m: run_ab_testing() missing 7 required positional arguments: 'm_prior_2', 'a_prior_ig_1', 'a_prior_ig_2', 'b_prior_ig_1', 'b_prior_ig_2', 'w_prior_1', and 'w_prior_2'"
     ]
    }
   ],
   "source": [
    "run_ab_testing(\n",
    "    meta_date,\n",
    "    data_query,\n",
    "    variant_name_1,\n",
    "    variant_name_2,\n",
    "    a_prior_beta_1,\n",
    "    a_prior_beta_2,\n",
    "    b_prior_beta_1,\n",
    "    b_prior_beta_2,\n",
    "    m_prior_1,\n",
    "    m_prior_2,\n",
    "    a_prior_ig_1,\n",
    "    a_prior_ig_2,\n",
    "    b_prior_ig_1,\n",
    "    b_prior_ig_2,\n",
    "    w_prior_1,\n",
    "    w_prior_2,\n",
    ")"
   ]
  },
  {
   "cell_type": "code",
   "execution_count": 17,
   "metadata": {},
   "outputs": [],
   "source": [
    "# spravme range dni\n",
    "test_start_date = datetime(2023,1,1)\n",
    "num_days = 15\n",
    "\n",
    "list_of_days = [test_start_date + timedelta(i) for i in range(num_days)]"
   ]
  },
  {
   "cell_type": "code",
   "execution_count": 18,
   "metadata": {},
   "outputs": [],
   "source": [
    "import pdb"
   ]
  },
  {
   "cell_type": "code",
   "execution_count": 19,
   "metadata": {},
   "outputs": [
    {
     "data": {
      "text/html": [
       "<div>\n",
       "<style scoped>\n",
       "    .dataframe tbody tr th:only-of-type {\n",
       "        vertical-align: middle;\n",
       "    }\n",
       "\n",
       "    .dataframe tbody tr th {\n",
       "        vertical-align: top;\n",
       "    }\n",
       "\n",
       "    .dataframe thead th {\n",
       "        text-align: right;\n",
       "    }\n",
       "</style>\n",
       "<table border=\"1\" class=\"dataframe\">\n",
       "  <thead>\n",
       "    <tr style=\"text-align: right;\">\n",
       "      <th></th>\n",
       "      <th>inputs</th>\n",
       "      <th>a_post_beta_variant_1</th>\n",
       "      <th>a_post_beta_variant_2</th>\n",
       "      <th>b_post_beta_variant_1</th>\n",
       "      <th>b_post_beta_variant_2</th>\n",
       "      <th>m_post_variant_1</th>\n",
       "      <th>m_post_variant_2</th>\n",
       "      <th>a_post_ig_variant_1</th>\n",
       "      <th>a_post_ig_variant_2</th>\n",
       "      <th>b_post_ig_variant_1</th>\n",
       "      <th>b_post_ig_variant_2</th>\n",
       "      <th>w_post_variant_1</th>\n",
       "      <th>w_post_variant_2</th>\n",
       "      <th>results</th>\n",
       "    </tr>\n",
       "  </thead>\n",
       "  <tbody>\n",
       "  </tbody>\n",
       "</table>\n",
       "</div>"
      ],
      "text/plain": [
       "Empty DataFrame\n",
       "Columns: [inputs, a_post_beta_variant_1, a_post_beta_variant_2, b_post_beta_variant_1, b_post_beta_variant_2, m_post_variant_1, m_post_variant_2, a_post_ig_variant_1, a_post_ig_variant_2, b_post_ig_variant_1, b_post_ig_variant_2, w_post_variant_1, w_post_variant_2, results]\n",
       "Index: []"
      ]
     },
     "execution_count": 19,
     "metadata": {},
     "output_type": "execute_result"
    }
   ],
   "source": [
    "pd.DataFrame(columns = [\"inputs\", \"a_post_beta_variant_1\", \"a_post_beta_variant_2\", \"b_post_beta_variant_1\", \"b_post_beta_variant_2\", \"m_post_variant_1\", \"m_post_variant_2\", \"a_post_ig_variant_1\", \"a_post_ig_variant_2\",\n",
    "        \"b_post_ig_variant_1\", \"b_post_ig_variant_2\", \"w_post_variant_1\", \"w_post_variant_2\", \"results\"])"
   ]
  },
  {
   "cell_type": "code",
   "execution_count": 20,
   "metadata": {},
   "outputs": [
    {
     "name": "stdout",
     "output_type": "stream",
     "text": [
      "2023-01-25 12:40:37,822 - botocore.credentials - INFO - Found credentials in shared credentials file: ~/.aws/credentials\n"
     ]
    },
    {
     "name": "stderr",
     "output_type": "stream",
     "text": [
      "DummyStatsClient._send unknown.athena_query_runs_total:1|c\n"
     ]
    },
    {
     "name": "stdout",
     "output_type": "stream",
     "text": [
      "2023-01-25 12:40:50,455 - botocore.credentials - INFO - Found credentials in shared credentials file: ~/.aws/credentials\n"
     ]
    },
    {
     "name": "stderr",
     "output_type": "stream",
     "text": [
      "DummyStatsClient._send unknown.athena_query_queue_ms:473.000000|ms\n",
      "DummyStatsClient._send unknown.athena_query_execution_ms:4140.000000|ms\n",
      "DummyStatsClient._send unknown.athena_query_scanned_bytes:308487339|c\n",
      "C:\\Users\\karol\\AppData\\Local\\Temp\\ipykernel_39024\\2035476095.py:64: FutureWarning: The frame.append method is deprecated and will be removed from pandas in a future version. Use pandas.concat instead.\n",
      "  df_results = df_results.append(current_result, ignore_index=True)\n",
      "DummyStatsClient._send unknown.athena_query_runs_total:1|c\n"
     ]
    },
    {
     "name": "stdout",
     "output_type": "stream",
     "text": [
      "2023-01-25 12:41:00,404 - botocore.credentials - INFO - Found credentials in shared credentials file: ~/.aws/credentials\n"
     ]
    },
    {
     "name": "stderr",
     "output_type": "stream",
     "text": [
      "DummyStatsClient._send unknown.athena_query_queue_ms:485.000000|ms\n",
      "DummyStatsClient._send unknown.athena_query_execution_ms:4922.000000|ms\n",
      "DummyStatsClient._send unknown.athena_query_scanned_bytes:308487339|c\n",
      "C:\\Users\\karol\\AppData\\Local\\Temp\\ipykernel_39024\\2035476095.py:64: FutureWarning: The frame.append method is deprecated and will be removed from pandas in a future version. Use pandas.concat instead.\n",
      "  df_results = df_results.append(current_result, ignore_index=True)\n",
      "DummyStatsClient._send unknown.athena_query_runs_total:1|c\n"
     ]
    },
    {
     "name": "stdout",
     "output_type": "stream",
     "text": [
      "2023-01-25 12:41:11,297 - botocore.credentials - INFO - Found credentials in shared credentials file: ~/.aws/credentials\n"
     ]
    },
    {
     "name": "stderr",
     "output_type": "stream",
     "text": [
      "DummyStatsClient._send unknown.athena_query_queue_ms:644.000000|ms\n",
      "DummyStatsClient._send unknown.athena_query_execution_ms:5984.000000|ms\n",
      "DummyStatsClient._send unknown.athena_query_scanned_bytes:308487339|c\n",
      "C:\\Users\\karol\\AppData\\Local\\Temp\\ipykernel_39024\\2035476095.py:64: FutureWarning: The frame.append method is deprecated and will be removed from pandas in a future version. Use pandas.concat instead.\n",
      "  df_results = df_results.append(current_result, ignore_index=True)\n",
      "DummyStatsClient._send unknown.athena_query_runs_total:1|c\n"
     ]
    },
    {
     "name": "stdout",
     "output_type": "stream",
     "text": [
      "2023-01-25 12:41:21,335 - botocore.credentials - INFO - Found credentials in shared credentials file: ~/.aws/credentials\n"
     ]
    },
    {
     "name": "stderr",
     "output_type": "stream",
     "text": [
      "DummyStatsClient._send unknown.athena_query_queue_ms:450.000000|ms\n",
      "DummyStatsClient._send unknown.athena_query_execution_ms:5016.000000|ms\n",
      "DummyStatsClient._send unknown.athena_query_scanned_bytes:308487339|c\n",
      "C:\\Users\\karol\\AppData\\Local\\Temp\\ipykernel_39024\\2035476095.py:64: FutureWarning: The frame.append method is deprecated and will be removed from pandas in a future version. Use pandas.concat instead.\n",
      "  df_results = df_results.append(current_result, ignore_index=True)\n",
      "DummyStatsClient._send unknown.athena_query_runs_total:1|c\n"
     ]
    },
    {
     "name": "stdout",
     "output_type": "stream",
     "text": [
      "2023-01-25 12:41:31,448 - botocore.credentials - INFO - Found credentials in shared credentials file: ~/.aws/credentials\n"
     ]
    },
    {
     "name": "stderr",
     "output_type": "stream",
     "text": [
      "DummyStatsClient._send unknown.athena_query_queue_ms:468.000000|ms\n",
      "DummyStatsClient._send unknown.athena_query_execution_ms:4943.000000|ms\n",
      "DummyStatsClient._send unknown.athena_query_scanned_bytes:308487339|c\n",
      "C:\\Users\\karol\\AppData\\Local\\Temp\\ipykernel_39024\\2035476095.py:64: FutureWarning: The frame.append method is deprecated and will be removed from pandas in a future version. Use pandas.concat instead.\n",
      "  df_results = df_results.append(current_result, ignore_index=True)\n",
      "DummyStatsClient._send unknown.athena_query_runs_total:1|c\n"
     ]
    },
    {
     "name": "stdout",
     "output_type": "stream",
     "text": [
      "2023-01-25 12:41:41,407 - botocore.credentials - INFO - Found credentials in shared credentials file: ~/.aws/credentials\n"
     ]
    },
    {
     "name": "stderr",
     "output_type": "stream",
     "text": [
      "DummyStatsClient._send unknown.athena_query_queue_ms:525.000000|ms\n",
      "DummyStatsClient._send unknown.athena_query_execution_ms:4913.000000|ms\n",
      "DummyStatsClient._send unknown.athena_query_scanned_bytes:308487339|c\n",
      "C:\\Users\\karol\\AppData\\Local\\Temp\\ipykernel_39024\\2035476095.py:64: FutureWarning: The frame.append method is deprecated and will be removed from pandas in a future version. Use pandas.concat instead.\n",
      "  df_results = df_results.append(current_result, ignore_index=True)\n",
      "DummyStatsClient._send unknown.athena_query_runs_total:1|c\n"
     ]
    },
    {
     "name": "stdout",
     "output_type": "stream",
     "text": [
      "2023-01-25 12:41:50,602 - botocore.credentials - INFO - Found credentials in shared credentials file: ~/.aws/credentials\n"
     ]
    },
    {
     "name": "stderr",
     "output_type": "stream",
     "text": [
      "DummyStatsClient._send unknown.athena_query_queue_ms:414.000000|ms\n",
      "DummyStatsClient._send unknown.athena_query_execution_ms:4112.000000|ms\n",
      "DummyStatsClient._send unknown.athena_query_scanned_bytes:308487339|c\n",
      "C:\\Users\\karol\\AppData\\Local\\Temp\\ipykernel_39024\\2035476095.py:64: FutureWarning: The frame.append method is deprecated and will be removed from pandas in a future version. Use pandas.concat instead.\n",
      "  df_results = df_results.append(current_result, ignore_index=True)\n",
      "DummyStatsClient._send unknown.athena_query_runs_total:1|c\n"
     ]
    },
    {
     "name": "stdout",
     "output_type": "stream",
     "text": [
      "2023-01-25 12:41:59,900 - botocore.credentials - INFO - Found credentials in shared credentials file: ~/.aws/credentials\n"
     ]
    },
    {
     "name": "stderr",
     "output_type": "stream",
     "text": [
      "DummyStatsClient._send unknown.athena_query_queue_ms:465.000000|ms\n",
      "DummyStatsClient._send unknown.athena_query_execution_ms:4407.000000|ms\n",
      "DummyStatsClient._send unknown.athena_query_scanned_bytes:308487339|c\n",
      "C:\\Users\\karol\\AppData\\Local\\Temp\\ipykernel_39024\\2035476095.py:64: FutureWarning: The frame.append method is deprecated and will be removed from pandas in a future version. Use pandas.concat instead.\n",
      "  df_results = df_results.append(current_result, ignore_index=True)\n",
      "DummyStatsClient._send unknown.athena_query_runs_total:1|c\n"
     ]
    },
    {
     "name": "stdout",
     "output_type": "stream",
     "text": [
      "2023-01-25 12:42:10,720 - botocore.credentials - INFO - Found credentials in shared credentials file: ~/.aws/credentials\n"
     ]
    },
    {
     "name": "stderr",
     "output_type": "stream",
     "text": [
      "DummyStatsClient._send unknown.athena_query_queue_ms:435.000000|ms\n",
      "DummyStatsClient._send unknown.athena_query_execution_ms:5656.000000|ms\n",
      "DummyStatsClient._send unknown.athena_query_scanned_bytes:308487339|c\n",
      "C:\\Users\\karol\\AppData\\Local\\Temp\\ipykernel_39024\\2035476095.py:64: FutureWarning: The frame.append method is deprecated and will be removed from pandas in a future version. Use pandas.concat instead.\n",
      "  df_results = df_results.append(current_result, ignore_index=True)\n",
      "DummyStatsClient._send unknown.athena_query_runs_total:1|c\n"
     ]
    },
    {
     "name": "stdout",
     "output_type": "stream",
     "text": [
      "2023-01-25 12:42:20,748 - botocore.credentials - INFO - Found credentials in shared credentials file: ~/.aws/credentials\n"
     ]
    },
    {
     "name": "stderr",
     "output_type": "stream",
     "text": [
      "DummyStatsClient._send unknown.athena_query_queue_ms:477.000000|ms\n",
      "DummyStatsClient._send unknown.athena_query_execution_ms:4999.000000|ms\n",
      "DummyStatsClient._send unknown.athena_query_scanned_bytes:308487339|c\n",
      "C:\\Users\\karol\\AppData\\Local\\Temp\\ipykernel_39024\\2035476095.py:64: FutureWarning: The frame.append method is deprecated and will be removed from pandas in a future version. Use pandas.concat instead.\n",
      "  df_results = df_results.append(current_result, ignore_index=True)\n",
      "DummyStatsClient._send unknown.athena_query_runs_total:1|c\n"
     ]
    },
    {
     "name": "stdout",
     "output_type": "stream",
     "text": [
      "2023-01-25 12:42:29,914 - botocore.credentials - INFO - Found credentials in shared credentials file: ~/.aws/credentials\n"
     ]
    },
    {
     "name": "stderr",
     "output_type": "stream",
     "text": [
      "DummyStatsClient._send unknown.athena_query_queue_ms:453.000000|ms\n",
      "DummyStatsClient._send unknown.athena_query_execution_ms:3878.000000|ms\n",
      "DummyStatsClient._send unknown.athena_query_scanned_bytes:308487339|c\n",
      "C:\\Users\\karol\\AppData\\Local\\Temp\\ipykernel_39024\\2035476095.py:64: FutureWarning: The frame.append method is deprecated and will be removed from pandas in a future version. Use pandas.concat instead.\n",
      "  df_results = df_results.append(current_result, ignore_index=True)\n",
      "DummyStatsClient._send unknown.athena_query_runs_total:1|c\n"
     ]
    },
    {
     "name": "stdout",
     "output_type": "stream",
     "text": [
      "2023-01-25 12:42:39,147 - botocore.credentials - INFO - Found credentials in shared credentials file: ~/.aws/credentials\n"
     ]
    },
    {
     "name": "stderr",
     "output_type": "stream",
     "text": [
      "DummyStatsClient._send unknown.athena_query_queue_ms:461.000000|ms\n",
      "DummyStatsClient._send unknown.athena_query_execution_ms:4141.000000|ms\n",
      "DummyStatsClient._send unknown.athena_query_scanned_bytes:308487339|c\n",
      "C:\\Users\\karol\\AppData\\Local\\Temp\\ipykernel_39024\\2035476095.py:64: FutureWarning: The frame.append method is deprecated and will be removed from pandas in a future version. Use pandas.concat instead.\n",
      "  df_results = df_results.append(current_result, ignore_index=True)\n",
      "DummyStatsClient._send unknown.athena_query_runs_total:1|c\n"
     ]
    },
    {
     "name": "stdout",
     "output_type": "stream",
     "text": [
      "2023-01-25 12:42:48,166 - botocore.credentials - INFO - Found credentials in shared credentials file: ~/.aws/credentials\n"
     ]
    },
    {
     "name": "stderr",
     "output_type": "stream",
     "text": [
      "DummyStatsClient._send unknown.athena_query_queue_ms:432.000000|ms\n",
      "DummyStatsClient._send unknown.athena_query_execution_ms:4234.000000|ms\n",
      "DummyStatsClient._send unknown.athena_query_scanned_bytes:308487339|c\n",
      "C:\\Users\\karol\\AppData\\Local\\Temp\\ipykernel_39024\\2035476095.py:64: FutureWarning: The frame.append method is deprecated and will be removed from pandas in a future version. Use pandas.concat instead.\n",
      "  df_results = df_results.append(current_result, ignore_index=True)\n",
      "DummyStatsClient._send unknown.athena_query_runs_total:1|c\n"
     ]
    },
    {
     "name": "stdout",
     "output_type": "stream",
     "text": [
      "2023-01-25 12:42:59,807 - botocore.credentials - INFO - Found credentials in shared credentials file: ~/.aws/credentials\n"
     ]
    },
    {
     "name": "stderr",
     "output_type": "stream",
     "text": [
      "DummyStatsClient._send unknown.athena_query_queue_ms:490.000000|ms\n",
      "DummyStatsClient._send unknown.athena_query_execution_ms:6370.000000|ms\n",
      "DummyStatsClient._send unknown.athena_query_scanned_bytes:308487339|c\n",
      "C:\\Users\\karol\\AppData\\Local\\Temp\\ipykernel_39024\\2035476095.py:64: FutureWarning: The frame.append method is deprecated and will be removed from pandas in a future version. Use pandas.concat instead.\n",
      "  df_results = df_results.append(current_result, ignore_index=True)\n",
      "DummyStatsClient._send unknown.athena_query_runs_total:1|c\n",
      "DummyStatsClient._send unknown.athena_query_queue_ms:459.000000|ms\n",
      "DummyStatsClient._send unknown.athena_query_execution_ms:6357.000000|ms\n",
      "DummyStatsClient._send unknown.athena_query_scanned_bytes:308487339|c\n",
      "C:\\Users\\karol\\AppData\\Local\\Temp\\ipykernel_39024\\2035476095.py:64: FutureWarning: The frame.append method is deprecated and will be removed from pandas in a future version. Use pandas.concat instead.\n",
      "  df_results = df_results.append(current_result, ignore_index=True)\n"
     ]
    }
   ],
   "source": [
    "list_results = []\n",
    "variant_name_1 = 'P'\n",
    "variant_name_2 = 'C'\n",
    "a_prior_beta_1 = 1\n",
    "a_prior_beta_2 = 1\n",
    "b_prior_beta_1 = 1\n",
    "b_prior_beta_2 = 1\n",
    "m_prior_1 = 2\n",
    "m_prior_2 = 2\n",
    "a_prior_ig_1 = 0\n",
    "a_prior_ig_2 = 0\n",
    "b_prior_ig_1 = 0\n",
    "b_prior_ig_2 = 0\n",
    "w_prior_1 = 10\n",
    "w_prior_2 = 10\n",
    "\n",
    "df_results = pd.DataFrame(columns = [\"meta_date\", \"inputs\", \"a_post_beta_variant_1\", \"a_post_beta_variant_2\", \"b_post_beta_variant_1\", \"b_post_beta_variant_2\", \"m_post_variant_1\", \"m_post_variant_2\", \"a_post_ig_variant_1\", \"a_post_ig_variant_2\",\n",
    "        \"b_post_ig_variant_1\", \"b_post_ig_variant_2\", \"w_post_variant_1\", \"w_post_variant_2\", \"results\"])\n",
    "\n",
    "\n",
    "\n",
    "for day in list_of_days:\n",
    "    results = run_ab_testing(\n",
    "        day,\n",
    "        data_query,\n",
    "        variant_name_1,\n",
    "        variant_name_2,\n",
    "        a_prior_beta_1,\n",
    "        a_prior_beta_2,\n",
    "        b_prior_beta_1,\n",
    "        b_prior_beta_2,\n",
    "        m_prior_1,\n",
    "        m_prior_2,\n",
    "        a_prior_ig_1,\n",
    "        a_prior_ig_2,\n",
    "        b_prior_ig_1,\n",
    "        b_prior_ig_2,\n",
    "        w_prior_1,\n",
    "        w_prior_2,\n",
    "    )\n",
    "    #pdb.set_trace()\n",
    "\n",
    "    a_prior_beta_1 = results[\"a_post_beta_variant_1\"]\n",
    "    a_prior_beta_2 = results[\"a_post_beta_variant_2\"]\n",
    "    b_prior_beta_1 = results[\"b_post_beta_variant_1\"]\n",
    "    b_prior_beta_2 = results[\"b_post_beta_variant_2\"]\n",
    "    m_prior_1 = results[\"m_post_variant_1\"]\n",
    "    m_prior_2 = results[\"m_post_variant_2\"]\n",
    "    a_prior_ig_1 = results[\"a_post_ig_variant_1\"]\n",
    "    a_prior_ig_2 = results[\"a_post_ig_variant_2\"]\n",
    "    b_prior_ig_1 = results[\"b_post_ig_variant_1\"]\n",
    "    b_prior_ig_2 = results[\"b_post_ig_variant_2\"]\n",
    "    w_prior_1 = results[\"w_post_variant_1\"]\n",
    "    w_prior_2 = results[\"w_post_variant_2\"]\n",
    "\n",
    "    list_results.append(results['results'])\n",
    "\n",
    "\n",
    "\n",
    "    current_result = {\"meta_date\": day, \"inputs\": results[\"inputs\"], \"a_post_beta_variant_1\": a_prior_beta_1, \"a_post_beta_variant_2\": a_prior_beta_2, \"b_post_beta_variant_1\": b_prior_beta_1, \"b_post_beta_variant_2\": b_prior_beta_2, \n",
    "                                \"m_post_variant_1\": m_prior_1, \"m_post_variant_2\": m_prior_2, \"a_post_ig_variant_1\": a_prior_ig_1, \"a_post_ig_variant_2\": a_prior_ig_2, \"b_post_ig_variant_1\": b_prior_ig_1, \"b_post_ig_variant_2\": b_prior_ig_2, \n",
    "                                \"w_post_variant_1\": w_prior_1, \"w_post_variant_2\": w_prior_2, \"results\": results['results']}\n",
    "\n",
    "    df_results = df_results.append(current_result, ignore_index=True)\n",
    "\n",
    "    #pdb.set_trace()\n",
    "\n",
    "\n",
    "    "
   ]
  },
  {
   "cell_type": "code",
   "execution_count": 21,
   "metadata": {},
   "outputs": [],
   "source": [
    "df_results.to_parquet('temp_results_df')"
   ]
  },
  {
   "cell_type": "code",
   "execution_count": 24,
   "metadata": {},
   "outputs": [
    {
     "data": {
      "text/plain": [
       "{'prob_being_best_version_1': 0.28015,\n",
       " 'prob_being_best_version_2': 0.71985,\n",
       " 'expected_loss_version_1': 0.0433955,\n",
       " 'expected_loss_version_2': 0.0103737,\n",
       " 'expected_total_gain_version_1': -0.0330218,\n",
       " 'expected_total_gain_version_2': 0.0330218}"
      ]
     },
     "execution_count": 24,
     "metadata": {},
     "output_type": "execute_result"
    }
   ],
   "source": [
    "df_results.results[0]"
   ]
  },
  {
   "cell_type": "code",
   "execution_count": null,
   "metadata": {},
   "outputs": [],
   "source": [
    "newvoy_games_qj24g__cooking_voyage_do3jb"
   ]
  },
  {
   "cell_type": "code",
   "execution_count": 6,
   "metadata": {},
   "outputs": [],
   "source": [
    "meta_date = '\\'2023-01-01\\''\n",
    "min_first_login_date = '\\'2022-12-12\\''\n",
    "max_first_login_date = '\\'2023-01-12\\''\n",
    "n_days_spend = '7'\n",
    "company_id = 'tilting_point_mjs4k'\n",
    "project_id = 'spongebob_x7d9q'\n",
    "# company_id = 'tinysoft_a9kwp'\n",
    "# project_id = 'heroes_magic_war_h2sln'\n",
    "personalized = True\n",
    "winsorized = True\n",
    "datapoint_type = \"one_datapoint_per_user_per_meta_date\"\n",
    "variant_name_1 = 'P'\n",
    "variant_name_2 = 'C'\n",
    "a_prior_beta_1 = 1\n",
    "a_prior_beta_2 = 1\n",
    "b_prior_beta_1 = 1\n",
    "b_prior_beta_2 = 1\n",
    "m_prior_1 = 2\n",
    "m_prior_2 = 2\n",
    "a_prior_ig_1 = 0\n",
    "a_prior_ig_2 = 0\n",
    "b_prior_ig_1 = 0\n",
    "b_prior_ig_2 = 0\n",
    "w_prior_1 = 10\n",
    "w_prior_2 = 10"
   ]
  },
  {
   "cell_type": "code",
   "execution_count": 7,
   "metadata": {},
   "outputs": [
    {
     "ename": "TypeError",
     "evalue": "unsupported operand type(s) for -: 'str' and 'int'",
     "output_type": "error",
     "traceback": [
      "\u001b[1;31m---------------------------------------------------------------------------\u001b[0m",
      "\u001b[1;31mTypeError\u001b[0m                                 Traceback (most recent call last)",
      "Cell \u001b[1;32mIn[7], line 1\u001b[0m\n\u001b[1;32m----> 1\u001b[0m run_ab_testing(meta_date, company_id, project_id, personalized, winsorized, datapoint_type,\n\u001b[0;32m      2\u001b[0m     min_first_login_date,\n\u001b[0;32m      3\u001b[0m     max_first_login_date,\n\u001b[0;32m      4\u001b[0m     n_days_spend,\n\u001b[0;32m      5\u001b[0m     variant_name_1,\n\u001b[0;32m      6\u001b[0m     variant_name_2,\n\u001b[0;32m      7\u001b[0m     a_prior_beta_1,\n\u001b[0;32m      8\u001b[0m     a_prior_beta_2,\n\u001b[0;32m      9\u001b[0m     b_prior_beta_1,\n\u001b[0;32m     10\u001b[0m     b_prior_beta_2,\n\u001b[0;32m     11\u001b[0m     m_prior_1,\n\u001b[0;32m     12\u001b[0m     m_prior_2,\n\u001b[0;32m     13\u001b[0m     a_prior_ig_1,\n\u001b[0;32m     14\u001b[0m     a_prior_ig_2,\n\u001b[0;32m     15\u001b[0m     b_prior_ig_1,\n\u001b[0;32m     16\u001b[0m     b_prior_ig_2,\n\u001b[0;32m     17\u001b[0m     w_prior_1,\n\u001b[0;32m     18\u001b[0m     w_prior_2)\n",
      "File \u001b[1;32mc:\\Users\\karol\\Documents\\Assetario\\ab-testing\\main_testing_script_new.py:50\u001b[0m, in \u001b[0;36mrun_ab_testing\u001b[1;34m(meta_date, company_id, project_id, personalized, winsorized, datapoint_type, min_first_login_date, max_first_login_date, n_days_spend, variant_name_1, variant_name_2, a_prior_beta_1, a_prior_beta_2, b_prior_beta_1, b_prior_beta_2, m_prior_1, m_prior_2, a_prior_ig_1, a_prior_ig_2, b_prior_ig_1, b_prior_ig_2, w_prior_1, w_prior_2)\u001b[0m\n\u001b[0;32m     47\u001b[0m \u001b[39melse\u001b[39;00m:\n\u001b[0;32m     48\u001b[0m     spending_line \u001b[39m=\u001b[39m \u001b[39mf\u001b[39m\u001b[39m\"\u001b[39m\u001b[39m, COALESCE(SUM(CASE WHEN fl_personalized_offer_spend <> \u001b[39m\u001b[39m{\u001b[39;00mpersonalized_num\u001b[39m}\u001b[39;00m\u001b[39m THEN \u001b[39m\u001b[39m{\u001b[39;00mspend_column\u001b[39m}\u001b[39;00m\u001b[39m END), 0) total_spend\u001b[39m\u001b[39m\"\u001b[39m\n\u001b[1;32m---> 50\u001b[0m spend_offset \u001b[39m=\u001b[39m \u001b[39mstr\u001b[39m(n_days_spend \u001b[39m-\u001b[39;49m \u001b[39m1\u001b[39;49m)\n\u001b[0;32m     52\u001b[0m \u001b[39mif\u001b[39;00m datapoint_type \u001b[39m==\u001b[39m \u001b[39m\"\u001b[39m\u001b[39mone_datapoint_per_user_per_meta_date\u001b[39m\u001b[39m\"\u001b[39m:\n\u001b[0;32m     53\u001b[0m     data_query \u001b[39m=\u001b[39m \u001b[39mf\u001b[39m\u001b[39m\"\"\"\u001b[39m\n\u001b[0;32m     54\u001b[0m \u001b[39m        WITH\u001b[39m\n\u001b[0;32m     55\u001b[0m \u001b[39m            base_table AS (\u001b[39m\n\u001b[1;32m   (...)\u001b[0m\n\u001b[0;32m     81\u001b[0m \u001b[39m        GROUP BY meta_date\u001b[39m\n\u001b[0;32m     82\u001b[0m \u001b[39m            , test_group;\u001b[39m\u001b[39m\"\"\"\u001b[39m\n",
      "\u001b[1;31mTypeError\u001b[0m: unsupported operand type(s) for -: 'str' and 'int'"
     ]
    }
   ],
   "source": [
    "run_ab_testing(meta_date, company_id, project_id, personalized, winsorized, datapoint_type,\n",
    "    min_first_login_date,\n",
    "    max_first_login_date,\n",
    "    n_days_spend,\n",
    "    variant_name_1,\n",
    "    variant_name_2,\n",
    "    a_prior_beta_1,\n",
    "    a_prior_beta_2,\n",
    "    b_prior_beta_1,\n",
    "    b_prior_beta_2,\n",
    "    m_prior_1,\n",
    "    m_prior_2,\n",
    "    a_prior_ig_1,\n",
    "    a_prior_ig_2,\n",
    "    b_prior_ig_1,\n",
    "    b_prior_ig_2,\n",
    "    w_prior_1,\n",
    "    w_prior_2)"
   ]
  },
  {
   "cell_type": "code",
   "execution_count": 8,
   "metadata": {},
   "outputs": [],
   "source": [
    "meta_date = '\\'2023-01-01\\''\n",
    "min_first_login_date = '\\'2022-12-12\\''\n",
    "max_first_login_date = '\\'2023-01-12\\''\n",
    "n_days_spend = 7\n",
    "company_id = 'tilting_point_mjs4k'\n",
    "project_id = 'terragenesis_m89uz'\n",
    "personalized = True\n",
    "winsorized = True\n",
    "datapoint_type = \"one_datapoint_per_user_per_meta_date\"\n",
    "variant_name_1 = 'P'\n",
    "variant_name_2 = 'C'\n",
    "a_prior_beta_1 = 1\n",
    "a_prior_beta_2 = 1\n",
    "b_prior_beta_1 = 1\n",
    "b_prior_beta_2 = 1\n",
    "m_prior_1 = 2\n",
    "m_prior_2 = 2\n",
    "a_prior_ig_1 = 0\n",
    "a_prior_ig_2 = 0\n",
    "b_prior_ig_1 = 0\n",
    "b_prior_ig_2 = 0\n",
    "w_prior_1 = 10\n",
    "w_prior_2 = 10"
   ]
  },
  {
   "cell_type": "code",
   "execution_count": 9,
   "metadata": {},
   "outputs": [],
   "source": [
    "personalized_num = 0\n",
    "spend_column = 'spend'"
   ]
  },
  {
   "cell_type": "code",
   "execution_count": 10,
   "metadata": {},
   "outputs": [],
   "source": [
    "data_query_1 = f\"\"\"\n",
    "            WITH\n",
    "                base_table AS (\n",
    "                    SELECT user_id\n",
    "                        , meta_date\n",
    "                        , first_login\n",
    "                        , CASE\n",
    "                            WHEN group_tag = 'control'      THEN 'C'\n",
    "                            WHEN group_tag = 'personalized' THEN 'P'\n",
    "                        END                                                                              test_group\n",
    "                        , COALESCE(SUM(CASE WHEN fl_personalized_offer_spend <> {personalized_num} THEN {spend_column} END), 0)      total_spend\n",
    "                    FROM analytics__{company_id}__{project_id}.user_level_performance\n",
    "                    WHERE meta_date = DATE {meta_date}\n",
    "                    AND first_login BETWEEN DATE {min_first_login_date} AND DATE {max_first_login_date}\n",
    "                    GROUP BY user_id\n",
    "                        , meta_date\n",
    "                        , first_login\n",
    "                        , group_tag\n",
    "                    )\n",
    "\n",
    "            SELECT meta_date\n",
    "                , test_group\n",
    "                , COUNT(*)                                              AS totals\n",
    "                , SUM(CASE WHEN total_spend > 0 THEN 1 ELSE 0 END) AS positives\n",
    "                , SUM(total_spend) AS sum_values\n",
    "                , SUM(LN(CASE WHEN total_spend > 0 THEN total_spend END)) AS sum_logs\n",
    "                , SUM(power(LN(CASE WHEN total_spend > 0 THEN total_spend END), 2.0)) AS sum_logs_squared\n",
    "            FROM base_table\n",
    "            GROUP BY meta_date\n",
    "                , test_group;\"\"\""
   ]
  },
  {
   "cell_type": "code",
   "execution_count": 11,
   "metadata": {},
   "outputs": [],
   "source": [
    "from ml_lib.feature_store.offline.client import FeatureStoreOfflineClient"
   ]
  },
  {
   "cell_type": "code",
   "execution_count": 12,
   "metadata": {},
   "outputs": [
    {
     "name": "stdout",
     "output_type": "stream",
     "text": [
      "2023-02-02 15:54:25,363 - botocore.credentials - INFO - Found credentials in shared credentials file: ~/.aws/credentials\n"
     ]
    },
    {
     "name": "stderr",
     "output_type": "stream",
     "text": [
      "Missing STATSD_HOST and/or STATSD_PORT environment variables\n",
      "DummyStatsClient._send unknown.athena_query_runs_total:1|c\n"
     ]
    },
    {
     "ename": "QueryFailed",
     "evalue": "SYNTAX_ERROR: line 14:33: Column 'fl_personalized_offer_spend' cannot be resolved",
     "output_type": "error",
     "traceback": [
      "\u001b[1;31m---------------------------------------------------------------------------\u001b[0m",
      "\u001b[1;31mQueryFailed\u001b[0m                               Traceback (most recent call last)",
      "Cell \u001b[1;32mIn[12], line 1\u001b[0m\n\u001b[1;32m----> 1\u001b[0m initial_data \u001b[39m=\u001b[39m FeatureStoreOfflineClient\u001b[39m.\u001b[39;49mrun_athena_query_pandas(\n\u001b[0;32m      2\u001b[0m          data_query_1)\n\u001b[0;32m      3\u001b[0m initial_data\n",
      "File \u001b[1;32mc:\\Users\\karol\\anaconda3\\envs\\assetario_ab_testing_3_8_new\\lib\\site-packages\\ml_lib\\feature_store\\offline\\client.py:103\u001b[0m, in \u001b[0;36mFeatureStoreOfflineClient.run_athena_query_pandas\u001b[1;34m(cls, sql, parameters)\u001b[0m\n\u001b[0;32m    100\u001b[0m sql \u001b[39m=\u001b[39m remove_trailing_semicolon(sql)\n\u001b[0;32m    102\u001b[0m \u001b[39mtry\u001b[39;00m:\n\u001b[1;32m--> 103\u001b[0m     df \u001b[39m=\u001b[39m wr\u001b[39m.\u001b[39;49mathena\u001b[39m.\u001b[39;49mread_sql_query(\n\u001b[0;32m    104\u001b[0m         sql\u001b[39m=\u001b[39;49msql,\n\u001b[0;32m    105\u001b[0m         database\u001b[39m=\u001b[39;49m\u001b[39m\"\u001b[39;49m\u001b[39mdefault\u001b[39;49m\u001b[39m\"\u001b[39;49m,\n\u001b[0;32m    106\u001b[0m         workgroup\u001b[39m=\u001b[39;49mconfig\u001b[39m.\u001b[39;49mworkgroup,\n\u001b[0;32m    107\u001b[0m         boto3_session\u001b[39m=\u001b[39;49mboto3_session,\n\u001b[0;32m    108\u001b[0m         data_source\u001b[39m=\u001b[39;49mconfig\u001b[39m.\u001b[39;49mcatalog_name,\n\u001b[0;32m    109\u001b[0m         s3_output\u001b[39m=\u001b[39;49ms3_output,\n\u001b[0;32m    110\u001b[0m         ctas_approach\u001b[39m=\u001b[39;49m\u001b[39mFalse\u001b[39;49;00m,\n\u001b[0;32m    111\u001b[0m         unload_approach\u001b[39m=\u001b[39;49m\u001b[39mTrue\u001b[39;49;00m,\n\u001b[0;32m    112\u001b[0m         unload_parameters\u001b[39m=\u001b[39;49m\u001b[39mdict\u001b[39;49m(compression\u001b[39m=\u001b[39;49m\u001b[39m\"\u001b[39;49m\u001b[39msnappy\u001b[39;49m\u001b[39m\"\u001b[39;49m),\n\u001b[0;32m    113\u001b[0m     )\n\u001b[0;32m    114\u001b[0m \u001b[39mexcept\u001b[39;00m wr\u001b[39m.\u001b[39mexceptions\u001b[39m.\u001b[39mEmptyDataFrame:\n\u001b[0;32m    115\u001b[0m     incr(\u001b[39m\"\u001b[39m\u001b[39mathena_query_returned_empty_result_count\u001b[39m\u001b[39m\"\u001b[39m, \u001b[39m1\u001b[39m)\n",
      "File \u001b[1;32mc:\\Users\\karol\\anaconda3\\envs\\assetario_ab_testing_3_8_new\\lib\\site-packages\\awswrangler\\_config.py:493\u001b[0m, in \u001b[0;36mapply_configs.<locals>.wrapper\u001b[1;34m(*args_raw, **kwargs)\u001b[0m\n\u001b[0;32m    491\u001b[0m         \u001b[39mdel\u001b[39;00m args[name]\n\u001b[0;32m    492\u001b[0m         args \u001b[39m=\u001b[39m {\u001b[39m*\u001b[39m\u001b[39m*\u001b[39margs, \u001b[39m*\u001b[39m\u001b[39m*\u001b[39mkeywords}\n\u001b[1;32m--> 493\u001b[0m \u001b[39mreturn\u001b[39;00m function(\u001b[39m*\u001b[39;49m\u001b[39m*\u001b[39;49margs)\n",
      "File \u001b[1;32mc:\\Users\\karol\\anaconda3\\envs\\assetario_ab_testing_3_8_new\\lib\\site-packages\\awswrangler\\athena\\_read.py:957\u001b[0m, in \u001b[0;36mread_sql_query\u001b[1;34m(sql, database, ctas_approach, unload_approach, unload_parameters, categories, chunksize, s3_output, workgroup, encryption, kms_key, keep_files, ctas_database_name, ctas_temp_table_name, ctas_bucketing_info, ctas_write_compression, use_threads, boto3_session, max_cache_seconds, max_cache_query_inspections, max_remote_cache_entries, max_local_cache_entries, data_source, params, s3_additional_kwargs, pyarrow_additional_kwargs)\u001b[0m\n\u001b[0;32m    955\u001b[0m         _logger\u001b[39m.\u001b[39merror(e)  \u001b[39m# if there is anything wrong with the cache, just fallback to the usual path\u001b[39;00m\n\u001b[0;32m    956\u001b[0m         _logger\u001b[39m.\u001b[39mdebug(\u001b[39m\"\u001b[39m\u001b[39mCorrupted cache. Continuing to execute query...\u001b[39m\u001b[39m\"\u001b[39m)\n\u001b[1;32m--> 957\u001b[0m \u001b[39mreturn\u001b[39;00m _resolve_query_without_cache(\n\u001b[0;32m    958\u001b[0m     sql\u001b[39m=\u001b[39;49msql,\n\u001b[0;32m    959\u001b[0m     database\u001b[39m=\u001b[39;49mdatabase,\n\u001b[0;32m    960\u001b[0m     data_source\u001b[39m=\u001b[39;49mdata_source,\n\u001b[0;32m    961\u001b[0m     ctas_approach\u001b[39m=\u001b[39;49mctas_approach,\n\u001b[0;32m    962\u001b[0m     unload_approach\u001b[39m=\u001b[39;49munload_approach,\n\u001b[0;32m    963\u001b[0m     unload_parameters\u001b[39m=\u001b[39;49munload_parameters,\n\u001b[0;32m    964\u001b[0m     categories\u001b[39m=\u001b[39;49mcategories,\n\u001b[0;32m    965\u001b[0m     chunksize\u001b[39m=\u001b[39;49mchunksize,\n\u001b[0;32m    966\u001b[0m     s3_output\u001b[39m=\u001b[39;49ms3_output,\n\u001b[0;32m    967\u001b[0m     workgroup\u001b[39m=\u001b[39;49mworkgroup,\n\u001b[0;32m    968\u001b[0m     encryption\u001b[39m=\u001b[39;49mencryption,\n\u001b[0;32m    969\u001b[0m     kms_key\u001b[39m=\u001b[39;49mkms_key,\n\u001b[0;32m    970\u001b[0m     keep_files\u001b[39m=\u001b[39;49mkeep_files,\n\u001b[0;32m    971\u001b[0m     ctas_database_name\u001b[39m=\u001b[39;49mctas_database_name,\n\u001b[0;32m    972\u001b[0m     ctas_temp_table_name\u001b[39m=\u001b[39;49mctas_temp_table_name,\n\u001b[0;32m    973\u001b[0m     ctas_bucketing_info\u001b[39m=\u001b[39;49mctas_bucketing_info,\n\u001b[0;32m    974\u001b[0m     ctas_write_compression\u001b[39m=\u001b[39;49mctas_write_compression,\n\u001b[0;32m    975\u001b[0m     use_threads\u001b[39m=\u001b[39;49muse_threads,\n\u001b[0;32m    976\u001b[0m     s3_additional_kwargs\u001b[39m=\u001b[39;49ms3_additional_kwargs,\n\u001b[0;32m    977\u001b[0m     boto3_session\u001b[39m=\u001b[39;49msession,\n\u001b[0;32m    978\u001b[0m     pyarrow_additional_kwargs\u001b[39m=\u001b[39;49mpyarrow_additional_kwargs,\n\u001b[0;32m    979\u001b[0m )\n",
      "File \u001b[1;32mc:\\Users\\karol\\anaconda3\\envs\\assetario_ab_testing_3_8_new\\lib\\site-packages\\awswrangler\\athena\\_read.py:458\u001b[0m, in \u001b[0;36m_resolve_query_without_cache\u001b[1;34m(sql, database, data_source, ctas_approach, unload_approach, unload_parameters, categories, chunksize, s3_output, workgroup, encryption, kms_key, keep_files, ctas_database_name, ctas_temp_table_name, ctas_bucketing_info, ctas_write_compression, use_threads, s3_additional_kwargs, boto3_session, pyarrow_additional_kwargs)\u001b[0m\n\u001b[0;32m    456\u001b[0m     \u001b[39mif\u001b[39;00m unload_parameters \u001b[39mis\u001b[39;00m \u001b[39mNone\u001b[39;00m:\n\u001b[0;32m    457\u001b[0m         unload_parameters \u001b[39m=\u001b[39m {}\n\u001b[1;32m--> 458\u001b[0m     \u001b[39mreturn\u001b[39;00m _resolve_query_without_cache_unload(\n\u001b[0;32m    459\u001b[0m         sql\u001b[39m=\u001b[39;49msql,\n\u001b[0;32m    460\u001b[0m         file_format\u001b[39m=\u001b[39;49munload_parameters\u001b[39m.\u001b[39;49mget(\u001b[39m\"\u001b[39;49m\u001b[39mfile_format\u001b[39;49m\u001b[39m\"\u001b[39;49m) \u001b[39mor\u001b[39;49;00m \u001b[39m\"\u001b[39;49m\u001b[39mPARQUET\u001b[39;49m\u001b[39m\"\u001b[39;49m,\n\u001b[0;32m    461\u001b[0m         compression\u001b[39m=\u001b[39;49munload_parameters\u001b[39m.\u001b[39;49mget(\u001b[39m\"\u001b[39;49m\u001b[39mcompression\u001b[39;49m\u001b[39m\"\u001b[39;49m),\n\u001b[0;32m    462\u001b[0m         field_delimiter\u001b[39m=\u001b[39;49munload_parameters\u001b[39m.\u001b[39;49mget(\u001b[39m\"\u001b[39;49m\u001b[39mfield_delimiter\u001b[39;49m\u001b[39m\"\u001b[39;49m),\n\u001b[0;32m    463\u001b[0m         partitioned_by\u001b[39m=\u001b[39;49munload_parameters\u001b[39m.\u001b[39;49mget(\u001b[39m\"\u001b[39;49m\u001b[39mpartitioned_by\u001b[39;49m\u001b[39m\"\u001b[39;49m),\n\u001b[0;32m    464\u001b[0m         database\u001b[39m=\u001b[39;49mdatabase,\n\u001b[0;32m    465\u001b[0m         data_source\u001b[39m=\u001b[39;49mdata_source,\n\u001b[0;32m    466\u001b[0m         s3_output\u001b[39m=\u001b[39;49ms3_output,\n\u001b[0;32m    467\u001b[0m         keep_files\u001b[39m=\u001b[39;49mkeep_files,\n\u001b[0;32m    468\u001b[0m         chunksize\u001b[39m=\u001b[39;49mchunksize,\n\u001b[0;32m    469\u001b[0m         categories\u001b[39m=\u001b[39;49mcategories,\n\u001b[0;32m    470\u001b[0m         encryption\u001b[39m=\u001b[39;49mencryption,\n\u001b[0;32m    471\u001b[0m         kms_key\u001b[39m=\u001b[39;49mkms_key,\n\u001b[0;32m    472\u001b[0m         workgroup\u001b[39m=\u001b[39;49mworkgroup,\n\u001b[0;32m    473\u001b[0m         use_threads\u001b[39m=\u001b[39;49muse_threads,\n\u001b[0;32m    474\u001b[0m         s3_additional_kwargs\u001b[39m=\u001b[39;49ms3_additional_kwargs,\n\u001b[0;32m    475\u001b[0m         boto3_session\u001b[39m=\u001b[39;49mboto3_session,\n\u001b[0;32m    476\u001b[0m         pyarrow_additional_kwargs\u001b[39m=\u001b[39;49mpyarrow_additional_kwargs,\n\u001b[0;32m    477\u001b[0m     )\n\u001b[0;32m    478\u001b[0m \u001b[39mreturn\u001b[39;00m _resolve_query_without_cache_regular(\n\u001b[0;32m    479\u001b[0m     sql\u001b[39m=\u001b[39msql,\n\u001b[0;32m    480\u001b[0m     database\u001b[39m=\u001b[39mdatabase,\n\u001b[1;32m   (...)\u001b[0m\n\u001b[0;32m    491\u001b[0m     boto3_session\u001b[39m=\u001b[39mboto3_session,\n\u001b[0;32m    492\u001b[0m )\n",
      "File \u001b[1;32mc:\\Users\\karol\\anaconda3\\envs\\assetario_ab_testing_3_8_new\\lib\\site-packages\\awswrangler\\athena\\_read.py:321\u001b[0m, in \u001b[0;36m_resolve_query_without_cache_unload\u001b[1;34m(sql, file_format, compression, field_delimiter, partitioned_by, database, data_source, s3_output, keep_files, chunksize, categories, encryption, kms_key, workgroup, use_threads, s3_additional_kwargs, boto3_session, pyarrow_additional_kwargs)\u001b[0m\n\u001b[0;32m    301\u001b[0m \u001b[39mdef\u001b[39;00m \u001b[39m_resolve_query_without_cache_unload\u001b[39m(\n\u001b[0;32m    302\u001b[0m     sql: \u001b[39mstr\u001b[39m,\n\u001b[0;32m    303\u001b[0m     file_format: \u001b[39mstr\u001b[39m,\n\u001b[1;32m   (...)\u001b[0m\n\u001b[0;32m    319\u001b[0m     pyarrow_additional_kwargs: Optional[Dict[\u001b[39mstr\u001b[39m, Any]] \u001b[39m=\u001b[39m \u001b[39mNone\u001b[39;00m,\n\u001b[0;32m    320\u001b[0m ) \u001b[39m-\u001b[39m\u001b[39m>\u001b[39m Union[pd\u001b[39m.\u001b[39mDataFrame, Iterator[pd\u001b[39m.\u001b[39mDataFrame]]:\n\u001b[1;32m--> 321\u001b[0m     query_metadata \u001b[39m=\u001b[39m _unload(\n\u001b[0;32m    322\u001b[0m         sql\u001b[39m=\u001b[39;49msql,\n\u001b[0;32m    323\u001b[0m         path\u001b[39m=\u001b[39;49ms3_output,\n\u001b[0;32m    324\u001b[0m         file_format\u001b[39m=\u001b[39;49mfile_format,\n\u001b[0;32m    325\u001b[0m         compression\u001b[39m=\u001b[39;49mcompression,\n\u001b[0;32m    326\u001b[0m         field_delimiter\u001b[39m=\u001b[39;49mfield_delimiter,\n\u001b[0;32m    327\u001b[0m         partitioned_by\u001b[39m=\u001b[39;49mpartitioned_by,\n\u001b[0;32m    328\u001b[0m         workgroup\u001b[39m=\u001b[39;49mworkgroup,\n\u001b[0;32m    329\u001b[0m         database\u001b[39m=\u001b[39;49mdatabase,\n\u001b[0;32m    330\u001b[0m         encryption\u001b[39m=\u001b[39;49mencryption,\n\u001b[0;32m    331\u001b[0m         kms_key\u001b[39m=\u001b[39;49mkms_key,\n\u001b[0;32m    332\u001b[0m         boto3_session\u001b[39m=\u001b[39;49mboto3_session,\n\u001b[0;32m    333\u001b[0m         data_source\u001b[39m=\u001b[39;49mdata_source,\n\u001b[0;32m    334\u001b[0m     )\n\u001b[0;32m    335\u001b[0m     \u001b[39mif\u001b[39;00m file_format \u001b[39m==\u001b[39m \u001b[39m\"\u001b[39m\u001b[39mPARQUET\u001b[39m\u001b[39m\"\u001b[39m:\n\u001b[0;32m    336\u001b[0m         \u001b[39mreturn\u001b[39;00m _fetch_parquet_result(\n\u001b[0;32m    337\u001b[0m             query_metadata\u001b[39m=\u001b[39mquery_metadata,\n\u001b[0;32m    338\u001b[0m             keep_files\u001b[39m=\u001b[39mkeep_files,\n\u001b[1;32m   (...)\u001b[0m\n\u001b[0;32m    344\u001b[0m             pyarrow_additional_kwargs\u001b[39m=\u001b[39mpyarrow_additional_kwargs,\n\u001b[0;32m    345\u001b[0m         )\n",
      "File \u001b[1;32mc:\\Users\\karol\\anaconda3\\envs\\assetario_ab_testing_3_8_new\\lib\\site-packages\\awswrangler\\athena\\_read.py:568\u001b[0m, in \u001b[0;36m_unload\u001b[1;34m(sql, path, file_format, compression, field_delimiter, partitioned_by, workgroup, database, encryption, kms_key, boto3_session, data_source)\u001b[0m\n\u001b[0;32m    563\u001b[0m     \u001b[39mif\u001b[39;00m \u001b[39m\"\u001b[39m\u001b[39mColumn type is unknown\u001b[39m\u001b[39m\"\u001b[39m \u001b[39min\u001b[39;00m msg:\n\u001b[0;32m    564\u001b[0m         \u001b[39mraise\u001b[39;00m exceptions\u001b[39m.\u001b[39mInvalidArgumentValue(\n\u001b[0;32m    565\u001b[0m             \u001b[39m\"\u001b[39m\u001b[39mPlease, don\u001b[39m\u001b[39m'\u001b[39m\u001b[39mt leave undefined columns types in your query. You can cast to ensure it. \u001b[39m\u001b[39m\"\u001b[39m\n\u001b[0;32m    566\u001b[0m             \u001b[39m\"\u001b[39m\u001b[39m(E.g. \u001b[39m\u001b[39m'\u001b[39m\u001b[39mSELECT CAST(NULL AS INTEGER) AS MY_COL, ...\u001b[39m\u001b[39m'\u001b[39m\u001b[39m)\u001b[39m\u001b[39m\"\u001b[39m\n\u001b[0;32m    567\u001b[0m         )\n\u001b[1;32m--> 568\u001b[0m     \u001b[39mraise\u001b[39;00m ex\n\u001b[0;32m    569\u001b[0m \u001b[39mreturn\u001b[39;00m query_metadata\n",
      "File \u001b[1;32mc:\\Users\\karol\\anaconda3\\envs\\assetario_ab_testing_3_8_new\\lib\\site-packages\\awswrangler\\athena\\_read.py:548\u001b[0m, in \u001b[0;36m_unload\u001b[1;34m(sql, path, file_format, compression, field_delimiter, partitioned_by, workgroup, database, encryption, kms_key, boto3_session, data_source)\u001b[0m\n\u001b[0;32m    546\u001b[0m _logger\u001b[39m.\u001b[39mdebug(\u001b[39m\"\u001b[39m\u001b[39mquery_id: \u001b[39m\u001b[39m%s\u001b[39;00m\u001b[39m\"\u001b[39m, query_id)\n\u001b[0;32m    547\u001b[0m \u001b[39mtry\u001b[39;00m:\n\u001b[1;32m--> 548\u001b[0m     query_metadata: _QueryMetadata \u001b[39m=\u001b[39m _get_query_metadata(\n\u001b[0;32m    549\u001b[0m         query_execution_id\u001b[39m=\u001b[39;49mquery_id,\n\u001b[0;32m    550\u001b[0m         boto3_session\u001b[39m=\u001b[39;49mboto3_session,\n\u001b[0;32m    551\u001b[0m         metadata_cache_manager\u001b[39m=\u001b[39;49m_cache_manager,\n\u001b[0;32m    552\u001b[0m     )\n\u001b[0;32m    553\u001b[0m \u001b[39mexcept\u001b[39;00m exceptions\u001b[39m.\u001b[39mQueryFailed \u001b[39mas\u001b[39;00m ex:\n\u001b[0;32m    554\u001b[0m     msg \u001b[39m=\u001b[39m \u001b[39mstr\u001b[39m(ex)\n",
      "File \u001b[1;32mc:\\Users\\karol\\anaconda3\\envs\\assetario_ab_testing_3_8_new\\lib\\site-packages\\awswrangler\\athena\\_utils.py:200\u001b[0m, in \u001b[0;36m_get_query_metadata\u001b[1;34m(query_execution_id, boto3_session, categories, query_execution_payload, metadata_cache_manager)\u001b[0m\n\u001b[0;32m    198\u001b[0m     _query_execution_payload: Dict[\u001b[39mstr\u001b[39m, Any] \u001b[39m=\u001b[39m query_execution_payload\n\u001b[0;32m    199\u001b[0m \u001b[39melse\u001b[39;00m:\n\u001b[1;32m--> 200\u001b[0m     _query_execution_payload \u001b[39m=\u001b[39m wait_query(query_execution_id\u001b[39m=\u001b[39;49mquery_execution_id, boto3_session\u001b[39m=\u001b[39;49mboto3_session)\n\u001b[0;32m    201\u001b[0m cols_types: Dict[\u001b[39mstr\u001b[39m, \u001b[39mstr\u001b[39m] \u001b[39m=\u001b[39m get_query_columns_types(\n\u001b[0;32m    202\u001b[0m     query_execution_id\u001b[39m=\u001b[39mquery_execution_id, boto3_session\u001b[39m=\u001b[39mboto3_session\n\u001b[0;32m    203\u001b[0m )\n\u001b[0;32m    204\u001b[0m _logger\u001b[39m.\u001b[39mdebug(\u001b[39m\"\u001b[39m\u001b[39mcols_types: \u001b[39m\u001b[39m%s\u001b[39;00m\u001b[39m\"\u001b[39m, cols_types)\n",
      "File \u001b[1;32mc:\\Users\\karol\\anaconda3\\envs\\assetario_ab_testing_3_8_new\\lib\\site-packages\\awswrangler\\athena\\_utils.py:1111\u001b[0m, in \u001b[0;36mwait_query\u001b[1;34m(query_execution_id, boto3_session)\u001b[0m\n\u001b[0;32m   1109\u001b[0m _logger\u001b[39m.\u001b[39mdebug(\u001b[39m\"\u001b[39m\u001b[39mStateChangeReason: \u001b[39m\u001b[39m%s\u001b[39;00m\u001b[39m\"\u001b[39m, response[\u001b[39m\"\u001b[39m\u001b[39mStatus\u001b[39m\u001b[39m\"\u001b[39m]\u001b[39m.\u001b[39mget(\u001b[39m\"\u001b[39m\u001b[39mStateChangeReason\u001b[39m\u001b[39m\"\u001b[39m))\n\u001b[0;32m   1110\u001b[0m \u001b[39mif\u001b[39;00m state \u001b[39m==\u001b[39m \u001b[39m\"\u001b[39m\u001b[39mFAILED\u001b[39m\u001b[39m\"\u001b[39m:\n\u001b[1;32m-> 1111\u001b[0m     \u001b[39mraise\u001b[39;00m exceptions\u001b[39m.\u001b[39mQueryFailed(response[\u001b[39m\"\u001b[39m\u001b[39mStatus\u001b[39m\u001b[39m\"\u001b[39m]\u001b[39m.\u001b[39mget(\u001b[39m\"\u001b[39m\u001b[39mStateChangeReason\u001b[39m\u001b[39m\"\u001b[39m))\n\u001b[0;32m   1112\u001b[0m \u001b[39mif\u001b[39;00m state \u001b[39m==\u001b[39m \u001b[39m\"\u001b[39m\u001b[39mCANCELLED\u001b[39m\u001b[39m\"\u001b[39m:\n\u001b[0;32m   1113\u001b[0m     \u001b[39mraise\u001b[39;00m exceptions\u001b[39m.\u001b[39mQueryCancelled(response[\u001b[39m\"\u001b[39m\u001b[39mStatus\u001b[39m\u001b[39m\"\u001b[39m]\u001b[39m.\u001b[39mget(\u001b[39m\"\u001b[39m\u001b[39mStateChangeReason\u001b[39m\u001b[39m\"\u001b[39m))\n",
      "\u001b[1;31mQueryFailed\u001b[0m: SYNTAX_ERROR: line 14:33: Column 'fl_personalized_offer_spend' cannot be resolved"
     ]
    }
   ],
   "source": [
    "initial_data = FeatureStoreOfflineClient.run_athena_query_pandas(\n",
    "         data_query_1)\n",
    "initial_data"
   ]
  },
  {
   "cell_type": "code",
   "execution_count": 57,
   "metadata": {},
   "outputs": [
    {
     "data": {
      "text/html": [
       "<div>\n",
       "<style scoped>\n",
       "    .dataframe tbody tr th:only-of-type {\n",
       "        vertical-align: middle;\n",
       "    }\n",
       "\n",
       "    .dataframe tbody tr th {\n",
       "        vertical-align: top;\n",
       "    }\n",
       "\n",
       "    .dataframe thead th {\n",
       "        text-align: right;\n",
       "    }\n",
       "</style>\n",
       "<table border=\"1\" class=\"dataframe\">\n",
       "  <thead>\n",
       "    <tr style=\"text-align: right;\">\n",
       "      <th></th>\n",
       "      <th>meta_date</th>\n",
       "      <th>test_group</th>\n",
       "      <th>totals</th>\n",
       "      <th>positives</th>\n",
       "      <th>sum_values</th>\n",
       "      <th>sum_logs</th>\n",
       "      <th>sum_logs_squared</th>\n",
       "    </tr>\n",
       "  </thead>\n",
       "  <tbody>\n",
       "    <tr>\n",
       "      <th>0</th>\n",
       "      <td>2023-01-01</td>\n",
       "      <td>P</td>\n",
       "      <td>4323</td>\n",
       "      <td>85</td>\n",
       "      <td>868.596034</td>\n",
       "      <td>138.528516</td>\n",
       "      <td>337.886721</td>\n",
       "    </tr>\n",
       "    <tr>\n",
       "      <th>1</th>\n",
       "      <td>2023-01-01</td>\n",
       "      <td>C</td>\n",
       "      <td>10270</td>\n",
       "      <td>184</td>\n",
       "      <td>1743.574893</td>\n",
       "      <td>294.097736</td>\n",
       "      <td>709.104756</td>\n",
       "    </tr>\n",
       "  </tbody>\n",
       "</table>\n",
       "</div>"
      ],
      "text/plain": [
       "   meta_date test_group  totals  positives   sum_values    sum_logs  \\\n",
       "0 2023-01-01          P    4323         85   868.596034  138.528516   \n",
       "1 2023-01-01          C   10270        184  1743.574893  294.097736   \n",
       "\n",
       "   sum_logs_squared  \n",
       "0        337.886721  \n",
       "1        709.104756  "
      ]
     },
     "execution_count": 57,
     "metadata": {},
     "output_type": "execute_result"
    }
   ],
   "source": [
    "initial_data"
   ]
  },
  {
   "cell_type": "code",
   "execution_count": null,
   "metadata": {},
   "outputs": [],
   "source": []
  }
 ],
 "metadata": {
  "kernelspec": {
   "display_name": "assetario_ab_testing_3_8_new",
   "language": "python",
   "name": "python3"
  },
  "language_info": {
   "codemirror_mode": {
    "name": "ipython",
    "version": 3
   },
   "file_extension": ".py",
   "mimetype": "text/x-python",
   "name": "python",
   "nbconvert_exporter": "python",
   "pygments_lexer": "ipython3",
   "version": "3.8.15"
  },
  "orig_nbformat": 4,
  "vscode": {
   "interpreter": {
    "hash": "8c48714df691e14133612fd9b2a1371a6e34c9b2afa0a3380b3c3844e005cca8"
   }
  }
 },
 "nbformat": 4,
 "nbformat_minor": 2
}
