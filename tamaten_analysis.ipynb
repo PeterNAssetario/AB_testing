{
 "cells": [
  {
   "cell_type": "code",
   "execution_count": 202,
   "id": "0de4313e-ae33-45db-be52-cfd9a551d7e1",
   "metadata": {},
   "outputs": [],
   "source": [
    "import pandas as pd\n",
    "import re\n",
    "import scipy.stats as stats\n",
    "\n",
    "from ml_lib.feature_store import configure_offline_feature_store\n",
    "from ml_lib.feature_store.offline.client import FeatureStoreOfflineClient\n",
    "\n",
    "configure_offline_feature_store(\n",
    "    workgroup=\"primary\"\n",
    ")"
   ]
  },
  {
   "cell_type": "code",
   "execution_count": 203,
   "id": "a8cec76c-34d5-4b07-8492-d19b7a752fbd",
   "metadata": {},
   "outputs": [
    {
     "name": "stderr",
     "output_type": "stream",
     "text": [
      "DummyStatsClient._send unknown.athena_query_runs_total:1|c\n",
      "DummyStatsClient._send unknown.athena_query_queue_ms:159.000000|ms\n",
      "DummyStatsClient._send unknown.athena_query_execution_ms:5718.000000|ms\n",
      "DummyStatsClient._send unknown.athena_query_scanned_bytes:8817788|c\n"
     ]
    },
    {
     "data": {
      "text/html": [
       "<div>\n",
       "<style scoped>\n",
       "    .dataframe tbody tr th:only-of-type {\n",
       "        vertical-align: middle;\n",
       "    }\n",
       "\n",
       "    .dataframe tbody tr th {\n",
       "        vertical-align: top;\n",
       "    }\n",
       "\n",
       "    .dataframe thead th {\n",
       "        text-align: right;\n",
       "    }\n",
       "</style>\n",
       "<table border=\"1\" class=\"dataframe\">\n",
       "  <thead>\n",
       "    <tr style=\"text-align: right;\">\n",
       "      <th></th>\n",
       "      <th>adgroup</th>\n",
       "      <th>campaign</th>\n",
       "      <th>first_campaign_id_network</th>\n",
       "      <th>partner</th>\n",
       "      <th>install_date</th>\n",
       "      <th>sum_skad_installs</th>\n",
       "      <th>sum_skad_reinstalls</th>\n",
       "      <th>sum_skad_conversion_value_total</th>\n",
       "      <th>skad_revenue</th>\n",
       "      <th>skad_arpu</th>\n",
       "      <th>sum_noskad_installs</th>\n",
       "      <th>sum_noskad_reinstalls</th>\n",
       "      <th>no_skad_revenue</th>\n",
       "      <th>no_skad_arpu</th>\n",
       "      <th>skad_id</th>\n",
       "      <th>no_skad_id</th>\n",
       "      <th>has_skad</th>\n",
       "    </tr>\n",
       "  </thead>\n",
       "  <tbody>\n",
       "    <tr>\n",
       "      <th>0</th>\n",
       "      <td>21-99_MAI_M_SA-KW (4d8baf88-cfad-4771-a17e-a7f...</td>\n",
       "      <td>BAL_SC_UA_I_SKAD_SA-KW_MAI (1ecb9265-7bb8-4f39...</td>\n",
       "      <td>1ecb9265-7bb8-4f39-902c-44cc17bffe61</td>\n",
       "      <td>snapchat</td>\n",
       "      <td>2022-09-12</td>\n",
       "      <td>21</td>\n",
       "      <td>0</td>\n",
       "      <td>16</td>\n",
       "      <td>0.0</td>\n",
       "      <td>0.0</td>\n",
       "      <td>3</td>\n",
       "      <td>0</td>\n",
       "      <td>0.0</td>\n",
       "      <td>0.0</td>\n",
       "      <td>1</td>\n",
       "      <td>0</td>\n",
       "      <td>2</td>\n",
       "    </tr>\n",
       "    <tr>\n",
       "      <th>1</th>\n",
       "      <td>13-99_MAI_Both_AdsClick_SA-KW (1729076323756081)</td>\n",
       "      <td>BAL_TT_UA_I_SKAD_SA-KW_AdEngagers (17290761920...</td>\n",
       "      <td>1729076192068641</td>\n",
       "      <td>tiktok</td>\n",
       "      <td>2022-08-16</td>\n",
       "      <td>8</td>\n",
       "      <td>9</td>\n",
       "      <td>9</td>\n",
       "      <td>0.0</td>\n",
       "      <td>0.0</td>\n",
       "      <td>5</td>\n",
       "      <td>0</td>\n",
       "      <td>0.0</td>\n",
       "      <td>0.0</td>\n",
       "      <td>1</td>\n",
       "      <td>0</td>\n",
       "      <td>2</td>\n",
       "    </tr>\n",
       "    <tr>\n",
       "      <th>2</th>\n",
       "      <td>1899_MAI_M_BROAD_SA-KW (1729998279267377)</td>\n",
       "      <td>BAL_TT_UA_I_SKAD_SA-KW_MAI (1729998279267345)</td>\n",
       "      <td>1729998279267345</td>\n",
       "      <td>tiktok</td>\n",
       "      <td>2022-07-30</td>\n",
       "      <td>1</td>\n",
       "      <td>2</td>\n",
       "      <td>0</td>\n",
       "      <td>0.0</td>\n",
       "      <td>0.0</td>\n",
       "      <td>0</td>\n",
       "      <td>0</td>\n",
       "      <td>0.0</td>\n",
       "      <td>NaN</td>\n",
       "      <td>1</td>\n",
       "      <td>0</td>\n",
       "      <td>2</td>\n",
       "    </tr>\n",
       "    <tr>\n",
       "      <th>3</th>\n",
       "      <td>unknown</td>\n",
       "      <td>BAL_Unity_I_SA-KW_MAI_Compatitors1 (62d4186f8f...</td>\n",
       "      <td>62d4186f8f6f7a5eb56c5d5e</td>\n",
       "      <td>unity_ads</td>\n",
       "      <td>2022-07-30</td>\n",
       "      <td>7</td>\n",
       "      <td>1</td>\n",
       "      <td>4</td>\n",
       "      <td>0.0</td>\n",
       "      <td>0.0</td>\n",
       "      <td>&lt;NA&gt;</td>\n",
       "      <td>&lt;NA&gt;</td>\n",
       "      <td>NaN</td>\n",
       "      <td>NaN</td>\n",
       "      <td>1</td>\n",
       "      <td>&lt;NA&gt;</td>\n",
       "      <td>1</td>\n",
       "    </tr>\n",
       "    <tr>\n",
       "      <th>4</th>\n",
       "      <td>unknown</td>\n",
       "      <td>BAL_Unity_UA_I_SKAD_SA_MAI (6257e2e8326d45b443...</td>\n",
       "      <td>6257e2e8326d45b443dca065</td>\n",
       "      <td>unity_ads</td>\n",
       "      <td>2022-06-10</td>\n",
       "      <td>1</td>\n",
       "      <td>0</td>\n",
       "      <td>0</td>\n",
       "      <td>0.0</td>\n",
       "      <td>0.0</td>\n",
       "      <td>&lt;NA&gt;</td>\n",
       "      <td>&lt;NA&gt;</td>\n",
       "      <td>NaN</td>\n",
       "      <td>NaN</td>\n",
       "      <td>1</td>\n",
       "      <td>&lt;NA&gt;</td>\n",
       "      <td>1</td>\n",
       "    </tr>\n",
       "  </tbody>\n",
       "</table>\n",
       "</div>"
      ],
      "text/plain": [
       "                                             adgroup  \\\n",
       "0  21-99_MAI_M_SA-KW (4d8baf88-cfad-4771-a17e-a7f...   \n",
       "1   13-99_MAI_Both_AdsClick_SA-KW (1729076323756081)   \n",
       "2          1899_MAI_M_BROAD_SA-KW (1729998279267377)   \n",
       "3                                            unknown   \n",
       "4                                            unknown   \n",
       "\n",
       "                                            campaign  \\\n",
       "0  BAL_SC_UA_I_SKAD_SA-KW_MAI (1ecb9265-7bb8-4f39...   \n",
       "1  BAL_TT_UA_I_SKAD_SA-KW_AdEngagers (17290761920...   \n",
       "2      BAL_TT_UA_I_SKAD_SA-KW_MAI (1729998279267345)   \n",
       "3  BAL_Unity_I_SA-KW_MAI_Compatitors1 (62d4186f8f...   \n",
       "4  BAL_Unity_UA_I_SKAD_SA_MAI (6257e2e8326d45b443...   \n",
       "\n",
       "              first_campaign_id_network    partner install_date  \\\n",
       "0  1ecb9265-7bb8-4f39-902c-44cc17bffe61   snapchat   2022-09-12   \n",
       "1                      1729076192068641     tiktok   2022-08-16   \n",
       "2                      1729998279267345     tiktok   2022-07-30   \n",
       "3              62d4186f8f6f7a5eb56c5d5e  unity_ads   2022-07-30   \n",
       "4              6257e2e8326d45b443dca065  unity_ads   2022-06-10   \n",
       "\n",
       "   sum_skad_installs  sum_skad_reinstalls  sum_skad_conversion_value_total  \\\n",
       "0                 21                    0                               16   \n",
       "1                  8                    9                                9   \n",
       "2                  1                    2                                0   \n",
       "3                  7                    1                                4   \n",
       "4                  1                    0                                0   \n",
       "\n",
       "   skad_revenue  skad_arpu  sum_noskad_installs  sum_noskad_reinstalls  \\\n",
       "0           0.0        0.0                    3                      0   \n",
       "1           0.0        0.0                    5                      0   \n",
       "2           0.0        0.0                    0                      0   \n",
       "3           0.0        0.0                 <NA>                   <NA>   \n",
       "4           0.0        0.0                 <NA>                   <NA>   \n",
       "\n",
       "   no_skad_revenue  no_skad_arpu  skad_id  no_skad_id  has_skad  \n",
       "0              0.0           0.0        1           0         2  \n",
       "1              0.0           0.0        1           0         2  \n",
       "2              0.0           NaN        1           0         2  \n",
       "3              NaN           NaN        1        <NA>         1  \n",
       "4              NaN           NaN        1        <NA>         1  "
      ]
     },
     "execution_count": 203,
     "metadata": {},
     "output_type": "execute_result"
    }
   ],
   "source": [
    "data = FeatureStoreOfflineClient.run_athena_query_pandas(\"\"\"\n",
    "WITH skad    AS (\n",
    "    SELECT adgroup\n",
    "         , campaign\n",
    "         , first_campaign_id_network\n",
    "         , first_os_name                       os_name\n",
    "         , partner\n",
    "         , first_day                           install_date\n",
    "         , sum_skad_installs\n",
    "         , sum_skad_reinstalls\n",
    "         , sum_conversion_value_total          sum_skad_conversion_value_total\n",
    "         , sum_conversion_value_7 * 0.75 + sum_conversion_value_8 * 1.25 + sum_conversion_value_9 * 1.75 +\n",
    "           sum_conversion_value_10 * 2.25 +\n",
    "           sum_conversion_value_11 * 2.75 + sum_conversion_value_12 * 3.25 + sum_conversion_value_13 * 3.75 +\n",
    "           sum_conversion_value_14 * 4.25 + sum_conversion_value_15 * 4.75 +\n",
    "           sum_conversion_value_16 * 5.25 + sum_conversion_value_17 * 5.75 + sum_conversion_value_18 * 6.25 +\n",
    "           sum_conversion_value_19 * 6.75 + sum_conversion_value_20 * 7.25 +\n",
    "           sum_conversion_value_21 * 7.75 + sum_conversion_value_22 * 8.25 + sum_conversion_value_23 * 8.75 +\n",
    "           sum_conversion_value_24 * 9.25 + sum_conversion_value_25 * 9.75 +\n",
    "           sum_conversion_value_26 * 10.50 + sum_conversion_value_27 * 11.50 + sum_conversion_value_28 * 12.50 +\n",
    "           sum_conversion_value_29 * 13.50 + sum_conversion_value_30 * 14.50 +\n",
    "           sum_conversion_value_31 * 15.50 + sum_conversion_value_32 * 16.50 + sum_conversion_value_33 * 17.50 +\n",
    "           sum_conversion_value_34 * 18.50 + sum_conversion_value_35 * 19.50 +\n",
    "           sum_conversion_value_36 * 21.00 + sum_conversion_value_37 * 23.00 + sum_conversion_value_38 * 25.00 +\n",
    "           sum_conversion_value_39 * 27.00 + sum_conversion_value_40 * 29.00 +\n",
    "           sum_conversion_value_41 * 31.00 + sum_conversion_value_42 * 33.00 + sum_conversion_value_43 * 35.00 +\n",
    "           sum_conversion_value_44 * 37.00 + sum_conversion_value_45 * 39.00 +\n",
    "           sum_conversion_value_46 * 41.00 + sum_conversion_value_47 * 43.00 + sum_conversion_value_48 * 45.00 +\n",
    "           sum_conversion_value_49 * 47.00 + sum_conversion_value_50 * 49.00 +\n",
    "           sum_conversion_value_51 * 52.50 + sum_conversion_value_52 * 57.50 + sum_conversion_value_53 * 62.50 +\n",
    "           sum_conversion_value_54 * 67.50 + sum_conversion_value_55 * 72.50 +\n",
    "           sum_conversion_value_56 * 77.50 + sum_conversion_value_57 * 82.50 + sum_conversion_value_58 * 87.50 +\n",
    "           sum_conversion_value_59 * 92.50 + sum_conversion_value_60 * 97.50 +\n",
    "           sum_conversion_value_61 * 112.50 + sum_conversion_value_62 * 137.50 +\n",
    "           sum_conversion_value_63 * 175.00 AS sum_avg_revenue\n",
    "         , meta_date\n",
    "         , 1                                   skad\n",
    "    FROM etl__tamatem_2cn8s__vip_baloot_mlgax.skad\n",
    "    )\n",
    "\n",
    "   , no_skad AS (\n",
    "    SELECT adgroup\n",
    "         , campaign\n",
    "         , first_campaign_id_network\n",
    "         , os_name\n",
    "         , partner\n",
    "         , first_day               install_date\n",
    "         , SUM(sum_installs)       sum_noskad_installs\n",
    "         , SUM(sum_reinstalls)     sum_noskad_reinstalls\n",
    "         , SUM(sum_reattributions) sum_noskad_reattributions\n",
    "         , SUM(sum_revenue)        sum_noskad_revenue\n",
    "         , 0                       skad\n",
    "    FROM etl__tamatem_2cn8s__vip_baloot_mlgax.without_skad\n",
    "    WHERE os_name = 'ios'\n",
    "    GROUP BY adgroup\n",
    "           , campaign\n",
    "           , first_campaign_id_network\n",
    "           , os_name\n",
    "           , partner\n",
    "           , first_day\n",
    "    )\n",
    "\n",
    "   , t_out   AS (\n",
    "    SELECT adgroup\n",
    "         , campaign\n",
    "         , first_campaign_id_network\n",
    "         , partner\n",
    "         , install_date\n",
    "         , skad.sum_skad_installs\n",
    "         , skad.sum_skad_reinstalls\n",
    "         , skad.sum_skad_conversion_value_total\n",
    "         , skad.sum_avg_revenue                                                             skad_revenue\n",
    "         , skad.sum_avg_revenue * 1.0 / (skad.sum_skad_installs + skad.sum_skad_reinstalls) skad_arpu\n",
    "         , no_skad.sum_noskad_installs\n",
    "         , no_skad.sum_noskad_reinstalls\n",
    "         , no_skad.sum_noskad_revenue                                                       no_skad_revenue\n",
    "         , no_skad.sum_noskad_revenue * 1.0 /\n",
    "           (no_skad.sum_noskad_installs + no_skad.sum_noskad_reinstalls +\n",
    "            no_skad.sum_noskad_reattributions)                                              no_skad_arpu\n",
    "         , skad.skad                                                                        skad_id\n",
    "         , no_skad.skad                                                                     no_skad_id\n",
    "         , CASE\n",
    "               WHEN skad.skad = 1 AND no_skad.skad = 0 THEN 2\n",
    "               WHEN skad.skad = 1 THEN 1\n",
    "               WHEN no_skad.skad = 0 THEN 0\n",
    "               ELSE 3 END                                                                   has_skad\n",
    "    FROM skad\n",
    "         FULL JOIN no_skad\n",
    "                   USING (adgroup, campaign, first_campaign_id_network, partner, install_date)\n",
    "    )\n",
    "SELECT *\n",
    "FROM t_out;\n",
    "\"\"\")\n",
    "data = data.replace([np.inf, -np.inf], np.nan)\n",
    "data.head()"
   ]
  },
  {
   "cell_type": "code",
   "execution_count": 204,
   "id": "5702a02b-ffb6-469c-9f32-7e6dc502a10e",
   "metadata": {},
   "outputs": [
    {
     "name": "stdout",
     "output_type": "stream",
     "text": [
      "adgroup\n",
      "# of uniques: 12357\n",
      "\n",
      "campaign\n",
      "# of uniques: 152\n",
      "\n",
      "first_campaign_id_network\n",
      "# of uniques: 151\n",
      "\n"
     ]
    },
    {
     "data": {
      "text/plain": [
       "partner    \n",
       "unity_ads      314634\n",
       "apple           11556\n",
       "tiktok           3417\n",
       "adwords          2381\n",
       "snapchat         2348\n",
       "unknown          2265\n",
       "app_samurai      1354\n",
       "twitter           267\n",
       "facebook          204\n",
       "Organic           199\n",
       "speakol           179\n",
       "mintegral          64\n",
       "dtype: int64"
      ]
     },
     "metadata": {},
     "output_type": "display_data"
    },
    {
     "name": "stdout",
     "output_type": "stream",
     "text": [
      "\n",
      "install_date\n",
      "# of uniques: 211\n",
      "\n",
      "sum_skad_installs\n",
      "# of uniques: 87\n",
      "\n",
      "sum_skad_reinstalls\n",
      "# of uniques: 47\n",
      "\n",
      "sum_skad_conversion_value_total\n",
      "# of uniques: 86\n",
      "\n"
     ]
    },
    {
     "data": {
      "text/plain": [
       "skad_revenue\n",
       "0.00            1422\n",
       "1.25               6\n",
       "0.75               3\n",
       "8.25               3\n",
       "7.75               3\n",
       "4.75               2\n",
       "5.25               2\n",
       "3.25               2\n",
       "5.75               1\n",
       "7.25               1\n",
       "2.25               1\n",
       "9.00               1\n",
       "18.50              1\n",
       "27.00              1\n",
       "31.00              1\n",
       "32.25              1\n",
       "33.00              1\n",
       "52.50              1\n",
       "112.50             1\n",
       "dtype: int64"
      ]
     },
     "metadata": {},
     "output_type": "display_data"
    },
    {
     "name": "stdout",
     "output_type": "stream",
     "text": [
      "\n",
      "skad_arpu\n",
      "# of uniques: 33\n",
      "\n",
      "sum_noskad_installs\n",
      "# of uniques: 306\n",
      "\n",
      "sum_noskad_reinstalls\n",
      "# of uniques: 1\n",
      "\n",
      "no_skad_revenue\n",
      "# of uniques: 3344\n",
      "\n",
      "no_skad_arpu\n",
      "# of uniques: 1369\n",
      "\n",
      "skad_id\n",
      "# of uniques: 1\n",
      "\n",
      "no_skad_id\n",
      "# of uniques: 1\n",
      "\n"
     ]
    },
    {
     "data": {
      "text/plain": [
       "has_skad\n",
       "0           337414\n",
       "2              881\n",
       "1              573\n",
       "dtype: int64"
      ]
     },
     "metadata": {},
     "output_type": "display_data"
    },
    {
     "name": "stdout",
     "output_type": "stream",
     "text": [
      "\n"
     ]
    }
   ],
   "source": [
    "for i in data.columns:\n",
    "    temp_counts = data[[i]].value_counts()\n",
    "    if len(temp_counts) >= 20 or len(temp_counts) == 1:\n",
    "        print(i)\n",
    "        print(\"# of uniques:\", len(temp_counts))\n",
    "    else:\n",
    "        display(temp_counts)\n",
    "    print()"
   ]
  },
  {
   "cell_type": "markdown",
   "id": "a854eeee-b749-4919-9d81-d06894f49689",
   "metadata": {},
   "source": [
    "## Distribution Tests:"
   ]
  },
  {
   "cell_type": "markdown",
   "id": "cab2496d-8d76-4d4d-8e6a-84f534d51d36",
   "metadata": {},
   "source": [
    "### Revenue:"
   ]
  },
  {
   "cell_type": "code",
   "execution_count": 205,
   "id": "ea836b52-441d-43db-888e-9bc485bdb755",
   "metadata": {},
   "outputs": [
    {
     "data": {
      "text/plain": [
       "<AxesSubplot:title={'center':'Hist.: Distribution of revenue in SKAD table'}, ylabel='Frequency'>"
      ]
     },
     "execution_count": 205,
     "metadata": {},
     "output_type": "execute_result"
    },
    {
     "data": {
      "image/png": "[encoded data removed]",
      "text/plain": [
       "<Figure size 432x288 with 1 Axes>"
      ]
     },
     "metadata": {
      "needs_background": "light"
     },
     "output_type": "display_data"
    }
   ],
   "source": [
    "data.skad_revenue[data.skad_revenue > 0][data.skad_id == 1].plot(\n",
    "    kind = \"hist\", bins = 100, title = \"Hist.: Distribution of revenue in SKAD table\"\n",
    ")"
   ]
  },
  {
   "cell_type": "code",
   "execution_count": 206,
   "id": "17051fd3-794a-46cd-b1ce-384259c2e55e",
   "metadata": {},
   "outputs": [
    {
     "data": {
      "text/plain": [
       "<AxesSubplot:title={'center':'Hist.: Distribution of spends in without_SKAD table'}, ylabel='Frequency'>"
      ]
     },
     "execution_count": 206,
     "metadata": {},
     "output_type": "execute_result"
    },
    {
     "data": {
      "image/png": "[encoded data removed]",
      "text/plain": [
       "<Figure size 432x288 with 1 Axes>"
      ]
     },
     "metadata": {
      "needs_background": "light"
     },
     "output_type": "display_data"
    }
   ],
   "source": [
    "data.no_skad_revenue[data.no_skad_revenue > 0][data.no_skad_id == 0].plot(\n",
    "    kind = \"hist\", bins = 100, title = \"Hist.: Distribution of spends in without_SKAD table\"\n",
    ")"
   ]
  },
  {
   "cell_type": "code",
   "execution_count": 207,
   "id": "1333bb66-3b64-4ca2-8eb9-9f4e2a3ef673",
   "metadata": {},
   "outputs": [
    {
     "data": {
      "text/plain": [
       "KstestResult(statistic=0.45511732938252725, pvalue=1.5423316832574585e-06)"
      ]
     },
     "execution_count": 207,
     "metadata": {},
     "output_type": "execute_result"
    }
   ],
   "source": [
    "stats.kstest(data.skad_revenue[data.skad_revenue > 0], data.no_skad_revenue[data.no_skad_revenue > 0])"
   ]
  },
  {
   "cell_type": "code",
   "execution_count": 208,
   "id": "1520ef3b-8c0f-4cf2-95ca-9820739c3d3e",
   "metadata": {},
   "outputs": [
    {
     "data": {
      "text/plain": [
       "KstestResult(statistic=0.006512901404817639, pvalue=0.999999963486704)"
      ]
     },
     "execution_count": 208,
     "metadata": {},
     "output_type": "execute_result"
    }
   ],
   "source": [
    "stats.kstest(data.skad_revenue[data.skad_id == 1], data.no_skad_revenue[data.no_skad_id == 0])"
   ]
  },
  {
   "cell_type": "markdown",
   "id": "4cb5477a-a45c-4983-87cd-459955e1fa30",
   "metadata": {},
   "source": [
    "### ARPU:"
   ]
  },
  {
   "cell_type": "code",
   "execution_count": 209,
   "id": "f5f4816a-17d6-4de6-9731-bd6740c8fd48",
   "metadata": {},
   "outputs": [
    {
     "data": {
      "text/plain": [
       "<AxesSubplot:title={'center':'Hist.: Distribution of ARPU in SKAD table'}, ylabel='Frequency'>"
      ]
     },
     "execution_count": 209,
     "metadata": {},
     "output_type": "execute_result"
    },
    {
     "data": {
      "image/png": "[encoded data removed]",
      "text/plain": [
       "<Figure size 432x288 with 1 Axes>"
      ]
     },
     "metadata": {
      "needs_background": "light"
     },
     "output_type": "display_data"
    }
   ],
   "source": [
    "data.skad_arpu[data.skad_arpu > 0][data.skad_id == 1].plot(\n",
    "    kind = \"hist\", bins = 100, title = \"Hist.: Distribution of ARPU in SKAD table\"\n",
    ")"
   ]
  },
  {
   "cell_type": "code",
   "execution_count": 210,
   "id": "fc8ad239-ac13-4737-92d3-4ac327083ca6",
   "metadata": {},
   "outputs": [
    {
     "data": {
      "text/plain": [
       "<AxesSubplot:title={'center':'Hist.: Distribution of ARPU in without_SKAD table'}, ylabel='Frequency'>"
      ]
     },
     "execution_count": 210,
     "metadata": {},
     "output_type": "execute_result"
    },
    {
     "data": {
      "image/png": "[encoded data removed]",
      "text/plain": [
       "<Figure size 432x288 with 1 Axes>"
      ]
     },
     "metadata": {
      "needs_background": "light"
     },
     "output_type": "display_data"
    }
   ],
   "source": [
    "data.no_skad_arpu[data.no_skad_arpu > 0][data.no_skad_id == 0].plot(\n",
    "    kind = \"hist\", bins = 100, title = \"Hist.: Distribution of ARPU in without_SKAD table\"\n",
    ")"
   ]
  },
  {
   "cell_type": "code",
   "execution_count": 211,
   "id": "ce433bd9-dcbe-42fb-b7cf-983698d45a37",
   "metadata": {},
   "outputs": [
    {
     "data": {
      "text/plain": [
       "KstestResult(statistic=0.7349439775910365, pvalue=1.1102230246251565e-16)"
      ]
     },
     "execution_count": 211,
     "metadata": {},
     "output_type": "execute_result"
    }
   ],
   "source": [
    "stats.kstest(data.skad_arpu[data.skad_arpu > 0], data.no_skad_arpu[data.no_skad_arpu > 0])"
   ]
  },
  {
   "cell_type": "code",
   "execution_count": 212,
   "id": "36dd0e3a-7bf6-472f-ab02-5d7b1bc82648",
   "metadata": {},
   "outputs": [
    {
     "data": {
      "text/plain": [
       "KstestResult(statistic=0.9748355867343749, pvalue=0.0)"
      ]
     },
     "execution_count": 212,
     "metadata": {},
     "output_type": "execute_result"
    }
   ],
   "source": [
    "stats.kstest(data.skad_arpu[data.skad_id == 1], data.no_skad_arpu[data.no_skad_id == 0])"
   ]
  },
  {
   "cell_type": "markdown",
   "id": "3ce7eeb1-2b87-402d-8bce-1c1793801d71",
   "metadata": {},
   "source": [
    "## Mean of all tests:"
   ]
  },
  {
   "cell_type": "code",
   "execution_count": 213,
   "id": "8b733f27-117c-458e-a4cc-00e38e6e7f6b",
   "metadata": {},
   "outputs": [
    {
     "data": {
      "text/html": [
       "<div>\n",
       "<style scoped>\n",
       "    .dataframe tbody tr th:only-of-type {\n",
       "        vertical-align: middle;\n",
       "    }\n",
       "\n",
       "    .dataframe tbody tr th {\n",
       "        vertical-align: top;\n",
       "    }\n",
       "\n",
       "    .dataframe thead th {\n",
       "        text-align: right;\n",
       "    }\n",
       "</style>\n",
       "<table border=\"1\" class=\"dataframe\">\n",
       "  <thead>\n",
       "    <tr style=\"text-align: right;\">\n",
       "      <th></th>\n",
       "      <th>adgroup</th>\n",
       "      <th>campaign</th>\n",
       "      <th>first_campaign_id_network</th>\n",
       "      <th>partner</th>\n",
       "      <th>install_date</th>\n",
       "      <th>sum_skad_installs</th>\n",
       "      <th>sum_skad_reinstalls</th>\n",
       "      <th>sum_skad_conversion_value_total</th>\n",
       "      <th>skad_revenue</th>\n",
       "      <th>skad_arpu</th>\n",
       "      <th>sum_noskad_installs</th>\n",
       "      <th>sum_noskad_reinstalls</th>\n",
       "      <th>no_skad_revenue</th>\n",
       "      <th>no_skad_arpu</th>\n",
       "      <th>skad_id</th>\n",
       "      <th>no_skad_id</th>\n",
       "      <th>has_skad</th>\n",
       "    </tr>\n",
       "  </thead>\n",
       "  <tbody>\n",
       "    <tr>\n",
       "      <th>0</th>\n",
       "      <td>21-99_MAI_M_SA-KW (4d8baf88-cfad-4771-a17e-a7f...</td>\n",
       "      <td>BAL_SC_UA_I_SKAD_SA-KW_MAI (1ecb9265-7bb8-4f39...</td>\n",
       "      <td>1ecb9265-7bb8-4f39-902c-44cc17bffe61</td>\n",
       "      <td>snapchat</td>\n",
       "      <td>2022-09-12</td>\n",
       "      <td>21</td>\n",
       "      <td>0</td>\n",
       "      <td>16</td>\n",
       "      <td>0.0</td>\n",
       "      <td>0.0</td>\n",
       "      <td>3</td>\n",
       "      <td>0</td>\n",
       "      <td>0.0</td>\n",
       "      <td>0.0</td>\n",
       "      <td>1</td>\n",
       "      <td>0</td>\n",
       "      <td>2</td>\n",
       "    </tr>\n",
       "    <tr>\n",
       "      <th>1</th>\n",
       "      <td>13-99_MAI_Both_AdsClick_SA-KW (1729076323756081)</td>\n",
       "      <td>BAL_TT_UA_I_SKAD_SA-KW_AdEngagers (17290761920...</td>\n",
       "      <td>1729076192068641</td>\n",
       "      <td>tiktok</td>\n",
       "      <td>2022-08-16</td>\n",
       "      <td>8</td>\n",
       "      <td>9</td>\n",
       "      <td>9</td>\n",
       "      <td>0.0</td>\n",
       "      <td>0.0</td>\n",
       "      <td>5</td>\n",
       "      <td>0</td>\n",
       "      <td>0.0</td>\n",
       "      <td>0.0</td>\n",
       "      <td>1</td>\n",
       "      <td>0</td>\n",
       "      <td>2</td>\n",
       "    </tr>\n",
       "    <tr>\n",
       "      <th>2</th>\n",
       "      <td>1899_MAI_M_BROAD_SA-KW (1729998279267377)</td>\n",
       "      <td>BAL_TT_UA_I_SKAD_SA-KW_MAI (1729998279267345)</td>\n",
       "      <td>1729998279267345</td>\n",
       "      <td>tiktok</td>\n",
       "      <td>2022-07-30</td>\n",
       "      <td>1</td>\n",
       "      <td>2</td>\n",
       "      <td>0</td>\n",
       "      <td>0.0</td>\n",
       "      <td>0.0</td>\n",
       "      <td>0</td>\n",
       "      <td>0</td>\n",
       "      <td>0.0</td>\n",
       "      <td>NaN</td>\n",
       "      <td>1</td>\n",
       "      <td>0</td>\n",
       "      <td>2</td>\n",
       "    </tr>\n",
       "    <tr>\n",
       "      <th>5</th>\n",
       "      <td>2599_AEO_M_BROAD_SA_LVL4 (1750100159825937)</td>\n",
       "      <td>BAL_TT_UA_I_SA_AEO (1750100159430705)</td>\n",
       "      <td>1750100159430705</td>\n",
       "      <td>tiktok</td>\n",
       "      <td>2022-12-27</td>\n",
       "      <td>1</td>\n",
       "      <td>1</td>\n",
       "      <td>0</td>\n",
       "      <td>0.0</td>\n",
       "      <td>0.0</td>\n",
       "      <td>&lt;NA&gt;</td>\n",
       "      <td>&lt;NA&gt;</td>\n",
       "      <td>NaN</td>\n",
       "      <td>NaN</td>\n",
       "      <td>1</td>\n",
       "      <td>0</td>\n",
       "      <td>2</td>\n",
       "    </tr>\n",
       "    <tr>\n",
       "      <th>6</th>\n",
       "      <td>21-99_MAI_M_SA-KW (4d8baf88-cfad-4771-a17e-a7f...</td>\n",
       "      <td>BAL_SC_UA_I_SKAD_SA-KW_MAI (1ecb9265-7bb8-4f39...</td>\n",
       "      <td>1ecb9265-7bb8-4f39-902c-44cc17bffe61</td>\n",
       "      <td>snapchat</td>\n",
       "      <td>2022-08-11</td>\n",
       "      <td>29</td>\n",
       "      <td>0</td>\n",
       "      <td>24</td>\n",
       "      <td>0.0</td>\n",
       "      <td>0.0</td>\n",
       "      <td>1</td>\n",
       "      <td>0</td>\n",
       "      <td>0.0</td>\n",
       "      <td>0.0</td>\n",
       "      <td>1</td>\n",
       "      <td>0</td>\n",
       "      <td>2</td>\n",
       "    </tr>\n",
       "  </tbody>\n",
       "</table>\n",
       "</div>"
      ],
      "text/plain": [
       "                                             adgroup  \\\n",
       "0  21-99_MAI_M_SA-KW (4d8baf88-cfad-4771-a17e-a7f...   \n",
       "1   13-99_MAI_Both_AdsClick_SA-KW (1729076323756081)   \n",
       "2          1899_MAI_M_BROAD_SA-KW (1729998279267377)   \n",
       "5        2599_AEO_M_BROAD_SA_LVL4 (1750100159825937)   \n",
       "6  21-99_MAI_M_SA-KW (4d8baf88-cfad-4771-a17e-a7f...   \n",
       "\n",
       "                                            campaign  \\\n",
       "0  BAL_SC_UA_I_SKAD_SA-KW_MAI (1ecb9265-7bb8-4f39...   \n",
       "1  BAL_TT_UA_I_SKAD_SA-KW_AdEngagers (17290761920...   \n",
       "2      BAL_TT_UA_I_SKAD_SA-KW_MAI (1729998279267345)   \n",
       "5              BAL_TT_UA_I_SA_AEO (1750100159430705)   \n",
       "6  BAL_SC_UA_I_SKAD_SA-KW_MAI (1ecb9265-7bb8-4f39...   \n",
       "\n",
       "              first_campaign_id_network   partner install_date  \\\n",
       "0  1ecb9265-7bb8-4f39-902c-44cc17bffe61  snapchat   2022-09-12   \n",
       "1                      1729076192068641    tiktok   2022-08-16   \n",
       "2                      1729998279267345    tiktok   2022-07-30   \n",
       "5                      1750100159430705    tiktok   2022-12-27   \n",
       "6  1ecb9265-7bb8-4f39-902c-44cc17bffe61  snapchat   2022-08-11   \n",
       "\n",
       "   sum_skad_installs  sum_skad_reinstalls  sum_skad_conversion_value_total  \\\n",
       "0                 21                    0                               16   \n",
       "1                  8                    9                                9   \n",
       "2                  1                    2                                0   \n",
       "5                  1                    1                                0   \n",
       "6                 29                    0                               24   \n",
       "\n",
       "   skad_revenue  skad_arpu  sum_noskad_installs  sum_noskad_reinstalls  \\\n",
       "0           0.0        0.0                    3                      0   \n",
       "1           0.0        0.0                    5                      0   \n",
       "2           0.0        0.0                    0                      0   \n",
       "5           0.0        0.0                 <NA>                   <NA>   \n",
       "6           0.0        0.0                    1                      0   \n",
       "\n",
       "   no_skad_revenue  no_skad_arpu  skad_id  no_skad_id  has_skad  \n",
       "0              0.0           0.0        1           0         2  \n",
       "1              0.0           0.0        1           0         2  \n",
       "2              0.0           NaN        1           0         2  \n",
       "5              NaN           NaN        1           0         2  \n",
       "6              0.0           0.0        1           0         2  "
      ]
     },
     "execution_count": 213,
     "metadata": {},
     "output_type": "execute_result"
    }
   ],
   "source": [
    "data2 = data[data.has_skad == 2]\n",
    "data2.head()"
   ]
  },
  {
   "cell_type": "markdown",
   "id": "40c8477d-7997-4c24-bcae-6b166e6ce842",
   "metadata": {},
   "source": [
    "### Revenue:"
   ]
  },
  {
   "cell_type": "code",
   "execution_count": 214,
   "id": "041c0e14-37b8-4b9a-ab76-de151f4cb2f7",
   "metadata": {},
   "outputs": [
    {
     "data": {
      "text/plain": [
       "<AxesSubplot:ylabel='Frequency'>"
      ]
     },
     "execution_count": 214,
     "metadata": {},
     "output_type": "execute_result"
    },
    {
     "data": {
      "image/png": "[encoded data removed]",
      "text/plain": [
       "<Figure size 432x288 with 1 Axes>"
      ]
     },
     "metadata": {
      "needs_background": "light"
     },
     "output_type": "display_data"
    }
   ],
   "source": [
    "temp_data = data2.skad_revenue - data2.no_skad_revenue\n",
    "temp_data.plot(kind = \"hist\", bins = 100)"
   ]
  },
  {
   "cell_type": "code",
   "execution_count": 215,
   "id": "e6ac1931-d5b4-447e-aa50-1275122bcb27",
   "metadata": {},
   "outputs": [
    {
     "data": {
      "text/plain": [
       "Ttest_1sampResult(statistic=-1.4321308159443455, pvalue=0.15246597164761017)"
      ]
     },
     "execution_count": 215,
     "metadata": {},
     "output_type": "execute_result"
    }
   ],
   "source": [
    "stats.ttest_1samp(temp_data.dropna().to_numpy(), popmean = 0)"
   ]
  },
  {
   "cell_type": "markdown",
   "id": "0a0914e6-134d-481c-8f0d-aef979a8cecb",
   "metadata": {},
   "source": [
    "### ARPU:"
   ]
  },
  {
   "cell_type": "code",
   "execution_count": 216,
   "id": "eb12fb8a-06b0-4c2d-b272-b4704a9a073d",
   "metadata": {},
   "outputs": [
    {
     "data": {
      "text/plain": [
       "<AxesSubplot:ylabel='Frequency'>"
      ]
     },
     "execution_count": 216,
     "metadata": {},
     "output_type": "execute_result"
    },
    {
     "data": {
      "image/png": "[encoded data removed]",
      "text/plain": [
       "<Figure size 432x288 with 1 Axes>"
      ]
     },
     "metadata": {
      "needs_background": "light"
     },
     "output_type": "display_data"
    }
   ],
   "source": [
    "temp_data = data2.skad_arpu - data2.no_skad_arpu\n",
    "temp_data.plot(kind = \"hist\", bins = 100)"
   ]
  },
  {
   "cell_type": "code",
   "execution_count": 217,
   "id": "54c162cb-53ad-42f0-98fc-65dadf0ba5d4",
   "metadata": {},
   "outputs": [
    {
     "data": {
      "text/plain": [
       "Ttest_1sampResult(statistic=-1.2680088750731284, pvalue=0.20531612486067308)"
      ]
     },
     "execution_count": 217,
     "metadata": {},
     "output_type": "execute_result"
    }
   ],
   "source": [
    "stats.ttest_1samp(temp_data.dropna().to_numpy(), popmean = 0)"
   ]
  },
  {
   "cell_type": "markdown",
   "id": "813e8167-f960-428a-a353-0cafe693a12e",
   "metadata": {},
   "source": [
    "## Mean of non-zero tests:"
   ]
  },
  {
   "cell_type": "code",
   "execution_count": 218,
   "id": "ff4ca93f-38e7-4d5b-b8e8-a0d221bd653a",
   "metadata": {},
   "outputs": [
    {
     "data": {
      "text/html": [
       "<div>\n",
       "<style scoped>\n",
       "    .dataframe tbody tr th:only-of-type {\n",
       "        vertical-align: middle;\n",
       "    }\n",
       "\n",
       "    .dataframe tbody tr th {\n",
       "        vertical-align: top;\n",
       "    }\n",
       "\n",
       "    .dataframe thead th {\n",
       "        text-align: right;\n",
       "    }\n",
       "</style>\n",
       "<table border=\"1\" class=\"dataframe\">\n",
       "  <thead>\n",
       "    <tr style=\"text-align: right;\">\n",
       "      <th></th>\n",
       "      <th>adgroup</th>\n",
       "      <th>campaign</th>\n",
       "      <th>first_campaign_id_network</th>\n",
       "      <th>partner</th>\n",
       "      <th>install_date</th>\n",
       "      <th>sum_skad_installs</th>\n",
       "      <th>sum_skad_reinstalls</th>\n",
       "      <th>sum_skad_conversion_value_total</th>\n",
       "      <th>skad_revenue</th>\n",
       "      <th>skad_arpu</th>\n",
       "      <th>sum_noskad_installs</th>\n",
       "      <th>sum_noskad_reinstalls</th>\n",
       "      <th>no_skad_revenue</th>\n",
       "      <th>no_skad_arpu</th>\n",
       "      <th>skad_id</th>\n",
       "      <th>no_skad_id</th>\n",
       "      <th>has_skad</th>\n",
       "    </tr>\n",
       "  </thead>\n",
       "  <tbody>\n",
       "    <tr>\n",
       "      <th>30</th>\n",
       "      <td>2599_AEO_M_BROAD_SA-KW_ACO (1743759441536033)</td>\n",
       "      <td>BAL_TT_UA_I_SA-KW_AEO_new (1743759431029809)</td>\n",
       "      <td>1743759431029809</td>\n",
       "      <td>tiktok</td>\n",
       "      <td>2022-10-09</td>\n",
       "      <td>19</td>\n",
       "      <td>18</td>\n",
       "      <td>36</td>\n",
       "      <td>0.00</td>\n",
       "      <td>0.000000</td>\n",
       "      <td>10</td>\n",
       "      <td>0</td>\n",
       "      <td>2.990</td>\n",
       "      <td>0.299000</td>\n",
       "      <td>1</td>\n",
       "      <td>0</td>\n",
       "      <td>2</td>\n",
       "    </tr>\n",
       "    <tr>\n",
       "      <th>47</th>\n",
       "      <td>21-99_MAI_M_SA-KW (4d8baf88-cfad-4771-a17e-a7f...</td>\n",
       "      <td>BAL_SC_UA_I_SKAD_SA-KW_MAI (1ecb9265-7bb8-4f39...</td>\n",
       "      <td>1ecb9265-7bb8-4f39-902c-44cc17bffe61</td>\n",
       "      <td>snapchat</td>\n",
       "      <td>2022-07-07</td>\n",
       "      <td>49</td>\n",
       "      <td>0</td>\n",
       "      <td>38</td>\n",
       "      <td>5.25</td>\n",
       "      <td>0.107143</td>\n",
       "      <td>9</td>\n",
       "      <td>0</td>\n",
       "      <td>0.000</td>\n",
       "      <td>0.000000</td>\n",
       "      <td>1</td>\n",
       "      <td>0</td>\n",
       "      <td>2</td>\n",
       "    </tr>\n",
       "    <tr>\n",
       "      <th>56</th>\n",
       "      <td>2599_AEO_M_BROAD_SA_LVL4 (1750100159825937)</td>\n",
       "      <td>BAL_TT_UA_I_SA_AEO (1750100159430705)</td>\n",
       "      <td>1750100159430705</td>\n",
       "      <td>tiktok</td>\n",
       "      <td>2022-12-04</td>\n",
       "      <td>47</td>\n",
       "      <td>23</td>\n",
       "      <td>67</td>\n",
       "      <td>0.00</td>\n",
       "      <td>0.000000</td>\n",
       "      <td>16</td>\n",
       "      <td>0</td>\n",
       "      <td>1.061</td>\n",
       "      <td>0.044208</td>\n",
       "      <td>1</td>\n",
       "      <td>0</td>\n",
       "      <td>2</td>\n",
       "    </tr>\n",
       "    <tr>\n",
       "      <th>15716</th>\n",
       "      <td>1899_AEO_M_BROAD_KW_ACO (1738681892470834)</td>\n",
       "      <td>BAL_TT_UA_I_SA-KW_AEO (1738681647508514)</td>\n",
       "      <td>1738681647508514</td>\n",
       "      <td>tiktok</td>\n",
       "      <td>2022-07-30</td>\n",
       "      <td>9</td>\n",
       "      <td>3</td>\n",
       "      <td>11</td>\n",
       "      <td>0.00</td>\n",
       "      <td>0.000000</td>\n",
       "      <td>13</td>\n",
       "      <td>0</td>\n",
       "      <td>3.990</td>\n",
       "      <td>0.266000</td>\n",
       "      <td>1</td>\n",
       "      <td>0</td>\n",
       "      <td>2</td>\n",
       "    </tr>\n",
       "    <tr>\n",
       "      <th>15721</th>\n",
       "      <td>1899_AEO_M_BROAD_KW_ACO (1738681892470834)</td>\n",
       "      <td>BAL_TT_UA_I_SA-KW_AEO (1738681647508514)</td>\n",
       "      <td>1738681647508514</td>\n",
       "      <td>tiktok</td>\n",
       "      <td>2022-09-17</td>\n",
       "      <td>1</td>\n",
       "      <td>0</td>\n",
       "      <td>1</td>\n",
       "      <td>0.00</td>\n",
       "      <td>0.000000</td>\n",
       "      <td>0</td>\n",
       "      <td>0</td>\n",
       "      <td>1.990</td>\n",
       "      <td>NaN</td>\n",
       "      <td>1</td>\n",
       "      <td>0</td>\n",
       "      <td>2</td>\n",
       "    </tr>\n",
       "  </tbody>\n",
       "</table>\n",
       "</div>"
      ],
      "text/plain": [
       "                                                 adgroup  \\\n",
       "30         2599_AEO_M_BROAD_SA-KW_ACO (1743759441536033)   \n",
       "47     21-99_MAI_M_SA-KW (4d8baf88-cfad-4771-a17e-a7f...   \n",
       "56           2599_AEO_M_BROAD_SA_LVL4 (1750100159825937)   \n",
       "15716         1899_AEO_M_BROAD_KW_ACO (1738681892470834)   \n",
       "15721         1899_AEO_M_BROAD_KW_ACO (1738681892470834)   \n",
       "\n",
       "                                                campaign  \\\n",
       "30          BAL_TT_UA_I_SA-KW_AEO_new (1743759431029809)   \n",
       "47     BAL_SC_UA_I_SKAD_SA-KW_MAI (1ecb9265-7bb8-4f39...   \n",
       "56                 BAL_TT_UA_I_SA_AEO (1750100159430705)   \n",
       "15716           BAL_TT_UA_I_SA-KW_AEO (1738681647508514)   \n",
       "15721           BAL_TT_UA_I_SA-KW_AEO (1738681647508514)   \n",
       "\n",
       "                  first_campaign_id_network   partner install_date  \\\n",
       "30                         1743759431029809    tiktok   2022-10-09   \n",
       "47     1ecb9265-7bb8-4f39-902c-44cc17bffe61  snapchat   2022-07-07   \n",
       "56                         1750100159430705    tiktok   2022-12-04   \n",
       "15716                      1738681647508514    tiktok   2022-07-30   \n",
       "15721                      1738681647508514    tiktok   2022-09-17   \n",
       "\n",
       "       sum_skad_installs  sum_skad_reinstalls  \\\n",
       "30                    19                   18   \n",
       "47                    49                    0   \n",
       "56                    47                   23   \n",
       "15716                  9                    3   \n",
       "15721                  1                    0   \n",
       "\n",
       "       sum_skad_conversion_value_total  skad_revenue  skad_arpu  \\\n",
       "30                                  36          0.00   0.000000   \n",
       "47                                  38          5.25   0.107143   \n",
       "56                                  67          0.00   0.000000   \n",
       "15716                               11          0.00   0.000000   \n",
       "15721                                1          0.00   0.000000   \n",
       "\n",
       "       sum_noskad_installs  sum_noskad_reinstalls  no_skad_revenue  \\\n",
       "30                      10                      0            2.990   \n",
       "47                       9                      0            0.000   \n",
       "56                      16                      0            1.061   \n",
       "15716                   13                      0            3.990   \n",
       "15721                    0                      0            1.990   \n",
       "\n",
       "       no_skad_arpu  skad_id  no_skad_id  has_skad  \n",
       "30         0.299000        1           0         2  \n",
       "47         0.000000        1           0         2  \n",
       "56         0.044208        1           0         2  \n",
       "15716      0.266000        1           0         2  \n",
       "15721           NaN        1           0         2  "
      ]
     },
     "execution_count": 218,
     "metadata": {},
     "output_type": "execute_result"
    }
   ],
   "source": [
    "data3 = data2[(data2.skad_revenue > 0) | (data2.no_skad_revenue > 0)]\n",
    "data3.head()"
   ]
  },
  {
   "cell_type": "markdown",
   "id": "9a4698e5-75a0-4704-9d23-67835294b4a0",
   "metadata": {},
   "source": [
    "### Revenue:"
   ]
  },
  {
   "cell_type": "code",
   "execution_count": 219,
   "id": "662ca1d4-5975-40d8-bfe6-8f5d4f948a39",
   "metadata": {},
   "outputs": [
    {
     "data": {
      "text/plain": [
       "<AxesSubplot:ylabel='Frequency'>"
      ]
     },
     "execution_count": 219,
     "metadata": {},
     "output_type": "execute_result"
    },
    {
     "data": {
      "image/png": "[encoded data removed]",
      "text/plain": [
       "<Figure size 432x288 with 1 Axes>"
      ]
     },
     "metadata": {
      "needs_background": "light"
     },
     "output_type": "display_data"
    }
   ],
   "source": [
    "temp_data = data3.skad_revenue - data3.no_skad_revenue\n",
    "temp_data.plot(kind = \"hist\", bins = 100)"
   ]
  },
  {
   "cell_type": "code",
   "execution_count": 220,
   "id": "141532df-36cc-4cc2-82e0-93a8e27433b4",
   "metadata": {},
   "outputs": [
    {
     "data": {
      "text/plain": [
       "Ttest_1sampResult(statistic=-1.442430519968758, pvalue=0.15377134650830154)"
      ]
     },
     "execution_count": 220,
     "metadata": {},
     "output_type": "execute_result"
    }
   ],
   "source": [
    "stats.ttest_1samp(temp_data.dropna().to_numpy(), popmean = 0)"
   ]
  },
  {
   "cell_type": "markdown",
   "id": "0505594d-58a8-4e44-b873-bd7e46ff3822",
   "metadata": {},
   "source": [
    "### ARPU:"
   ]
  },
  {
   "cell_type": "code",
   "execution_count": 221,
   "id": "3c8c28de-ab3f-4305-90ef-e1ceca229408",
   "metadata": {},
   "outputs": [
    {
     "data": {
      "text/plain": [
       "<AxesSubplot:ylabel='Frequency'>"
      ]
     },
     "execution_count": 221,
     "metadata": {},
     "output_type": "execute_result"
    },
    {
     "data": {
      "image/png": "[encoded data removed]",
      "text/plain": [
       "<Figure size 432x288 with 1 Axes>"
      ]
     },
     "metadata": {
      "needs_background": "light"
     },
     "output_type": "display_data"
    }
   ],
   "source": [
    "temp_data = data3.skad_arpu - data3.no_skad_arpu\n",
    "temp_data.plot(kind = \"hist\", bins = 100)"
   ]
  },
  {
   "cell_type": "code",
   "execution_count": 222,
   "id": "62f8d2d8-188e-4962-a7a9-b16e6e7cefab",
   "metadata": {},
   "outputs": [
    {
     "data": {
      "text/plain": [
       "Ttest_1sampResult(statistic=-1.2750818946565325, pvalue=0.20817344569381446)"
      ]
     },
     "execution_count": 222,
     "metadata": {},
     "output_type": "execute_result"
    }
   ],
   "source": [
    "stats.ttest_1samp(temp_data.dropna().to_numpy(), popmean = 0)"
   ]
  },
  {
   "cell_type": "code",
   "execution_count": null,
   "id": "bae22427-1ecb-4185-a457-cfa83deb48ed",
   "metadata": {},
   "outputs": [],
   "source": []
  }
 ],
 "metadata": {
  "kernelspec": {
   "display_name": "Python 3 (ipykernel)",
   "language": "python",
   "name": "python3"
  },
  "language_info": {
   "codemirror_mode": {
    "name": "ipython",
    "version": 3
   },
   "file_extension": ".py",
   "mimetype": "text/x-python",
   "name": "python",
   "nbconvert_exporter": "python",
   "pygments_lexer": "ipython3",
   "version": "3.8.12"
  }
 },
 "nbformat": 4,
 "nbformat_minor": 5
}
