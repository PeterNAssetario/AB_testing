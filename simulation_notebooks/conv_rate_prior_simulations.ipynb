{
 "cells": [
  {
   "attachments": {},
   "cell_type": "markdown",
   "metadata": {},
   "source": [
    "# Imports"
   ]
  },
  {
   "cell_type": "code",
   "execution_count": 297,
   "metadata": {},
   "outputs": [],
   "source": [
    "import numpy as np\n",
    "import matplotlib.pyplot as plt\n",
    "import scipy\n",
    "import seaborn as sns\n",
    "import pandas as pd"
   ]
  },
  {
   "attachments": {},
   "cell_type": "markdown",
   "metadata": {},
   "source": [
    "# Functions"
   ]
  },
  {
   "cell_type": "code",
   "execution_count": 83,
   "metadata": {},
   "outputs": [],
   "source": [
    "def generate_spending_data(conversion_rate, mean_of_logs_of_spend, variance_of_logs_of_spend, number_of_samples):\n",
    "    \n",
    "    data_revenue = np.random.lognormal(\n",
    "        mean_of_logs_of_spend,\n",
    "        np.sqrt(variance_of_logs_of_spend),\n",
    "        number_of_samples,\n",
    "    )\n",
    "    data_all = np.random.binomial(1, conversion_rate, number_of_samples).astype(float)\n",
    "    data_all[data_all > 0] = data_revenue[data_all > 0]\n",
    "\n",
    "    return data_all\n"
   ]
  },
  {
   "attachments": {},
   "cell_type": "markdown",
   "metadata": {},
   "source": [
    "# Constants"
   ]
  },
  {
   "cell_type": "code",
   "execution_count": 3,
   "metadata": {},
   "outputs": [],
   "source": [
    "true_data_conversion_rate = 0.01\n",
    "true_mean_of_logs_of_spend = 2\n",
    "true_variance_of_logs_of_spend = 2"
   ]
  },
  {
   "cell_type": "code",
   "execution_count": 7,
   "metadata": {},
   "outputs": [
    {
     "data": {
      "text/plain": [
       "[<matplotlib.lines.Line2D at 0x16063354250>]"
      ]
     },
     "execution_count": 7,
     "metadata": {},
     "output_type": "execute_result"
    },
    {
     "data": {
      "image/png": "[encoded data removed]",
      "text/plain": [
       "<Figure size 360x360 with 1 Axes>"
      ]
     },
     "metadata": {
      "needs_background": "light"
     },
     "output_type": "display_data"
    }
   ],
   "source": [
    "fig, ax = plt.subplots(figsize=(5, 5))\n",
    "x = np.linspace(\n",
    "        scipy.stats.lognorm.ppf(0.01, np.sqrt(true_variance_of_logs_of_spend), 0, np.exp(true_mean_of_logs_of_spend)),\n",
    "        scipy.stats.lognorm.ppf(0.99, np.sqrt(true_variance_of_logs_of_spend), 0, np.exp(true_mean_of_logs_of_spend)),\n",
    "        100,\n",
    "    )\n",
    "    \n",
    "ax.plot(x, scipy.stats.lognorm.pdf(x, np.sqrt(true_variance_of_logs_of_spend), 0, np.exp(true_mean_of_logs_of_spend)),\n",
    "        \"r-\", lw=2, alpha=0.6,label=\"norm pdf\",\n",
    "    )"
   ]
  },
  {
   "attachments": {},
   "cell_type": "markdown",
   "metadata": {},
   "source": [
    "# Conversion rate priors"
   ]
  },
  {
   "cell_type": "code",
   "execution_count": 295,
   "metadata": {},
   "outputs": [],
   "source": [
    "def simulate_posterior_means(a_prior, b_prior, num_of_spending_samples):\n",
    "    posterior_means = []\n",
    "\n",
    "    for i in range(1000):\n",
    "        spends = generate_spending_data(true_data_conversion_rate, true_mean_of_logs_of_spend, true_variance_of_logs_of_spend,  num_of_spending_samples)\n",
    "        total = len(spends)\n",
    "        positives = len(spends[spends > 0])\n",
    "\n",
    "        a_post_beta = positives + a_prior\n",
    "        b_post_beta = total - positives + b_prior\n",
    "\n",
    "        posterior_mean = a_post_beta/(a_post_beta+b_post_beta)\n",
    "        posterior_means.append(posterior_mean)\n",
    "\n",
    "    posterior_means = np.array(posterior_means)\n",
    "    fig, ax = plt.subplots(figsize=(9, 6))\n",
    "    sns.histplot(posterior_means- true_data_conversion_rate)\n",
    "    print(f\"Mean of the absolute errors of the simulated posterior means: {np.mean(np.abs(posterior_means- true_data_conversion_rate))}\")\n",
    "    print(f\"Variance of the absolute errors of the simulated posterior means: {np.var(np.abs(posterior_means- true_data_conversion_rate))}\")\n",
    "    return np.mean(np.abs(posterior_means- true_data_conversion_rate))"
   ]
  },
  {
   "cell_type": "code",
   "execution_count": 299,
   "metadata": {},
   "outputs": [],
   "source": [
    "df_results = pd.DataFrame(np.zeros((4,5)))"
   ]
  },
  {
   "attachments": {},
   "cell_type": "markdown",
   "metadata": {},
   "source": [
    "### Uninformative prior"
   ]
  },
  {
   "cell_type": "code",
   "execution_count": 300,
   "metadata": {},
   "outputs": [],
   "source": [
    "a_prior = 1\n",
    "b_prior = 1"
   ]
  },
  {
   "cell_type": "code",
   "execution_count": 301,
   "metadata": {},
   "outputs": [
    {
     "name": "stdout",
     "output_type": "stream",
     "text": [
      "Mean of the distribution: 0.5\n",
      "Variance of the distribution: 0.08333333333333333\n"
     ]
    },
    {
     "data": {
      "image/png": "[encoded data removed]",
      "text/plain": [
       "<Figure size 216x216 with 1 Axes>"
      ]
     },
     "metadata": {
      "needs_background": "light"
     },
     "output_type": "display_data"
    }
   ],
   "source": [
    "fig, ax = plt.subplots(figsize=(3, 3))\n",
    "x = np.linspace(0, 1, 100)\n",
    "ax.plot(x, scipy.stats.beta.pdf(x, a_prior, b_prior), \"r-\", lw=2, alpha=0.6, label=\"norm pdf\")\n",
    "print(f\"Mean of the distribution: {a_prior/(a_prior+b_prior)}\")\n",
    "print(f\"Variance of the distribution: {(a_prior*b_prior)/((a_prior+b_prior)**2*(a_prior+b_prior+1))}\")"
   ]
  },
  {
   "cell_type": "code",
   "execution_count": 303,
   "metadata": {},
   "outputs": [
    {
     "name": "stdout",
     "output_type": "stream",
     "text": [
      "Mean of the absolute errors of the simulated posterior means: 0.002512175648702595\n",
      "Variance of the absolute errors of the simulated posterior means: 3.942239433309029e-06\n"
     ]
    },
    {
     "data": {
      "image/png": "[encoded data removed]",
      "text/plain": [
       "<Figure size 648x432 with 1 Axes>"
      ]
     },
     "metadata": {
      "needs_background": "light"
     },
     "output_type": "display_data"
    }
   ],
   "source": [
    "df_results.iloc[0,0] = simulate_posterior_means(a_prior, b_prior, 1000)"
   ]
  },
  {
   "cell_type": "code",
   "execution_count": 304,
   "metadata": {},
   "outputs": [
    {
     "name": "stdout",
     "output_type": "stream",
     "text": [
      "Mean of the absolute errors of the simulated posterior means: 0.0007969166166766646\n",
      "Variance of the absolute errors of the simulated posterior means: 3.7104381785510506e-07\n"
     ]
    },
    {
     "data": {
      "image/png": "[encoded data removed]",
      "text/plain": [
       "<Figure size 648x432 with 1 Axes>"
      ]
     },
     "metadata": {
      "needs_background": "light"
     },
     "output_type": "display_data"
    }
   ],
   "source": [
    "df_results.iloc[1,0] = simulate_posterior_means(a_prior, b_prior, 10000)"
   ]
  },
  {
   "cell_type": "code",
   "execution_count": 305,
   "metadata": {},
   "outputs": [
    {
     "name": "stdout",
     "output_type": "stream",
     "text": [
      "Mean of the absolute errors of the simulated posterior means: 0.00025189536209275815\n",
      "Variance of the absolute errors of the simulated posterior means: 3.641841172880349e-08\n"
     ]
    },
    {
     "data": {
      "image/png": "[encoded data removed]",
      "text/plain": [
       "<Figure size 648x432 with 1 Axes>"
      ]
     },
     "metadata": {
      "needs_background": "light"
     },
     "output_type": "display_data"
    }
   ],
   "source": [
    "df_results.iloc[2,0] = simulate_posterior_means(a_prior, b_prior, 100000)"
   ]
  },
  {
   "cell_type": "code",
   "execution_count": 306,
   "metadata": {},
   "outputs": [
    {
     "name": "stdout",
     "output_type": "stream",
     "text": [
      "Mean of the absolute errors of the simulated posterior means: 7.994392011215978e-05\n",
      "Variance of the absolute errors of the simulated posterior means: 3.3879228412486803e-09\n"
     ]
    },
    {
     "data": {
      "image/png": "[encoded data removed]",
      "text/plain": [
       "<Figure size 648x432 with 1 Axes>"
      ]
     },
     "metadata": {
      "needs_background": "light"
     },
     "output_type": "display_data"
    }
   ],
   "source": [
    "df_results.iloc[3,0] = simulate_posterior_means(a_prior, b_prior, 1000000)"
   ]
  },
  {
   "attachments": {},
   "cell_type": "markdown",
   "metadata": {},
   "source": [
    "### Informative prior (correct with larger variance)"
   ]
  },
  {
   "cell_type": "code",
   "execution_count": 307,
   "metadata": {},
   "outputs": [],
   "source": [
    "a_prior = 0.01\n",
    "b_prior = 0.99"
   ]
  },
  {
   "cell_type": "code",
   "execution_count": 308,
   "metadata": {},
   "outputs": [
    {
     "name": "stdout",
     "output_type": "stream",
     "text": [
      "Mean of the distribution: 0.01\n",
      "Variance of the distribution: 0.00495\n"
     ]
    },
    {
     "data": {
      "image/png": "[encoded data removed]",
      "text/plain": [
       "<Figure size 216x216 with 1 Axes>"
      ]
     },
     "metadata": {
      "needs_background": "light"
     },
     "output_type": "display_data"
    }
   ],
   "source": [
    "fig, ax = plt.subplots(figsize=(3, 3))\n",
    "x = np.linspace(0, 1, 100)\n",
    "ax.plot(x, scipy.stats.beta.pdf(x, a_prior, b_prior), \"r-\", lw=2, alpha=0.6, label=\"norm pdf\")\n",
    "print(f\"Mean of the distribution: {a_prior/(a_prior+b_prior)}\")\n",
    "print(f\"Variance of the distribution: {(a_prior*b_prior)/((a_prior+b_prior)**2*(a_prior+b_prior+1))}\")"
   ]
  },
  {
   "cell_type": "code",
   "execution_count": 309,
   "metadata": {},
   "outputs": [
    {
     "name": "stdout",
     "output_type": "stream",
     "text": [
      "Mean of the absolute errors of the simulated posterior means: 0.002464535464535465\n",
      "Variance of the absolute errors of the simulated posterior means: 3.58773194837131e-06\n"
     ]
    },
    {
     "data": {
      "image/png": "[encoded data removed]",
      "text/plain": [
       "<Figure size 648x432 with 1 Axes>"
      ]
     },
     "metadata": {
      "needs_background": "light"
     },
     "output_type": "display_data"
    }
   ],
   "source": [
    "df_results.iloc[0,1] = simulate_posterior_means(a_prior, b_prior, 1000)"
   ]
  },
  {
   "cell_type": "code",
   "execution_count": 310,
   "metadata": {},
   "outputs": [
    {
     "name": "stdout",
     "output_type": "stream",
     "text": [
      "Mean of the absolute errors of the simulated posterior means: 0.0008326167383261675\n",
      "Variance of the absolute errors of the simulated posterior means: 4.016603739086145e-07\n"
     ]
    },
    {
     "data": {
      "image/png": "[encoded data removed]",
      "text/plain": [
       "<Figure size 648x432 with 1 Axes>"
      ]
     },
     "metadata": {
      "needs_background": "light"
     },
     "output_type": "display_data"
    }
   ],
   "source": [
    "df_results.iloc[1,1] = simulate_posterior_means(a_prior, b_prior, 10000)"
   ]
  },
  {
   "cell_type": "code",
   "execution_count": 311,
   "metadata": {},
   "outputs": [
    {
     "name": "stdout",
     "output_type": "stream",
     "text": [
      "Mean of the absolute errors of the simulated posterior means: 0.0002459575404245958\n",
      "Variance of the absolute errors of the simulated posterior means: 3.654814743339651e-08\n"
     ]
    },
    {
     "data": {
      "image/png": "[encoded data removed]",
      "text/plain": [
       "<Figure size 648x432 with 1 Axes>"
      ]
     },
     "metadata": {
      "needs_background": "light"
     },
     "output_type": "display_data"
    }
   ],
   "source": [
    "df_results.iloc[2,1] = simulate_posterior_means(a_prior, b_prior, 100000)"
   ]
  },
  {
   "cell_type": "code",
   "execution_count": 312,
   "metadata": {},
   "outputs": [
    {
     "name": "stdout",
     "output_type": "stream",
     "text": [
      "Mean of the absolute errors of the simulated posterior means: 7.968892031107964e-05\n",
      "Variance of the absolute errors of the simulated posterior means: 3.8152866484228885e-09\n"
     ]
    },
    {
     "data": {
      "image/png": "[encoded data removed]",
      "text/plain": [
       "<Figure size 648x432 with 1 Axes>"
      ]
     },
     "metadata": {
      "needs_background": "light"
     },
     "output_type": "display_data"
    }
   ],
   "source": [
    "df_results.iloc[3,1] = simulate_posterior_means(a_prior, b_prior, 1000000)"
   ]
  },
  {
   "attachments": {},
   "cell_type": "markdown",
   "metadata": {},
   "source": [
    "### Informative prior (correct with smaller variance)"
   ]
  },
  {
   "cell_type": "code",
   "execution_count": 313,
   "metadata": {},
   "outputs": [],
   "source": [
    "a_prior = 10\n",
    "b_prior = 990"
   ]
  },
  {
   "cell_type": "code",
   "execution_count": 314,
   "metadata": {},
   "outputs": [
    {
     "name": "stdout",
     "output_type": "stream",
     "text": [
      "Mean of the distribution: 0.01\n",
      "Variance of the distribution: 9.89010989010989e-06\n"
     ]
    },
    {
     "data": {
      "image/png": "[encoded data removed]",
      "text/plain": [
       "<Figure size 216x216 with 1 Axes>"
      ]
     },
     "metadata": {
      "needs_background": "light"
     },
     "output_type": "display_data"
    }
   ],
   "source": [
    "fig, ax = plt.subplots(figsize=(3, 3))\n",
    "x = np.linspace(0, 1, 100)\n",
    "ax.plot(x, scipy.stats.beta.pdf(x, a_prior, b_prior), \"r-\", lw=2, alpha=0.6, label=\"norm pdf\")\n",
    "print(f\"Mean of the distribution: {a_prior/(a_prior+b_prior)}\")\n",
    "print(f\"Variance of the distribution: {(a_prior*b_prior)/((a_prior+b_prior)**2*(a_prior+b_prior+1))}\")"
   ]
  },
  {
   "cell_type": "code",
   "execution_count": 317,
   "metadata": {},
   "outputs": [
    {
     "name": "stdout",
     "output_type": "stream",
     "text": [
      "Mean of the absolute errors of the simulated posterior means: 0.0012640000000000001\n",
      "Variance of the absolute errors of the simulated posterior means: 1.038304e-06\n"
     ]
    },
    {
     "data": {
      "image/png": "[encoded data removed]",
      "text/plain": [
       "<Figure size 648x432 with 1 Axes>"
      ]
     },
     "metadata": {
      "needs_background": "light"
     },
     "output_type": "display_data"
    }
   ],
   "source": [
    "df_results.iloc[0,2] = simulate_posterior_means(a_prior, b_prior, 1000)"
   ]
  },
  {
   "cell_type": "code",
   "execution_count": 318,
   "metadata": {},
   "outputs": [
    {
     "name": "stdout",
     "output_type": "stream",
     "text": [
      "Mean of the absolute errors of the simulated posterior means: 0.0007194545454545456\n",
      "Variance of the absolute errors of the simulated posterior means: 2.9988928925619833e-07\n"
     ]
    },
    {
     "data": {
      "image/png": "[encoded data removed]",
      "text/plain": [
       "<Figure size 648x432 with 1 Axes>"
      ]
     },
     "metadata": {
      "needs_background": "light"
     },
     "output_type": "display_data"
    }
   ],
   "source": [
    "df_results.iloc[1,2] = simulate_posterior_means(a_prior, b_prior, 10000)"
   ]
  },
  {
   "cell_type": "code",
   "execution_count": 319,
   "metadata": {},
   "outputs": [
    {
     "name": "stdout",
     "output_type": "stream",
     "text": [
      "Mean of the absolute errors of the simulated posterior means: 0.0002491584158415844\n",
      "Variance of the absolute errors of the simulated posterior means: 3.453404323105582e-08\n"
     ]
    },
    {
     "data": {
      "image/png": "[encoded data removed]",
      "text/plain": [
       "<Figure size 648x432 with 1 Axes>"
      ]
     },
     "metadata": {
      "needs_background": "light"
     },
     "output_type": "display_data"
    }
   ],
   "source": [
    "df_results.iloc[2,2] = simulate_posterior_means(a_prior, b_prior, 100000)"
   ]
  },
  {
   "cell_type": "code",
   "execution_count": 320,
   "metadata": {},
   "outputs": [
    {
     "name": "stdout",
     "output_type": "stream",
     "text": [
      "Mean of the absolute errors of the simulated posterior means: 7.659340659340664e-05\n",
      "Variance of the absolute errors of the simulated posterior means: 3.5015345294066527e-09\n"
     ]
    },
    {
     "data": {
      "image/png": "[encoded data removed]",
      "text/plain": [
       "<Figure size 648x432 with 1 Axes>"
      ]
     },
     "metadata": {
      "needs_background": "light"
     },
     "output_type": "display_data"
    }
   ],
   "source": [
    "df_results.iloc[3,2] = simulate_posterior_means(a_prior, b_prior, 1000000)"
   ]
  },
  {
   "attachments": {},
   "cell_type": "markdown",
   "metadata": {},
   "source": [
    "### Informative prior (incorrect with larger variance)"
   ]
  },
  {
   "cell_type": "code",
   "execution_count": 321,
   "metadata": {},
   "outputs": [],
   "source": [
    "a_prior = 2\n",
    "b_prior = 98"
   ]
  },
  {
   "cell_type": "code",
   "execution_count": 322,
   "metadata": {},
   "outputs": [
    {
     "name": "stdout",
     "output_type": "stream",
     "text": [
      "Mean of the distribution: 0.02\n",
      "Variance of the distribution: 0.00019405940594059405\n"
     ]
    },
    {
     "data": {
      "image/png": "[encoded data removed]",
      "text/plain": [
       "<Figure size 216x216 with 1 Axes>"
      ]
     },
     "metadata": {
      "needs_background": "light"
     },
     "output_type": "display_data"
    }
   ],
   "source": [
    "fig, ax = plt.subplots(figsize=(3, 3))\n",
    "x = np.linspace(0, 1, 100)\n",
    "ax.plot(x, scipy.stats.beta.pdf(x, a_prior, b_prior), \"r-\", lw=2, alpha=0.6, label=\"norm pdf\")\n",
    "print(f\"Mean of the distribution: {a_prior/(a_prior+b_prior)}\")\n",
    "print(f\"Variance of the distribution: {(a_prior*b_prior)/((a_prior+b_prior)**2*(a_prior+b_prior+1))}\")"
   ]
  },
  {
   "cell_type": "code",
   "execution_count": 324,
   "metadata": {},
   "outputs": [
    {
     "name": "stdout",
     "output_type": "stream",
     "text": [
      "Mean of the absolute errors of the simulated posterior means: 0.002304545454545454\n",
      "Variance of the absolute errors of the simulated posterior means: 3.5444421487603306e-06\n"
     ]
    },
    {
     "data": {
      "image/png": "[encoded data removed]",
      "text/plain": [
       "<Figure size 648x432 with 1 Axes>"
      ]
     },
     "metadata": {
      "needs_background": "light"
     },
     "output_type": "display_data"
    }
   ],
   "source": [
    "df_results.iloc[0,3] = simulate_posterior_means(a_prior, b_prior, 1000)"
   ]
  },
  {
   "cell_type": "code",
   "execution_count": 325,
   "metadata": {},
   "outputs": [
    {
     "name": "stdout",
     "output_type": "stream",
     "text": [
      "Mean of the absolute errors of the simulated posterior means: 0.0008240594059405941\n",
      "Variance of the absolute errors of the simulated posterior means: 3.5132507597294374e-07\n"
     ]
    },
    {
     "data": {
      "image/png": "[encoded data removed]",
      "text/plain": [
       "<Figure size 648x432 with 1 Axes>"
      ]
     },
     "metadata": {
      "needs_background": "light"
     },
     "output_type": "display_data"
    }
   ],
   "source": [
    "df_results.iloc[1,3] = simulate_posterior_means(a_prior, b_prior, 10000)"
   ]
  },
  {
   "cell_type": "code",
   "execution_count": 323,
   "metadata": {},
   "outputs": [
    {
     "name": "stdout",
     "output_type": "stream",
     "text": [
      "Mean of the absolute errors of the simulated posterior means: 0.0002459440559440559\n",
      "Variance of the absolute errors of the simulated posterior means: 3.343148749352546e-08\n"
     ]
    },
    {
     "data": {
      "image/png": "[encoded data removed]",
      "text/plain": [
       "<Figure size 648x432 with 1 Axes>"
      ]
     },
     "metadata": {
      "needs_background": "light"
     },
     "output_type": "display_data"
    }
   ],
   "source": [
    "df_results.iloc[2,3] = simulate_posterior_means(a_prior, b_prior, 100000)"
   ]
  },
  {
   "cell_type": "code",
   "execution_count": 326,
   "metadata": {},
   "outputs": [
    {
     "name": "stdout",
     "output_type": "stream",
     "text": [
      "Mean of the absolute errors of the simulated posterior means: 7.873912608739123e-05\n",
      "Variance of the absolute errors of the simulated posterior means: 3.76277839769268e-09\n"
     ]
    },
    {
     "data": {
      "image/png": "[encoded data removed]",
      "text/plain": [
       "<Figure size 648x432 with 1 Axes>"
      ]
     },
     "metadata": {
      "needs_background": "light"
     },
     "output_type": "display_data"
    }
   ],
   "source": [
    "df_results.iloc[3,3] = simulate_posterior_means(a_prior, b_prior, 1000000)"
   ]
  },
  {
   "attachments": {},
   "cell_type": "markdown",
   "metadata": {},
   "source": [
    "### Informative prior (incorrect with smaller variance)"
   ]
  },
  {
   "cell_type": "code",
   "execution_count": 327,
   "metadata": {},
   "outputs": [],
   "source": [
    "a_prior = 20\n",
    "b_prior = 980"
   ]
  },
  {
   "cell_type": "code",
   "execution_count": 328,
   "metadata": {},
   "outputs": [
    {
     "name": "stdout",
     "output_type": "stream",
     "text": [
      "Mean of the distribution: 0.02\n",
      "Variance of the distribution: 1.958041958041958e-05\n"
     ]
    },
    {
     "data": {
      "image/png": "[encoded data removed]",
      "text/plain": [
       "<Figure size 216x216 with 1 Axes>"
      ]
     },
     "metadata": {
      "needs_background": "light"
     },
     "output_type": "display_data"
    }
   ],
   "source": [
    "fig, ax = plt.subplots(figsize=(3, 3))\n",
    "x = np.linspace(0, 1, 100)\n",
    "ax.plot(x, scipy.stats.beta.pdf(x, a_prior, b_prior), \"r-\", lw=2, alpha=0.6, label=\"norm pdf\")\n",
    "print(f\"Mean of the distribution: {a_prior/(a_prior+b_prior)}\")\n",
    "print(f\"Variance of the distribution: {(a_prior*b_prior)/((a_prior+b_prior)**2*(a_prior+b_prior+1))}\")"
   ]
  },
  {
   "cell_type": "code",
   "execution_count": 329,
   "metadata": {},
   "outputs": [
    {
     "name": "stdout",
     "output_type": "stream",
     "text": [
      "Mean of the absolute errors of the simulated posterior means: 0.005008000000000001\n",
      "Variance of the absolute errors of the simulated posterior means: 2.4034360000000003e-06\n"
     ]
    },
    {
     "data": {
      "image/png": "[encoded data removed]",
      "text/plain": [
       "<Figure size 648x432 with 1 Axes>"
      ]
     },
     "metadata": {
      "needs_background": "light"
     },
     "output_type": "display_data"
    }
   ],
   "source": [
    "df_results.iloc[0,4] = simulate_posterior_means(a_prior, b_prior, 1000)"
   ]
  },
  {
   "cell_type": "code",
   "execution_count": 330,
   "metadata": {},
   "outputs": [
    {
     "name": "stdout",
     "output_type": "stream",
     "text": [
      "Mean of the absolute errors of the simulated posterior means: 0.0010721818181818178\n",
      "Variance of the absolute errors of the simulated posterior means: 5.47070776859504e-07\n"
     ]
    },
    {
     "data": {
      "image/png": "[encoded data removed]",
      "text/plain": [
       "<Figure size 648x432 with 1 Axes>"
      ]
     },
     "metadata": {
      "needs_background": "light"
     },
     "output_type": "display_data"
    }
   ],
   "source": [
    "df_results.iloc[1,4] = simulate_posterior_means(a_prior, b_prior, 10000)"
   ]
  },
  {
   "cell_type": "code",
   "execution_count": 331,
   "metadata": {},
   "outputs": [
    {
     "name": "stdout",
     "output_type": "stream",
     "text": [
      "Mean of the absolute errors of the simulated posterior means: 0.00025284158415841604\n",
      "Variance of the absolute errors of the simulated posterior means: 3.8612746887560074e-08\n"
     ]
    },
    {
     "data": {
      "image/png": "[encoded data removed]",
      "text/plain": [
       "<Figure size 648x432 with 1 Axes>"
      ]
     },
     "metadata": {
      "needs_background": "light"
     },
     "output_type": "display_data"
    }
   ],
   "source": [
    "df_results.iloc[2,4] = simulate_posterior_means(a_prior, b_prior, 100000)"
   ]
  },
  {
   "cell_type": "code",
   "execution_count": 332,
   "metadata": {},
   "outputs": [
    {
     "name": "stdout",
     "output_type": "stream",
     "text": [
      "Mean of the absolute errors of the simulated posterior means: 7.8974025974026e-05\n",
      "Variance of the absolute errors of the simulated posterior means: 3.5719028134702373e-09\n"
     ]
    },
    {
     "data": {
      "image/png": "[encoded data removed]",
      "text/plain": [
       "<Figure size 648x432 with 1 Axes>"
      ]
     },
     "metadata": {
      "needs_background": "light"
     },
     "output_type": "display_data"
    }
   ],
   "source": [
    "df_results.iloc[3,4] = simulate_posterior_means(a_prior, b_prior, 1000000)"
   ]
  },
  {
   "cell_type": "code",
   "execution_count": null,
   "metadata": {},
   "outputs": [],
   "source": []
  },
  {
   "cell_type": "code",
   "execution_count": 333,
   "metadata": {},
   "outputs": [
    {
     "data": {
      "text/html": [
       "<div>\n",
       "<style scoped>\n",
       "    .dataframe tbody tr th:only-of-type {\n",
       "        vertical-align: middle;\n",
       "    }\n",
       "\n",
       "    .dataframe tbody tr th {\n",
       "        vertical-align: top;\n",
       "    }\n",
       "\n",
       "    .dataframe thead th {\n",
       "        text-align: right;\n",
       "    }\n",
       "</style>\n",
       "<table border=\"1\" class=\"dataframe\">\n",
       "  <thead>\n",
       "    <tr style=\"text-align: right;\">\n",
       "      <th></th>\n",
       "      <th>0</th>\n",
       "      <th>1</th>\n",
       "      <th>2</th>\n",
       "      <th>3</th>\n",
       "      <th>4</th>\n",
       "    </tr>\n",
       "  </thead>\n",
       "  <tbody>\n",
       "    <tr>\n",
       "      <th>0</th>\n",
       "      <td>0.002512</td>\n",
       "      <td>0.002465</td>\n",
       "      <td>0.001264</td>\n",
       "      <td>0.002305</td>\n",
       "      <td>0.005008</td>\n",
       "    </tr>\n",
       "    <tr>\n",
       "      <th>1</th>\n",
       "      <td>0.000797</td>\n",
       "      <td>0.000833</td>\n",
       "      <td>0.000719</td>\n",
       "      <td>0.000824</td>\n",
       "      <td>0.001072</td>\n",
       "    </tr>\n",
       "    <tr>\n",
       "      <th>2</th>\n",
       "      <td>0.000252</td>\n",
       "      <td>0.000246</td>\n",
       "      <td>0.000249</td>\n",
       "      <td>0.000246</td>\n",
       "      <td>0.000253</td>\n",
       "    </tr>\n",
       "    <tr>\n",
       "      <th>3</th>\n",
       "      <td>0.000080</td>\n",
       "      <td>0.000080</td>\n",
       "      <td>0.000077</td>\n",
       "      <td>0.000079</td>\n",
       "      <td>0.000079</td>\n",
       "    </tr>\n",
       "  </tbody>\n",
       "</table>\n",
       "</div>"
      ],
      "text/plain": [
       "          0         1         2         3         4\n",
       "0  0.002512  0.002465  0.001264  0.002305  0.005008\n",
       "1  0.000797  0.000833  0.000719  0.000824  0.001072\n",
       "2  0.000252  0.000246  0.000249  0.000246  0.000253\n",
       "3  0.000080  0.000080  0.000077  0.000079  0.000079"
      ]
     },
     "execution_count": 333,
     "metadata": {},
     "output_type": "execute_result"
    }
   ],
   "source": [
    "df_results"
   ]
  }
 ],
 "metadata": {
  "kernelspec": {
   "display_name": "base",
   "language": "python",
   "name": "python3"
  },
  "language_info": {
   "codemirror_mode": {
    "name": "ipython",
    "version": 3
   },
   "file_extension": ".py",
   "mimetype": "text/x-python",
   "name": "python",
   "nbconvert_exporter": "python",
   "pygments_lexer": "ipython3",
   "version": "3.8.3 (default, Jul  2 2020, 17:30:36) [MSC v.1916 64 bit (AMD64)]"
  },
  "orig_nbformat": 4,
  "vscode": {
   "interpreter": {
    "hash": "6d14bccc84a4433e5705525915489399e585d86ac1dbac958d08e00ec386d7c1"
   }
  }
 },
 "nbformat": 4,
 "nbformat_minor": 2
}
