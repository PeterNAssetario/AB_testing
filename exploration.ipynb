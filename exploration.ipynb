{
 "cells": [
  {
   "cell_type": "code",
   "execution_count": null,
   "metadata": {},
   "outputs": [],
   "source": [
    "from math import exp\n",
    "from pathlib import Path\n",
    "\n",
    "import numpy as np\n",
    "import pandas as pd\n",
    "import matplotlib.pyplot as plt\n",
    "import seaborn as sns\n",
    "\n",
    "import scipy.stats\n",
    "from scipy.stats import norm, lognorm, expon, kstest\n",
    "\n",
    "import arviz as az\n",
    "import pymc3 as pm\n",
    "\n",
    "from fitter import get_distributions, get_common_distributions\n",
    "\n",
    "DISTRIBUTIONS = [\"expon\", \"lognorm\"]\n",
    "client_name = \"bingo_aloha\"\n",
    "target_col = \"total_wins_spend\"\n",
    "df = pd.read_parquet(Path(\"raw_data\") / f\"{client_name}_data.p\")\n",
    "data = df[df[target_col] > 0]\n",
    "\n",
    "sns.set_style(\"white\")\n",
    "sns.set_context(\"paper\", font_scale=2)\n",
    "sns.displot(data=data, x=target_col, kind=\"hist\", bins=100, aspect=1.5)"
   ]
  },
  {
   "cell_type": "markdown",
   "metadata": {},
   "source": [
    "AIC and BIC for (common) distributions"
   ]
  },
  {
   "cell_type": "code",
   "execution_count": null,
   "metadata": {},
   "outputs": [],
   "source": [
    "df = pd.DataFrame(columns=[\"distribution\", \"AIC\", \"BIC\"])\n",
    "dists = []\n",
    "aic = []\n",
    "bic = []\n",
    "for com_dist in get_common_distributions():\n",
    "    dist = eval(\"scipy.stats.\" + com_dist)\n",
    "    params = dist.fit(data[target_col].values)\n",
    "    pdf_fitted = dist.pdf(data[target_col].values, *params)\n",
    "\n",
    "    logLik = np.sum(dist.logpdf(data[target_col].values, *params))\n",
    "    k = len(params[:])\n",
    "    n = len(data[target_col].values)\n",
    "    dists.append(com_dist)\n",
    "    aic.append(2 * k - 2 * logLik)\n",
    "    bic.append(k * np.log(n) - 2 * logLik)\n",
    "\n",
    "df[\"distribution\"] = dists\n",
    "df[\"AIC\"] = aic\n",
    "df[\"BIC\"] = bic\n",
    "df.sort_values(by=\"AIC\", inplace=True)\n",
    "df.reset_index(inplace=True, drop=True)\n",
    "df"
   ]
  },
  {
   "cell_type": "markdown",
   "metadata": {},
   "source": [
    "Graphical fit for exponencial and lognormal distributions"
   ]
  },
  {
   "cell_type": "code",
   "execution_count": null,
   "metadata": {},
   "outputs": [],
   "source": [
    "x = np.arange(len(data))\n",
    "y = data[target_col].values\n",
    "h = plt.hist(y, bins=range(48))\n",
    "\n",
    "for dist_name in DISTRIBUTIONS:\n",
    "    dist = getattr(scipy.stats, dist_name)\n",
    "    params = dist.fit(y)\n",
    "    arg = params[:-2]\n",
    "    loc = params[-2]\n",
    "    scale = params[-1]\n",
    "    if arg:\n",
    "        pdf_fitted = dist.pdf(x, *arg, loc=loc, scale=scale) * len(data)\n",
    "    else:\n",
    "        pdf_fitted = dist.pdf(x, loc=loc, scale=scale) * len(data)\n",
    "    plt.plot(pdf_fitted, label=dist_name)\n",
    "    plt.xlim(0, np.quantile(data[target_col], 0.99))\n",
    "plt.legend(loc=\"upper right\")\n",
    "plt.show()"
   ]
  },
  {
   "cell_type": "markdown",
   "metadata": {},
   "source": [
    "Kolmogorov-SMirnov test for exponencial and lognormal distributions"
   ]
  },
  {
   "cell_type": "code",
   "execution_count": null,
   "metadata": {},
   "outputs": [],
   "source": [
    "print(\"KS Test:\")\n",
    "\n",
    "print(\"Exponential distribution:\")\n",
    "\n",
    "loc, scale = expon.fit(data[target_col].values)\n",
    "\n",
    "stat, p = kstest(data[target_col].values, \"expon\", args=(loc, scale))\n",
    "\n",
    "print(\"stat    = %9.5f\" % stat)\n",
    "print(\"p-value = %9.5f\" % p)\n",
    "\n",
    "print(\"Log normal distribution:\")\n",
    "\n",
    "sigma, loc, scale = lognorm.fit(data[target_col].values)\n",
    "\n",
    "stat, p = kstest(data[target_col].values, \"lognorm\", args=(sigma, loc, scale))\n",
    "\n",
    "print(\"stat    = %9.5f\" % stat)\n",
    "print(\"p-value = %9.5f\" % p)"
   ]
  },
  {
   "cell_type": "markdown",
   "metadata": {},
   "source": [
    "Graphical comparison for the chosen distribution using pymc3"
   ]
  },
  {
   "cell_type": "code",
   "execution_count": null,
   "metadata": {},
   "outputs": [],
   "source": [
    "df_P = data.loc[\n",
    "    (data[\"test_group\"].str.lower() == \"p\")\n",
    "    | (data[\"test_group\"].str.lower() == \"assetario\")\n",
    "]\n",
    "df_C = data.loc[\n",
    "    (data[\"test_group\"].str.lower() == \"c\")\n",
    "    | (data[\"test_group\"].str.lower() == \"control\")\n",
    "]\n",
    "print(\"Personal group:\")\n",
    "print(df_P[target_col].describe())\n",
    "print(\"Control group:\")\n",
    "print(df_C[target_col].describe())"
   ]
  },
  {
   "cell_type": "markdown",
   "metadata": {},
   "source": [
    "Lognormal distribution"
   ]
  },
  {
   "cell_type": "code",
   "execution_count": null,
   "metadata": {},
   "outputs": [],
   "source": [
    "for data in [df_P, df_C]:\n",
    "    shape, loc, scale = lognorm.fit(data[target_col].values, floc=0)\n",
    "\n",
    "    with pm.Model() as model:\n",
    "\n",
    "        y = pm.Lognormal(\"y\", mu=np.log(scale), sigma=shape)\n",
    "        trace = pm.sample(1000, random_seed=42)\n",
    "\n",
    "        print(f\"For {data.test_group.value_counts().index.values[0]} group\")\n",
    "        print(\"scale = %9.5f\" % scale)\n",
    "        print(\"shape = %9.5f\" % shape)\n",
    "        print(az.summary(trace))\n",
    "        az.plot_trace(trace)\n",
    "        az.plot_posterior(trace, kind=\"hist\")"
   ]
  },
  {
   "cell_type": "markdown",
   "metadata": {},
   "source": [
    "Transformation to normal distribution"
   ]
  },
  {
   "cell_type": "code",
   "execution_count": null,
   "metadata": {},
   "outputs": [],
   "source": [
    "for data in [df_P, df_C]:\n",
    "    data[f\"log_{target_col}\"] = np.log(data[target_col])\n",
    "\n",
    "    mu, std = norm.fit(data[f\"log_{target_col}\"].values)\n",
    "\n",
    "    with pm.Model() as model:\n",
    "\n",
    "        y = pm.Normal(\"y\", mu=mu, sigma=std)\n",
    "        trace = pm.sample(1000, random_seed=42)\n",
    "\n",
    "        print(f\"For {data.test_group.value_counts().index.values[0]} group\")\n",
    "        print(\"Mean = %9.5f\" % mu)\n",
    "        print(\"Stdev = %9.5f\" % std)\n",
    "        print(az.summary(trace))\n",
    "        az.plot_trace(trace)\n",
    "        az.plot_posterior(trace, hdi_prob=0.75)"
   ]
  }
 ],
 "metadata": {
  "kernelspec": {
   "display_name": "Python 3.6.9 64-bit",
   "language": "python",
   "name": "python3"
  },
  "language_info": {
   "codemirror_mode": {
    "name": "ipython",
    "version": 3
   },
   "file_extension": ".py",
   "mimetype": "text/x-python",
   "name": "python",
   "nbconvert_exporter": "python",
   "pygments_lexer": "ipython3",
   "version": "3.6.9"
  },
  "orig_nbformat": 4,
  "vscode": {
   "interpreter": {
    "hash": "31f2aee4e71d21fbe5cf8b01ff0e069b9275f58929596ceb00d14d90e3e16cd6"
   }
  }
 },
 "nbformat": 4,
 "nbformat_minor": 2
}
