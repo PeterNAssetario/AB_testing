{
 "cells": [
  {
   "cell_type": "markdown",
   "metadata": {},
   "source": [
    "# Out Results"
   ]
  },
  {
   "cell_type": "code",
   "execution_count": 1,
   "metadata": {},
   "outputs": [],
   "source": [
    "#!pip install arviz\n",
    "#!pip install pymc3\n",
    "#!pip install fitter\n",
    "#!pip install pydantic\n",
    "#!pip install awswrangler\n",
    "#!pip install statsd\n",
    "#!pip install cachetools.ttl"
   ]
  },
  {
   "cell_type": "code",
   "execution_count": 2,
   "metadata": {
    "tags": []
   },
   "outputs": [],
   "source": [
    "#!pip freeze"
   ]
  },
  {
   "cell_type": "code",
   "execution_count": 3,
   "metadata": {},
   "outputs": [
    {
     "name": "stderr",
     "output_type": "stream",
     "text": [
      "/Users/PeterNovak/.local/lib/python3.8/site-packages/scipy/__init__.py:146: UserWarning: A NumPy version >=1.16.5 and <1.23.0 is required for this version of SciPy (detected version 1.23.4\n",
      "  warnings.warn(f\"A NumPy version >={np_minversion} and <{np_maxversion}\"\n"
     ]
    }
   ],
   "source": [
    "import pandas as pd\n",
    "import numpy as np\n",
    "import matplotlib as plt\n",
    "import seaborn as sns\n",
    "import arviz as az\n",
    "import streamlit as st\n",
    "%matplotlib inline\n",
    "\n",
    "from ab_testing.constants import client_name, target_col\n",
    "from ab_testing.distribution_fit.fit_distribution import FitDistribution\n",
    "from ab_testing.predictions.produce_predictions import ProducePredictions\n",
    "from ab_testing.data_acquisition.acquire_data import AcquireData, queries_dict\n",
    "\n",
    "from ml_lib.feature_store import configure_offline_feature_store\n",
    "from ml_lib.feature_store.offline.client import FeatureStoreOfflineClient"
   ]
  },
  {
   "cell_type": "markdown",
   "metadata": {},
   "source": [
    "Using Matus's code output and augmenting the ab_testing library to produc the sampled posterior distributions we are able to show the distribution of possible posteriors aka the distribution of the possible ab-test outcomes. The HDI's constructed show the 90% density of observed sample outcomes, if the two are non-overlaping the test can be seen as \"conclusive\" from a frequentist pov, aka the difference in ARPUs HDI does not include 0."
   ]
  },
  {
   "cell_type": "code",
   "execution_count": 4,
   "metadata": {},
   "outputs": [],
   "source": [
    "configure_offline_feature_store(\n",
    "    workgroup=\"primary\"\n",
    ")"
   ]
  },
  {
   "cell_type": "code",
   "execution_count": 8,
   "metadata": {},
   "outputs": [
    {
     "name": "stdout",
     "output_type": "stream",
     "text": [
      "2022-12-05 20:54:44,966 - botocore.credentials - INFO - Found credentials in shared credentials file: ~/.aws/credentials\n"
     ]
    },
    {
     "name": "stderr",
     "output_type": "stream",
     "text": [
      "Missing STATSD_HOST and/or STATSD_PORT environment variables\n",
      "DummyStatsClient._send unknown.athena_query_runs_total:1|c\n",
      "DummyStatsClient._send unknown.athena_query_queue_ms:110.000000|ms\n",
      "DummyStatsClient._send unknown.athena_query_execution_ms:3198.000000|ms\n",
      "DummyStatsClient._send unknown.athena_query_scanned_bytes:36126069|c\n"
     ]
    }
   ],
   "source": [
    "client_name = 'bingo_aloha'\n",
    "\n",
    "initial_data = FeatureStoreOfflineClient.run_athena_query_pandas(\n",
    "    queries_dict[client_name]\n",
    ")\n",
    "\n",
    "initial_data"
   ]
  },
  {
   "cell_type": "code",
   "execution_count": 21,
   "metadata": {},
   "outputs": [
    {
     "name": "stdout",
     "output_type": "stream",
     "text": [
      "2022-12-05 20:59:13,397 - botocore.credentials - INFO - Found credentials in shared credentials file: ~/.aws/credentials\n"
     ]
    },
    {
     "name": "stderr",
     "output_type": "stream",
     "text": [
      "DummyStatsClient._send unknown.athena_query_runs_total:1|c\n",
      "DummyStatsClient._send unknown.athena_query_queue_ms:135.000000|ms\n",
      "DummyStatsClient._send unknown.athena_query_execution_ms:2254.000000|ms\n",
      "DummyStatsClient._send unknown.athena_query_scanned_bytes:43704301|c\n"
     ]
    }
   ],
   "source": [
    "start_date = initial_data.meta_date.min()\n",
    "end_date = initial_data.meta_date.max()\n",
    "start_fl = initial_data.first_login.min()\n",
    "end_fl = initial_data.first_login.max()\n",
    "spend_type = 0\n",
    "client_name_small = client_name + '_small'\n",
    "\n",
    "initial_data2 = FeatureStoreOfflineClient.run_athena_query_pandas(\n",
    "    queries_dict[client_name_small],\n",
    "    {\n",
    "        'strt_date':str(start_date)[0:10],\n",
    "        'end_date':str(end_date)[0:10],\n",
    "        'strt_fl':str(start_fl)[0:10],\n",
    "        'end_fl':str(end_fl)[0:10],\n",
    "        'spend_type':spend_type,\n",
    "    },\n",
    ")\n",
    "\n",
    "initial_data2"
   ]
  },
  {
   "cell_type": "code",
   "execution_count": 15,
   "metadata": {},
   "outputs": [
    {
     "name": "stdout",
     "output_type": "stream",
     "text": [
      "2022-12-05 23:45:44,025 - botocore.credentials - INFO - Found credentials in shared credentials file: ~/.aws/credentials\n"
     ]
    },
    {
     "name": "stderr",
     "output_type": "stream",
     "text": [
      "DummyStatsClient._send unknown.athena_query_runs_total:1|c\n"
     ]
    },
    {
     "name": "stdout",
     "output_type": "stream",
     "text": [
      "2022-12-05 23:46:14,893 - botocore.credentials - INFO - Found credentials in shared credentials file: ~/.aws/credentials\n"
     ]
    },
    {
     "name": "stderr",
     "output_type": "stream",
     "text": [
      "DummyStatsClient._send unknown.athena_query_queue_ms:92.000000|ms\n",
      "DummyStatsClient._send unknown.athena_query_execution_ms:2458.000000|ms\n",
      "DummyStatsClient._send unknown.athena_query_scanned_bytes:13726552|c\n",
      "DummyStatsClient._send unknown.athena_query_runs_total:1|c\n"
     ]
    },
    {
     "name": "stdout",
     "output_type": "stream",
     "text": [
      "ultimex\n"
     ]
    },
    {
     "name": "stderr",
     "output_type": "stream",
     "text": [
      "DummyStatsClient._send unknown.athena_query_queue_ms:122.000000|ms\n",
      "DummyStatsClient._send unknown.athena_query_execution_ms:1664.000000|ms\n",
      "DummyStatsClient._send unknown.athena_query_scanned_bytes:14987730|c\n"
     ]
    },
    {
     "data": {
      "text/plain": [
       "0    lognorm\n",
       "1      expon\n",
       "Name: distribution, dtype: object"
      ]
     },
     "execution_count": 15,
     "metadata": {},
     "output_type": "execute_result"
    }
   ],
   "source": [
    "k = 1\n",
    "\n",
    "client_map = [\"bingo_aloha\", \"homw\", \"idle_mafia\", \"spongebob\", \"terra_genesis\", \"ultimex\"]\n",
    "client_name = client_map[k]\n",
    "result = \"total_wins_spend\"\n",
    "\n",
    "\n",
    "initial_data = FeatureStoreOfflineClient.run_athena_query_pandas(queries_dict[client_name])\n",
    "start_date = initial_data.meta_date.min()\n",
    "end_date = initial_data.meta_date.max()\n",
    "start_fl = initial_data.first_login.min()\n",
    "end_fl = initial_data.first_login.max()\n",
    "spend_type = 0\n",
    "\n",
    "client_name_small = client_name + '_small'\n",
    "initial_data2 = FeatureStoreOfflineClient.run_athena_query_pandas(\n",
    "    queries_dict[client_name_small],\n",
    "    {\n",
    "        'strt_date':str(start_date)[0:10],\n",
    "        'end_date':str(end_date)[0:10],\n",
    "        'strt_fl':str(start_fl)[0:10],\n",
    "        'end_fl':str(end_fl)[0:10],\n",
    "        'spend_type':spend_type,\n",
    "    },\n",
    ")\n",
    "fit_dist = FitDistribution(fname=f\"{client_name}_distribution_fit.p\")\n",
    "best_distribution = fit_dist.fit(initial_data2.loc[initial_data2[result] > 0], result)\n",
    "\n",
    "print(client_name)\n",
    "best_distribution"
   ]
  },
  {
   "cell_type": "markdown",
   "metadata": {},
   "source": [
    "bingo_aloha ->   lognorm, expon\n",
    "homw ->          lognorm, expon\n",
    "idle_mafia ->    lognorm, expon\n",
    "spongebob -> na\n",
    "terra_genesis -> na\n",
    "ultimex ->       lognorm, expon"
   ]
  },
  {
   "cell_type": "code",
   "execution_count": 7,
   "metadata": {},
   "outputs": [],
   "source": [
    "fit_dist = FitDistribution(fname=f\"{client_name}_distribution_fit.p\")\n",
    "best_distribution = fit_dist.fit(initial_data.loc[initial_data[target_col] > 0], target_col)\n",
    "\n",
    "result = ProducePredictions()\n",
    "results_conversion = result.produce_results_conversion(initial_data)\n",
    "results_revenue = result.produce_results_revenue(best_distribution, initial_data)\n",
    "\n",
    "results_posterior_sample = result._produce_results_lognorm_dist_carry_value(initial_data)"
   ]
  },
  {
   "cell_type": "markdown",
   "metadata": {},
   "source": [
    "Below set the creadibility mass (a bayesian term analogous to a confidence interval but with signifificantly differenet logic behind it (see refernece at end)). And construct the hdi threasholds using the arviz library. Results not neccessarily same because: Posterior Samples $\\ne$ Observations"
   ]
  },
  {
   "cell_type": "code",
   "execution_count": 22,
   "metadata": {},
   "outputs": [],
   "source": [
    "credMass = 0.9\n",
    "post_sample_A      = results_posterior_sample[1]\n",
    "post_sample_B      = results_posterior_sample[0]\n",
    "post_sample_uplift = (post_sample_B - post_sample_A) / post_sample_A\n",
    "hdi_A              = az.hdi(post_sample_A, hdi_prob=credMass)\n",
    "hdi_B              = az.hdi(post_sample_B, hdi_prob=credMass)\n",
    "hdi_diff           = az.hdi(post_sample_uplift, hdi_prob=credMass)"
   ]
  },
  {
   "cell_type": "markdown",
   "metadata": {},
   "source": [
    "Create table 1:"
   ]
  },
  {
   "cell_type": "code",
   "execution_count": 23,
   "metadata": {},
   "outputs": [
    {
     "data": {
      "text/html": [
       "<div>\n",
       "<style scoped>\n",
       "    .dataframe tbody tr th:only-of-type {\n",
       "        vertical-align: middle;\n",
       "    }\n",
       "\n",
       "    .dataframe tbody tr th {\n",
       "        vertical-align: top;\n",
       "    }\n",
       "\n",
       "    .dataframe thead th {\n",
       "        text-align: right;\n",
       "    }\n",
       "</style>\n",
       "<table border=\"1\" class=\"dataframe\">\n",
       "  <thead>\n",
       "    <tr style=\"text-align: right;\">\n",
       "      <th></th>\n",
       "      <th>Conversion</th>\n",
       "      <th>Revenue</th>\n",
       "    </tr>\n",
       "    <tr>\n",
       "      <th>Metric</th>\n",
       "      <th></th>\n",
       "      <th></th>\n",
       "    </tr>\n",
       "  </thead>\n",
       "  <tbody>\n",
       "    <tr>\n",
       "      <th>P( P &gt; C)</th>\n",
       "      <td>4.0600%</td>\n",
       "      <td>7.5050%</td>\n",
       "    </tr>\n",
       "    <tr>\n",
       "      <th>E( loss | P &gt; C)</th>\n",
       "      <td>0.1586%</td>\n",
       "      <td>8.6180%</td>\n",
       "    </tr>\n",
       "    <tr>\n",
       "      <th>E( loss | C &gt; P)</th>\n",
       "      <td>0.0015%</td>\n",
       "      <td>0.2050%</td>\n",
       "    </tr>\n",
       "  </tbody>\n",
       "</table>\n",
       "</div>"
      ],
      "text/plain": [
       "                 Conversion  Revenue\n",
       "Metric                              \n",
       "P( P > C)           4.0600%  7.5050%\n",
       "E( loss | P > C)    0.1586%  8.6180%\n",
       "E( loss | C > P)    0.0015%  0.2050%"
      ]
     },
     "execution_count": 23,
     "metadata": {},
     "output_type": "execute_result"
    }
   ],
   "source": [
    "output_df = pd.DataFrame(columns=[\"Metric\", \"Conversion\", \"ARPU\"])\n",
    "output_df[\"Metric\"] = [\"P( P > C)\", \"E( loss | P > C)\", \"E( loss | C > P)\"]\n",
    "output_df[\"Conversion\"] = [\n",
    "    \"%.4f%%\" % (results_conversion[0][\"prob_being_best\"] * 100),\n",
    "    \"%.4f%%\" % (results_conversion[0][\"expected_loss\"] * 100),\n",
    "    \"%.4f%%\" % (results_conversion[1][\"expected_loss\"] * 100),\n",
    "]\n",
    "output_df[\"Revenue\"] = [\n",
    "    \"%.4f%%\" % (results_revenue[0][\"prob_being_best\"] * 100),\n",
    "    \"%.4f%%\" % (results_revenue[0][\"expected_loss\"] * 100),\n",
    "    \"%.4f%%\" % (results_revenue[1][\"expected_loss\"] * 100),\n",
    "]\n",
    "output_df.set_index('Metric')"
   ]
  },
  {
   "cell_type": "markdown",
   "metadata": {},
   "source": [
    "Create table 2:"
   ]
  },
  {
   "cell_type": "code",
   "execution_count": 24,
   "metadata": {},
   "outputs": [
    {
     "data": {
      "text/html": [
       "<div>\n",
       "<style scoped>\n",
       "    .dataframe tbody tr th:only-of-type {\n",
       "        vertical-align: middle;\n",
       "    }\n",
       "\n",
       "    .dataframe tbody tr th {\n",
       "        vertical-align: top;\n",
       "    }\n",
       "\n",
       "    .dataframe thead th {\n",
       "        text-align: right;\n",
       "    }\n",
       "</style>\n",
       "<table border=\"1\" class=\"dataframe\">\n",
       "  <thead>\n",
       "    <tr style=\"text-align: right;\">\n",
       "      <th></th>\n",
       "      <th>Control</th>\n",
       "      <th>Personalised</th>\n",
       "      <th>Personalised-Control</th>\n",
       "    </tr>\n",
       "    <tr>\n",
       "      <th>Metric</th>\n",
       "      <th></th>\n",
       "      <th></th>\n",
       "      <th></th>\n",
       "    </tr>\n",
       "  </thead>\n",
       "  <tbody>\n",
       "    <tr>\n",
       "      <th>sample size</th>\n",
       "      <td>168914</td>\n",
       "      <td>72731</td>\n",
       "      <td>NaN</td>\n",
       "    </tr>\n",
       "    <tr>\n",
       "      <th>conversion</th>\n",
       "      <td>4.24%</td>\n",
       "      <td>4.08%</td>\n",
       "      <td>-0.16%</td>\n",
       "    </tr>\n",
       "    <tr>\n",
       "      <th>ARPU</th>\n",
       "      <td>1.2649€</td>\n",
       "      <td>1.2196€</td>\n",
       "      <td>-0.0453€</td>\n",
       "    </tr>\n",
       "    <tr>\n",
       "      <th>ARPPU</th>\n",
       "      <td>29.8535€</td>\n",
       "      <td>29.8975€</td>\n",
       "      <td>0.0440€</td>\n",
       "    </tr>\n",
       "    <tr>\n",
       "      <th>95% HDI</th>\n",
       "      <td>[1.1039€, 1.2153€]</td>\n",
       "      <td>[0.9993€, 1.1546€]</td>\n",
       "      <td>[-0.1536€, 0.0063€]</td>\n",
       "    </tr>\n",
       "  </tbody>\n",
       "</table>\n",
       "</div>"
      ],
      "text/plain": [
       "                        Control        Personalised Personalised-Control\n",
       "Metric                                                                  \n",
       "sample size              168914               72731                  NaN\n",
       "conversion                4.24%               4.08%               -0.16%\n",
       "ARPU                    1.2649€             1.2196€             -0.0453€\n",
       "ARPPU                  29.8535€            29.8975€              0.0440€\n",
       "95% HDI      [1.1039€, 1.2153€]  [0.9993€, 1.1546€]  [-0.1536€, 0.0063€]"
      ]
     },
     "execution_count": 24,
     "metadata": {},
     "output_type": "execute_result"
    }
   ],
   "source": [
    "output_df2 = pd.DataFrame(columns=[\"Metric\", \"Control\", \"Personalised\", \"Personalised-Control\"])\n",
    "output_df2[\"Metric\"] = [\"sample size\", \"conversion\", \"ARPU\", \"ARPPU\", \"95% HDI\"]\n",
    "output_df2[\"Control\"] = [\n",
    "    \"%d\" % (results_revenue[1]['totals']),\n",
    "    \"%.2f%%\" % (results_conversion[1]['positive_rate'] * 100),\n",
    "    \"%.4f€\" % (results_revenue[1]['avg_values']),\n",
    "    \"%.4f€\" % (results_revenue[1]['avg_positive_values']),\n",
    "    \"[%.4f€, %.4f€]\" % (hdi_A[0], hdi_A[1]),\n",
    "]\n",
    "output_df2[\"Personalised\"] = [\n",
    "    \"%d\" % (results_revenue[0]['totals']),\n",
    "    \"%.2f%%\" % (results_conversion[0]['positive_rate'] * 100),\n",
    "    \"%.4f€\" % (results_revenue[0]['avg_values']),\n",
    "    \"%.4f€\" % (results_revenue[0]['avg_positive_values']),\n",
    "    \"[%.4f€, %.4f€]\" % (hdi_B[0], hdi_B[1]),\n",
    "]\n",
    "output_df2[\"Personalised-Control\"] = [\n",
    "    np.NAN,\n",
    "    \"%.2f%%\" % ((results_conversion[0]['positive_rate'] - results_conversion[1]['positive_rate']) * 100),\n",
    "    \"%.4f€\" % (results_revenue[0]['avg_values'] - results_revenue[1]['avg_values']),\n",
    "    \"%.4f€\" % (results_revenue[0]['avg_positive_values'] - results_revenue[1]['avg_positive_values']),\n",
    "    \"[%.4f€, %.4f€]\" % (hdi_diff[0], hdi_diff[1]),\n",
    "]\n",
    "output_df2.set_index('Metric')"
   ]
  },
  {
   "cell_type": "markdown",
   "metadata": {},
   "source": [
    "Create plot 1:"
   ]
  },
  {
   "cell_type": "code",
   "execution_count": 25,
   "metadata": {},
   "outputs": [
    {
     "data": {
      "image/png": "[encoded data removed]",
      "text/plain": [
       "<Figure size 432x288 with 1 Axes>"
      ]
     },
     "metadata": {
      "needs_background": "light"
     },
     "output_type": "display_data"
    }
   ],
   "source": [
    "fig = plt.figure.Figure()\n",
    "ax = fig.add_subplot(111)\n",
    "#fig = plt.pyplot.figure(figsize=(12, 6))\n",
    "\n",
    "fig_temp = sns.kdeplot(post_sample_A, color=\"blue\")\n",
    "fig_temp = sns.kdeplot(post_sample_B, color=\"red\")\n",
    "l1 = fig_temp.lines[0]\n",
    "l2 = fig_temp.lines[1]\n",
    "x1 = l1.get_xydata()[:,0]\n",
    "x2 = l2.get_xydata()[:,0]\n",
    "y1 = l1.get_xydata()[:,1]\n",
    "y2 = l2.get_xydata()[:,1]\n",
    "x1_new = x1[[all(tup) for tup in zip(list(x1 >= hdi_A[0]), list(x1 <= hdi_A[1]))]]\n",
    "x2_new = x2[[all(tup) for tup in zip(list(x2 >= hdi_B[0]), list(x2 <= hdi_B[1]))]]\n",
    "y1_new = y1[[all(tup) for tup in zip(list(x1 >= hdi_A[0]), list(x1 <= hdi_A[1]))]]\n",
    "y2_new = y2[[all(tup) for tup in zip(list(x2 >= hdi_B[0]), list(x2 <= hdi_B[1]))]]\n",
    "plt.pyplot.fill_between(x1_new, y1_new, color=\"blue\", alpha=0.3)\n",
    "plt.pyplot.fill_between(x2_new, y2_new, color=\"red\", alpha=0.3)\n",
    "plt.pyplot.title('Distribution of ARPU A & B')\n",
    "ax.legend(labels=['Control','Personalised'])\n",
    "plt.pyplot.show()"
   ]
  },
  {
   "cell_type": "markdown",
   "metadata": {},
   "source": [
    "Create plot 2:"
   ]
  },
  {
   "cell_type": "code",
   "execution_count": 26,
   "metadata": {},
   "outputs": [
    {
     "data": {
      "image/png": "[encoded data removed]",
      "text/plain": [
       "<Figure size 864x432 with 1 Axes>"
      ]
     },
     "metadata": {
      "needs_background": "light"
     },
     "output_type": "display_data"
    }
   ],
   "source": [
    "fig = plt.pyplot.figure(figsize=(12, 6))\n",
    "\n",
    "fig_temp2 = sns.kdeplot(post_sample_uplift, color=\"purple\")\n",
    "l = fig_temp2.lines[0]\n",
    "x = l.get_xydata()[:,0]\n",
    "y = l.get_xydata()[:,1]\n",
    "x_new = x[[all(tup) for tup in zip(list(x >= hdi_diff[0]), list(x <= hdi_diff[1]))]]\n",
    "y_new = y[[all(tup) for tup in zip(list(x >= hdi_diff[0]), list(x <= hdi_diff[1]))]]\n",
    "fig_temp2.xaxis.set_major_formatter(plt.ticker.PercentFormatter())\n",
    "plt.pyplot.fill_between(x_new, y_new, color=\"purple\", alpha=0.3)\n",
    "plt.pyplot.show()"
   ]
  },
  {
   "cell_type": "markdown",
   "metadata": {},
   "source": [
    "## Quick and basic anonimisation of Bingo Aloha data to be put onto git:"
   ]
  },
  {
   "cell_type": "code",
   "execution_count": 66,
   "metadata": {},
   "outputs": [],
   "source": [
    "import random\n",
    "df = pd.read_parquet(\"./bingo_aloha_data.p\")\n",
    "\n",
    "dictionary = dict(\n",
    "    zip(\n",
    "        set(df.user_id),\n",
    "        list(set([random.randrange(10**5,10**6) for a in np.arange(len(set(df.user_id))*1.3)]))[:len(set(df.user_id))]\n",
    "    )\n",
    ")\n",
    "\n",
    "# now we will match the old ids from the dataset to the new ones\n",
    "df['user_id'] = df['user_id'].map(dictionary)\n",
    "df['test_group'][df['test_group'] == 'C'] = 'T'\n",
    "df['test_group'][df['test_group'] == 'P'] = 'C'\n",
    "df['test_group'][df['test_group'] == 'T'] = 'P'\n",
    "df = df.sort_values(['user_id'], ascending = False)\n",
    "df.sample(100000, random_state = 3).to_parquet(\"./test_data.p\")"
   ]
  }
 ],
 "metadata": {
  "kernelspec": {
   "display_name": "Python 3 (ipykernel)",
   "language": "python",
   "name": "python3"
  },
  "language_info": {
   "codemirror_mode": {
    "name": "ipython",
    "version": 3
   },
   "file_extension": ".py",
   "mimetype": "text/x-python",
   "name": "python",
   "nbconvert_exporter": "python",
   "pygments_lexer": "ipython3",
   "version": "3.8.12"
  },
  "vscode": {
   "interpreter": {
    "hash": "31f2aee4e71d21fbe5cf8b01ff0e069b9275f58929596ceb00d14d90e3e16cd6"
   }
  }
 },
 "nbformat": 4,
 "nbformat_minor": 4
}
