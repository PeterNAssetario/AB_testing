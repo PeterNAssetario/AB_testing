{
 "cells": [
  {
   "cell_type": "code",
   "execution_count": null,
   "metadata": {},
   "outputs": [],
   "source": [
    "import numpy as np\n",
    "import pandas as pd\n",
    "import seaborn as sns\n",
    "from fitter import Fitter, get_distributions, get_common_distributions\n",
    "from pathlib import Path\n",
    "\n",
    "df = pd.read_parquet(Path(\"raw_data\") / \"bingo_aloha_data.p\")\n",
    "data=df[df[\"total_wins_spend\"] > 0]\n",
    "\n",
    "sns.set_style('white')\n",
    "sns.set_context(\"paper\", font_scale = 2)\n",
    "sns.displot(data=data, x=\"total_wins_spend\", kind=\"hist\", bins = 100, aspect = 1.5)"
   ]
  },
  {
   "cell_type": "code",
   "execution_count": null,
   "metadata": {},
   "outputs": [],
   "source": [
    "method = \"aic\"\n",
    "distributions= get_common_distributions()\n",
    "\n",
    "f = Fitter(data[\"total_wins_spend\"].values,\n",
    "           distributions = distributions, timeout=300)\n",
    "f.fit()\n",
    "summary_df = f.summary(Nbest=len(distributions), plot=False, method=method)\n",
    "summary_df"
   ]
  },
  {
   "cell_type": "code",
   "execution_count": null,
   "metadata": {},
   "outputs": [],
   "source": [
    "print(f.get_best(method = method))\n",
    "print(f.fitted_param[\"expon\"])"
   ]
  },
  {
   "cell_type": "code",
   "execution_count": null,
   "metadata": {},
   "outputs": [],
   "source": [
    "summary_df[\"rank\"] = range(1, len(summary_df) + 1)\n",
    "summary_df[\"rank\"].loc[summary_df.index == \"expon\"].values[0]\n"
   ]
  },
  {
   "cell_type": "code",
   "execution_count": null,
   "metadata": {},
   "outputs": [],
   "source": [
    "import scipy.stats as ss\n",
    "import matplotlib.pyplot as plt\n",
    "\n",
    "def plot_exponential(x, mu=0, sigma=1, cdf=False):\n",
    "    if cdf:\n",
    "        y = ss.expon.cdf(x, mu, sigma)\n",
    "    else:\n",
    "        y = ss.expon.pdf(x, mu, sigma)\n",
    "    plt.plot(x, y)\n",
    "\n",
    "x = np.linspace(0, data[\"total_wins_spend\"].values.max(), 1000)\n",
    "\n",
    "plot_exponential(x, f.fitted_param[\"expon\"][0], f.fitted_param[\"expon\"][1])\n"
   ]
  },
  {
   "cell_type": "code",
   "execution_count": null,
   "metadata": {},
   "outputs": [],
   "source": [
    "from scipy.stats import kstest\n",
    "\n",
    "print(kstest(data[\"total_wins_spend\"].values, 'expon'))"
   ]
  },
  {
   "cell_type": "code",
   "execution_count": null,
   "metadata": {},
   "outputs": [],
   "source": [
    "import numpy as np\n",
    "from scipy.stats import lognorm, kstest\n",
    "\n",
    "\n",
    "x = data[\"total_wins_spend\"].values\n",
    "\n",
    "\n",
    "sigma, loc, scale = lognorm.fit(x, floc=0)\n",
    "\n",
    "mu = np.log(scale)\n",
    "\n",
    "print(\"mu    = %9.5f\" % mu)\n",
    "print(\"sigma = %9.5f\" % sigma)\n",
    "\n",
    "stat, p = kstest(x, 'lognorm', args=(sigma, 0, scale), alternative='two-sided')\n",
    "print(\"KS Test:\")\n",
    "print(\"stat    = %9.5f\" % stat)\n",
    "print(\"p-value = %9.5f\" % p)"
   ]
  },
  {
   "cell_type": "code",
   "execution_count": null,
   "metadata": {},
   "outputs": [],
   "source": [
    "import scipy.stats\n",
    "\n",
    "df = pd.DataFrame(columns=[\"distribution\", \"AIC\", \"BIC\"])\n",
    "dists = []\n",
    "aic = []\n",
    "bic = []\n",
    "for com_dist in get_common_distributions():\n",
    "    dist = eval(\"scipy.stats.\" + com_dist)\n",
    "    params = dist.fit(data[\"total_wins_spend\"].values)\n",
    "    pdf_fitted = dist.pdf(data[\"total_wins_spend\"].values, *params)\n",
    "    \n",
    "    logLik = np.sum(dist.logpdf(data[\"total_wins_spend\"].values, *params))\n",
    "    k = len(params[:])\n",
    "    n = len(data[\"total_wins_spend\"].values)\n",
    "    dists.append(com_dist)\n",
    "    aic.append(2 * k - 2 * logLik)\n",
    "    bic.append(k * np.log(n) - 2 * logLik)\n",
    "\n",
    "df[\"distribution\"] = dists\n",
    "df[\"AIC\"] = aic\n",
    "df[\"BIC\"] = bic\n",
    "df.sort_values(by=\"AIC\", inplace=True)\n",
    "df"
   ]
  },
  {
   "cell_type": "code",
   "execution_count": null,
   "metadata": {},
   "outputs": [],
   "source": [
    "for com_dist in get_common_distributions():    \n",
    "    try:\n",
    "        ks_result = kstest(data[\"total_wins_spend\"].values, com_dist)\n",
    "        print(f\"For {com_dist} it is {ks_result}\")\n",
    "    except: \n",
    "        print(f\"Not able to do KS test for {com_dist}\")"
   ]
  }
 ],
 "metadata": {
  "kernelspec": {
   "display_name": "Python 3.6.9 64-bit",
   "language": "python",
   "name": "python3"
  },
  "language_info": {
   "codemirror_mode": {
    "name": "ipython",
    "version": 3
   },
   "file_extension": ".py",
   "mimetype": "text/x-python",
   "name": "python",
   "nbconvert_exporter": "python",
   "pygments_lexer": "ipython3",
   "version": "3.6.9"
  },
  "orig_nbformat": 4,
  "vscode": {
   "interpreter": {
    "hash": "31f2aee4e71d21fbe5cf8b01ff0e069b9275f58929596ceb00d14d90e3e16cd6"
   }
  }
 },
 "nbformat": 4,
 "nbformat_minor": 2
}
