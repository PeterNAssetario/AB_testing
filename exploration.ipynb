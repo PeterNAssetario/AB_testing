{
 "cells": [
  {
   "cell_type": "code",
   "execution_count": null,
   "metadata": {},
   "outputs": [],
   "source": [
    "import numpy as np\n",
    "import pandas as pd\n",
    "import matplotlib.pyplot as plt\n",
    "import seaborn as sns\n",
    "import scipy.stats\n",
    "from scipy.stats import lognorm, kstest\n",
    "from pathlib import Path\n",
    "from ab_testing.constants import DISTRIBUTIONS, client, target_col\n",
    "\n",
    "from fitter import Fitter, get_distributions, get_common_distributions\n",
    "\n",
    "df = pd.read_parquet(Path(\"raw_data\") / f\"{client}_data.p\")\n",
    "data = df[df[target_col] > 0]\n",
    "\n",
    "sns.set_style('white')\n",
    "sns.set_context(\"paper\", font_scale = 2)\n",
    "sns.displot(data=data, x=target_col, kind=\"hist\", bins = 100, aspect = 1.5)"
   ]
  },
  {
   "cell_type": "code",
   "execution_count": null,
   "metadata": {},
   "outputs": [],
   "source": [
    "df = pd.DataFrame(columns=[\"distribution\", \"AIC\", \"BIC\"])\n",
    "dists = []\n",
    "aic = []\n",
    "bic = []\n",
    "for com_dist in get_common_distributions():\n",
    "    dist = eval(\"scipy.stats.\" + com_dist)\n",
    "    params = dist.fit(data[\"total_wins_spend\"].values)\n",
    "    pdf_fitted = dist.pdf(data[\"total_wins_spend\"].values, *params)\n",
    "    \n",
    "    logLik = np.sum(dist.logpdf(data[\"total_wins_spend\"].values, *params))\n",
    "    k = len(params[:])\n",
    "    n = len(data[\"total_wins_spend\"].values)\n",
    "    dists.append(com_dist)\n",
    "    aic.append(2 * k - 2 * logLik)\n",
    "    bic.append(k * np.log(n) - 2 * logLik)\n",
    "\n",
    "df[\"distribution\"] = dists\n",
    "df[\"AIC\"] = aic\n",
    "df[\"BIC\"] = bic\n",
    "df.sort_values(by=\"AIC\", inplace=True)\n",
    "df.reset_index(inplace=True, drop=True)\n",
    "df"
   ]
  },
  {
   "cell_type": "code",
   "execution_count": null,
   "metadata": {},
   "outputs": [],
   "source": [
    "x = np.arange(len(data))\n",
    "y = data[target_col].values\n",
    "h = plt.hist(y, bins=range(48))\n",
    "\n",
    "for dist_name in DISTRIBUTIONS:\n",
    "    dist = getattr(scipy.stats, dist_name)\n",
    "    params = dist.fit(y)\n",
    "    arg = params[:-2]\n",
    "    loc = params[-2]\n",
    "    scale = params[-1]\n",
    "    if arg:\n",
    "        pdf_fitted = dist.pdf(x, *arg, loc=loc, scale=scale) * len(data)\n",
    "    else:\n",
    "        pdf_fitted = dist.pdf(x, loc=loc, scale=scale) * len(data)\n",
    "    plt.plot(pdf_fitted, label=dist_name)\n",
    "    plt.xlim(0, np.quantile(data[target_col], 0.99))\n",
    "plt.legend(loc='upper right')\n",
    "plt.show()"
   ]
  },
  {
   "cell_type": "code",
   "execution_count": null,
   "metadata": {},
   "outputs": [],
   "source": [
    "print(\"Exponential distribution:\")\n",
    "print(scipy.stats.kstest(data[target_col].values, 'expon'))\n",
    "\n",
    "sigma, loc, scale = lognorm.fit(data[target_col].values, floc=0)\n",
    "\n",
    "mu = np.log(scale)\n",
    "\n",
    "print(\"Log normal distribution:\")\n",
    "print(\"mu    = %9.5f\" % mu)\n",
    "print(\"sigma = %9.5f\" % sigma)\n",
    "\n",
    "stat, p = kstest(data[target_col].values, 'lognorm', args=(sigma, 0, scale), alternative='two-sided')\n",
    "print(\"KS Test:\")\n",
    "print(\"stat    = %9.5f\" % stat)\n",
    "print(\"p-value = %9.5f\" % p)"
   ]
  }
 ],
 "metadata": {
  "kernelspec": {
   "display_name": "Python 3.6.9 64-bit",
   "language": "python",
   "name": "python3"
  },
  "language_info": {
   "codemirror_mode": {
    "name": "ipython",
    "version": 3
   },
   "file_extension": ".py",
   "mimetype": "text/x-python",
   "name": "python",
   "nbconvert_exporter": "python",
   "pygments_lexer": "ipython3",
   "version": "3.6.9"
  },
  "orig_nbformat": 4,
  "vscode": {
   "interpreter": {
    "hash": "31f2aee4e71d21fbe5cf8b01ff0e069b9275f58929596ceb00d14d90e3e16cd6"
   }
  }
 },
 "nbformat": 4,
 "nbformat_minor": 2
}
